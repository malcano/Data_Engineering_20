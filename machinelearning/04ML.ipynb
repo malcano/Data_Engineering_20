{
 "cells": [
  {
   "cell_type": "markdown",
   "metadata": {},
   "source": [
    "# 과적합, 분산 편향 트레이드오프, 교차 검증"
   ]
  },
  {
   "cell_type": "code",
   "execution_count": 2,
   "metadata": {},
   "outputs": [],
   "source": [
    "#필요한 라이브러리 임포트\n",
    "\n",
    "import numpy as np\n",
    "import pandas as pd\n",
    "from eval_score_function import eval_score"
   ]
  },
  {
   "cell_type": "markdown",
   "metadata": {},
   "source": [
    "# 교차검증"
   ]
  },
  {
   "cell_type": "markdown",
   "metadata": {},
   "source": [
    "## 1. 사이킷런의 model_selection의 KFold()를 사용하는 경우(For loop 사용)"
   ]
  },
  {
   "cell_type": "markdown",
   "metadata": {},
   "source": [
    "#### 폴드를 분리할 객체 생성"
   ]
  },
  {
   "cell_type": "code",
   "execution_count": 3,
   "metadata": {},
   "outputs": [],
   "source": [
    "from sklearn.model_selection import KFold"
   ]
  },
  {
   "cell_type": "markdown",
   "metadata": {},
   "source": [
    "#### 데이터를 준비하고 회귀 모형 객체를 생성"
   ]
  },
  {
   "cell_type": "code",
   "execution_count": 6,
   "metadata": {},
   "outputs": [],
   "source": [
    "from sklearn.datasets import load_diabetes\n",
    "from sklearn.linear_model import LinearRegression\n",
    "\n",
    "diab = load_diabetes()\n",
    "\n",
    "X = diab.data\n",
    "y = diab.target\n",
    "# X,y"
   ]
  },
  {
   "cell_type": "code",
   "execution_count": 8,
   "metadata": {},
   "outputs": [
    {
     "data": {
      "text/plain": [
       "442"
      ]
     },
     "execution_count": 8,
     "metadata": {},
     "output_type": "execute_result"
    }
   ],
   "source": [
    "len(X)"
   ]
  },
  {
   "cell_type": "markdown",
   "metadata": {},
   "source": [
    "#### split()함수를 호출하여 폴드별로 분리될 행 인덱스 세트를 구함"
   ]
  },
  {
   "cell_type": "code",
   "execution_count": 9,
   "metadata": {},
   "outputs": [
    {
     "data": {
      "text/plain": [
       "[(array([ 89,  90,  91,  92,  93,  94,  95,  96,  97,  98,  99, 100, 101,\n",
       "         102, 103, 104, 105, 106, 107, 108, 109, 110, 111, 112, 113, 114,\n",
       "         115, 116, 117, 118, 119, 120, 121, 122, 123, 124, 125, 126, 127,\n",
       "         128, 129, 130, 131, 132, 133, 134, 135, 136, 137, 138, 139, 140,\n",
       "         141, 142, 143, 144, 145, 146, 147, 148, 149, 150, 151, 152, 153,\n",
       "         154, 155, 156, 157, 158, 159, 160, 161, 162, 163, 164, 165, 166,\n",
       "         167, 168, 169, 170, 171, 172, 173, 174, 175, 176, 177, 178, 179,\n",
       "         180, 181, 182, 183, 184, 185, 186, 187, 188, 189, 190, 191, 192,\n",
       "         193, 194, 195, 196, 197, 198, 199, 200, 201, 202, 203, 204, 205,\n",
       "         206, 207, 208, 209, 210, 211, 212, 213, 214, 215, 216, 217, 218,\n",
       "         219, 220, 221, 222, 223, 224, 225, 226, 227, 228, 229, 230, 231,\n",
       "         232, 233, 234, 235, 236, 237, 238, 239, 240, 241, 242, 243, 244,\n",
       "         245, 246, 247, 248, 249, 250, 251, 252, 253, 254, 255, 256, 257,\n",
       "         258, 259, 260, 261, 262, 263, 264, 265, 266, 267, 268, 269, 270,\n",
       "         271, 272, 273, 274, 275, 276, 277, 278, 279, 280, 281, 282, 283,\n",
       "         284, 285, 286, 287, 288, 289, 290, 291, 292, 293, 294, 295, 296,\n",
       "         297, 298, 299, 300, 301, 302, 303, 304, 305, 306, 307, 308, 309,\n",
       "         310, 311, 312, 313, 314, 315, 316, 317, 318, 319, 320, 321, 322,\n",
       "         323, 324, 325, 326, 327, 328, 329, 330, 331, 332, 333, 334, 335,\n",
       "         336, 337, 338, 339, 340, 341, 342, 343, 344, 345, 346, 347, 348,\n",
       "         349, 350, 351, 352, 353, 354, 355, 356, 357, 358, 359, 360, 361,\n",
       "         362, 363, 364, 365, 366, 367, 368, 369, 370, 371, 372, 373, 374,\n",
       "         375, 376, 377, 378, 379, 380, 381, 382, 383, 384, 385, 386, 387,\n",
       "         388, 389, 390, 391, 392, 393, 394, 395, 396, 397, 398, 399, 400,\n",
       "         401, 402, 403, 404, 405, 406, 407, 408, 409, 410, 411, 412, 413,\n",
       "         414, 415, 416, 417, 418, 419, 420, 421, 422, 423, 424, 425, 426,\n",
       "         427, 428, 429, 430, 431, 432, 433, 434, 435, 436, 437, 438, 439,\n",
       "         440, 441]),\n",
       "  array([ 0,  1,  2,  3,  4,  5,  6,  7,  8,  9, 10, 11, 12, 13, 14, 15, 16,\n",
       "         17, 18, 19, 20, 21, 22, 23, 24, 25, 26, 27, 28, 29, 30, 31, 32, 33,\n",
       "         34, 35, 36, 37, 38, 39, 40, 41, 42, 43, 44, 45, 46, 47, 48, 49, 50,\n",
       "         51, 52, 53, 54, 55, 56, 57, 58, 59, 60, 61, 62, 63, 64, 65, 66, 67,\n",
       "         68, 69, 70, 71, 72, 73, 74, 75, 76, 77, 78, 79, 80, 81, 82, 83, 84,\n",
       "         85, 86, 87, 88])),\n",
       " (array([  0,   1,   2,   3,   4,   5,   6,   7,   8,   9,  10,  11,  12,\n",
       "          13,  14,  15,  16,  17,  18,  19,  20,  21,  22,  23,  24,  25,\n",
       "          26,  27,  28,  29,  30,  31,  32,  33,  34,  35,  36,  37,  38,\n",
       "          39,  40,  41,  42,  43,  44,  45,  46,  47,  48,  49,  50,  51,\n",
       "          52,  53,  54,  55,  56,  57,  58,  59,  60,  61,  62,  63,  64,\n",
       "          65,  66,  67,  68,  69,  70,  71,  72,  73,  74,  75,  76,  77,\n",
       "          78,  79,  80,  81,  82,  83,  84,  85,  86,  87,  88, 178, 179,\n",
       "         180, 181, 182, 183, 184, 185, 186, 187, 188, 189, 190, 191, 192,\n",
       "         193, 194, 195, 196, 197, 198, 199, 200, 201, 202, 203, 204, 205,\n",
       "         206, 207, 208, 209, 210, 211, 212, 213, 214, 215, 216, 217, 218,\n",
       "         219, 220, 221, 222, 223, 224, 225, 226, 227, 228, 229, 230, 231,\n",
       "         232, 233, 234, 235, 236, 237, 238, 239, 240, 241, 242, 243, 244,\n",
       "         245, 246, 247, 248, 249, 250, 251, 252, 253, 254, 255, 256, 257,\n",
       "         258, 259, 260, 261, 262, 263, 264, 265, 266, 267, 268, 269, 270,\n",
       "         271, 272, 273, 274, 275, 276, 277, 278, 279, 280, 281, 282, 283,\n",
       "         284, 285, 286, 287, 288, 289, 290, 291, 292, 293, 294, 295, 296,\n",
       "         297, 298, 299, 300, 301, 302, 303, 304, 305, 306, 307, 308, 309,\n",
       "         310, 311, 312, 313, 314, 315, 316, 317, 318, 319, 320, 321, 322,\n",
       "         323, 324, 325, 326, 327, 328, 329, 330, 331, 332, 333, 334, 335,\n",
       "         336, 337, 338, 339, 340, 341, 342, 343, 344, 345, 346, 347, 348,\n",
       "         349, 350, 351, 352, 353, 354, 355, 356, 357, 358, 359, 360, 361,\n",
       "         362, 363, 364, 365, 366, 367, 368, 369, 370, 371, 372, 373, 374,\n",
       "         375, 376, 377, 378, 379, 380, 381, 382, 383, 384, 385, 386, 387,\n",
       "         388, 389, 390, 391, 392, 393, 394, 395, 396, 397, 398, 399, 400,\n",
       "         401, 402, 403, 404, 405, 406, 407, 408, 409, 410, 411, 412, 413,\n",
       "         414, 415, 416, 417, 418, 419, 420, 421, 422, 423, 424, 425, 426,\n",
       "         427, 428, 429, 430, 431, 432, 433, 434, 435, 436, 437, 438, 439,\n",
       "         440, 441]),\n",
       "  array([ 89,  90,  91,  92,  93,  94,  95,  96,  97,  98,  99, 100, 101,\n",
       "         102, 103, 104, 105, 106, 107, 108, 109, 110, 111, 112, 113, 114,\n",
       "         115, 116, 117, 118, 119, 120, 121, 122, 123, 124, 125, 126, 127,\n",
       "         128, 129, 130, 131, 132, 133, 134, 135, 136, 137, 138, 139, 140,\n",
       "         141, 142, 143, 144, 145, 146, 147, 148, 149, 150, 151, 152, 153,\n",
       "         154, 155, 156, 157, 158, 159, 160, 161, 162, 163, 164, 165, 166,\n",
       "         167, 168, 169, 170, 171, 172, 173, 174, 175, 176, 177])),\n",
       " (array([  0,   1,   2,   3,   4,   5,   6,   7,   8,   9,  10,  11,  12,\n",
       "          13,  14,  15,  16,  17,  18,  19,  20,  21,  22,  23,  24,  25,\n",
       "          26,  27,  28,  29,  30,  31,  32,  33,  34,  35,  36,  37,  38,\n",
       "          39,  40,  41,  42,  43,  44,  45,  46,  47,  48,  49,  50,  51,\n",
       "          52,  53,  54,  55,  56,  57,  58,  59,  60,  61,  62,  63,  64,\n",
       "          65,  66,  67,  68,  69,  70,  71,  72,  73,  74,  75,  76,  77,\n",
       "          78,  79,  80,  81,  82,  83,  84,  85,  86,  87,  88,  89,  90,\n",
       "          91,  92,  93,  94,  95,  96,  97,  98,  99, 100, 101, 102, 103,\n",
       "         104, 105, 106, 107, 108, 109, 110, 111, 112, 113, 114, 115, 116,\n",
       "         117, 118, 119, 120, 121, 122, 123, 124, 125, 126, 127, 128, 129,\n",
       "         130, 131, 132, 133, 134, 135, 136, 137, 138, 139, 140, 141, 142,\n",
       "         143, 144, 145, 146, 147, 148, 149, 150, 151, 152, 153, 154, 155,\n",
       "         156, 157, 158, 159, 160, 161, 162, 163, 164, 165, 166, 167, 168,\n",
       "         169, 170, 171, 172, 173, 174, 175, 176, 177, 266, 267, 268, 269,\n",
       "         270, 271, 272, 273, 274, 275, 276, 277, 278, 279, 280, 281, 282,\n",
       "         283, 284, 285, 286, 287, 288, 289, 290, 291, 292, 293, 294, 295,\n",
       "         296, 297, 298, 299, 300, 301, 302, 303, 304, 305, 306, 307, 308,\n",
       "         309, 310, 311, 312, 313, 314, 315, 316, 317, 318, 319, 320, 321,\n",
       "         322, 323, 324, 325, 326, 327, 328, 329, 330, 331, 332, 333, 334,\n",
       "         335, 336, 337, 338, 339, 340, 341, 342, 343, 344, 345, 346, 347,\n",
       "         348, 349, 350, 351, 352, 353, 354, 355, 356, 357, 358, 359, 360,\n",
       "         361, 362, 363, 364, 365, 366, 367, 368, 369, 370, 371, 372, 373,\n",
       "         374, 375, 376, 377, 378, 379, 380, 381, 382, 383, 384, 385, 386,\n",
       "         387, 388, 389, 390, 391, 392, 393, 394, 395, 396, 397, 398, 399,\n",
       "         400, 401, 402, 403, 404, 405, 406, 407, 408, 409, 410, 411, 412,\n",
       "         413, 414, 415, 416, 417, 418, 419, 420, 421, 422, 423, 424, 425,\n",
       "         426, 427, 428, 429, 430, 431, 432, 433, 434, 435, 436, 437, 438,\n",
       "         439, 440, 441]),\n",
       "  array([178, 179, 180, 181, 182, 183, 184, 185, 186, 187, 188, 189, 190,\n",
       "         191, 192, 193, 194, 195, 196, 197, 198, 199, 200, 201, 202, 203,\n",
       "         204, 205, 206, 207, 208, 209, 210, 211, 212, 213, 214, 215, 216,\n",
       "         217, 218, 219, 220, 221, 222, 223, 224, 225, 226, 227, 228, 229,\n",
       "         230, 231, 232, 233, 234, 235, 236, 237, 238, 239, 240, 241, 242,\n",
       "         243, 244, 245, 246, 247, 248, 249, 250, 251, 252, 253, 254, 255,\n",
       "         256, 257, 258, 259, 260, 261, 262, 263, 264, 265])),\n",
       " (array([  0,   1,   2,   3,   4,   5,   6,   7,   8,   9,  10,  11,  12,\n",
       "          13,  14,  15,  16,  17,  18,  19,  20,  21,  22,  23,  24,  25,\n",
       "          26,  27,  28,  29,  30,  31,  32,  33,  34,  35,  36,  37,  38,\n",
       "          39,  40,  41,  42,  43,  44,  45,  46,  47,  48,  49,  50,  51,\n",
       "          52,  53,  54,  55,  56,  57,  58,  59,  60,  61,  62,  63,  64,\n",
       "          65,  66,  67,  68,  69,  70,  71,  72,  73,  74,  75,  76,  77,\n",
       "          78,  79,  80,  81,  82,  83,  84,  85,  86,  87,  88,  89,  90,\n",
       "          91,  92,  93,  94,  95,  96,  97,  98,  99, 100, 101, 102, 103,\n",
       "         104, 105, 106, 107, 108, 109, 110, 111, 112, 113, 114, 115, 116,\n",
       "         117, 118, 119, 120, 121, 122, 123, 124, 125, 126, 127, 128, 129,\n",
       "         130, 131, 132, 133, 134, 135, 136, 137, 138, 139, 140, 141, 142,\n",
       "         143, 144, 145, 146, 147, 148, 149, 150, 151, 152, 153, 154, 155,\n",
       "         156, 157, 158, 159, 160, 161, 162, 163, 164, 165, 166, 167, 168,\n",
       "         169, 170, 171, 172, 173, 174, 175, 176, 177, 178, 179, 180, 181,\n",
       "         182, 183, 184, 185, 186, 187, 188, 189, 190, 191, 192, 193, 194,\n",
       "         195, 196, 197, 198, 199, 200, 201, 202, 203, 204, 205, 206, 207,\n",
       "         208, 209, 210, 211, 212, 213, 214, 215, 216, 217, 218, 219, 220,\n",
       "         221, 222, 223, 224, 225, 226, 227, 228, 229, 230, 231, 232, 233,\n",
       "         234, 235, 236, 237, 238, 239, 240, 241, 242, 243, 244, 245, 246,\n",
       "         247, 248, 249, 250, 251, 252, 253, 254, 255, 256, 257, 258, 259,\n",
       "         260, 261, 262, 263, 264, 265, 354, 355, 356, 357, 358, 359, 360,\n",
       "         361, 362, 363, 364, 365, 366, 367, 368, 369, 370, 371, 372, 373,\n",
       "         374, 375, 376, 377, 378, 379, 380, 381, 382, 383, 384, 385, 386,\n",
       "         387, 388, 389, 390, 391, 392, 393, 394, 395, 396, 397, 398, 399,\n",
       "         400, 401, 402, 403, 404, 405, 406, 407, 408, 409, 410, 411, 412,\n",
       "         413, 414, 415, 416, 417, 418, 419, 420, 421, 422, 423, 424, 425,\n",
       "         426, 427, 428, 429, 430, 431, 432, 433, 434, 435, 436, 437, 438,\n",
       "         439, 440, 441]),\n",
       "  array([266, 267, 268, 269, 270, 271, 272, 273, 274, 275, 276, 277, 278,\n",
       "         279, 280, 281, 282, 283, 284, 285, 286, 287, 288, 289, 290, 291,\n",
       "         292, 293, 294, 295, 296, 297, 298, 299, 300, 301, 302, 303, 304,\n",
       "         305, 306, 307, 308, 309, 310, 311, 312, 313, 314, 315, 316, 317,\n",
       "         318, 319, 320, 321, 322, 323, 324, 325, 326, 327, 328, 329, 330,\n",
       "         331, 332, 333, 334, 335, 336, 337, 338, 339, 340, 341, 342, 343,\n",
       "         344, 345, 346, 347, 348, 349, 350, 351, 352, 353])),\n",
       " (array([  0,   1,   2,   3,   4,   5,   6,   7,   8,   9,  10,  11,  12,\n",
       "          13,  14,  15,  16,  17,  18,  19,  20,  21,  22,  23,  24,  25,\n",
       "          26,  27,  28,  29,  30,  31,  32,  33,  34,  35,  36,  37,  38,\n",
       "          39,  40,  41,  42,  43,  44,  45,  46,  47,  48,  49,  50,  51,\n",
       "          52,  53,  54,  55,  56,  57,  58,  59,  60,  61,  62,  63,  64,\n",
       "          65,  66,  67,  68,  69,  70,  71,  72,  73,  74,  75,  76,  77,\n",
       "          78,  79,  80,  81,  82,  83,  84,  85,  86,  87,  88,  89,  90,\n",
       "          91,  92,  93,  94,  95,  96,  97,  98,  99, 100, 101, 102, 103,\n",
       "         104, 105, 106, 107, 108, 109, 110, 111, 112, 113, 114, 115, 116,\n",
       "         117, 118, 119, 120, 121, 122, 123, 124, 125, 126, 127, 128, 129,\n",
       "         130, 131, 132, 133, 134, 135, 136, 137, 138, 139, 140, 141, 142,\n",
       "         143, 144, 145, 146, 147, 148, 149, 150, 151, 152, 153, 154, 155,\n",
       "         156, 157, 158, 159, 160, 161, 162, 163, 164, 165, 166, 167, 168,\n",
       "         169, 170, 171, 172, 173, 174, 175, 176, 177, 178, 179, 180, 181,\n",
       "         182, 183, 184, 185, 186, 187, 188, 189, 190, 191, 192, 193, 194,\n",
       "         195, 196, 197, 198, 199, 200, 201, 202, 203, 204, 205, 206, 207,\n",
       "         208, 209, 210, 211, 212, 213, 214, 215, 216, 217, 218, 219, 220,\n",
       "         221, 222, 223, 224, 225, 226, 227, 228, 229, 230, 231, 232, 233,\n",
       "         234, 235, 236, 237, 238, 239, 240, 241, 242, 243, 244, 245, 246,\n",
       "         247, 248, 249, 250, 251, 252, 253, 254, 255, 256, 257, 258, 259,\n",
       "         260, 261, 262, 263, 264, 265, 266, 267, 268, 269, 270, 271, 272,\n",
       "         273, 274, 275, 276, 277, 278, 279, 280, 281, 282, 283, 284, 285,\n",
       "         286, 287, 288, 289, 290, 291, 292, 293, 294, 295, 296, 297, 298,\n",
       "         299, 300, 301, 302, 303, 304, 305, 306, 307, 308, 309, 310, 311,\n",
       "         312, 313, 314, 315, 316, 317, 318, 319, 320, 321, 322, 323, 324,\n",
       "         325, 326, 327, 328, 329, 330, 331, 332, 333, 334, 335, 336, 337,\n",
       "         338, 339, 340, 341, 342, 343, 344, 345, 346, 347, 348, 349, 350,\n",
       "         351, 352, 353]),\n",
       "  array([354, 355, 356, 357, 358, 359, 360, 361, 362, 363, 364, 365, 366,\n",
       "         367, 368, 369, 370, 371, 372, 373, 374, 375, 376, 377, 378, 379,\n",
       "         380, 381, 382, 383, 384, 385, 386, 387, 388, 389, 390, 391, 392,\n",
       "         393, 394, 395, 396, 397, 398, 399, 400, 401, 402, 403, 404, 405,\n",
       "         406, 407, 408, 409, 410, 411, 412, 413, 414, 415, 416, 417, 418,\n",
       "         419, 420, 421, 422, 423, 424, 425, 426, 427, 428, 429, 430, 431,\n",
       "         432, 433, 434, 435, 436, 437, 438, 439, 440, 441]))]"
      ]
     },
     "execution_count": 9,
     "metadata": {},
     "output_type": "execute_result"
    }
   ],
   "source": [
    "kfold = KFold(5) # k폴드를 5개로 할거야\n",
    "list(kfold.split(X)) # 5개로 쫘라락 나눠짐 "
   ]
  },
  {
   "attachments": {},
   "cell_type": "markdown",
   "metadata": {},
   "source": [
    "kfold는 속성을 출력하는 것이 아니라 인덱스 번호만 갖고 있는 것임!!\n",
    "\n",
    "데이터를 전부 다 굳이 kfold 에 올릴 필요가 없음 \n",
    "\n",
    "학습은 사람이 직접 코드를 써서 하는 거임\n"
   ]
  },
  {
   "cell_type": "code",
   "execution_count": 10,
   "metadata": {},
   "outputs": [],
   "source": [
    "from sklearn.linear_model import LinearRegression\n",
    "from sklearn.metrics import mean_squared_error, r2_score\n",
    "\n",
    "r2_scores = []\n",
    "lr = LinearRegression()\n",
    "\n",
    "for train_idx, test_idx in kfold.split(X):\n",
    "    # 2번 라운드의 테스트와 스플릿으로 두면 되는 것임\n",
    "    X_train, X_test = X[train_idx], X[test_idx]\n",
    "    y_train, y_test = y[train_idx], y[test_idx]\n",
    "\n",
    "    reg = lr.fit(X_train,y_train)\n",
    "    y_pred = reg.predict(X_test)\n",
    "\n",
    "    r2 = r2_score(y_test, y_pred)\n",
    "    r2_scores.append(r2)\n"
   ]
  },
  {
   "cell_type": "code",
   "execution_count": 12,
   "metadata": {},
   "outputs": [
    {
     "data": {
      "text/plain": [
       "[0.4295561538258379,\n",
       " 0.5225993866099365,\n",
       " 0.4826805413452825,\n",
       " 0.42649776111040205,\n",
       " 0.5502483366517519]"
      ]
     },
     "execution_count": 12,
     "metadata": {},
     "output_type": "execute_result"
    }
   ],
   "source": [
    "r2_scores #5개의 평균을 냄"
   ]
  },
  {
   "cell_type": "code",
   "execution_count": 15,
   "metadata": {},
   "outputs": [
    {
     "name": "stdout",
     "output_type": "stream",
     "text": [
      "1 - R2 = 0.430\n",
      "2 - R2 = 0.523\n",
      "3 - R2 = 0.483\n",
      "4 - R2 = 0.426\n",
      "5 - R2 = 0.550\n",
      "average: 0.482\n"
     ]
    }
   ],
   "source": [
    "import numpy as np\n",
    "\n",
    "for i, r2 in enumerate(r2_scores):\n",
    "    print(i+1, f'- R2 = {r2:.3f}')\n",
    "\n",
    "print(f\"average: {np.round(np.mean(r2_scores),3)}\")"
   ]
  },
  {
   "attachments": {},
   "cell_type": "markdown",
   "metadata": {},
   "source": [
    "## 2. 사이킷런의 cross_val_score 함수를 사용하여 K폴드 교차 검증 수행 without shuffling:\n",
    "- for loop 필요 없음"
   ]
  },
  {
   "cell_type": "code",
   "execution_count": 16,
   "metadata": {},
   "outputs": [
    {
     "data": {
      "text/plain": [
       "0.482"
      ]
     },
     "execution_count": 16,
     "metadata": {},
     "output_type": "execute_result"
    }
   ],
   "source": [
    "from sklearn.datasets import load_diabetes\n",
    "from sklearn.linear_model import LinearRegression\n",
    "from sklearn.model_selection import cross_val_score\n",
    "\n",
    "diab=load_diabetes()\n",
    "X = diab.data\n",
    "y = diab.target\n",
    "\n",
    "lr = LinearRegression()\n",
    "\n",
    "np.round(np.mean(cross_val_score(lr, X,y, cv=5)),3)"
   ]
  },
  {
   "cell_type": "code",
   "execution_count": 18,
   "metadata": {},
   "outputs": [
    {
     "data": {
      "text/html": [
       "<div>\n",
       "<style scoped>\n",
       "    .dataframe tbody tr th:only-of-type {\n",
       "        vertical-align: middle;\n",
       "    }\n",
       "\n",
       "    .dataframe tbody tr th {\n",
       "        vertical-align: top;\n",
       "    }\n",
       "\n",
       "    .dataframe thead th {\n",
       "        text-align: right;\n",
       "    }\n",
       "</style>\n",
       "<table border=\"1\" class=\"dataframe\">\n",
       "  <thead>\n",
       "    <tr style=\"text-align: right;\">\n",
       "      <th></th>\n",
       "      <th>sepal length (cm)</th>\n",
       "      <th>sepal width (cm)</th>\n",
       "      <th>petal length (cm)</th>\n",
       "      <th>petal width (cm)</th>\n",
       "      <th>kind</th>\n",
       "    </tr>\n",
       "  </thead>\n",
       "  <tbody>\n",
       "    <tr>\n",
       "      <th>0</th>\n",
       "      <td>5.1</td>\n",
       "      <td>3.5</td>\n",
       "      <td>1.4</td>\n",
       "      <td>0.2</td>\n",
       "      <td>0</td>\n",
       "    </tr>\n",
       "    <tr>\n",
       "      <th>1</th>\n",
       "      <td>4.9</td>\n",
       "      <td>3.0</td>\n",
       "      <td>1.4</td>\n",
       "      <td>0.2</td>\n",
       "      <td>0</td>\n",
       "    </tr>\n",
       "    <tr>\n",
       "      <th>2</th>\n",
       "      <td>4.7</td>\n",
       "      <td>3.2</td>\n",
       "      <td>1.3</td>\n",
       "      <td>0.2</td>\n",
       "      <td>0</td>\n",
       "    </tr>\n",
       "    <tr>\n",
       "      <th>3</th>\n",
       "      <td>4.6</td>\n",
       "      <td>3.1</td>\n",
       "      <td>1.5</td>\n",
       "      <td>0.2</td>\n",
       "      <td>0</td>\n",
       "    </tr>\n",
       "    <tr>\n",
       "      <th>4</th>\n",
       "      <td>5.0</td>\n",
       "      <td>3.6</td>\n",
       "      <td>1.4</td>\n",
       "      <td>0.2</td>\n",
       "      <td>0</td>\n",
       "    </tr>\n",
       "    <tr>\n",
       "      <th>...</th>\n",
       "      <td>...</td>\n",
       "      <td>...</td>\n",
       "      <td>...</td>\n",
       "      <td>...</td>\n",
       "      <td>...</td>\n",
       "    </tr>\n",
       "    <tr>\n",
       "      <th>145</th>\n",
       "      <td>6.7</td>\n",
       "      <td>3.0</td>\n",
       "      <td>5.2</td>\n",
       "      <td>2.3</td>\n",
       "      <td>2</td>\n",
       "    </tr>\n",
       "    <tr>\n",
       "      <th>146</th>\n",
       "      <td>6.3</td>\n",
       "      <td>2.5</td>\n",
       "      <td>5.0</td>\n",
       "      <td>1.9</td>\n",
       "      <td>2</td>\n",
       "    </tr>\n",
       "    <tr>\n",
       "      <th>147</th>\n",
       "      <td>6.5</td>\n",
       "      <td>3.0</td>\n",
       "      <td>5.2</td>\n",
       "      <td>2.0</td>\n",
       "      <td>2</td>\n",
       "    </tr>\n",
       "    <tr>\n",
       "      <th>148</th>\n",
       "      <td>6.2</td>\n",
       "      <td>3.4</td>\n",
       "      <td>5.4</td>\n",
       "      <td>2.3</td>\n",
       "      <td>2</td>\n",
       "    </tr>\n",
       "    <tr>\n",
       "      <th>149</th>\n",
       "      <td>5.9</td>\n",
       "      <td>3.0</td>\n",
       "      <td>5.1</td>\n",
       "      <td>1.8</td>\n",
       "      <td>2</td>\n",
       "    </tr>\n",
       "  </tbody>\n",
       "</table>\n",
       "<p>150 rows × 5 columns</p>\n",
       "</div>"
      ],
      "text/plain": [
       "     sepal length (cm)  sepal width (cm)  petal length (cm)  petal width (cm)  \\\n",
       "0                  5.1               3.5                1.4               0.2   \n",
       "1                  4.9               3.0                1.4               0.2   \n",
       "2                  4.7               3.2                1.3               0.2   \n",
       "3                  4.6               3.1                1.5               0.2   \n",
       "4                  5.0               3.6                1.4               0.2   \n",
       "..                 ...               ...                ...               ...   \n",
       "145                6.7               3.0                5.2               2.3   \n",
       "146                6.3               2.5                5.0               1.9   \n",
       "147                6.5               3.0                5.2               2.0   \n",
       "148                6.2               3.4                5.4               2.3   \n",
       "149                5.9               3.0                5.1               1.8   \n",
       "\n",
       "     kind  \n",
       "0       0  \n",
       "1       0  \n",
       "2       0  \n",
       "3       0  \n",
       "4       0  \n",
       "..    ...  \n",
       "145     2  \n",
       "146     2  \n",
       "147     2  \n",
       "148     2  \n",
       "149     2  \n",
       "\n",
       "[150 rows x 5 columns]"
      ]
     },
     "execution_count": 18,
     "metadata": {},
     "output_type": "execute_result"
    }
   ],
   "source": [
    "from sklearn.datasets import load_iris\n",
    "import pandas as pd\n",
    "\n",
    "iris  = load_iris()\n",
    "X = iris.data\n",
    "y = iris.target\n",
    "\n",
    "iris_df = pd.DataFrame(X, columns=iris.feature_names)\n",
    "iris_df['kind'] = iris.target\n",
    "iris_df\n",
    "# 이렇게 하면 문제는?\n",
    "# y를 나눌때 문제가 됨 \n",
    "# 왜?\n",
    "# kind가 정렬이 되어 있음 -> 첫 라운드에서 다 틀리고, 두, 세번째 라운드에서 다 틀릴 것임  \n",
    "# 그래서 이런 데이터는 셔플해줘야 함 \n",
    "# 세 종류가 동일한 분포로 되어있도록 하려면 원래의 학습 데이터의 분포가 33.3 테스트 데이터도 33.3이 되어야 함!!\n",
    "# 편중 되어있는 데이터를 셔플하고, fold하기 전에 분포도 맞춰놔야 하는 것임\n"
   ]
  },
  {
   "cell_type": "code",
   "execution_count": null,
   "metadata": {},
   "outputs": [],
   "source": []
  },
  {
   "cell_type": "markdown",
   "metadata": {},
   "source": [
    "## 3. 사이킷런의 cross_val_score 함수를 사용하여 K폴드 교차 검증 수행 with shuffling"
   ]
  },
  {
   "cell_type": "code",
   "execution_count": 21,
   "metadata": {},
   "outputs": [
    {
     "data": {
      "text/plain": [
       "0.489"
      ]
     },
     "execution_count": 21,
     "metadata": {},
     "output_type": "execute_result"
    }
   ],
   "source": [
    "#셔플을 하자\n",
    "\n",
    "from sklearn.datasets import load_diabetes\n",
    "from sklearn.linear_model import LinearRegression\n",
    "from sklearn.model_selection import cross_val_score\n",
    "from sklearn.model_selection import KFold\n",
    "\n",
    "diab=load_diabetes()\n",
    "X = diab.data\n",
    "y = diab.target\n",
    "\n",
    "# kfold = KFold(5, shuffle=True, stratify= True) # 셔플 옵션 on, 분포 옵션 on, stratify는 '분류'일때만 쓸 수 있음 -> 그래서 여기서 못씀 iris 에서 써야함\n",
    "\n",
    "\n",
    "kfold = KFold(5, shuffle=True, random_state= 29) # 셔플 옵션 on, stratify는 '분류'일때만 쓸 수 있음 \n",
    "\n",
    "lr = LinearRegression()\n",
    "\n",
    "np.round(np.mean(cross_val_score(lr, X,y, cv=kfold)),3)"
   ]
  },
  {
   "attachments": {},
   "cell_type": "markdown",
   "metadata": {},
   "source": [
    "## 과제: 올린다음 이야기할 예정 \n",
    "\n",
    "250 자료 참고해서 해보기 "
   ]
  },
  {
   "cell_type": "markdown",
   "metadata": {},
   "source": []
  },
  {
   "cell_type": "markdown",
   "metadata": {},
   "source": [
    "# 규제가 있는 선형회귀 - 릿지, 라쏘, 엘라스틱넷 회귀"
   ]
  },
  {
   "attachments": {},
   "cell_type": "markdown",
   "metadata": {},
   "source": [
    "#### 규제가 있는 모델 구축 - 당뇨병 데이터세트\n",
    "#### 1. 데이터 전처리\n",
    "-> 스케일링\n",
    "#### 2. Ridge, Lasso, Elasticnet regression 구축: 회귀 계수 확인, 하이퍼 파라미터 탐색\n",
    "-> 하이퍼 파라미터 찾기! 우리는 a만 지정하고 학습은 니가해~ 하고 맡길 수 있음 그게 라쏘CV임 \n",
    "#### 3. 교차 검증으로 최적의 하이퍼파라미터 탐색: LassoCV()"
   ]
  },
  {
   "cell_type": "code",
   "execution_count": 22,
   "metadata": {},
   "outputs": [],
   "source": [
    "# 관련 라이브러리 및 모듈 Import\n",
    "import pandas as pd\n",
    "import numpy as np\n",
    "import matplotlib.pyplot as plt"
   ]
  },
  {
   "cell_type": "code",
   "execution_count": 23,
   "metadata": {},
   "outputs": [],
   "source": [
    "import warnings\n",
    "warnings.filterwarnings(action='ignore') # 워닝 뜨는거 안뜨게 하기 "
   ]
  },
  {
   "cell_type": "code",
   "execution_count": 25,
   "metadata": {},
   "outputs": [],
   "source": [
    "from sklearn.datasets import load_diabetes\n",
    "from sklearn.linear_model import LinearRegression, Ridge, Lasso, ElasticNet\n",
    "\n",
    "from sklearn.linear_model import RidgeCV, LassoCV\n",
    "from sklearn.model_selection import train_test_split\n",
    "from sklearn.metrics import mean_squared_error, r2_score\n",
    "from eval_score_function import eval_score\n"
   ]
  },
  {
   "cell_type": "code",
   "execution_count": 27,
   "metadata": {},
   "outputs": [],
   "source": [
    "def evaluate_score(y_test, y_pred) -> tuple():\n",
    "    mse = mean_squared_error(y_test, y_pred)\n",
    "    rmse = np.square(mse)\n",
    "    r2 = r2_score(y_test, y_pred)\n",
    "    print(f\"mse - {mse:.3f}\")\n",
    "    print(f\"rmse - {rmse:.3f}\")\n",
    "    print(f\"R2 - {r2:.3f}\")\n",
    "\n",
    "    return (mse, rmse, r2)"
   ]
  },
  {
   "cell_type": "code",
   "execution_count": 28,
   "metadata": {},
   "outputs": [
    {
     "data": {
      "text/plain": [
       "dict_keys(['data', 'target', 'frame', 'DESCR', 'feature_names', 'data_filename', 'target_filename', 'data_module'])"
      ]
     },
     "execution_count": 28,
     "metadata": {},
     "output_type": "execute_result"
    }
   ],
   "source": [
    "from sklearn.datasets import load_diabetes\n",
    "\n",
    "diab = load_diabetes()\n",
    "diab.keys()"
   ]
  },
  {
   "cell_type": "code",
   "execution_count": 29,
   "metadata": {},
   "outputs": [
    {
     "data": {
      "text/plain": [
       "['age', 'sex', 'bmi', 'bp', 's1', 's2', 's3', 's4', 's5', 's6']"
      ]
     },
     "execution_count": 29,
     "metadata": {},
     "output_type": "execute_result"
    }
   ],
   "source": [
    "diab.feature_names"
   ]
  },
  {
   "cell_type": "markdown",
   "metadata": {},
   "source": [
    "# 0. 데이터 수집, 탐색, 준비"
   ]
  },
  {
   "cell_type": "markdown",
   "metadata": {},
   "source": [
    "#### 데이터프레임 변환"
   ]
  },
  {
   "cell_type": "markdown",
   "metadata": {},
   "source": [
    "데이터프레임 변환"
   ]
  },
  {
   "cell_type": "code",
   "execution_count": 30,
   "metadata": {},
   "outputs": [
    {
     "data": {
      "text/html": [
       "<div>\n",
       "<style scoped>\n",
       "    .dataframe tbody tr th:only-of-type {\n",
       "        vertical-align: middle;\n",
       "    }\n",
       "\n",
       "    .dataframe tbody tr th {\n",
       "        vertical-align: top;\n",
       "    }\n",
       "\n",
       "    .dataframe thead th {\n",
       "        text-align: right;\n",
       "    }\n",
       "</style>\n",
       "<table border=\"1\" class=\"dataframe\">\n",
       "  <thead>\n",
       "    <tr style=\"text-align: right;\">\n",
       "      <th></th>\n",
       "      <th>age</th>\n",
       "      <th>sex</th>\n",
       "      <th>bmi</th>\n",
       "      <th>bp</th>\n",
       "      <th>s1</th>\n",
       "      <th>s2</th>\n",
       "      <th>s3</th>\n",
       "      <th>s4</th>\n",
       "      <th>s5</th>\n",
       "      <th>s6</th>\n",
       "    </tr>\n",
       "  </thead>\n",
       "  <tbody>\n",
       "    <tr>\n",
       "      <th>0</th>\n",
       "      <td>0.038076</td>\n",
       "      <td>0.050680</td>\n",
       "      <td>0.061696</td>\n",
       "      <td>0.021872</td>\n",
       "      <td>-0.044223</td>\n",
       "      <td>-0.034821</td>\n",
       "      <td>-0.043401</td>\n",
       "      <td>-0.002592</td>\n",
       "      <td>0.019907</td>\n",
       "      <td>-0.017646</td>\n",
       "    </tr>\n",
       "    <tr>\n",
       "      <th>1</th>\n",
       "      <td>-0.001882</td>\n",
       "      <td>-0.044642</td>\n",
       "      <td>-0.051474</td>\n",
       "      <td>-0.026328</td>\n",
       "      <td>-0.008449</td>\n",
       "      <td>-0.019163</td>\n",
       "      <td>0.074412</td>\n",
       "      <td>-0.039493</td>\n",
       "      <td>-0.068332</td>\n",
       "      <td>-0.092204</td>\n",
       "    </tr>\n",
       "    <tr>\n",
       "      <th>2</th>\n",
       "      <td>0.085299</td>\n",
       "      <td>0.050680</td>\n",
       "      <td>0.044451</td>\n",
       "      <td>-0.005670</td>\n",
       "      <td>-0.045599</td>\n",
       "      <td>-0.034194</td>\n",
       "      <td>-0.032356</td>\n",
       "      <td>-0.002592</td>\n",
       "      <td>0.002861</td>\n",
       "      <td>-0.025930</td>\n",
       "    </tr>\n",
       "    <tr>\n",
       "      <th>3</th>\n",
       "      <td>-0.089063</td>\n",
       "      <td>-0.044642</td>\n",
       "      <td>-0.011595</td>\n",
       "      <td>-0.036656</td>\n",
       "      <td>0.012191</td>\n",
       "      <td>0.024991</td>\n",
       "      <td>-0.036038</td>\n",
       "      <td>0.034309</td>\n",
       "      <td>0.022688</td>\n",
       "      <td>-0.009362</td>\n",
       "    </tr>\n",
       "    <tr>\n",
       "      <th>4</th>\n",
       "      <td>0.005383</td>\n",
       "      <td>-0.044642</td>\n",
       "      <td>-0.036385</td>\n",
       "      <td>0.021872</td>\n",
       "      <td>0.003935</td>\n",
       "      <td>0.015596</td>\n",
       "      <td>0.008142</td>\n",
       "      <td>-0.002592</td>\n",
       "      <td>-0.031988</td>\n",
       "      <td>-0.046641</td>\n",
       "    </tr>\n",
       "  </tbody>\n",
       "</table>\n",
       "</div>"
      ],
      "text/plain": [
       "        age       sex       bmi        bp        s1        s2        s3  \\\n",
       "0  0.038076  0.050680  0.061696  0.021872 -0.044223 -0.034821 -0.043401   \n",
       "1 -0.001882 -0.044642 -0.051474 -0.026328 -0.008449 -0.019163  0.074412   \n",
       "2  0.085299  0.050680  0.044451 -0.005670 -0.045599 -0.034194 -0.032356   \n",
       "3 -0.089063 -0.044642 -0.011595 -0.036656  0.012191  0.024991 -0.036038   \n",
       "4  0.005383 -0.044642 -0.036385  0.021872  0.003935  0.015596  0.008142   \n",
       "\n",
       "         s4        s5        s6  \n",
       "0 -0.002592  0.019907 -0.017646  \n",
       "1 -0.039493 -0.068332 -0.092204  \n",
       "2 -0.002592  0.002861 -0.025930  \n",
       "3  0.034309  0.022688 -0.009362  \n",
       "4 -0.002592 -0.031988 -0.046641  "
      ]
     },
     "execution_count": 30,
     "metadata": {},
     "output_type": "execute_result"
    }
   ],
   "source": [
    "diab_df = pd.DataFrame(data=diab.data, columns=diab.feature_names)\n",
    "diab_df.head()"
   ]
  },
  {
   "cell_type": "code",
   "execution_count": 32,
   "metadata": {},
   "outputs": [
    {
     "data": {
      "text/plain": [
       "age    0\n",
       "sex    0\n",
       "bmi    0\n",
       "bp     0\n",
       "s1     0\n",
       "s2     0\n",
       "s3     0\n",
       "s4     0\n",
       "s5     0\n",
       "s6     0\n",
       "dtype: int64"
      ]
     },
     "execution_count": 32,
     "metadata": {},
     "output_type": "execute_result"
    }
   ],
   "source": [
    "# 누락치와 데이터 타입 확인 \n",
    "diab_df.isnull().sum() # 이렇게 결측치를 찾는다 "
   ]
  },
  {
   "cell_type": "code",
   "execution_count": 33,
   "metadata": {},
   "outputs": [
    {
     "name": "stdout",
     "output_type": "stream",
     "text": [
      "<class 'pandas.core.frame.DataFrame'>\n",
      "RangeIndex: 442 entries, 0 to 441\n",
      "Data columns (total 10 columns):\n",
      " #   Column  Non-Null Count  Dtype  \n",
      "---  ------  --------------  -----  \n",
      " 0   age     442 non-null    float64\n",
      " 1   sex     442 non-null    float64\n",
      " 2   bmi     442 non-null    float64\n",
      " 3   bp      442 non-null    float64\n",
      " 4   s1      442 non-null    float64\n",
      " 5   s2      442 non-null    float64\n",
      " 6   s3      442 non-null    float64\n",
      " 7   s4      442 non-null    float64\n",
      " 8   s5      442 non-null    float64\n",
      " 9   s6      442 non-null    float64\n",
      "dtypes: float64(10)\n",
      "memory usage: 34.7 KB\n"
     ]
    }
   ],
   "source": [
    "# 결측치 확인하는 다른 방법\n",
    "diab_df.info()"
   ]
  },
  {
   "cell_type": "code",
   "execution_count": null,
   "metadata": {},
   "outputs": [],
   "source": []
  },
  {
   "cell_type": "code",
   "execution_count": null,
   "metadata": {},
   "outputs": [],
   "source": [
    "# 독립변수(피처)와 종속변수를 DataFrame자료형으로 변환"
   ]
  },
  {
   "cell_type": "code",
   "execution_count": null,
   "metadata": {},
   "outputs": [],
   "source": [
    "# 데이터셋 객체의 data 배열, 즉, 독립변수 X가되는 피처(특성)들을 DataFrame자료형으로 변환하여\n",
    "# diab_df생성\n",
    "# diab_df.head() 데이터 5개 확인\n",
    "\n"
   ]
  },
  {
   "cell_type": "code",
   "execution_count": null,
   "metadata": {},
   "outputs": [],
   "source": []
  },
  {
   "cell_type": "code",
   "execution_count": null,
   "metadata": {},
   "outputs": [],
   "source": [
    "# 누락치 확인,  data type 확인 ->  isnull().sum(), target에 결측값이 있으면 해당 관측치 제거"
   ]
  },
  {
   "cell_type": "code",
   "execution_count": null,
   "metadata": {},
   "outputs": [],
   "source": []
  },
  {
   "cell_type": "code",
   "execution_count": null,
   "metadata": {},
   "outputs": [],
   "source": []
  },
  {
   "cell_type": "code",
   "execution_count": 34,
   "metadata": {},
   "outputs": [],
   "source": [
    "# X(독립변수), Y(종속변수) 분할\n",
    "X = diab.data\n",
    "y = diab.target"
   ]
  },
  {
   "cell_type": "code",
   "execution_count": 75,
   "metadata": {},
   "outputs": [],
   "source": [
    "# 학습용, 평가용 데이터 분리\n",
    "#testsize = 0.3 random_state =42\n",
    "from sklearn.model_selection import train_test_split\n",
    "\n",
    "X_train, X_test, y_train, y_test = train_test_split(X,y, test_size=0.3, random_state=42)\n"
   ]
  },
  {
   "attachments": {},
   "cell_type": "markdown",
   "metadata": {},
   "source": [
    "데이터 이제 준비 끝!"
   ]
  },
  {
   "attachments": {},
   "cell_type": "markdown",
   "metadata": {},
   "source": [
    "# 모델별 계수변화, 알파별 계수 비교 데이터프레임(comp_df)\n",
    "\n",
    "a라는 하이퍼 파라미터를 변화시켜서 규제 강도를 조절하고 계수가 어떻게 변하는지 확인해보자 \n",
    "\n",
    "그걸 저장할 df하나 만들자 "
   ]
  },
  {
   "cell_type": "code",
   "execution_count": 37,
   "metadata": {},
   "outputs": [
    {
     "data": {
      "text/html": [
       "<div>\n",
       "<style scoped>\n",
       "    .dataframe tbody tr th:only-of-type {\n",
       "        vertical-align: middle;\n",
       "    }\n",
       "\n",
       "    .dataframe tbody tr th {\n",
       "        vertical-align: top;\n",
       "    }\n",
       "\n",
       "    .dataframe thead th {\n",
       "        text-align: right;\n",
       "    }\n",
       "</style>\n",
       "<table border=\"1\" class=\"dataframe\">\n",
       "  <thead>\n",
       "    <tr style=\"text-align: right;\">\n",
       "      <th></th>\n",
       "    </tr>\n",
       "  </thead>\n",
       "  <tbody>\n",
       "    <tr>\n",
       "      <th>age</th>\n",
       "    </tr>\n",
       "    <tr>\n",
       "      <th>sex</th>\n",
       "    </tr>\n",
       "    <tr>\n",
       "      <th>bmi</th>\n",
       "    </tr>\n",
       "    <tr>\n",
       "      <th>bp</th>\n",
       "    </tr>\n",
       "    <tr>\n",
       "      <th>s1</th>\n",
       "    </tr>\n",
       "    <tr>\n",
       "      <th>s2</th>\n",
       "    </tr>\n",
       "    <tr>\n",
       "      <th>s3</th>\n",
       "    </tr>\n",
       "    <tr>\n",
       "      <th>s4</th>\n",
       "    </tr>\n",
       "    <tr>\n",
       "      <th>s5</th>\n",
       "    </tr>\n",
       "    <tr>\n",
       "      <th>s6</th>\n",
       "    </tr>\n",
       "    <tr>\n",
       "      <th>R2 score</th>\n",
       "    </tr>\n",
       "  </tbody>\n",
       "</table>\n",
       "</div>"
      ],
      "text/plain": [
       "Empty DataFrame\n",
       "Columns: []\n",
       "Index: [age, sex, bmi, bp, s1, s2, s3, s4, s5, s6, R2 score]"
      ]
     },
     "execution_count": 37,
     "metadata": {},
     "output_type": "execute_result"
    }
   ],
   "source": [
    "#각 모델별 계수로 이루어진 데이터프레임 준비\n",
    "comp_df = pd.DataFrame(index=diab.feature_names+[\"R2 score\"])\n",
    "comp_df\n",
    "#계수, 회귀계수 , 평가도 볼건데 R2만 일단 확인해보자 "
   ]
  },
  {
   "cell_type": "code",
   "execution_count": null,
   "metadata": {},
   "outputs": [],
   "source": []
  },
  {
   "cell_type": "code",
   "execution_count": null,
   "metadata": {},
   "outputs": [],
   "source": [
    "#각 모델별, 규제강도별 평가지표 저장\n"
   ]
  },
  {
   "cell_type": "code",
   "execution_count": null,
   "metadata": {},
   "outputs": [],
   "source": []
  },
  {
   "attachments": {},
   "cell_type": "markdown",
   "metadata": {},
   "source": [
    "# 1. 규제가 없는 선형모델\n",
    "\n",
    "비교 대상이 될 규제 없는 선형 모델을 만들어보자 "
   ]
  },
  {
   "cell_type": "code",
   "execution_count": 49,
   "metadata": {},
   "outputs": [
    {
     "name": "stdout",
     "output_type": "stream",
     "text": [
      "mse - 2821.751\n",
      "rmse - 7962278.599\n",
      "R2 - 0.477\n"
     ]
    },
    {
     "data": {
      "text/plain": [
       "(2821.7509810013107, 7962278.5987818595, 0.4772897164322617)"
      ]
     },
     "execution_count": 49,
     "metadata": {},
     "output_type": "execute_result"
    }
   ],
   "source": [
    "#모델 구축 및 학습\n",
    "model_LR = LinearRegression()\n",
    "\n",
    "model_LR.fit(X_train, y_train)\n",
    "#모델 평가\n",
    "y_train = model_LR.predict(X_test)\n",
    "evaluate_score(y_test, y_train)\n",
    "\n",
    "# 회귀 계수 확인\n"
   ]
  },
  {
   "cell_type": "markdown",
   "metadata": {},
   "source": []
  },
  {
   "cell_type": "code",
   "execution_count": 50,
   "metadata": {},
   "outputs": [
    {
     "name": "stdout",
     "output_type": "stream",
     "text": [
      "age     29.254013\n",
      "sex   -261.706469\n",
      "bmi    546.299723\n",
      "bp     388.398341\n",
      "s1    -901.959668\n",
      "s2     506.763241\n",
      "s3     121.154351\n",
      "s4     288.035267\n",
      "s5     659.268951\n",
      "s6      41.376701\n",
      "dtype: float64\n"
     ]
    }
   ],
   "source": [
    "LR_coef = pd.Series(model_LR.coef_, index = diab.feature_names)\n",
    "print(LR_coef)"
   ]
  },
  {
   "cell_type": "code",
   "execution_count": 56,
   "metadata": {},
   "outputs": [
    {
     "data": {
      "text/plain": [
       "<BarContainer object of 10 artists>"
      ]
     },
     "execution_count": 56,
     "metadata": {},
     "output_type": "execute_result"
    },
    {
     "data": {
      "image/png": "[encoded data removed]",
      "text/plain": [
       "<Figure size 1000x500 with 1 Axes>"
      ]
     },
     "metadata": {},
     "output_type": "display_data"
    }
   ],
   "source": [
    "\n",
    "coef = LR_coef.sort_values(ascending=False)\n",
    "\n",
    "#시각화\n",
    "import matplotlib as mpl\n",
    "mpl.rc('axes', unicode_minus=False) \n",
    "plt.figure(figsize=(10, 5))\n",
    "plt.bar(coef.index, coef.values, color =\"royalblue\")"
   ]
  },
  {
   "cell_type": "code",
   "execution_count": 67,
   "metadata": {},
   "outputs": [
    {
     "name": "stdout",
     "output_type": "stream",
     "text": [
      "=====\n",
      "s1     901.959668\n",
      "s5     659.268951\n",
      "bmi    546.299723\n",
      "s2     506.763241\n",
      "bp     388.398341\n",
      "s4     288.035267\n",
      "sex    261.706469\n",
      "s3     121.154351\n",
      "s6      41.376701\n",
      "age     29.254013\n",
      "dtype: float64\n"
     ]
    },
    {
     "data": {
      "image/png": "[encoded data removed]",
      "text/plain": [
       "<Figure size 1000x500 with 1 Axes>"
      ]
     },
     "metadata": {},
     "output_type": "display_data"
    }
   ],
   "source": [
    "# 아니면 절대값을 씌워서 영향을 얼마나 주는지를 보자 \n",
    "coef = np.abs(LR_coef).sort_values(ascending = False)\n",
    "print(\"=====\")\n",
    "print(coef)\n",
    "plt.figure(figsize=(10, 5))\n",
    "plt.title(\"특성의 중요성(규제하지 않은 경우)\", fontsize = 20)\n",
    "#plt.title (\"feature importance of coefficients without Regulization\")\n",
    "plt.bar(coef.index, coef.values, color =\"deeppink\")\n",
    "plt.xticks(coef.index, rotation =45 , fontsize =11);\n"
   ]
  },
  {
   "cell_type": "markdown",
   "metadata": {},
   "source": [
    "- 계수값 시각화"
   ]
  },
  {
   "cell_type": "code",
   "execution_count": null,
   "metadata": {},
   "outputs": [],
   "source": [
    "\n",
    "\n",
    "# 시각화\n"
   ]
  },
  {
   "cell_type": "code",
   "execution_count": 69,
   "metadata": {},
   "outputs": [],
   "source": [
    "# 모델별 비교 데이터프레임 열 추가\n",
    "#이 결과를 comp_df에 저장하자 \n",
    "comp_df[\"LR\"] = np.append(model_LR.coef_, r2)"
   ]
  },
  {
   "cell_type": "code",
   "execution_count": 70,
   "metadata": {},
   "outputs": [
    {
     "data": {
      "text/html": [
       "<div>\n",
       "<style scoped>\n",
       "    .dataframe tbody tr th:only-of-type {\n",
       "        vertical-align: middle;\n",
       "    }\n",
       "\n",
       "    .dataframe tbody tr th {\n",
       "        vertical-align: top;\n",
       "    }\n",
       "\n",
       "    .dataframe thead th {\n",
       "        text-align: right;\n",
       "    }\n",
       "</style>\n",
       "<table border=\"1\" class=\"dataframe\">\n",
       "  <thead>\n",
       "    <tr style=\"text-align: right;\">\n",
       "      <th></th>\n",
       "      <th>LR</th>\n",
       "    </tr>\n",
       "  </thead>\n",
       "  <tbody>\n",
       "    <tr>\n",
       "      <th>age</th>\n",
       "      <td>29.254013</td>\n",
       "    </tr>\n",
       "    <tr>\n",
       "      <th>sex</th>\n",
       "      <td>-261.706469</td>\n",
       "    </tr>\n",
       "    <tr>\n",
       "      <th>bmi</th>\n",
       "      <td>546.299723</td>\n",
       "    </tr>\n",
       "    <tr>\n",
       "      <th>bp</th>\n",
       "      <td>388.398341</td>\n",
       "    </tr>\n",
       "    <tr>\n",
       "      <th>s1</th>\n",
       "      <td>-901.959668</td>\n",
       "    </tr>\n",
       "    <tr>\n",
       "      <th>s2</th>\n",
       "      <td>506.763241</td>\n",
       "    </tr>\n",
       "    <tr>\n",
       "      <th>s3</th>\n",
       "      <td>121.154351</td>\n",
       "    </tr>\n",
       "    <tr>\n",
       "      <th>s4</th>\n",
       "      <td>288.035267</td>\n",
       "    </tr>\n",
       "    <tr>\n",
       "      <th>s5</th>\n",
       "      <td>659.268951</td>\n",
       "    </tr>\n",
       "    <tr>\n",
       "      <th>s6</th>\n",
       "      <td>41.376701</td>\n",
       "    </tr>\n",
       "    <tr>\n",
       "      <th>R2 score</th>\n",
       "      <td>0.550248</td>\n",
       "    </tr>\n",
       "  </tbody>\n",
       "</table>\n",
       "</div>"
      ],
      "text/plain": [
       "                  LR\n",
       "age        29.254013\n",
       "sex      -261.706469\n",
       "bmi       546.299723\n",
       "bp        388.398341\n",
       "s1       -901.959668\n",
       "s2        506.763241\n",
       "s3        121.154351\n",
       "s4        288.035267\n",
       "s5        659.268951\n",
       "s6         41.376701\n",
       "R2 score    0.550248"
      ]
     },
     "execution_count": 70,
     "metadata": {},
     "output_type": "execute_result"
    }
   ],
   "source": [
    "comp_df"
   ]
  },
  {
   "cell_type": "markdown",
   "metadata": {},
   "source": [
    "# 1. 릿지 모델"
   ]
  },
  {
   "cell_type": "code",
   "execution_count": 76,
   "metadata": {},
   "outputs": [
    {
     "data": {
      "text/html": [
       "<style>#sk-container-id-1 {color: black;background-color: white;}#sk-container-id-1 pre{padding: 0;}#sk-container-id-1 div.sk-toggleable {background-color: white;}#sk-container-id-1 label.sk-toggleable__label {cursor: pointer;display: block;width: 100%;margin-bottom: 0;padding: 0.3em;box-sizing: border-box;text-align: center;}#sk-container-id-1 label.sk-toggleable__label-arrow:before {content: \"▸\";float: left;margin-right: 0.25em;color: #696969;}#sk-container-id-1 label.sk-toggleable__label-arrow:hover:before {color: black;}#sk-container-id-1 div.sk-estimator:hover label.sk-toggleable__label-arrow:before {color: black;}#sk-container-id-1 div.sk-toggleable__content {max-height: 0;max-width: 0;overflow: hidden;text-align: left;background-color: #f0f8ff;}#sk-container-id-1 div.sk-toggleable__content pre {margin: 0.2em;color: black;border-radius: 0.25em;background-color: #f0f8ff;}#sk-container-id-1 input.sk-toggleable__control:checked~div.sk-toggleable__content {max-height: 200px;max-width: 100%;overflow: auto;}#sk-container-id-1 input.sk-toggleable__control:checked~label.sk-toggleable__label-arrow:before {content: \"▾\";}#sk-container-id-1 div.sk-estimator input.sk-toggleable__control:checked~label.sk-toggleable__label {background-color: #d4ebff;}#sk-container-id-1 div.sk-label input.sk-toggleable__control:checked~label.sk-toggleable__label {background-color: #d4ebff;}#sk-container-id-1 input.sk-hidden--visually {border: 0;clip: rect(1px 1px 1px 1px);clip: rect(1px, 1px, 1px, 1px);height: 1px;margin: -1px;overflow: hidden;padding: 0;position: absolute;width: 1px;}#sk-container-id-1 div.sk-estimator {font-family: monospace;background-color: #f0f8ff;border: 1px dotted black;border-radius: 0.25em;box-sizing: border-box;margin-bottom: 0.5em;}#sk-container-id-1 div.sk-estimator:hover {background-color: #d4ebff;}#sk-container-id-1 div.sk-parallel-item::after {content: \"\";width: 100%;border-bottom: 1px solid gray;flex-grow: 1;}#sk-container-id-1 div.sk-label:hover label.sk-toggleable__label {background-color: #d4ebff;}#sk-container-id-1 div.sk-serial::before {content: \"\";position: absolute;border-left: 1px solid gray;box-sizing: border-box;top: 0;bottom: 0;left: 50%;z-index: 0;}#sk-container-id-1 div.sk-serial {display: flex;flex-direction: column;align-items: center;background-color: white;padding-right: 0.2em;padding-left: 0.2em;position: relative;}#sk-container-id-1 div.sk-item {position: relative;z-index: 1;}#sk-container-id-1 div.sk-parallel {display: flex;align-items: stretch;justify-content: center;background-color: white;position: relative;}#sk-container-id-1 div.sk-item::before, #sk-container-id-1 div.sk-parallel-item::before {content: \"\";position: absolute;border-left: 1px solid gray;box-sizing: border-box;top: 0;bottom: 0;left: 50%;z-index: -1;}#sk-container-id-1 div.sk-parallel-item {display: flex;flex-direction: column;z-index: 1;position: relative;background-color: white;}#sk-container-id-1 div.sk-parallel-item:first-child::after {align-self: flex-end;width: 50%;}#sk-container-id-1 div.sk-parallel-item:last-child::after {align-self: flex-start;width: 50%;}#sk-container-id-1 div.sk-parallel-item:only-child::after {width: 0;}#sk-container-id-1 div.sk-dashed-wrapped {border: 1px dashed gray;margin: 0 0.4em 0.5em 0.4em;box-sizing: border-box;padding-bottom: 0.4em;background-color: white;}#sk-container-id-1 div.sk-label label {font-family: monospace;font-weight: bold;display: inline-block;line-height: 1.2em;}#sk-container-id-1 div.sk-label-container {text-align: center;}#sk-container-id-1 div.sk-container {/* jupyter's `normalize.less` sets `[hidden] { display: none; }` but bootstrap.min.css set `[hidden] { display: none !important; }` so we also need the `!important` here to be able to override the default hidden behavior on the sphinx rendered scikit-learn.org. See: https://github.com/scikit-learn/scikit-learn/issues/21755 */display: inline-block !important;position: relative;}#sk-container-id-1 div.sk-text-repr-fallback {display: none;}</style><div id=\"sk-container-id-1\" class=\"sk-top-container\"><div class=\"sk-text-repr-fallback\"><pre>Ridge()</pre><b>In a Jupyter environment, please rerun this cell to show the HTML representation or trust the notebook. <br />On GitHub, the HTML representation is unable to render, please try loading this page with nbviewer.org.</b></div><div class=\"sk-container\" hidden><div class=\"sk-item\"><div class=\"sk-estimator sk-toggleable\"><input class=\"sk-toggleable__control sk-hidden--visually\" id=\"sk-estimator-id-1\" type=\"checkbox\" checked><label for=\"sk-estimator-id-1\" class=\"sk-toggleable__label sk-toggleable__label-arrow\">Ridge</label><div class=\"sk-toggleable__content\"><pre>Ridge()</pre></div></div></div></div></div>"
      ],
      "text/plain": [
       "Ridge()"
      ]
     },
     "execution_count": 76,
     "metadata": {},
     "output_type": "execute_result"
    }
   ],
   "source": [
    "from sklearn.linear_model import Ridge\n",
    "\n",
    "model_Ridge = Ridge() #model_Ridge = Ridge(alpha=1)과 같은 소리임  \n",
    "model_Ridge.fit(X_train, y_train)\n",
    "# 이렇게 학습이 끝나나? \n",
    "# 규제 강도 주지 않으면 디폴트로 1.0을 준다 "
   ]
  },
  {
   "cell_type": "code",
   "execution_count": 77,
   "metadata": {},
   "outputs": [
    {
     "data": {
      "text/plain": [
       "array([  45.05421022,  -71.94739737,  280.71625182,  195.21266175,\n",
       "         -2.22930269,  -17.54079744, -148.68886188,  120.46723979,\n",
       "        198.61440137,  106.93469215])"
      ]
     },
     "execution_count": 77,
     "metadata": {},
     "output_type": "execute_result"
    }
   ],
   "source": [
    "# 릿지 선형회귀 모델 평가: model_Ridge1, alpha=1\n",
    "y_pred = model_Ridge.predict(X_test)\n",
    "r2 = r2_score(y_test, y_pred)\n",
    "# a=1일때 회귀 계수 확인\n",
    "coef = model_Ridge.coef_\n",
    "coef"
   ]
  },
  {
   "cell_type": "code",
   "execution_count": null,
   "metadata": {},
   "outputs": [],
   "source": [
    "# 선형 모델 평가\n",
    "\n",
    "\n",
    "#a = 1 릿지 모델 회귀 계수\n"
   ]
  },
  {
   "cell_type": "markdown",
   "metadata": {},
   "source": [
    "- 계수값 시각화"
   ]
  },
  {
   "cell_type": "code",
   "execution_count": 81,
   "metadata": {},
   "outputs": [
    {
     "name": "stdout",
     "output_type": "stream",
     "text": [
      "bmi    280.716252\n",
      "s5     198.614401\n",
      "bp     195.212662\n",
      "s3     148.688862\n",
      "s4     120.467240\n",
      "s6     106.934692\n",
      "sex     71.947397\n",
      "age     45.054210\n",
      "s2      17.540797\n",
      "s1       2.229303\n",
      "dtype: float64\n"
     ]
    },
    {
     "data": {
      "image/png": "[encoded data removed]",
      "text/plain": [
       "<Figure size 1000x500 with 1 Axes>"
      ]
     },
     "metadata": {},
     "output_type": "display_data"
    }
   ],
   "source": [
    "coef = pd.Series(np.abs(model_Ridge.coef_), index = diab.feature_names)\n",
    "coef = coef.sort_values(ascending= False)\n",
    "\n",
    "# 시각화\n",
    "print(coef)\n",
    "plt.figure(figsize=(10, 5))\n",
    "plt.title(\"특성의 중요성(릿지, alpha = default)\", fontsize = 20)\n",
    "#plt.title (\"feature importance of coefficients without Regulization\")\n",
    "plt.bar(coef.index, coef.values, color =\"deeppink\")\n",
    "plt.xticks(coef.index, rotation =45 , fontsize =11);\n",
    "\n",
    "#회귀계수가 미치는 영향이 작아졌구나! "
   ]
  },
  {
   "cell_type": "code",
   "execution_count": 82,
   "metadata": {},
   "outputs": [
    {
     "data": {
      "text/plain": [
       "age     45.054210\n",
       "sex    -71.947397\n",
       "bmi    280.716252\n",
       "bp     195.212662\n",
       "s1      -2.229303\n",
       "s2     -17.540797\n",
       "s3    -148.688862\n",
       "s4     120.467240\n",
       "s5     198.614401\n",
       "s6     106.934692\n",
       "dtype: float64"
      ]
     },
     "execution_count": 82,
     "metadata": {},
     "output_type": "execute_result"
    }
   ],
   "source": [
    "coef =pd.Series(model_Ridge.coef_, index= diab.feature_names)\n",
    "coef"
   ]
  },
  {
   "cell_type": "code",
   "execution_count": 87,
   "metadata": {},
   "outputs": [],
   "source": [
    "# alpha_list=[0.01, 1, 10, 100]인 경우\n",
    "alpha_list = [0.01, 1, 10, 100] # 알파 값 조정\n",
    "for each_alpha in alpha_list:\n",
    "    model_Ridge = Ridge(alpha=each_alpha)\n",
    "    #선형회귀 수행: 학습\n",
    "    model_Ridge.fit(X_train, y_train)\n",
    "    y_pred = model_Ridge.predict(X_test)\n",
    "    r2 = r2_score(y_test, y_pred)\n",
    "    #4쌍이 나올거임 \n",
    "    col_name = f'Ridge(alpha = {each_alpha:.2f})'\n",
    "    comp_df[col_name] = np.append(model_Ridge.coef_, r2)"
   ]
  },
  {
   "cell_type": "code",
   "execution_count": 88,
   "metadata": {},
   "outputs": [
    {
     "data": {
      "text/html": [
       "<div>\n",
       "<style scoped>\n",
       "    .dataframe tbody tr th:only-of-type {\n",
       "        vertical-align: middle;\n",
       "    }\n",
       "\n",
       "    .dataframe tbody tr th {\n",
       "        vertical-align: top;\n",
       "    }\n",
       "\n",
       "    .dataframe thead th {\n",
       "        text-align: right;\n",
       "    }\n",
       "</style>\n",
       "<table border=\"1\" class=\"dataframe\">\n",
       "  <thead>\n",
       "    <tr style=\"text-align: right;\">\n",
       "      <th></th>\n",
       "      <th>LR</th>\n",
       "      <th>Ridge(alpha = 0.01)</th>\n",
       "      <th>Ridge(alpha = 1.00)</th>\n",
       "      <th>Ridge(alpha = 10.00)</th>\n",
       "      <th>Ridge(alpha = 100.00)</th>\n",
       "    </tr>\n",
       "  </thead>\n",
       "  <tbody>\n",
       "    <tr>\n",
       "      <th>age</th>\n",
       "      <td>29.254013</td>\n",
       "      <td>34.167328</td>\n",
       "      <td>45.054210</td>\n",
       "      <td>16.230889</td>\n",
       "      <td>2.072848</td>\n",
       "    </tr>\n",
       "    <tr>\n",
       "      <th>sex</th>\n",
       "      <td>-261.706469</td>\n",
       "      <td>-254.043316</td>\n",
       "      <td>-71.947397</td>\n",
       "      <td>-2.961367</td>\n",
       "      <td>-0.003808</td>\n",
       "    </tr>\n",
       "    <tr>\n",
       "      <th>bmi</th>\n",
       "      <td>546.299723</td>\n",
       "      <td>550.844882</td>\n",
       "      <td>280.716252</td>\n",
       "      <td>59.524160</td>\n",
       "      <td>6.899915</td>\n",
       "    </tr>\n",
       "    <tr>\n",
       "      <th>bp</th>\n",
       "      <td>388.398341</td>\n",
       "      <td>379.126708</td>\n",
       "      <td>195.212662</td>\n",
       "      <td>43.421300</td>\n",
       "      <td>5.085100</td>\n",
       "    </tr>\n",
       "    <tr>\n",
       "      <th>s1</th>\n",
       "      <td>-901.959668</td>\n",
       "      <td>-404.253263</td>\n",
       "      <td>-2.229303</td>\n",
       "      <td>13.875073</td>\n",
       "      <td>2.069660</td>\n",
       "    </tr>\n",
       "    <tr>\n",
       "      <th>s2</th>\n",
       "      <td>506.763241</td>\n",
       "      <td>123.029219</td>\n",
       "      <td>-17.540797</td>\n",
       "      <td>10.865267</td>\n",
       "      <td>1.743748</td>\n",
       "    </tr>\n",
       "    <tr>\n",
       "      <th>s3</th>\n",
       "      <td>121.154351</td>\n",
       "      <td>-99.041674</td>\n",
       "      <td>-148.688862</td>\n",
       "      <td>-37.495847</td>\n",
       "      <td>-4.508876</td>\n",
       "    </tr>\n",
       "    <tr>\n",
       "      <th>s4</th>\n",
       "      <td>288.035267</td>\n",
       "      <td>215.032624</td>\n",
       "      <td>120.467240</td>\n",
       "      <td>38.728538</td>\n",
       "      <td>4.902421</td>\n",
       "    </tr>\n",
       "    <tr>\n",
       "      <th>s5</th>\n",
       "      <td>659.268951</td>\n",
       "      <td>463.842634</td>\n",
       "      <td>198.614401</td>\n",
       "      <td>49.224746</td>\n",
       "      <td>5.926496</td>\n",
       "    </tr>\n",
       "    <tr>\n",
       "      <th>s6</th>\n",
       "      <td>41.376701</td>\n",
       "      <td>50.351490</td>\n",
       "      <td>106.934692</td>\n",
       "      <td>34.737987</td>\n",
       "      <td>4.328698</td>\n",
       "    </tr>\n",
       "    <tr>\n",
       "      <th>R2 score</th>\n",
       "      <td>0.550248</td>\n",
       "      <td>0.477672</td>\n",
       "      <td>0.423344</td>\n",
       "      <td>0.151566</td>\n",
       "      <td>0.014770</td>\n",
       "    </tr>\n",
       "  </tbody>\n",
       "</table>\n",
       "</div>"
      ],
      "text/plain": [
       "                  LR  Ridge(alpha = 0.01)  Ridge(alpha = 1.00)  \\\n",
       "age        29.254013            34.167328            45.054210   \n",
       "sex      -261.706469          -254.043316           -71.947397   \n",
       "bmi       546.299723           550.844882           280.716252   \n",
       "bp        388.398341           379.126708           195.212662   \n",
       "s1       -901.959668          -404.253263            -2.229303   \n",
       "s2        506.763241           123.029219           -17.540797   \n",
       "s3        121.154351           -99.041674          -148.688862   \n",
       "s4        288.035267           215.032624           120.467240   \n",
       "s5        659.268951           463.842634           198.614401   \n",
       "s6         41.376701            50.351490           106.934692   \n",
       "R2 score    0.550248             0.477672             0.423344   \n",
       "\n",
       "          Ridge(alpha = 10.00)  Ridge(alpha = 100.00)  \n",
       "age                  16.230889               2.072848  \n",
       "sex                  -2.961367              -0.003808  \n",
       "bmi                  59.524160               6.899915  \n",
       "bp                   43.421300               5.085100  \n",
       "s1                   13.875073               2.069660  \n",
       "s2                   10.865267               1.743748  \n",
       "s3                  -37.495847              -4.508876  \n",
       "s4                   38.728538               4.902421  \n",
       "s5                   49.224746               5.926496  \n",
       "s6                   34.737987               4.328698  \n",
       "R2 score              0.151566               0.014770  "
      ]
     },
     "execution_count": 88,
     "metadata": {},
     "output_type": "execute_result"
    }
   ],
   "source": [
    "comp_df"
   ]
  },
  {
   "attachments": {},
   "cell_type": "markdown",
   "metadata": {},
   "source": [
    "릿지 규제는 원래의 손실함수에 규제를 하는 것인데 \n",
    "가중치의 제곱을 추가한 것인데 \n",
    "a가 매우 커지면 전채 비용함수에서 mse는 영향을 못미치고 가중치가 0에 가까워진다 ->a 커지면 커질수록 계수가 작아진다 \n",
    "-"
   ]
  },
  {
   "cell_type": "markdown",
   "metadata": {},
   "source": [
    "# 2. 라쏘 모델"
   ]
  },
  {
   "cell_type": "code",
   "execution_count": 89,
   "metadata": {},
   "outputs": [
    {
     "data": {
      "text/html": [
       "<style>#sk-container-id-2 {color: black;background-color: white;}#sk-container-id-2 pre{padding: 0;}#sk-container-id-2 div.sk-toggleable {background-color: white;}#sk-container-id-2 label.sk-toggleable__label {cursor: pointer;display: block;width: 100%;margin-bottom: 0;padding: 0.3em;box-sizing: border-box;text-align: center;}#sk-container-id-2 label.sk-toggleable__label-arrow:before {content: \"▸\";float: left;margin-right: 0.25em;color: #696969;}#sk-container-id-2 label.sk-toggleable__label-arrow:hover:before {color: black;}#sk-container-id-2 div.sk-estimator:hover label.sk-toggleable__label-arrow:before {color: black;}#sk-container-id-2 div.sk-toggleable__content {max-height: 0;max-width: 0;overflow: hidden;text-align: left;background-color: #f0f8ff;}#sk-container-id-2 div.sk-toggleable__content pre {margin: 0.2em;color: black;border-radius: 0.25em;background-color: #f0f8ff;}#sk-container-id-2 input.sk-toggleable__control:checked~div.sk-toggleable__content {max-height: 200px;max-width: 100%;overflow: auto;}#sk-container-id-2 input.sk-toggleable__control:checked~label.sk-toggleable__label-arrow:before {content: \"▾\";}#sk-container-id-2 div.sk-estimator input.sk-toggleable__control:checked~label.sk-toggleable__label {background-color: #d4ebff;}#sk-container-id-2 div.sk-label input.sk-toggleable__control:checked~label.sk-toggleable__label {background-color: #d4ebff;}#sk-container-id-2 input.sk-hidden--visually {border: 0;clip: rect(1px 1px 1px 1px);clip: rect(1px, 1px, 1px, 1px);height: 1px;margin: -1px;overflow: hidden;padding: 0;position: absolute;width: 1px;}#sk-container-id-2 div.sk-estimator {font-family: monospace;background-color: #f0f8ff;border: 1px dotted black;border-radius: 0.25em;box-sizing: border-box;margin-bottom: 0.5em;}#sk-container-id-2 div.sk-estimator:hover {background-color: #d4ebff;}#sk-container-id-2 div.sk-parallel-item::after {content: \"\";width: 100%;border-bottom: 1px solid gray;flex-grow: 1;}#sk-container-id-2 div.sk-label:hover label.sk-toggleable__label {background-color: #d4ebff;}#sk-container-id-2 div.sk-serial::before {content: \"\";position: absolute;border-left: 1px solid gray;box-sizing: border-box;top: 0;bottom: 0;left: 50%;z-index: 0;}#sk-container-id-2 div.sk-serial {display: flex;flex-direction: column;align-items: center;background-color: white;padding-right: 0.2em;padding-left: 0.2em;position: relative;}#sk-container-id-2 div.sk-item {position: relative;z-index: 1;}#sk-container-id-2 div.sk-parallel {display: flex;align-items: stretch;justify-content: center;background-color: white;position: relative;}#sk-container-id-2 div.sk-item::before, #sk-container-id-2 div.sk-parallel-item::before {content: \"\";position: absolute;border-left: 1px solid gray;box-sizing: border-box;top: 0;bottom: 0;left: 50%;z-index: -1;}#sk-container-id-2 div.sk-parallel-item {display: flex;flex-direction: column;z-index: 1;position: relative;background-color: white;}#sk-container-id-2 div.sk-parallel-item:first-child::after {align-self: flex-end;width: 50%;}#sk-container-id-2 div.sk-parallel-item:last-child::after {align-self: flex-start;width: 50%;}#sk-container-id-2 div.sk-parallel-item:only-child::after {width: 0;}#sk-container-id-2 div.sk-dashed-wrapped {border: 1px dashed gray;margin: 0 0.4em 0.5em 0.4em;box-sizing: border-box;padding-bottom: 0.4em;background-color: white;}#sk-container-id-2 div.sk-label label {font-family: monospace;font-weight: bold;display: inline-block;line-height: 1.2em;}#sk-container-id-2 div.sk-label-container {text-align: center;}#sk-container-id-2 div.sk-container {/* jupyter's `normalize.less` sets `[hidden] { display: none; }` but bootstrap.min.css set `[hidden] { display: none !important; }` so we also need the `!important` here to be able to override the default hidden behavior on the sphinx rendered scikit-learn.org. See: https://github.com/scikit-learn/scikit-learn/issues/21755 */display: inline-block !important;position: relative;}#sk-container-id-2 div.sk-text-repr-fallback {display: none;}</style><div id=\"sk-container-id-2\" class=\"sk-top-container\"><div class=\"sk-text-repr-fallback\"><pre>Lasso(alpha=1)</pre><b>In a Jupyter environment, please rerun this cell to show the HTML representation or trust the notebook. <br />On GitHub, the HTML representation is unable to render, please try loading this page with nbviewer.org.</b></div><div class=\"sk-container\" hidden><div class=\"sk-item\"><div class=\"sk-estimator sk-toggleable\"><input class=\"sk-toggleable__control sk-hidden--visually\" id=\"sk-estimator-id-2\" type=\"checkbox\" checked><label for=\"sk-estimator-id-2\" class=\"sk-toggleable__label sk-toggleable__label-arrow\">Lasso</label><div class=\"sk-toggleable__content\"><pre>Lasso(alpha=1)</pre></div></div></div></div></div>"
      ],
      "text/plain": [
       "Lasso(alpha=1)"
      ]
     },
     "execution_count": 89,
     "metadata": {},
     "output_type": "execute_result"
    }
   ],
   "source": [
    "from sklearn.linear_model import Lasso\n",
    "\n",
    "# alpha = 1 이게 디폴트임 \n",
    "model_Lasso = Lasso(alpha=1)\n",
    "model_Lasso.fit(X_train, y_train)\n"
   ]
  },
  {
   "cell_type": "code",
   "execution_count": 91,
   "metadata": {},
   "outputs": [
    {
     "name": "stdout",
     "output_type": "stream",
     "text": [
      "0.36189802861957876\n"
     ]
    },
    {
     "data": {
      "text/plain": [
       "age      0.000000\n",
       "sex     -0.000000\n",
       "bmi    443.703388\n",
       "bp      51.601094\n",
       "s1       0.000000\n",
       "s2       0.000000\n",
       "s3      -0.000000\n",
       "s4       0.000000\n",
       "s5     201.966478\n",
       "s6       0.000000\n",
       "dtype: float64"
      ]
     },
     "execution_count": 91,
     "metadata": {},
     "output_type": "execute_result"
    }
   ],
   "source": [
    "# 라쏘 선형회귀 모델 평가(alpha=1)\n",
    "# 선형 모델 평가\n",
    "y_pred = model_Lasso.predict(X_test)\n",
    "r2= r2_score (y_test, y_pred)\n",
    "print(r2)\n",
    "#a = 1 라쏘 모델 회귀 계수\n",
    "\n",
    "Lasso_coef = pd.Series(model_Lasso.coef_, index = diab.feature_names)\n",
    "Lasso_coef\n",
    "#0인 애들이 수두룩해짐 즉, 이 계수가 미치는 영향을 빼버렸다는 것임 \n",
    "# 종속변수에게 영향을 덜 미칠 것이라는 것을 볼 수 있음 \n",
    "# 다중공선성 -> 1. 다중계수의 상관관계 보세요 \n",
    "# 2. 라쏘 모델 돌려보세요 \n",
    "# 특성 선택을 하는 데에 도움을 주기도 한다 "
   ]
  },
  {
   "cell_type": "markdown",
   "metadata": {},
   "source": [
    "- 계수 시각화"
   ]
  },
  {
   "cell_type": "code",
   "execution_count": 96,
   "metadata": {},
   "outputs": [
    {
     "data": {
      "image/png": "[encoded data removed]",
      "text/plain": [
       "<Figure size 1000x500 with 1 Axes>"
      ]
     },
     "metadata": {},
     "output_type": "display_data"
    }
   ],
   "source": [
    "coef = np.abs(Lasso_coef)\n",
    "coef = pd.Series(coef, index = diab.feature_names).sort_values(ascending= False)\n",
    "# 시각화\n",
    "plt.figure(figsize=(10, 5))\n",
    "plt.title(\"특성의 중요성(라쏘, alpha = 1)\", fontsize = 20)\n",
    "#plt.title (\"feature importance of coefficients without Regulization\")\n",
    "plt.bar(coef.index, coef.values, color =\"gold\")\n",
    "plt.xticks(coef.index, rotation =45 , fontsize =11);"
   ]
  },
  {
   "cell_type": "code",
   "execution_count": 97,
   "metadata": {},
   "outputs": [],
   "source": [
    "# alpha_list=[0.01, 1, 10, 100]인 경우\n",
    "alpha_list = [0.01, 1, 10, 100] # 알파 값 조정\n",
    "for each_alpha in alpha_list:\n",
    "    model_Lasso = Lasso(alpha=each_alpha)\n",
    "    #선형회귀 수행: 학습\n",
    "    model_Lasso.fit(X_train, y_train)\n",
    "    y_pred = model_Lasso.predict(X_test)\n",
    "    r2 = r2_score(y_test, y_pred)\n",
    "    #4쌍이 나올거임 \n",
    "    col_name = f'Lasso(alpha = {each_alpha:.2f})'\n",
    "    comp_df[col_name] = np.append(model_Lasso.coef_, r2)"
   ]
  },
  {
   "cell_type": "code",
   "execution_count": 98,
   "metadata": {},
   "outputs": [
    {
     "data": {
      "text/html": [
       "<div>\n",
       "<style scoped>\n",
       "    .dataframe tbody tr th:only-of-type {\n",
       "        vertical-align: middle;\n",
       "    }\n",
       "\n",
       "    .dataframe tbody tr th {\n",
       "        vertical-align: top;\n",
       "    }\n",
       "\n",
       "    .dataframe thead th {\n",
       "        text-align: right;\n",
       "    }\n",
       "</style>\n",
       "<table border=\"1\" class=\"dataframe\">\n",
       "  <thead>\n",
       "    <tr style=\"text-align: right;\">\n",
       "      <th></th>\n",
       "      <th>LR</th>\n",
       "      <th>Ridge(alpha = 0.01)</th>\n",
       "      <th>Ridge(alpha = 1.00)</th>\n",
       "      <th>Ridge(alpha = 10.00)</th>\n",
       "      <th>Ridge(alpha = 100.00)</th>\n",
       "      <th>Lasso(alpha = 0.01)</th>\n",
       "      <th>Lasso(alpha = 1.00)</th>\n",
       "      <th>Lasso(alpha = 10.00)</th>\n",
       "      <th>Lasso(alpha = 100.00)</th>\n",
       "    </tr>\n",
       "  </thead>\n",
       "  <tbody>\n",
       "    <tr>\n",
       "      <th>age</th>\n",
       "      <td>29.254013</td>\n",
       "      <td>34.167328</td>\n",
       "      <td>45.054210</td>\n",
       "      <td>16.230889</td>\n",
       "      <td>2.072848</td>\n",
       "      <td>28.246364</td>\n",
       "      <td>0.000000</td>\n",
       "      <td>0.000000</td>\n",
       "      <td>0.000000</td>\n",
       "    </tr>\n",
       "    <tr>\n",
       "      <th>sex</th>\n",
       "      <td>-261.706469</td>\n",
       "      <td>-254.043316</td>\n",
       "      <td>-71.947397</td>\n",
       "      <td>-2.961367</td>\n",
       "      <td>-0.003808</td>\n",
       "      <td>-250.819184</td>\n",
       "      <td>-0.000000</td>\n",
       "      <td>0.000000</td>\n",
       "      <td>0.000000</td>\n",
       "    </tr>\n",
       "    <tr>\n",
       "      <th>bmi</th>\n",
       "      <td>546.299723</td>\n",
       "      <td>550.844882</td>\n",
       "      <td>280.716252</td>\n",
       "      <td>59.524160</td>\n",
       "      <td>6.899915</td>\n",
       "      <td>556.215874</td>\n",
       "      <td>443.703388</td>\n",
       "      <td>0.000000</td>\n",
       "      <td>0.000000</td>\n",
       "    </tr>\n",
       "    <tr>\n",
       "      <th>bp</th>\n",
       "      <td>388.398341</td>\n",
       "      <td>379.126708</td>\n",
       "      <td>195.212662</td>\n",
       "      <td>43.421300</td>\n",
       "      <td>5.085100</td>\n",
       "      <td>380.659502</td>\n",
       "      <td>51.601094</td>\n",
       "      <td>0.000000</td>\n",
       "      <td>0.000000</td>\n",
       "    </tr>\n",
       "    <tr>\n",
       "      <th>s1</th>\n",
       "      <td>-901.959668</td>\n",
       "      <td>-404.253263</td>\n",
       "      <td>-2.229303</td>\n",
       "      <td>13.875073</td>\n",
       "      <td>2.069660</td>\n",
       "      <td>-468.739540</td>\n",
       "      <td>0.000000</td>\n",
       "      <td>0.000000</td>\n",
       "      <td>0.000000</td>\n",
       "    </tr>\n",
       "    <tr>\n",
       "      <th>s2</th>\n",
       "      <td>506.763241</td>\n",
       "      <td>123.029219</td>\n",
       "      <td>-17.540797</td>\n",
       "      <td>10.865267</td>\n",
       "      <td>1.743748</td>\n",
       "      <td>166.993417</td>\n",
       "      <td>0.000000</td>\n",
       "      <td>0.000000</td>\n",
       "      <td>0.000000</td>\n",
       "    </tr>\n",
       "    <tr>\n",
       "      <th>s3</th>\n",
       "      <td>121.154351</td>\n",
       "      <td>-99.041674</td>\n",
       "      <td>-148.688862</td>\n",
       "      <td>-37.495847</td>\n",
       "      <td>-4.508876</td>\n",
       "      <td>-60.219459</td>\n",
       "      <td>-0.000000</td>\n",
       "      <td>-0.000000</td>\n",
       "      <td>-0.000000</td>\n",
       "    </tr>\n",
       "    <tr>\n",
       "      <th>s4</th>\n",
       "      <td>288.035267</td>\n",
       "      <td>215.032624</td>\n",
       "      <td>120.467240</td>\n",
       "      <td>38.728538</td>\n",
       "      <td>4.902421</td>\n",
       "      <td>230.916253</td>\n",
       "      <td>0.000000</td>\n",
       "      <td>0.000000</td>\n",
       "      <td>0.000000</td>\n",
       "    </tr>\n",
       "    <tr>\n",
       "      <th>s5</th>\n",
       "      <td>659.268951</td>\n",
       "      <td>463.842634</td>\n",
       "      <td>198.614401</td>\n",
       "      <td>49.224746</td>\n",
       "      <td>5.926496</td>\n",
       "      <td>492.634358</td>\n",
       "      <td>201.966478</td>\n",
       "      <td>0.000000</td>\n",
       "      <td>0.000000</td>\n",
       "    </tr>\n",
       "    <tr>\n",
       "      <th>s6</th>\n",
       "      <td>41.376701</td>\n",
       "      <td>50.351490</td>\n",
       "      <td>106.934692</td>\n",
       "      <td>34.737987</td>\n",
       "      <td>4.328698</td>\n",
       "      <td>43.969346</td>\n",
       "      <td>0.000000</td>\n",
       "      <td>0.000000</td>\n",
       "      <td>0.000000</td>\n",
       "    </tr>\n",
       "    <tr>\n",
       "      <th>R2 score</th>\n",
       "      <td>0.550248</td>\n",
       "      <td>0.477672</td>\n",
       "      <td>0.423344</td>\n",
       "      <td>0.151566</td>\n",
       "      <td>0.014770</td>\n",
       "      <td>0.478714</td>\n",
       "      <td>0.361898</td>\n",
       "      <td>-0.006405</td>\n",
       "      <td>-0.006405</td>\n",
       "    </tr>\n",
       "  </tbody>\n",
       "</table>\n",
       "</div>"
      ],
      "text/plain": [
       "                  LR  Ridge(alpha = 0.01)  Ridge(alpha = 1.00)  \\\n",
       "age        29.254013            34.167328            45.054210   \n",
       "sex      -261.706469          -254.043316           -71.947397   \n",
       "bmi       546.299723           550.844882           280.716252   \n",
       "bp        388.398341           379.126708           195.212662   \n",
       "s1       -901.959668          -404.253263            -2.229303   \n",
       "s2        506.763241           123.029219           -17.540797   \n",
       "s3        121.154351           -99.041674          -148.688862   \n",
       "s4        288.035267           215.032624           120.467240   \n",
       "s5        659.268951           463.842634           198.614401   \n",
       "s6         41.376701            50.351490           106.934692   \n",
       "R2 score    0.550248             0.477672             0.423344   \n",
       "\n",
       "          Ridge(alpha = 10.00)  Ridge(alpha = 100.00)  Lasso(alpha = 0.01)  \\\n",
       "age                  16.230889               2.072848            28.246364   \n",
       "sex                  -2.961367              -0.003808          -250.819184   \n",
       "bmi                  59.524160               6.899915           556.215874   \n",
       "bp                   43.421300               5.085100           380.659502   \n",
       "s1                   13.875073               2.069660          -468.739540   \n",
       "s2                   10.865267               1.743748           166.993417   \n",
       "s3                  -37.495847              -4.508876           -60.219459   \n",
       "s4                   38.728538               4.902421           230.916253   \n",
       "s5                   49.224746               5.926496           492.634358   \n",
       "s6                   34.737987               4.328698            43.969346   \n",
       "R2 score              0.151566               0.014770             0.478714   \n",
       "\n",
       "          Lasso(alpha = 1.00)  Lasso(alpha = 10.00)  Lasso(alpha = 100.00)  \n",
       "age                  0.000000              0.000000               0.000000  \n",
       "sex                 -0.000000              0.000000               0.000000  \n",
       "bmi                443.703388              0.000000               0.000000  \n",
       "bp                  51.601094              0.000000               0.000000  \n",
       "s1                   0.000000              0.000000               0.000000  \n",
       "s2                   0.000000              0.000000               0.000000  \n",
       "s3                  -0.000000             -0.000000              -0.000000  \n",
       "s4                   0.000000              0.000000               0.000000  \n",
       "s5                 201.966478              0.000000               0.000000  \n",
       "s6                   0.000000              0.000000               0.000000  \n",
       "R2 score             0.361898             -0.006405              -0.006405  "
      ]
     },
     "execution_count": 98,
     "metadata": {},
     "output_type": "execute_result"
    }
   ],
   "source": [
    "comp_df"
   ]
  },
  {
   "cell_type": "markdown",
   "metadata": {},
   "source": [
    "# 3. 엘라스틱넷 모델"
   ]
  },
  {
   "cell_type": "code",
   "execution_count": 99,
   "metadata": {},
   "outputs": [],
   "source": [
    "# 모델 구축 및 학습(alpha=1, l1_ratio=0.5)\n",
    "from sklearn.linear_model import ElasticNet\n",
    "\n",
    "alpha_list = [0.01, 1, 10, 100]\n",
    "#어떤 규제를 쓰는지에 따라서 \n",
    "# 라쏘가 더 강하고 릿지는 좀 덜하하고, 엘라스틱넷은 그 중간임 \n",
    "# for each_alpha in alpha_list:\n",
    "#     model_ElasticNet = ElasticNet(alpha=1, l1_ratio=0.5)\n",
    "#     model_ElasticNet.fit(X_train, y_train)\n",
    "#     y_pred = model_ElasticNet.predict(X_test)\n",
    "#     r2 = r2_score(y_test, y_pred)\n",
    "#     #4쌍이 나올거임 \n",
    "#     col_name = f'ElasticNet (alpha = {each_alpha:.2f})'\n",
    "#     comp_df[col_name] = np.append(model_ElasticNet.coef_, r2)\n",
    "\n",
    "model_ElasticNet = ElasticNet(alpha=1, l1_ratio=0.5)\n",
    "model_ElasticNet.fit(X_train, y_train)\n",
    "y_pred = model_ElasticNet.predict(X_test)\n",
    "r2 = r2_score(y_test, y_pred)"
   ]
  },
  {
   "cell_type": "code",
   "execution_count": 101,
   "metadata": {},
   "outputs": [
    {
     "data": {
      "text/plain": [
       "age    0.367567\n",
       "sex    0.000000\n",
       "bmi    3.512046\n",
       "bp     2.328646\n",
       "s1     0.380194\n",
       "s2     0.168337\n",
       "s3    -1.955958\n",
       "s4     2.228128\n",
       "s5     2.887428\n",
       "s6     1.846225\n",
       "dtype: float64"
      ]
     },
     "execution_count": 101,
     "metadata": {},
     "output_type": "execute_result"
    }
   ],
   "source": [
    "#모델 평가 및 회귀 계수 확인\n",
    "# 엘라스틱넷 선형회귀 모델 평가(alpha=1, L1_ratio=0.5)\n",
    "# 선형 모델 평가\n",
    "\n",
    "\n",
    "#a = 1 엘라스틱넷 모델 회귀 계수\n",
    "Elastic_coef = pd.Series(model_ElasticNet.coef_, index = diab.feature_names)\n",
    "Elastic_coef"
   ]
  },
  {
   "cell_type": "markdown",
   "metadata": {},
   "source": [
    "- 계수 시각화"
   ]
  },
  {
   "cell_type": "code",
   "execution_count": null,
   "metadata": {},
   "outputs": [],
   "source": [
    "\n",
    "\n",
    "# 시각화\n"
   ]
  },
  {
   "cell_type": "code",
   "execution_count": 102,
   "metadata": {},
   "outputs": [],
   "source": [
    "# alpha_list=[0.01, 1, 10, 100]인 경우, l1_ratio=0.5 \n",
    "\n",
    "alpha_list = [0.01, 1, 10, 100]\n",
    "#어떤 규제를 쓰는지에 따라서 \n",
    "# 라쏘가 더 강하고 릿지는 좀 덜하하고, 엘라스틱넷은 그 중간임 \n",
    "for each_alpha in alpha_list:\n",
    "    model_ElasticNet = ElasticNet(alpha=1, l1_ratio=0.5)\n",
    "    model_ElasticNet.fit(X_train, y_train)\n",
    "    y_pred = model_ElasticNet.predict(X_test)\n",
    "    r2 = r2_score(y_test, y_pred)\n",
    "    #4쌍이 나올거임 \n",
    "    col_name = f'ElasticNet (alpha = {each_alpha:.2f})'\n",
    "    comp_df[col_name] = np.append(model_ElasticNet.coef_, r2)"
   ]
  },
  {
   "cell_type": "code",
   "execution_count": 103,
   "metadata": {},
   "outputs": [
    {
     "data": {
      "text/html": [
       "<div>\n",
       "<style scoped>\n",
       "    .dataframe tbody tr th:only-of-type {\n",
       "        vertical-align: middle;\n",
       "    }\n",
       "\n",
       "    .dataframe tbody tr th {\n",
       "        vertical-align: top;\n",
       "    }\n",
       "\n",
       "    .dataframe thead th {\n",
       "        text-align: right;\n",
       "    }\n",
       "</style>\n",
       "<table border=\"1\" class=\"dataframe\">\n",
       "  <thead>\n",
       "    <tr style=\"text-align: right;\">\n",
       "      <th></th>\n",
       "      <th>LR</th>\n",
       "      <th>Ridge(alpha = 0.01)</th>\n",
       "      <th>Ridge(alpha = 1.00)</th>\n",
       "      <th>Ridge(alpha = 10.00)</th>\n",
       "      <th>Ridge(alpha = 100.00)</th>\n",
       "      <th>Lasso(alpha = 0.01)</th>\n",
       "      <th>Lasso(alpha = 1.00)</th>\n",
       "      <th>Lasso(alpha = 10.00)</th>\n",
       "      <th>Lasso(alpha = 100.00)</th>\n",
       "      <th>ElasticNet (alpha = 0.01)</th>\n",
       "      <th>ElasticNet (alpha = 1.00)</th>\n",
       "      <th>ElasticNet (alpha = 10.00)</th>\n",
       "      <th>ElasticNet (alpha = 100.00)</th>\n",
       "    </tr>\n",
       "  </thead>\n",
       "  <tbody>\n",
       "    <tr>\n",
       "      <th>age</th>\n",
       "      <td>29.254013</td>\n",
       "      <td>34.167328</td>\n",
       "      <td>45.054210</td>\n",
       "      <td>16.230889</td>\n",
       "      <td>2.072848</td>\n",
       "      <td>28.246364</td>\n",
       "      <td>0.000000</td>\n",
       "      <td>0.000000</td>\n",
       "      <td>0.000000</td>\n",
       "      <td>0.367567</td>\n",
       "      <td>0.367567</td>\n",
       "      <td>0.367567</td>\n",
       "      <td>0.367567</td>\n",
       "    </tr>\n",
       "    <tr>\n",
       "      <th>sex</th>\n",
       "      <td>-261.706469</td>\n",
       "      <td>-254.043316</td>\n",
       "      <td>-71.947397</td>\n",
       "      <td>-2.961367</td>\n",
       "      <td>-0.003808</td>\n",
       "      <td>-250.819184</td>\n",
       "      <td>-0.000000</td>\n",
       "      <td>0.000000</td>\n",
       "      <td>0.000000</td>\n",
       "      <td>0.000000</td>\n",
       "      <td>0.000000</td>\n",
       "      <td>0.000000</td>\n",
       "      <td>0.000000</td>\n",
       "    </tr>\n",
       "    <tr>\n",
       "      <th>bmi</th>\n",
       "      <td>546.299723</td>\n",
       "      <td>550.844882</td>\n",
       "      <td>280.716252</td>\n",
       "      <td>59.524160</td>\n",
       "      <td>6.899915</td>\n",
       "      <td>556.215874</td>\n",
       "      <td>443.703388</td>\n",
       "      <td>0.000000</td>\n",
       "      <td>0.000000</td>\n",
       "      <td>3.512046</td>\n",
       "      <td>3.512046</td>\n",
       "      <td>3.512046</td>\n",
       "      <td>3.512046</td>\n",
       "    </tr>\n",
       "    <tr>\n",
       "      <th>bp</th>\n",
       "      <td>388.398341</td>\n",
       "      <td>379.126708</td>\n",
       "      <td>195.212662</td>\n",
       "      <td>43.421300</td>\n",
       "      <td>5.085100</td>\n",
       "      <td>380.659502</td>\n",
       "      <td>51.601094</td>\n",
       "      <td>0.000000</td>\n",
       "      <td>0.000000</td>\n",
       "      <td>2.328646</td>\n",
       "      <td>2.328646</td>\n",
       "      <td>2.328646</td>\n",
       "      <td>2.328646</td>\n",
       "    </tr>\n",
       "    <tr>\n",
       "      <th>s1</th>\n",
       "      <td>-901.959668</td>\n",
       "      <td>-404.253263</td>\n",
       "      <td>-2.229303</td>\n",
       "      <td>13.875073</td>\n",
       "      <td>2.069660</td>\n",
       "      <td>-468.739540</td>\n",
       "      <td>0.000000</td>\n",
       "      <td>0.000000</td>\n",
       "      <td>0.000000</td>\n",
       "      <td>0.380194</td>\n",
       "      <td>0.380194</td>\n",
       "      <td>0.380194</td>\n",
       "      <td>0.380194</td>\n",
       "    </tr>\n",
       "    <tr>\n",
       "      <th>s2</th>\n",
       "      <td>506.763241</td>\n",
       "      <td>123.029219</td>\n",
       "      <td>-17.540797</td>\n",
       "      <td>10.865267</td>\n",
       "      <td>1.743748</td>\n",
       "      <td>166.993417</td>\n",
       "      <td>0.000000</td>\n",
       "      <td>0.000000</td>\n",
       "      <td>0.000000</td>\n",
       "      <td>0.168337</td>\n",
       "      <td>0.168337</td>\n",
       "      <td>0.168337</td>\n",
       "      <td>0.168337</td>\n",
       "    </tr>\n",
       "    <tr>\n",
       "      <th>s3</th>\n",
       "      <td>121.154351</td>\n",
       "      <td>-99.041674</td>\n",
       "      <td>-148.688862</td>\n",
       "      <td>-37.495847</td>\n",
       "      <td>-4.508876</td>\n",
       "      <td>-60.219459</td>\n",
       "      <td>-0.000000</td>\n",
       "      <td>-0.000000</td>\n",
       "      <td>-0.000000</td>\n",
       "      <td>-1.955958</td>\n",
       "      <td>-1.955958</td>\n",
       "      <td>-1.955958</td>\n",
       "      <td>-1.955958</td>\n",
       "    </tr>\n",
       "    <tr>\n",
       "      <th>s4</th>\n",
       "      <td>288.035267</td>\n",
       "      <td>215.032624</td>\n",
       "      <td>120.467240</td>\n",
       "      <td>38.728538</td>\n",
       "      <td>4.902421</td>\n",
       "      <td>230.916253</td>\n",
       "      <td>0.000000</td>\n",
       "      <td>0.000000</td>\n",
       "      <td>0.000000</td>\n",
       "      <td>2.228128</td>\n",
       "      <td>2.228128</td>\n",
       "      <td>2.228128</td>\n",
       "      <td>2.228128</td>\n",
       "    </tr>\n",
       "    <tr>\n",
       "      <th>s5</th>\n",
       "      <td>659.268951</td>\n",
       "      <td>463.842634</td>\n",
       "      <td>198.614401</td>\n",
       "      <td>49.224746</td>\n",
       "      <td>5.926496</td>\n",
       "      <td>492.634358</td>\n",
       "      <td>201.966478</td>\n",
       "      <td>0.000000</td>\n",
       "      <td>0.000000</td>\n",
       "      <td>2.887428</td>\n",
       "      <td>2.887428</td>\n",
       "      <td>2.887428</td>\n",
       "      <td>2.887428</td>\n",
       "    </tr>\n",
       "    <tr>\n",
       "      <th>s6</th>\n",
       "      <td>41.376701</td>\n",
       "      <td>50.351490</td>\n",
       "      <td>106.934692</td>\n",
       "      <td>34.737987</td>\n",
       "      <td>4.328698</td>\n",
       "      <td>43.969346</td>\n",
       "      <td>0.000000</td>\n",
       "      <td>0.000000</td>\n",
       "      <td>0.000000</td>\n",
       "      <td>1.846225</td>\n",
       "      <td>1.846225</td>\n",
       "      <td>1.846225</td>\n",
       "      <td>1.846225</td>\n",
       "    </tr>\n",
       "    <tr>\n",
       "      <th>R2 score</th>\n",
       "      <td>0.550248</td>\n",
       "      <td>0.477672</td>\n",
       "      <td>0.423344</td>\n",
       "      <td>0.151566</td>\n",
       "      <td>0.014770</td>\n",
       "      <td>0.478714</td>\n",
       "      <td>0.361898</td>\n",
       "      <td>-0.006405</td>\n",
       "      <td>-0.006405</td>\n",
       "      <td>0.003107</td>\n",
       "      <td>0.003107</td>\n",
       "      <td>0.003107</td>\n",
       "      <td>0.003107</td>\n",
       "    </tr>\n",
       "  </tbody>\n",
       "</table>\n",
       "</div>"
      ],
      "text/plain": [
       "                  LR  Ridge(alpha = 0.01)  Ridge(alpha = 1.00)  \\\n",
       "age        29.254013            34.167328            45.054210   \n",
       "sex      -261.706469          -254.043316           -71.947397   \n",
       "bmi       546.299723           550.844882           280.716252   \n",
       "bp        388.398341           379.126708           195.212662   \n",
       "s1       -901.959668          -404.253263            -2.229303   \n",
       "s2        506.763241           123.029219           -17.540797   \n",
       "s3        121.154351           -99.041674          -148.688862   \n",
       "s4        288.035267           215.032624           120.467240   \n",
       "s5        659.268951           463.842634           198.614401   \n",
       "s6         41.376701            50.351490           106.934692   \n",
       "R2 score    0.550248             0.477672             0.423344   \n",
       "\n",
       "          Ridge(alpha = 10.00)  Ridge(alpha = 100.00)  Lasso(alpha = 0.01)  \\\n",
       "age                  16.230889               2.072848            28.246364   \n",
       "sex                  -2.961367              -0.003808          -250.819184   \n",
       "bmi                  59.524160               6.899915           556.215874   \n",
       "bp                   43.421300               5.085100           380.659502   \n",
       "s1                   13.875073               2.069660          -468.739540   \n",
       "s2                   10.865267               1.743748           166.993417   \n",
       "s3                  -37.495847              -4.508876           -60.219459   \n",
       "s4                   38.728538               4.902421           230.916253   \n",
       "s5                   49.224746               5.926496           492.634358   \n",
       "s6                   34.737987               4.328698            43.969346   \n",
       "R2 score              0.151566               0.014770             0.478714   \n",
       "\n",
       "          Lasso(alpha = 1.00)  Lasso(alpha = 10.00)  Lasso(alpha = 100.00)  \\\n",
       "age                  0.000000              0.000000               0.000000   \n",
       "sex                 -0.000000              0.000000               0.000000   \n",
       "bmi                443.703388              0.000000               0.000000   \n",
       "bp                  51.601094              0.000000               0.000000   \n",
       "s1                   0.000000              0.000000               0.000000   \n",
       "s2                   0.000000              0.000000               0.000000   \n",
       "s3                  -0.000000             -0.000000              -0.000000   \n",
       "s4                   0.000000              0.000000               0.000000   \n",
       "s5                 201.966478              0.000000               0.000000   \n",
       "s6                   0.000000              0.000000               0.000000   \n",
       "R2 score             0.361898             -0.006405              -0.006405   \n",
       "\n",
       "          ElasticNet (alpha = 0.01)  ElasticNet (alpha = 1.00)  \\\n",
       "age                        0.367567                   0.367567   \n",
       "sex                        0.000000                   0.000000   \n",
       "bmi                        3.512046                   3.512046   \n",
       "bp                         2.328646                   2.328646   \n",
       "s1                         0.380194                   0.380194   \n",
       "s2                         0.168337                   0.168337   \n",
       "s3                        -1.955958                  -1.955958   \n",
       "s4                         2.228128                   2.228128   \n",
       "s5                         2.887428                   2.887428   \n",
       "s6                         1.846225                   1.846225   \n",
       "R2 score                   0.003107                   0.003107   \n",
       "\n",
       "          ElasticNet (alpha = 10.00)  ElasticNet (alpha = 100.00)  \n",
       "age                         0.367567                     0.367567  \n",
       "sex                         0.000000                     0.000000  \n",
       "bmi                         3.512046                     3.512046  \n",
       "bp                          2.328646                     2.328646  \n",
       "s1                          0.380194                     0.380194  \n",
       "s2                          0.168337                     0.168337  \n",
       "s3                         -1.955958                    -1.955958  \n",
       "s4                          2.228128                     2.228128  \n",
       "s5                          2.887428                     2.887428  \n",
       "s6                          1.846225                     1.846225  \n",
       "R2 score                    0.003107                     0.003107  "
      ]
     },
     "execution_count": 103,
     "metadata": {},
     "output_type": "execute_result"
    }
   ],
   "source": [
    "comp_df"
   ]
  },
  {
   "cell_type": "markdown",
   "metadata": {},
   "source": []
  },
  {
   "cell_type": "code",
   "execution_count": null,
   "metadata": {},
   "outputs": [],
   "source": []
  },
  {
   "cell_type": "markdown",
   "metadata": {},
   "source": [
    "### LassoCV() : k-폴드 교차 검증으로 최적의 Lasso 모델 하이퍼파라미터 alpha 찾기"
   ]
  },
  {
   "cell_type": "code",
   "execution_count": 104,
   "metadata": {},
   "outputs": [],
   "source": [
    "#LassoCV()에 필요한 매개변수 설정\n",
    "#0.01 ~ 9.91 까지 alpha_list  생성\n",
    "\n",
    "\n",
    "cv = 5 #cross validation 을 몇개로 할 것인가 ? linear_model.LassoCV\n",
    "alpha_list = np.arange(0.01,10, 0.01) # alpha 1000개\n",
    "max_iter= 100"
   ]
  },
  {
   "cell_type": "code",
   "execution_count": 105,
   "metadata": {},
   "outputs": [],
   "source": [
    "from sklearn.linear_model import LassoCV\n",
    "# alphas => 알파 리스트를 할당하면 됨\n",
    "model_LassoCV = LassoCV(alphas=alpha_list, cv=cv, max_iter=1000, n_jobs=-1, random_state=42)#n_jobs는 integer, 교차검증 중 사용할 cpu 수 , 최대한 많이 쓰고 싶으면 -1\n",
    "#모델에 대한 객체 생성임"
   ]
  },
  {
   "attachments": {},
   "cell_type": "markdown",
   "metadata": {},
   "source": [
    "- 모델 학습\n",
    "model_LassoCV"
   ]
  },
  {
   "cell_type": "code",
   "execution_count": 106,
   "metadata": {},
   "outputs": [
    {
     "data": {
      "text/html": [
       "<style>#sk-container-id-3 {color: black;background-color: white;}#sk-container-id-3 pre{padding: 0;}#sk-container-id-3 div.sk-toggleable {background-color: white;}#sk-container-id-3 label.sk-toggleable__label {cursor: pointer;display: block;width: 100%;margin-bottom: 0;padding: 0.3em;box-sizing: border-box;text-align: center;}#sk-container-id-3 label.sk-toggleable__label-arrow:before {content: \"▸\";float: left;margin-right: 0.25em;color: #696969;}#sk-container-id-3 label.sk-toggleable__label-arrow:hover:before {color: black;}#sk-container-id-3 div.sk-estimator:hover label.sk-toggleable__label-arrow:before {color: black;}#sk-container-id-3 div.sk-toggleable__content {max-height: 0;max-width: 0;overflow: hidden;text-align: left;background-color: #f0f8ff;}#sk-container-id-3 div.sk-toggleable__content pre {margin: 0.2em;color: black;border-radius: 0.25em;background-color: #f0f8ff;}#sk-container-id-3 input.sk-toggleable__control:checked~div.sk-toggleable__content {max-height: 200px;max-width: 100%;overflow: auto;}#sk-container-id-3 input.sk-toggleable__control:checked~label.sk-toggleable__label-arrow:before {content: \"▾\";}#sk-container-id-3 div.sk-estimator input.sk-toggleable__control:checked~label.sk-toggleable__label {background-color: #d4ebff;}#sk-container-id-3 div.sk-label input.sk-toggleable__control:checked~label.sk-toggleable__label {background-color: #d4ebff;}#sk-container-id-3 input.sk-hidden--visually {border: 0;clip: rect(1px 1px 1px 1px);clip: rect(1px, 1px, 1px, 1px);height: 1px;margin: -1px;overflow: hidden;padding: 0;position: absolute;width: 1px;}#sk-container-id-3 div.sk-estimator {font-family: monospace;background-color: #f0f8ff;border: 1px dotted black;border-radius: 0.25em;box-sizing: border-box;margin-bottom: 0.5em;}#sk-container-id-3 div.sk-estimator:hover {background-color: #d4ebff;}#sk-container-id-3 div.sk-parallel-item::after {content: \"\";width: 100%;border-bottom: 1px solid gray;flex-grow: 1;}#sk-container-id-3 div.sk-label:hover label.sk-toggleable__label {background-color: #d4ebff;}#sk-container-id-3 div.sk-serial::before {content: \"\";position: absolute;border-left: 1px solid gray;box-sizing: border-box;top: 0;bottom: 0;left: 50%;z-index: 0;}#sk-container-id-3 div.sk-serial {display: flex;flex-direction: column;align-items: center;background-color: white;padding-right: 0.2em;padding-left: 0.2em;position: relative;}#sk-container-id-3 div.sk-item {position: relative;z-index: 1;}#sk-container-id-3 div.sk-parallel {display: flex;align-items: stretch;justify-content: center;background-color: white;position: relative;}#sk-container-id-3 div.sk-item::before, #sk-container-id-3 div.sk-parallel-item::before {content: \"\";position: absolute;border-left: 1px solid gray;box-sizing: border-box;top: 0;bottom: 0;left: 50%;z-index: -1;}#sk-container-id-3 div.sk-parallel-item {display: flex;flex-direction: column;z-index: 1;position: relative;background-color: white;}#sk-container-id-3 div.sk-parallel-item:first-child::after {align-self: flex-end;width: 50%;}#sk-container-id-3 div.sk-parallel-item:last-child::after {align-self: flex-start;width: 50%;}#sk-container-id-3 div.sk-parallel-item:only-child::after {width: 0;}#sk-container-id-3 div.sk-dashed-wrapped {border: 1px dashed gray;margin: 0 0.4em 0.5em 0.4em;box-sizing: border-box;padding-bottom: 0.4em;background-color: white;}#sk-container-id-3 div.sk-label label {font-family: monospace;font-weight: bold;display: inline-block;line-height: 1.2em;}#sk-container-id-3 div.sk-label-container {text-align: center;}#sk-container-id-3 div.sk-container {/* jupyter's `normalize.less` sets `[hidden] { display: none; }` but bootstrap.min.css set `[hidden] { display: none !important; }` so we also need the `!important` here to be able to override the default hidden behavior on the sphinx rendered scikit-learn.org. See: https://github.com/scikit-learn/scikit-learn/issues/21755 */display: inline-block !important;position: relative;}#sk-container-id-3 div.sk-text-repr-fallback {display: none;}</style><div id=\"sk-container-id-3\" class=\"sk-top-container\"><div class=\"sk-text-repr-fallback\"><pre>LassoCV(alphas=array([0.01, 0.02, 0.03, 0.04, 0.05, 0.06, 0.07, 0.08, 0.09, 0.1 , 0.11,\n",
       "       0.12, 0.13, 0.14, 0.15, 0.16, 0.17, 0.18, 0.19, 0.2 , 0.21, 0.22,\n",
       "       0.23, 0.24, 0.25, 0.26, 0.27, 0.28, 0.29, 0.3 , 0.31, 0.32, 0.33,\n",
       "       0.34, 0.35, 0.36, 0.37, 0.38, 0.39, 0.4 , 0.41, 0.42, 0.43, 0.44,\n",
       "       0.45, 0.46, 0.47, 0.48, 0.49, 0.5 , 0.51, 0.52, 0.53, 0.54, 0.55,\n",
       "       0.56, 0.57, 0.58, 0.59, 0.6 , 0.61, 0.62, 0.63, 0.64, 0.65, 0.66,\n",
       "       0.67...\n",
       "       9.25, 9.26, 9.27, 9.28, 9.29, 9.3 , 9.31, 9.32, 9.33, 9.34, 9.35,\n",
       "       9.36, 9.37, 9.38, 9.39, 9.4 , 9.41, 9.42, 9.43, 9.44, 9.45, 9.46,\n",
       "       9.47, 9.48, 9.49, 9.5 , 9.51, 9.52, 9.53, 9.54, 9.55, 9.56, 9.57,\n",
       "       9.58, 9.59, 9.6 , 9.61, 9.62, 9.63, 9.64, 9.65, 9.66, 9.67, 9.68,\n",
       "       9.69, 9.7 , 9.71, 9.72, 9.73, 9.74, 9.75, 9.76, 9.77, 9.78, 9.79,\n",
       "       9.8 , 9.81, 9.82, 9.83, 9.84, 9.85, 9.86, 9.87, 9.88, 9.89, 9.9 ,\n",
       "       9.91, 9.92, 9.93, 9.94, 9.95, 9.96, 9.97, 9.98, 9.99]),\n",
       "        cv=5, n_jobs=-1, random_state=42)</pre><b>In a Jupyter environment, please rerun this cell to show the HTML representation or trust the notebook. <br />On GitHub, the HTML representation is unable to render, please try loading this page with nbviewer.org.</b></div><div class=\"sk-container\" hidden><div class=\"sk-item\"><div class=\"sk-estimator sk-toggleable\"><input class=\"sk-toggleable__control sk-hidden--visually\" id=\"sk-estimator-id-3\" type=\"checkbox\" checked><label for=\"sk-estimator-id-3\" class=\"sk-toggleable__label sk-toggleable__label-arrow\">LassoCV</label><div class=\"sk-toggleable__content\"><pre>LassoCV(alphas=array([0.01, 0.02, 0.03, 0.04, 0.05, 0.06, 0.07, 0.08, 0.09, 0.1 , 0.11,\n",
       "       0.12, 0.13, 0.14, 0.15, 0.16, 0.17, 0.18, 0.19, 0.2 , 0.21, 0.22,\n",
       "       0.23, 0.24, 0.25, 0.26, 0.27, 0.28, 0.29, 0.3 , 0.31, 0.32, 0.33,\n",
       "       0.34, 0.35, 0.36, 0.37, 0.38, 0.39, 0.4 , 0.41, 0.42, 0.43, 0.44,\n",
       "       0.45, 0.46, 0.47, 0.48, 0.49, 0.5 , 0.51, 0.52, 0.53, 0.54, 0.55,\n",
       "       0.56, 0.57, 0.58, 0.59, 0.6 , 0.61, 0.62, 0.63, 0.64, 0.65, 0.66,\n",
       "       0.67...\n",
       "       9.25, 9.26, 9.27, 9.28, 9.29, 9.3 , 9.31, 9.32, 9.33, 9.34, 9.35,\n",
       "       9.36, 9.37, 9.38, 9.39, 9.4 , 9.41, 9.42, 9.43, 9.44, 9.45, 9.46,\n",
       "       9.47, 9.48, 9.49, 9.5 , 9.51, 9.52, 9.53, 9.54, 9.55, 9.56, 9.57,\n",
       "       9.58, 9.59, 9.6 , 9.61, 9.62, 9.63, 9.64, 9.65, 9.66, 9.67, 9.68,\n",
       "       9.69, 9.7 , 9.71, 9.72, 9.73, 9.74, 9.75, 9.76, 9.77, 9.78, 9.79,\n",
       "       9.8 , 9.81, 9.82, 9.83, 9.84, 9.85, 9.86, 9.87, 9.88, 9.89, 9.9 ,\n",
       "       9.91, 9.92, 9.93, 9.94, 9.95, 9.96, 9.97, 9.98, 9.99]),\n",
       "        cv=5, n_jobs=-1, random_state=42)</pre></div></div></div></div></div>"
      ],
      "text/plain": [
       "LassoCV(alphas=array([0.01, 0.02, 0.03, 0.04, 0.05, 0.06, 0.07, 0.08, 0.09, 0.1 , 0.11,\n",
       "       0.12, 0.13, 0.14, 0.15, 0.16, 0.17, 0.18, 0.19, 0.2 , 0.21, 0.22,\n",
       "       0.23, 0.24, 0.25, 0.26, 0.27, 0.28, 0.29, 0.3 , 0.31, 0.32, 0.33,\n",
       "       0.34, 0.35, 0.36, 0.37, 0.38, 0.39, 0.4 , 0.41, 0.42, 0.43, 0.44,\n",
       "       0.45, 0.46, 0.47, 0.48, 0.49, 0.5 , 0.51, 0.52, 0.53, 0.54, 0.55,\n",
       "       0.56, 0.57, 0.58, 0.59, 0.6 , 0.61, 0.62, 0.63, 0.64, 0.65, 0.66,\n",
       "       0.67...\n",
       "       9.25, 9.26, 9.27, 9.28, 9.29, 9.3 , 9.31, 9.32, 9.33, 9.34, 9.35,\n",
       "       9.36, 9.37, 9.38, 9.39, 9.4 , 9.41, 9.42, 9.43, 9.44, 9.45, 9.46,\n",
       "       9.47, 9.48, 9.49, 9.5 , 9.51, 9.52, 9.53, 9.54, 9.55, 9.56, 9.57,\n",
       "       9.58, 9.59, 9.6 , 9.61, 9.62, 9.63, 9.64, 9.65, 9.66, 9.67, 9.68,\n",
       "       9.69, 9.7 , 9.71, 9.72, 9.73, 9.74, 9.75, 9.76, 9.77, 9.78, 9.79,\n",
       "       9.8 , 9.81, 9.82, 9.83, 9.84, 9.85, 9.86, 9.87, 9.88, 9.89, 9.9 ,\n",
       "       9.91, 9.92, 9.93, 9.94, 9.95, 9.96, 9.97, 9.98, 9.99]),\n",
       "        cv=5, n_jobs=-1, random_state=42)"
      ]
     },
     "execution_count": 106,
     "metadata": {},
     "output_type": "execute_result"
    }
   ],
   "source": [
    "model_LassoCV.fit(X_train, y_train)\n",
    "#학습끝"
   ]
  },
  {
   "cell_type": "code",
   "execution_count": 108,
   "metadata": {},
   "outputs": [
    {
     "data": {
      "text/plain": [
       "0.01"
      ]
     },
     "execution_count": 108,
     "metadata": {},
     "output_type": "execute_result"
    }
   ],
   "source": [
    "# 언제 점수가 가장 좋은지 알고싶다면?\n",
    "# attribute에 alpha_ -> cross validation 중 가장 뛰어난 score를 기록한 \n",
    "model_LassoCV.alpha_\n",
    "# 알파의 영역을 정하는 것이 데이터 분석가의 영역 "
   ]
  },
  {
   "cell_type": "code",
   "execution_count": null,
   "metadata": {},
   "outputs": [],
   "source": [
    "best_model = Lasso(alpha=0.01)\n",
    "best_model.fit(X_train, y_train)\n",
    "\n",
    "best_model.predict(X_test)#얘가 좋은 하이퍼 파라미터 튜닝 값을 알고있음 \n",
    "\n",
    "#근데 사이킷런이 이미 lassoCV에서 연산 또 안하게 best_parameter가 있어서 안돌리도 됨\n",
    "# 다시 학습해도 되지만, alpha가 나왓끼 때문에"
   ]
  },
  {
   "cell_type": "code",
   "execution_count": 109,
   "metadata": {},
   "outputs": [
    {
     "data": {
      "text/plain": [
       "0.47871428812904415"
      ]
     },
     "execution_count": 109,
     "metadata": {},
     "output_type": "execute_result"
    }
   ],
   "source": [
    "y_pred = model_LassoCV.predict(X_test)\n",
    "r2_score(y_test, y_pred)"
   ]
  },
  {
   "attachments": {},
   "cell_type": "markdown",
   "metadata": {},
   "source": [
    "## GridSearchCV"
   ]
  },
  {
   "cell_type": "code",
   "execution_count": 133,
   "metadata": {},
   "outputs": [],
   "source": [
    "# 라쏘로 하기 어려울 때 쓰는 것\n",
    "from sklearn.model_selection import GridSearchCV\n",
    "\n",
    "model = ElasticNet()\n",
    "param_grid = {\n",
    "    'alpha': [0.01,1, 10, 100],\n",
    "    'l1_ratio':[0.1, 0.3, 0.6, 0.9]\n",
    "} # 알파 4개 l1_ratio 4개 cv 3개니까 48번 연산해야 함 \n",
    "cv = 3 \n",
    "grid = GridSearchCV(model,param_grid=param_grid, cv = cv)# 모델,  param_grid하이퍼 파라미터(딕셔너리), scoring(평가 지표 mse를 적거나 ), refit(베스트 파라미터로 할 것인가? default= true) estimator = 모델, n_jobs(씨퓨 수)\n"
   ]
  },
  {
   "cell_type": "code",
   "execution_count": 134,
   "metadata": {},
   "outputs": [
    {
     "data": {
      "text/html": [
       "<style>#sk-container-id-8 {color: black;background-color: white;}#sk-container-id-8 pre{padding: 0;}#sk-container-id-8 div.sk-toggleable {background-color: white;}#sk-container-id-8 label.sk-toggleable__label {cursor: pointer;display: block;width: 100%;margin-bottom: 0;padding: 0.3em;box-sizing: border-box;text-align: center;}#sk-container-id-8 label.sk-toggleable__label-arrow:before {content: \"▸\";float: left;margin-right: 0.25em;color: #696969;}#sk-container-id-8 label.sk-toggleable__label-arrow:hover:before {color: black;}#sk-container-id-8 div.sk-estimator:hover label.sk-toggleable__label-arrow:before {color: black;}#sk-container-id-8 div.sk-toggleable__content {max-height: 0;max-width: 0;overflow: hidden;text-align: left;background-color: #f0f8ff;}#sk-container-id-8 div.sk-toggleable__content pre {margin: 0.2em;color: black;border-radius: 0.25em;background-color: #f0f8ff;}#sk-container-id-8 input.sk-toggleable__control:checked~div.sk-toggleable__content {max-height: 200px;max-width: 100%;overflow: auto;}#sk-container-id-8 input.sk-toggleable__control:checked~label.sk-toggleable__label-arrow:before {content: \"▾\";}#sk-container-id-8 div.sk-estimator input.sk-toggleable__control:checked~label.sk-toggleable__label {background-color: #d4ebff;}#sk-container-id-8 div.sk-label input.sk-toggleable__control:checked~label.sk-toggleable__label {background-color: #d4ebff;}#sk-container-id-8 input.sk-hidden--visually {border: 0;clip: rect(1px 1px 1px 1px);clip: rect(1px, 1px, 1px, 1px);height: 1px;margin: -1px;overflow: hidden;padding: 0;position: absolute;width: 1px;}#sk-container-id-8 div.sk-estimator {font-family: monospace;background-color: #f0f8ff;border: 1px dotted black;border-radius: 0.25em;box-sizing: border-box;margin-bottom: 0.5em;}#sk-container-id-8 div.sk-estimator:hover {background-color: #d4ebff;}#sk-container-id-8 div.sk-parallel-item::after {content: \"\";width: 100%;border-bottom: 1px solid gray;flex-grow: 1;}#sk-container-id-8 div.sk-label:hover label.sk-toggleable__label {background-color: #d4ebff;}#sk-container-id-8 div.sk-serial::before {content: \"\";position: absolute;border-left: 1px solid gray;box-sizing: border-box;top: 0;bottom: 0;left: 50%;z-index: 0;}#sk-container-id-8 div.sk-serial {display: flex;flex-direction: column;align-items: center;background-color: white;padding-right: 0.2em;padding-left: 0.2em;position: relative;}#sk-container-id-8 div.sk-item {position: relative;z-index: 1;}#sk-container-id-8 div.sk-parallel {display: flex;align-items: stretch;justify-content: center;background-color: white;position: relative;}#sk-container-id-8 div.sk-item::before, #sk-container-id-8 div.sk-parallel-item::before {content: \"\";position: absolute;border-left: 1px solid gray;box-sizing: border-box;top: 0;bottom: 0;left: 50%;z-index: -1;}#sk-container-id-8 div.sk-parallel-item {display: flex;flex-direction: column;z-index: 1;position: relative;background-color: white;}#sk-container-id-8 div.sk-parallel-item:first-child::after {align-self: flex-end;width: 50%;}#sk-container-id-8 div.sk-parallel-item:last-child::after {align-self: flex-start;width: 50%;}#sk-container-id-8 div.sk-parallel-item:only-child::after {width: 0;}#sk-container-id-8 div.sk-dashed-wrapped {border: 1px dashed gray;margin: 0 0.4em 0.5em 0.4em;box-sizing: border-box;padding-bottom: 0.4em;background-color: white;}#sk-container-id-8 div.sk-label label {font-family: monospace;font-weight: bold;display: inline-block;line-height: 1.2em;}#sk-container-id-8 div.sk-label-container {text-align: center;}#sk-container-id-8 div.sk-container {/* jupyter's `normalize.less` sets `[hidden] { display: none; }` but bootstrap.min.css set `[hidden] { display: none !important; }` so we also need the `!important` here to be able to override the default hidden behavior on the sphinx rendered scikit-learn.org. See: https://github.com/scikit-learn/scikit-learn/issues/21755 */display: inline-block !important;position: relative;}#sk-container-id-8 div.sk-text-repr-fallback {display: none;}</style><div id=\"sk-container-id-8\" class=\"sk-top-container\"><div class=\"sk-text-repr-fallback\"><pre>GridSearchCV(cv=3, estimator=ElasticNet(),\n",
       "             param_grid={&#x27;alpha&#x27;: [0.01, 1, 10, 100],\n",
       "                         &#x27;l1_ratio&#x27;: [0.1, 0.3, 0.6, 0.9]})</pre><b>In a Jupyter environment, please rerun this cell to show the HTML representation or trust the notebook. <br />On GitHub, the HTML representation is unable to render, please try loading this page with nbviewer.org.</b></div><div class=\"sk-container\" hidden><div class=\"sk-item sk-dashed-wrapped\"><div class=\"sk-label-container\"><div class=\"sk-label sk-toggleable\"><input class=\"sk-toggleable__control sk-hidden--visually\" id=\"sk-estimator-id-16\" type=\"checkbox\" ><label for=\"sk-estimator-id-16\" class=\"sk-toggleable__label sk-toggleable__label-arrow\">GridSearchCV</label><div class=\"sk-toggleable__content\"><pre>GridSearchCV(cv=3, estimator=ElasticNet(),\n",
       "             param_grid={&#x27;alpha&#x27;: [0.01, 1, 10, 100],\n",
       "                         &#x27;l1_ratio&#x27;: [0.1, 0.3, 0.6, 0.9]})</pre></div></div></div><div class=\"sk-parallel\"><div class=\"sk-parallel-item\"><div class=\"sk-item\"><div class=\"sk-label-container\"><div class=\"sk-label sk-toggleable\"><input class=\"sk-toggleable__control sk-hidden--visually\" id=\"sk-estimator-id-17\" type=\"checkbox\" ><label for=\"sk-estimator-id-17\" class=\"sk-toggleable__label sk-toggleable__label-arrow\">estimator: ElasticNet</label><div class=\"sk-toggleable__content\"><pre>ElasticNet()</pre></div></div></div><div class=\"sk-serial\"><div class=\"sk-item\"><div class=\"sk-estimator sk-toggleable\"><input class=\"sk-toggleable__control sk-hidden--visually\" id=\"sk-estimator-id-18\" type=\"checkbox\" ><label for=\"sk-estimator-id-18\" class=\"sk-toggleable__label sk-toggleable__label-arrow\">ElasticNet</label><div class=\"sk-toggleable__content\"><pre>ElasticNet()</pre></div></div></div></div></div></div></div></div></div></div>"
      ],
      "text/plain": [
       "GridSearchCV(cv=3, estimator=ElasticNet(),\n",
       "             param_grid={'alpha': [0.01, 1, 10, 100],\n",
       "                         'l1_ratio': [0.1, 0.3, 0.6, 0.9]})"
      ]
     },
     "execution_count": 134,
     "metadata": {},
     "output_type": "execute_result"
    }
   ],
   "source": [
    "grid.fit(X_train, y_train)"
   ]
  },
  {
   "cell_type": "code",
   "execution_count": 135,
   "metadata": {},
   "outputs": [
    {
     "name": "stdout",
     "output_type": "stream",
     "text": [
      "0.47378958651114567\n"
     ]
    }
   ],
   "source": [
    "# 베스트 모델이 바로 됐으므로 predict하면 됨\n",
    "y_pred = grid.predict(X_test)\n",
    "r2 = r2_score(y_test, y_pred)\n",
    "print(r2)"
   ]
  },
  {
   "cell_type": "code",
   "execution_count": 136,
   "metadata": {},
   "outputs": [
    {
     "data": {
      "text/plain": [
       "{'alpha': 0.01, 'l1_ratio': 0.9}"
      ]
     },
     "execution_count": 136,
     "metadata": {},
     "output_type": "execute_result"
    }
   ],
   "source": [
    "grid.best_params_ #언제 가장 결과가 좋았는지 알려줌 "
   ]
  },
  {
   "cell_type": "code",
   "execution_count": 137,
   "metadata": {},
   "outputs": [
    {
     "data": {
      "text/html": [
       "<div>\n",
       "<style scoped>\n",
       "    .dataframe tbody tr th:only-of-type {\n",
       "        vertical-align: middle;\n",
       "    }\n",
       "\n",
       "    .dataframe tbody tr th {\n",
       "        vertical-align: top;\n",
       "    }\n",
       "\n",
       "    .dataframe thead th {\n",
       "        text-align: right;\n",
       "    }\n",
       "</style>\n",
       "<table border=\"1\" class=\"dataframe\">\n",
       "  <thead>\n",
       "    <tr style=\"text-align: right;\">\n",
       "      <th></th>\n",
       "      <th>mean_fit_time</th>\n",
       "      <th>std_fit_time</th>\n",
       "      <th>mean_score_time</th>\n",
       "      <th>std_score_time</th>\n",
       "      <th>param_alpha</th>\n",
       "      <th>param_l1_ratio</th>\n",
       "      <th>params</th>\n",
       "      <th>split0_test_score</th>\n",
       "      <th>split1_test_score</th>\n",
       "      <th>split2_test_score</th>\n",
       "      <th>mean_test_score</th>\n",
       "      <th>std_test_score</th>\n",
       "      <th>rank_test_score</th>\n",
       "    </tr>\n",
       "  </thead>\n",
       "  <tbody>\n",
       "    <tr>\n",
       "      <th>0</th>\n",
       "      <td>0.001034</td>\n",
       "      <td>0.000340</td>\n",
       "      <td>0.000774</td>\n",
       "      <td>5.263527e-04</td>\n",
       "      <td>0.01</td>\n",
       "      <td>0.1</td>\n",
       "      <td>{'alpha': 0.01, 'l1_ratio': 0.1}</td>\n",
       "      <td>0.263839</td>\n",
       "      <td>0.345717</td>\n",
       "      <td>0.220628</td>\n",
       "      <td>0.276728</td>\n",
       "      <td>0.051874</td>\n",
       "      <td>4</td>\n",
       "    </tr>\n",
       "    <tr>\n",
       "      <th>1</th>\n",
       "      <td>0.000339</td>\n",
       "      <td>0.000061</td>\n",
       "      <td>0.000135</td>\n",
       "      <td>1.223624e-05</td>\n",
       "      <td>0.01</td>\n",
       "      <td>0.3</td>\n",
       "      <td>{'alpha': 0.01, 'l1_ratio': 0.3}</td>\n",
       "      <td>0.295161</td>\n",
       "      <td>0.383803</td>\n",
       "      <td>0.247244</td>\n",
       "      <td>0.308736</td>\n",
       "      <td>0.056570</td>\n",
       "      <td>3</td>\n",
       "    </tr>\n",
       "    <tr>\n",
       "      <th>2</th>\n",
       "      <td>0.000534</td>\n",
       "      <td>0.000337</td>\n",
       "      <td>0.000138</td>\n",
       "      <td>2.005584e-05</td>\n",
       "      <td>0.01</td>\n",
       "      <td>0.6</td>\n",
       "      <td>{'alpha': 0.01, 'l1_ratio': 0.6}</td>\n",
       "      <td>0.357773</td>\n",
       "      <td>0.458940</td>\n",
       "      <td>0.297350</td>\n",
       "      <td>0.371355</td>\n",
       "      <td>0.066664</td>\n",
       "      <td>2</td>\n",
       "    </tr>\n",
       "    <tr>\n",
       "      <th>3</th>\n",
       "      <td>0.000275</td>\n",
       "      <td>0.000007</td>\n",
       "      <td>0.000115</td>\n",
       "      <td>2.464940e-06</td>\n",
       "      <td>0.01</td>\n",
       "      <td>0.9</td>\n",
       "      <td>{'alpha': 0.01, 'l1_ratio': 0.9}</td>\n",
       "      <td>0.448660</td>\n",
       "      <td>0.559716</td>\n",
       "      <td>0.354858</td>\n",
       "      <td>0.454411</td>\n",
       "      <td>0.083732</td>\n",
       "      <td>1</td>\n",
       "    </tr>\n",
       "    <tr>\n",
       "      <th>4</th>\n",
       "      <td>0.000254</td>\n",
       "      <td>0.000002</td>\n",
       "      <td>0.000113</td>\n",
       "      <td>5.150430e-07</td>\n",
       "      <td>1</td>\n",
       "      <td>0.1</td>\n",
       "      <td>{'alpha': 1, 'l1_ratio': 0.1}</td>\n",
       "      <td>-0.036596</td>\n",
       "      <td>0.006173</td>\n",
       "      <td>-0.054330</td>\n",
       "      <td>-0.028251</td>\n",
       "      <td>0.025395</td>\n",
       "      <td>8</td>\n",
       "    </tr>\n",
       "    <tr>\n",
       "      <th>5</th>\n",
       "      <td>0.000255</td>\n",
       "      <td>0.000001</td>\n",
       "      <td>0.000113</td>\n",
       "      <td>9.798072e-07</td>\n",
       "      <td>1</td>\n",
       "      <td>0.3</td>\n",
       "      <td>{'alpha': 1, 'l1_ratio': 0.3}</td>\n",
       "      <td>-0.035813</td>\n",
       "      <td>0.006724</td>\n",
       "      <td>-0.053471</td>\n",
       "      <td>-0.027520</td>\n",
       "      <td>0.025265</td>\n",
       "      <td>7</td>\n",
       "    </tr>\n",
       "    <tr>\n",
       "      <th>6</th>\n",
       "      <td>0.000260</td>\n",
       "      <td>0.000005</td>\n",
       "      <td>0.000114</td>\n",
       "      <td>7.867412e-07</td>\n",
       "      <td>1</td>\n",
       "      <td>0.6</td>\n",
       "      <td>{'alpha': 1, 'l1_ratio': 0.6}</td>\n",
       "      <td>-0.033089</td>\n",
       "      <td>0.008825</td>\n",
       "      <td>-0.050609</td>\n",
       "      <td>-0.024958</td>\n",
       "      <td>0.024936</td>\n",
       "      <td>6</td>\n",
       "    </tr>\n",
       "    <tr>\n",
       "      <th>7</th>\n",
       "      <td>0.000249</td>\n",
       "      <td>0.000002</td>\n",
       "      <td>0.000111</td>\n",
       "      <td>5.619580e-07</td>\n",
       "      <td>1</td>\n",
       "      <td>0.9</td>\n",
       "      <td>{'alpha': 1, 'l1_ratio': 0.9}</td>\n",
       "      <td>-0.014408</td>\n",
       "      <td>0.024254</td>\n",
       "      <td>-0.031096</td>\n",
       "      <td>-0.007083</td>\n",
       "      <td>0.023182</td>\n",
       "      <td>5</td>\n",
       "    </tr>\n",
       "    <tr>\n",
       "      <th>8</th>\n",
       "      <td>0.000248</td>\n",
       "      <td>0.000002</td>\n",
       "      <td>0.000113</td>\n",
       "      <td>4.064786e-06</td>\n",
       "      <td>10</td>\n",
       "      <td>0.1</td>\n",
       "      <td>{'alpha': 10, 'l1_ratio': 0.1}</td>\n",
       "      <td>-0.043113</td>\n",
       "      <td>-0.000548</td>\n",
       "      <td>-0.060565</td>\n",
       "      <td>-0.034742</td>\n",
       "      <td>0.025207</td>\n",
       "      <td>9</td>\n",
       "    </tr>\n",
       "    <tr>\n",
       "      <th>9</th>\n",
       "      <td>0.000254</td>\n",
       "      <td>0.000007</td>\n",
       "      <td>0.000113</td>\n",
       "      <td>8.778064e-07</td>\n",
       "      <td>10</td>\n",
       "      <td>0.3</td>\n",
       "      <td>{'alpha': 10, 'l1_ratio': 0.3}</td>\n",
       "      <td>-0.043425</td>\n",
       "      <td>-0.000801</td>\n",
       "      <td>-0.060893</td>\n",
       "      <td>-0.035039</td>\n",
       "      <td>0.025239</td>\n",
       "      <td>10</td>\n",
       "    </tr>\n",
       "    <tr>\n",
       "      <th>10</th>\n",
       "      <td>0.000252</td>\n",
       "      <td>0.000003</td>\n",
       "      <td>0.000112</td>\n",
       "      <td>8.991328e-07</td>\n",
       "      <td>10</td>\n",
       "      <td>0.6</td>\n",
       "      <td>{'alpha': 10, 'l1_ratio': 0.6}</td>\n",
       "      <td>-0.043425</td>\n",
       "      <td>-0.000801</td>\n",
       "      <td>-0.060893</td>\n",
       "      <td>-0.035039</td>\n",
       "      <td>0.025239</td>\n",
       "      <td>10</td>\n",
       "    </tr>\n",
       "    <tr>\n",
       "      <th>11</th>\n",
       "      <td>0.000257</td>\n",
       "      <td>0.000005</td>\n",
       "      <td>0.000118</td>\n",
       "      <td>8.357130e-06</td>\n",
       "      <td>10</td>\n",
       "      <td>0.9</td>\n",
       "      <td>{'alpha': 10, 'l1_ratio': 0.9}</td>\n",
       "      <td>-0.043425</td>\n",
       "      <td>-0.000801</td>\n",
       "      <td>-0.060893</td>\n",
       "      <td>-0.035039</td>\n",
       "      <td>0.025239</td>\n",
       "      <td>10</td>\n",
       "    </tr>\n",
       "    <tr>\n",
       "      <th>12</th>\n",
       "      <td>0.000244</td>\n",
       "      <td>0.000002</td>\n",
       "      <td>0.000110</td>\n",
       "      <td>1.325077e-06</td>\n",
       "      <td>100</td>\n",
       "      <td>0.1</td>\n",
       "      <td>{'alpha': 100, 'l1_ratio': 0.1}</td>\n",
       "      <td>-0.043425</td>\n",
       "      <td>-0.000801</td>\n",
       "      <td>-0.060893</td>\n",
       "      <td>-0.035039</td>\n",
       "      <td>0.025239</td>\n",
       "      <td>10</td>\n",
       "    </tr>\n",
       "    <tr>\n",
       "      <th>13</th>\n",
       "      <td>0.000249</td>\n",
       "      <td>0.000002</td>\n",
       "      <td>0.000117</td>\n",
       "      <td>5.481899e-06</td>\n",
       "      <td>100</td>\n",
       "      <td>0.3</td>\n",
       "      <td>{'alpha': 100, 'l1_ratio': 0.3}</td>\n",
       "      <td>-0.043425</td>\n",
       "      <td>-0.000801</td>\n",
       "      <td>-0.060893</td>\n",
       "      <td>-0.035039</td>\n",
       "      <td>0.025239</td>\n",
       "      <td>10</td>\n",
       "    </tr>\n",
       "    <tr>\n",
       "      <th>14</th>\n",
       "      <td>0.000252</td>\n",
       "      <td>0.000002</td>\n",
       "      <td>0.000113</td>\n",
       "      <td>4.495664e-07</td>\n",
       "      <td>100</td>\n",
       "      <td>0.6</td>\n",
       "      <td>{'alpha': 100, 'l1_ratio': 0.6}</td>\n",
       "      <td>-0.043425</td>\n",
       "      <td>-0.000801</td>\n",
       "      <td>-0.060893</td>\n",
       "      <td>-0.035039</td>\n",
       "      <td>0.025239</td>\n",
       "      <td>10</td>\n",
       "    </tr>\n",
       "    <tr>\n",
       "      <th>15</th>\n",
       "      <td>0.000253</td>\n",
       "      <td>0.000013</td>\n",
       "      <td>0.000113</td>\n",
       "      <td>2.245020e-06</td>\n",
       "      <td>100</td>\n",
       "      <td>0.9</td>\n",
       "      <td>{'alpha': 100, 'l1_ratio': 0.9}</td>\n",
       "      <td>-0.043425</td>\n",
       "      <td>-0.000801</td>\n",
       "      <td>-0.060893</td>\n",
       "      <td>-0.035039</td>\n",
       "      <td>0.025239</td>\n",
       "      <td>10</td>\n",
       "    </tr>\n",
       "  </tbody>\n",
       "</table>\n",
       "</div>"
      ],
      "text/plain": [
       "    mean_fit_time  std_fit_time  mean_score_time  std_score_time param_alpha  \\\n",
       "0        0.001034      0.000340         0.000774    5.263527e-04        0.01   \n",
       "1        0.000339      0.000061         0.000135    1.223624e-05        0.01   \n",
       "2        0.000534      0.000337         0.000138    2.005584e-05        0.01   \n",
       "3        0.000275      0.000007         0.000115    2.464940e-06        0.01   \n",
       "4        0.000254      0.000002         0.000113    5.150430e-07           1   \n",
       "5        0.000255      0.000001         0.000113    9.798072e-07           1   \n",
       "6        0.000260      0.000005         0.000114    7.867412e-07           1   \n",
       "7        0.000249      0.000002         0.000111    5.619580e-07           1   \n",
       "8        0.000248      0.000002         0.000113    4.064786e-06          10   \n",
       "9        0.000254      0.000007         0.000113    8.778064e-07          10   \n",
       "10       0.000252      0.000003         0.000112    8.991328e-07          10   \n",
       "11       0.000257      0.000005         0.000118    8.357130e-06          10   \n",
       "12       0.000244      0.000002         0.000110    1.325077e-06         100   \n",
       "13       0.000249      0.000002         0.000117    5.481899e-06         100   \n",
       "14       0.000252      0.000002         0.000113    4.495664e-07         100   \n",
       "15       0.000253      0.000013         0.000113    2.245020e-06         100   \n",
       "\n",
       "   param_l1_ratio                            params  split0_test_score  \\\n",
       "0             0.1  {'alpha': 0.01, 'l1_ratio': 0.1}           0.263839   \n",
       "1             0.3  {'alpha': 0.01, 'l1_ratio': 0.3}           0.295161   \n",
       "2             0.6  {'alpha': 0.01, 'l1_ratio': 0.6}           0.357773   \n",
       "3             0.9  {'alpha': 0.01, 'l1_ratio': 0.9}           0.448660   \n",
       "4             0.1     {'alpha': 1, 'l1_ratio': 0.1}          -0.036596   \n",
       "5             0.3     {'alpha': 1, 'l1_ratio': 0.3}          -0.035813   \n",
       "6             0.6     {'alpha': 1, 'l1_ratio': 0.6}          -0.033089   \n",
       "7             0.9     {'alpha': 1, 'l1_ratio': 0.9}          -0.014408   \n",
       "8             0.1    {'alpha': 10, 'l1_ratio': 0.1}          -0.043113   \n",
       "9             0.3    {'alpha': 10, 'l1_ratio': 0.3}          -0.043425   \n",
       "10            0.6    {'alpha': 10, 'l1_ratio': 0.6}          -0.043425   \n",
       "11            0.9    {'alpha': 10, 'l1_ratio': 0.9}          -0.043425   \n",
       "12            0.1   {'alpha': 100, 'l1_ratio': 0.1}          -0.043425   \n",
       "13            0.3   {'alpha': 100, 'l1_ratio': 0.3}          -0.043425   \n",
       "14            0.6   {'alpha': 100, 'l1_ratio': 0.6}          -0.043425   \n",
       "15            0.9   {'alpha': 100, 'l1_ratio': 0.9}          -0.043425   \n",
       "\n",
       "    split1_test_score  split2_test_score  mean_test_score  std_test_score  \\\n",
       "0            0.345717           0.220628         0.276728        0.051874   \n",
       "1            0.383803           0.247244         0.308736        0.056570   \n",
       "2            0.458940           0.297350         0.371355        0.066664   \n",
       "3            0.559716           0.354858         0.454411        0.083732   \n",
       "4            0.006173          -0.054330        -0.028251        0.025395   \n",
       "5            0.006724          -0.053471        -0.027520        0.025265   \n",
       "6            0.008825          -0.050609        -0.024958        0.024936   \n",
       "7            0.024254          -0.031096        -0.007083        0.023182   \n",
       "8           -0.000548          -0.060565        -0.034742        0.025207   \n",
       "9           -0.000801          -0.060893        -0.035039        0.025239   \n",
       "10          -0.000801          -0.060893        -0.035039        0.025239   \n",
       "11          -0.000801          -0.060893        -0.035039        0.025239   \n",
       "12          -0.000801          -0.060893        -0.035039        0.025239   \n",
       "13          -0.000801          -0.060893        -0.035039        0.025239   \n",
       "14          -0.000801          -0.060893        -0.035039        0.025239   \n",
       "15          -0.000801          -0.060893        -0.035039        0.025239   \n",
       "\n",
       "    rank_test_score  \n",
       "0                 4  \n",
       "1                 3  \n",
       "2                 2  \n",
       "3                 1  \n",
       "4                 8  \n",
       "5                 7  \n",
       "6                 6  \n",
       "7                 5  \n",
       "8                 9  \n",
       "9                10  \n",
       "10               10  \n",
       "11               10  \n",
       "12               10  \n",
       "13               10  \n",
       "14               10  \n",
       "15               10  "
      ]
     },
     "execution_count": 137,
     "metadata": {},
     "output_type": "execute_result"
    }
   ],
   "source": [
    "# cv 결과도 있으니까 확인해봐\n",
    "pd.DataFrame(grid.cv_results_)"
   ]
  },
  {
   "cell_type": "code",
   "execution_count": 141,
   "metadata": {},
   "outputs": [
    {
     "data": {
      "text/html": [
       "<div>\n",
       "<style scoped>\n",
       "    .dataframe tbody tr th:only-of-type {\n",
       "        vertical-align: middle;\n",
       "    }\n",
       "\n",
       "    .dataframe tbody tr th {\n",
       "        vertical-align: top;\n",
       "    }\n",
       "\n",
       "    .dataframe thead th {\n",
       "        text-align: right;\n",
       "    }\n",
       "</style>\n",
       "<table border=\"1\" class=\"dataframe\">\n",
       "  <thead>\n",
       "    <tr style=\"text-align: right;\">\n",
       "      <th></th>\n",
       "      <th>mean_test_score</th>\n",
       "      <th>rank_test_score</th>\n",
       "    </tr>\n",
       "  </thead>\n",
       "  <tbody>\n",
       "    <tr>\n",
       "      <th>3</th>\n",
       "      <td>0.454411</td>\n",
       "      <td>1</td>\n",
       "    </tr>\n",
       "    <tr>\n",
       "      <th>2</th>\n",
       "      <td>0.371355</td>\n",
       "      <td>2</td>\n",
       "    </tr>\n",
       "    <tr>\n",
       "      <th>1</th>\n",
       "      <td>0.308736</td>\n",
       "      <td>3</td>\n",
       "    </tr>\n",
       "    <tr>\n",
       "      <th>0</th>\n",
       "      <td>0.276728</td>\n",
       "      <td>4</td>\n",
       "    </tr>\n",
       "    <tr>\n",
       "      <th>7</th>\n",
       "      <td>-0.007083</td>\n",
       "      <td>5</td>\n",
       "    </tr>\n",
       "    <tr>\n",
       "      <th>6</th>\n",
       "      <td>-0.024958</td>\n",
       "      <td>6</td>\n",
       "    </tr>\n",
       "    <tr>\n",
       "      <th>5</th>\n",
       "      <td>-0.027520</td>\n",
       "      <td>7</td>\n",
       "    </tr>\n",
       "    <tr>\n",
       "      <th>4</th>\n",
       "      <td>-0.028251</td>\n",
       "      <td>8</td>\n",
       "    </tr>\n",
       "    <tr>\n",
       "      <th>8</th>\n",
       "      <td>-0.034742</td>\n",
       "      <td>9</td>\n",
       "    </tr>\n",
       "    <tr>\n",
       "      <th>9</th>\n",
       "      <td>-0.035039</td>\n",
       "      <td>10</td>\n",
       "    </tr>\n",
       "    <tr>\n",
       "      <th>10</th>\n",
       "      <td>-0.035039</td>\n",
       "      <td>10</td>\n",
       "    </tr>\n",
       "    <tr>\n",
       "      <th>11</th>\n",
       "      <td>-0.035039</td>\n",
       "      <td>10</td>\n",
       "    </tr>\n",
       "    <tr>\n",
       "      <th>12</th>\n",
       "      <td>-0.035039</td>\n",
       "      <td>10</td>\n",
       "    </tr>\n",
       "    <tr>\n",
       "      <th>13</th>\n",
       "      <td>-0.035039</td>\n",
       "      <td>10</td>\n",
       "    </tr>\n",
       "    <tr>\n",
       "      <th>14</th>\n",
       "      <td>-0.035039</td>\n",
       "      <td>10</td>\n",
       "    </tr>\n",
       "    <tr>\n",
       "      <th>15</th>\n",
       "      <td>-0.035039</td>\n",
       "      <td>10</td>\n",
       "    </tr>\n",
       "  </tbody>\n",
       "</table>\n",
       "</div>"
      ],
      "text/plain": [
       "    mean_test_score  rank_test_score\n",
       "3          0.454411                1\n",
       "2          0.371355                2\n",
       "1          0.308736                3\n",
       "0          0.276728                4\n",
       "7         -0.007083                5\n",
       "6         -0.024958                6\n",
       "5         -0.027520                7\n",
       "4         -0.028251                8\n",
       "8         -0.034742                9\n",
       "9         -0.035039               10\n",
       "10        -0.035039               10\n",
       "11        -0.035039               10\n",
       "12        -0.035039               10\n",
       "13        -0.035039               10\n",
       "14        -0.035039               10\n",
       "15        -0.035039               10"
      ]
     },
     "execution_count": 141,
     "metadata": {},
     "output_type": "execute_result"
    }
   ],
   "source": [
    "pd.DataFrame(grid.cv_results_)[['mean_test_score', 'rank_test_score']].sort_values(by='rank_test_score')"
   ]
  },
  {
   "cell_type": "markdown",
   "metadata": {},
   "source": [
    "## [응용] 보스턴 주택가격 데이터를 활용하여, 규제가 없을때, 리지, 라쏘, 엘라스틱넷 선형회귀를 수행하고 각각의 회귀계수 및 예측 성능을 비교하라\n",
    "테스트 사이즈:0.3\n",
    "random_state=42\n"
   ]
  },
  {
   "cell_type": "code",
   "execution_count": null,
   "metadata": {},
   "outputs": [],
   "source": []
  },
  {
   "cell_type": "code",
   "execution_count": null,
   "metadata": {},
   "outputs": [],
   "source": []
  },
  {
   "cell_type": "markdown",
   "metadata": {},
   "source": []
  },
  {
   "cell_type": "markdown",
   "metadata": {},
   "source": []
  },
  {
   "cell_type": "markdown",
   "metadata": {},
   "source": []
  },
  {
   "cell_type": "markdown",
   "metadata": {},
   "source": []
  },
  {
   "cell_type": "markdown",
   "metadata": {},
   "source": []
  },
  {
   "attachments": {},
   "cell_type": "markdown",
   "metadata": {},
   "source": [
    "# 로지스틱 회귀\n",
    "\n",
    "회귀라고 쓰고 분류라고 읽는.."
   ]
  },
  {
   "cell_type": "markdown",
   "metadata": {},
   "source": [
    "#### 시그모이드 함수"
   ]
  },
  {
   "cell_type": "code",
   "execution_count": 142,
   "metadata": {},
   "outputs": [],
   "source": [
    "import pandas as pd\n",
    "import numpy as np\n",
    "import matplotlib.pyplot as plt"
   ]
  },
  {
   "attachments": {},
   "cell_type": "markdown",
   "metadata": {},
   "source": [
    "$$\\sigma(z) = \\frac{1}{1+e^{-z}}$$"
   ]
  },
  {
   "cell_type": "code",
   "execution_count": 143,
   "metadata": {},
   "outputs": [
    {
     "data": {
      "image/png": "[encoded data removed]",
      "text/plain": [
       "<Figure size 640x480 with 1 Axes>"
      ]
     },
     "metadata": {},
     "output_type": "display_data"
    }
   ],
   "source": [
    "#### \n",
    "def sigmoid(z):\n",
    "    return 1.0 / (1 + np.exp(-z))\n",
    "\n",
    "z = np.linspace(-10, 10, 200)\n",
    "y = sigmoid(z)\n",
    "\n",
    "plt.plot(z, y)\n",
    "plt.axhline(y=0, linestyle=':', color='k')\n",
    "plt.axhline(y=0.5, linestyle=':', color='k')\n",
    "plt.axhline(y=1, linestyle=':', color='k')\n",
    "plt.axvline(x=0, linestyle=':', color='g')\n",
    "plt.yticks([0.0, 0.25, 0.5, 0.75, 1])\n",
    "plt.xlabel('z', fontsize=15)\n",
    "plt.ylabel('y(z)', fontsize=15);"
   ]
  },
  {
   "cell_type": "markdown",
   "metadata": {},
   "source": [
    "# 1. Logistic Regression : 악성종양 판단, 2진 분류"
   ]
  },
  {
   "cell_type": "markdown",
   "metadata": {},
   "source": [
    "#### 1. 데이터 수집하기"
   ]
  },
  {
   "cell_type": "code",
   "execution_count": 2,
   "metadata": {},
   "outputs": [],
   "source": [
    "import pandas as pd\n",
    "import numpy as np\n",
    "\n",
    "from sklearn.datasets import load_breast_cancer\n",
    "\n",
    "b_cancer = load_breast_cancer()"
   ]
  },
  {
   "cell_type": "code",
   "execution_count": 3,
   "metadata": {},
   "outputs": [
    {
     "data": {
      "text/plain": [
       "dict_keys(['data', 'target', 'frame', 'target_names', 'DESCR', 'feature_names', 'filename', 'data_module'])"
      ]
     },
     "execution_count": 3,
     "metadata": {},
     "output_type": "execute_result"
    }
   ],
   "source": [
    "b_cancer.keys()"
   ]
  },
  {
   "cell_type": "code",
   "execution_count": 4,
   "metadata": {},
   "outputs": [
    {
     "name": "stdout",
     "output_type": "stream",
     "text": [
      ".. _breast_cancer_dataset:\n",
      "\n",
      "Breast cancer wisconsin (diagnostic) dataset\n",
      "--------------------------------------------\n",
      "\n",
      "**Data Set Characteristics:**\n",
      "\n",
      "    :Number of Instances: 569\n",
      "\n",
      "    :Number of Attributes: 30 numeric, predictive attributes and the class\n",
      "\n",
      "    :Attribute Information:\n",
      "        - radius (mean of distances from center to points on the perimeter)\n",
      "        - texture (standard deviation of gray-scale values)\n",
      "        - perimeter\n",
      "        - area\n",
      "        - smoothness (local variation in radius lengths)\n",
      "        - compactness (perimeter^2 / area - 1.0)\n",
      "        - concavity (severity of concave portions of the contour)\n",
      "        - concave points (number of concave portions of the contour)\n",
      "        - symmetry\n",
      "        - fractal dimension (\"coastline approximation\" - 1)\n",
      "\n",
      "        The mean, standard error, and \"worst\" or largest (mean of the three\n",
      "        worst/largest values) of these features were computed for each image,\n",
      "        resulting in 30 features.  For instance, field 0 is Mean Radius, field\n",
      "        10 is Radius SE, field 20 is Worst Radius.\n",
      "\n",
      "        - class:\n",
      "                - WDBC-Malignant\n",
      "                - WDBC-Benign\n",
      "\n",
      "    :Summary Statistics:\n",
      "\n",
      "    ===================================== ====== ======\n",
      "                                           Min    Max\n",
      "    ===================================== ====== ======\n",
      "    radius (mean):                        6.981  28.11\n",
      "    texture (mean):                       9.71   39.28\n",
      "    perimeter (mean):                     43.79  188.5\n",
      "    area (mean):                          143.5  2501.0\n",
      "    smoothness (mean):                    0.053  0.163\n",
      "    compactness (mean):                   0.019  0.345\n",
      "    concavity (mean):                     0.0    0.427\n",
      "    concave points (mean):                0.0    0.201\n",
      "    symmetry (mean):                      0.106  0.304\n",
      "    fractal dimension (mean):             0.05   0.097\n",
      "    radius (standard error):              0.112  2.873\n",
      "    texture (standard error):             0.36   4.885\n",
      "    perimeter (standard error):           0.757  21.98\n",
      "    area (standard error):                6.802  542.2\n",
      "    smoothness (standard error):          0.002  0.031\n",
      "    compactness (standard error):         0.002  0.135\n",
      "    concavity (standard error):           0.0    0.396\n",
      "    concave points (standard error):      0.0    0.053\n",
      "    symmetry (standard error):            0.008  0.079\n",
      "    fractal dimension (standard error):   0.001  0.03\n",
      "    radius (worst):                       7.93   36.04\n",
      "    texture (worst):                      12.02  49.54\n",
      "    perimeter (worst):                    50.41  251.2\n",
      "    area (worst):                         185.2  4254.0\n",
      "    smoothness (worst):                   0.071  0.223\n",
      "    compactness (worst):                  0.027  1.058\n",
      "    concavity (worst):                    0.0    1.252\n",
      "    concave points (worst):               0.0    0.291\n",
      "    symmetry (worst):                     0.156  0.664\n",
      "    fractal dimension (worst):            0.055  0.208\n",
      "    ===================================== ====== ======\n",
      "\n",
      "    :Missing Attribute Values: None\n",
      "\n",
      "    :Class Distribution: 212 - Malignant, 357 - Benign\n",
      "\n",
      "    :Creator:  Dr. William H. Wolberg, W. Nick Street, Olvi L. Mangasarian\n",
      "\n",
      "    :Donor: Nick Street\n",
      "\n",
      "    :Date: November, 1995\n",
      "\n",
      "This is a copy of UCI ML Breast Cancer Wisconsin (Diagnostic) datasets.\n",
      "https://goo.gl/U2Uwz2\n",
      "\n",
      "Features are computed from a digitized image of a fine needle\n",
      "aspirate (FNA) of a breast mass.  They describe\n",
      "characteristics of the cell nuclei present in the image.\n",
      "\n",
      "Separating plane described above was obtained using\n",
      "Multisurface Method-Tree (MSM-T) [K. P. Bennett, \"Decision Tree\n",
      "Construction Via Linear Programming.\" Proceedings of the 4th\n",
      "Midwest Artificial Intelligence and Cognitive Science Society,\n",
      "pp. 97-101, 1992], a classification method which uses linear\n",
      "programming to construct a decision tree.  Relevant features\n",
      "were selected using an exhaustive search in the space of 1-4\n",
      "features and 1-3 separating planes.\n",
      "\n",
      "The actual linear program used to obtain the separating plane\n",
      "in the 3-dimensional space is that described in:\n",
      "[K. P. Bennett and O. L. Mangasarian: \"Robust Linear\n",
      "Programming Discrimination of Two Linearly Inseparable Sets\",\n",
      "Optimization Methods and Software 1, 1992, 23-34].\n",
      "\n",
      "This database is also available through the UW CS ftp server:\n",
      "\n",
      "ftp ftp.cs.wisc.edu\n",
      "cd math-prog/cpo-dataset/machine-learn/WDBC/\n",
      "\n",
      ".. topic:: References\n",
      "\n",
      "   - W.N. Street, W.H. Wolberg and O.L. Mangasarian. Nuclear feature extraction \n",
      "     for breast tumor diagnosis. IS&T/SPIE 1993 International Symposium on \n",
      "     Electronic Imaging: Science and Technology, volume 1905, pages 861-870,\n",
      "     San Jose, CA, 1993.\n",
      "   - O.L. Mangasarian, W.N. Street and W.H. Wolberg. Breast cancer diagnosis and \n",
      "     prognosis via linear programming. Operations Research, 43(4), pages 570-577, \n",
      "     July-August 1995.\n",
      "   - W.H. Wolberg, W.N. Street, and O.L. Mangasarian. Machine learning techniques\n",
      "     to diagnose breast cancer from fine-needle aspirates. Cancer Letters 77 (1994) \n",
      "     163-171.\n"
     ]
    }
   ],
   "source": [
    "print(b_cancer.DESCR)"
   ]
  },
  {
   "cell_type": "markdown",
   "metadata": {},
   "source": [
    "#### 2. 데이터 탐색하기"
   ]
  },
  {
   "cell_type": "code",
   "execution_count": 5,
   "metadata": {},
   "outputs": [
    {
     "data": {
      "text/plain": [
       "array(['mean radius', 'mean texture', 'mean perimeter', 'mean area',\n",
       "       'mean smoothness', 'mean compactness', 'mean concavity',\n",
       "       'mean concave points', 'mean symmetry', 'mean fractal dimension',\n",
       "       'radius error', 'texture error', 'perimeter error', 'area error',\n",
       "       'smoothness error', 'compactness error', 'concavity error',\n",
       "       'concave points error', 'symmetry error',\n",
       "       'fractal dimension error', 'worst radius', 'worst texture',\n",
       "       'worst perimeter', 'worst area', 'worst smoothness',\n",
       "       'worst compactness', 'worst concavity', 'worst concave points',\n",
       "       'worst symmetry', 'worst fractal dimension'], dtype='<U23')"
      ]
     },
     "execution_count": 5,
     "metadata": {},
     "output_type": "execute_result"
    }
   ],
   "source": [
    "b_cancer.feature_names"
   ]
  },
  {
   "cell_type": "code",
   "execution_count": 6,
   "metadata": {},
   "outputs": [
    {
     "data": {
      "text/plain": [
       "array(['malignant', 'benign'], dtype='<U9')"
      ]
     },
     "execution_count": 6,
     "metadata": {},
     "output_type": "execute_result"
    }
   ],
   "source": [
    "b_cancer.target_names"
   ]
  },
  {
   "cell_type": "code",
   "execution_count": 8,
   "metadata": {},
   "outputs": [],
   "source": [
    "# malignant array number 0\n",
    "# benign number 1\n",
    "# 어떤 것을 1로 잡아야하는 지를 \n",
    "# ex)좋은 댓글 : 좋은 댓글이 1, 악의적인 댓글이 1\n",
    "# benign을 찾고 싶었나보지 "
   ]
  },
  {
   "cell_type": "code",
   "execution_count": 11,
   "metadata": {},
   "outputs": [
    {
     "name": "stdout",
     "output_type": "stream",
     "text": [
      "<class 'pandas.core.frame.DataFrame'>\n",
      "RangeIndex: 569 entries, 0 to 568\n",
      "Data columns (total 31 columns):\n",
      " #   Column                   Non-Null Count  Dtype  \n",
      "---  ------                   --------------  -----  \n",
      " 0   mean radius              569 non-null    float64\n",
      " 1   mean texture             569 non-null    float64\n",
      " 2   mean perimeter           569 non-null    float64\n",
      " 3   mean area                569 non-null    float64\n",
      " 4   mean smoothness          569 non-null    float64\n",
      " 5   mean compactness         569 non-null    float64\n",
      " 6   mean concavity           569 non-null    float64\n",
      " 7   mean concave points      569 non-null    float64\n",
      " 8   mean symmetry            569 non-null    float64\n",
      " 9   mean fractal dimension   569 non-null    float64\n",
      " 10  radius error             569 non-null    float64\n",
      " 11  texture error            569 non-null    float64\n",
      " 12  perimeter error          569 non-null    float64\n",
      " 13  area error               569 non-null    float64\n",
      " 14  smoothness error         569 non-null    float64\n",
      " 15  compactness error        569 non-null    float64\n",
      " 16  concavity error          569 non-null    float64\n",
      " 17  concave points error     569 non-null    float64\n",
      " 18  symmetry error           569 non-null    float64\n",
      " 19  fractal dimension error  569 non-null    float64\n",
      " 20  worst radius             569 non-null    float64\n",
      " 21  worst texture            569 non-null    float64\n",
      " 22  worst perimeter          569 non-null    float64\n",
      " 23  worst area               569 non-null    float64\n",
      " 24  worst smoothness         569 non-null    float64\n",
      " 25  worst compactness        569 non-null    float64\n",
      " 26  worst concavity          569 non-null    float64\n",
      " 27  worst concave points     569 non-null    float64\n",
      " 28  worst symmetry           569 non-null    float64\n",
      " 29  worst fractal dimension  569 non-null    float64\n",
      " 30  diagnosis                569 non-null    int64  \n",
      "dtypes: float64(30), int64(1)\n",
      "memory usage: 137.9 KB\n"
     ]
    }
   ],
   "source": [
    "#데이터프레임으로 전환하고, 타겟(class) 추가\n",
    "b_cancer_df = pd.DataFrame(b_cancer.data, columns=b_cancer.feature_names)\n",
    "b_cancer_df['diagnosis'] = b_cancer.target\n",
    "b_cancer_df.info() #마지막 30번이 타겟 데이터임 "
   ]
  },
  {
   "cell_type": "code",
   "execution_count": 13,
   "metadata": {},
   "outputs": [
    {
     "data": {
      "text/plain": [
       "1    357\n",
       "0    212\n",
       "Name: diagnosis, dtype: int64"
      ]
     },
     "execution_count": 13,
     "metadata": {},
     "output_type": "execute_result"
    }
   ],
   "source": [
    "# 타겟 데이터 분포가 알고싶다!\n",
    "\n",
    "b_cancer_df['diagnosis'].value_counts()\n",
    "#benign한테 1을 붙인 데이터 "
   ]
  },
  {
   "cell_type": "markdown",
   "metadata": {},
   "source": [
    "#### 데이터 준비, 분할 및 표준화(스케일링)하기"
   ]
  },
  {
   "cell_type": "code",
   "execution_count": 17,
   "metadata": {},
   "outputs": [
    {
     "data": {
      "text/plain": [
       "(569, 30)"
      ]
     },
     "execution_count": 17,
     "metadata": {},
     "output_type": "execute_result"
    }
   ],
   "source": [
    "from sklearn.model_selection import train_test_split\n",
    "\n",
    "X = b_cancer.data\n",
    "y = b_cancer.target\n",
    "\n",
    "X.shape# 형태를 보는 property"
   ]
  },
  {
   "cell_type": "code",
   "execution_count": 18,
   "metadata": {},
   "outputs": [],
   "source": [
    "X_train, X_test, y_train, y_test = train_test_split(X,y, test_size=0.3, random_state=0)"
   ]
  },
  {
   "cell_type": "code",
   "execution_count": 20,
   "metadata": {},
   "outputs": [
    {
     "data": {
      "text/html": [
       "<div>\n",
       "<style scoped>\n",
       "    .dataframe tbody tr th:only-of-type {\n",
       "        vertical-align: middle;\n",
       "    }\n",
       "\n",
       "    .dataframe tbody tr th {\n",
       "        vertical-align: top;\n",
       "    }\n",
       "\n",
       "    .dataframe thead th {\n",
       "        text-align: right;\n",
       "    }\n",
       "</style>\n",
       "<table border=\"1\" class=\"dataframe\">\n",
       "  <thead>\n",
       "    <tr style=\"text-align: right;\">\n",
       "      <th></th>\n",
       "      <th>0</th>\n",
       "      <th>1</th>\n",
       "      <th>2</th>\n",
       "      <th>3</th>\n",
       "      <th>4</th>\n",
       "      <th>5</th>\n",
       "      <th>6</th>\n",
       "      <th>7</th>\n",
       "      <th>8</th>\n",
       "      <th>9</th>\n",
       "      <th>...</th>\n",
       "      <th>20</th>\n",
       "      <th>21</th>\n",
       "      <th>22</th>\n",
       "      <th>23</th>\n",
       "      <th>24</th>\n",
       "      <th>25</th>\n",
       "      <th>26</th>\n",
       "      <th>27</th>\n",
       "      <th>28</th>\n",
       "      <th>29</th>\n",
       "    </tr>\n",
       "  </thead>\n",
       "  <tbody>\n",
       "    <tr>\n",
       "      <th>count</th>\n",
       "      <td>398.000000</td>\n",
       "      <td>398.000000</td>\n",
       "      <td>398.000000</td>\n",
       "      <td>398.000000</td>\n",
       "      <td>398.000000</td>\n",
       "      <td>398.000000</td>\n",
       "      <td>398.000000</td>\n",
       "      <td>398.000000</td>\n",
       "      <td>398.000000</td>\n",
       "      <td>398.000000</td>\n",
       "      <td>...</td>\n",
       "      <td>398.000000</td>\n",
       "      <td>398.000000</td>\n",
       "      <td>398.000000</td>\n",
       "      <td>398.000000</td>\n",
       "      <td>398.000000</td>\n",
       "      <td>398.000000</td>\n",
       "      <td>398.000000</td>\n",
       "      <td>398.000000</td>\n",
       "      <td>398.000000</td>\n",
       "      <td>398.000000</td>\n",
       "    </tr>\n",
       "    <tr>\n",
       "      <th>mean</th>\n",
       "      <td>14.185500</td>\n",
       "      <td>19.192839</td>\n",
       "      <td>92.335503</td>\n",
       "      <td>661.859045</td>\n",
       "      <td>0.096475</td>\n",
       "      <td>0.104080</td>\n",
       "      <td>0.088794</td>\n",
       "      <td>0.049479</td>\n",
       "      <td>0.180698</td>\n",
       "      <td>0.062646</td>\n",
       "      <td>...</td>\n",
       "      <td>16.359621</td>\n",
       "      <td>25.534523</td>\n",
       "      <td>107.736030</td>\n",
       "      <td>894.246985</td>\n",
       "      <td>0.132529</td>\n",
       "      <td>0.253369</td>\n",
       "      <td>0.268531</td>\n",
       "      <td>0.115221</td>\n",
       "      <td>0.289187</td>\n",
       "      <td>0.083718</td>\n",
       "    </tr>\n",
       "    <tr>\n",
       "      <th>std</th>\n",
       "      <td>3.598618</td>\n",
       "      <td>4.190476</td>\n",
       "      <td>24.769334</td>\n",
       "      <td>366.558262</td>\n",
       "      <td>0.013916</td>\n",
       "      <td>0.051031</td>\n",
       "      <td>0.078154</td>\n",
       "      <td>0.039216</td>\n",
       "      <td>0.028057</td>\n",
       "      <td>0.006861</td>\n",
       "      <td>...</td>\n",
       "      <td>4.965170</td>\n",
       "      <td>6.147466</td>\n",
       "      <td>34.460647</td>\n",
       "      <td>597.853882</td>\n",
       "      <td>0.022989</td>\n",
       "      <td>0.153653</td>\n",
       "      <td>0.193250</td>\n",
       "      <td>0.065688</td>\n",
       "      <td>0.063439</td>\n",
       "      <td>0.017957</td>\n",
       "    </tr>\n",
       "    <tr>\n",
       "      <th>min</th>\n",
       "      <td>6.981000</td>\n",
       "      <td>9.710000</td>\n",
       "      <td>43.790000</td>\n",
       "      <td>143.500000</td>\n",
       "      <td>0.052630</td>\n",
       "      <td>0.019380</td>\n",
       "      <td>0.000000</td>\n",
       "      <td>0.000000</td>\n",
       "      <td>0.106000</td>\n",
       "      <td>0.049960</td>\n",
       "      <td>...</td>\n",
       "      <td>7.930000</td>\n",
       "      <td>12.020000</td>\n",
       "      <td>50.410000</td>\n",
       "      <td>185.200000</td>\n",
       "      <td>0.071170</td>\n",
       "      <td>0.027290</td>\n",
       "      <td>0.000000</td>\n",
       "      <td>0.000000</td>\n",
       "      <td>0.156500</td>\n",
       "      <td>0.055040</td>\n",
       "    </tr>\n",
       "    <tr>\n",
       "      <th>25%</th>\n",
       "      <td>11.710000</td>\n",
       "      <td>16.032500</td>\n",
       "      <td>75.310000</td>\n",
       "      <td>420.350000</td>\n",
       "      <td>0.086740</td>\n",
       "      <td>0.066805</td>\n",
       "      <td>0.030385</td>\n",
       "      <td>0.020710</td>\n",
       "      <td>0.161525</td>\n",
       "      <td>0.057685</td>\n",
       "      <td>...</td>\n",
       "      <td>13.052500</td>\n",
       "      <td>20.865000</td>\n",
       "      <td>84.122500</td>\n",
       "      <td>516.425000</td>\n",
       "      <td>0.116300</td>\n",
       "      <td>0.148600</td>\n",
       "      <td>0.119100</td>\n",
       "      <td>0.065320</td>\n",
       "      <td>0.247850</td>\n",
       "      <td>0.071462</td>\n",
       "    </tr>\n",
       "    <tr>\n",
       "      <th>50%</th>\n",
       "      <td>13.310000</td>\n",
       "      <td>18.725000</td>\n",
       "      <td>86.140000</td>\n",
       "      <td>548.450000</td>\n",
       "      <td>0.096035</td>\n",
       "      <td>0.094035</td>\n",
       "      <td>0.062650</td>\n",
       "      <td>0.033870</td>\n",
       "      <td>0.179150</td>\n",
       "      <td>0.061715</td>\n",
       "      <td>...</td>\n",
       "      <td>14.915000</td>\n",
       "      <td>25.155000</td>\n",
       "      <td>97.455000</td>\n",
       "      <td>682.000000</td>\n",
       "      <td>0.132250</td>\n",
       "      <td>0.216000</td>\n",
       "      <td>0.229850</td>\n",
       "      <td>0.098855</td>\n",
       "      <td>0.280950</td>\n",
       "      <td>0.080075</td>\n",
       "    </tr>\n",
       "    <tr>\n",
       "      <th>75%</th>\n",
       "      <td>15.772500</td>\n",
       "      <td>21.597500</td>\n",
       "      <td>104.475000</td>\n",
       "      <td>779.125000</td>\n",
       "      <td>0.105400</td>\n",
       "      <td>0.128750</td>\n",
       "      <td>0.128775</td>\n",
       "      <td>0.075022</td>\n",
       "      <td>0.195400</td>\n",
       "      <td>0.065735</td>\n",
       "      <td>...</td>\n",
       "      <td>19.005000</td>\n",
       "      <td>29.452500</td>\n",
       "      <td>125.775000</td>\n",
       "      <td>1093.250000</td>\n",
       "      <td>0.145275</td>\n",
       "      <td>0.328975</td>\n",
       "      <td>0.378750</td>\n",
       "      <td>0.161300</td>\n",
       "      <td>0.318275</td>\n",
       "      <td>0.091853</td>\n",
       "    </tr>\n",
       "    <tr>\n",
       "      <th>max</th>\n",
       "      <td>28.110000</td>\n",
       "      <td>33.810000</td>\n",
       "      <td>188.500000</td>\n",
       "      <td>2501.000000</td>\n",
       "      <td>0.144700</td>\n",
       "      <td>0.311400</td>\n",
       "      <td>0.426800</td>\n",
       "      <td>0.201200</td>\n",
       "      <td>0.304000</td>\n",
       "      <td>0.097440</td>\n",
       "      <td>...</td>\n",
       "      <td>36.040000</td>\n",
       "      <td>49.540000</td>\n",
       "      <td>251.200000</td>\n",
       "      <td>4254.000000</td>\n",
       "      <td>0.222600</td>\n",
       "      <td>1.058000</td>\n",
       "      <td>1.105000</td>\n",
       "      <td>0.290300</td>\n",
       "      <td>0.663800</td>\n",
       "      <td>0.207500</td>\n",
       "    </tr>\n",
       "  </tbody>\n",
       "</table>\n",
       "<p>8 rows × 30 columns</p>\n",
       "</div>"
      ],
      "text/plain": [
       "               0           1           2            3           4   \\\n",
       "count  398.000000  398.000000  398.000000   398.000000  398.000000   \n",
       "mean    14.185500   19.192839   92.335503   661.859045    0.096475   \n",
       "std      3.598618    4.190476   24.769334   366.558262    0.013916   \n",
       "min      6.981000    9.710000   43.790000   143.500000    0.052630   \n",
       "25%     11.710000   16.032500   75.310000   420.350000    0.086740   \n",
       "50%     13.310000   18.725000   86.140000   548.450000    0.096035   \n",
       "75%     15.772500   21.597500  104.475000   779.125000    0.105400   \n",
       "max     28.110000   33.810000  188.500000  2501.000000    0.144700   \n",
       "\n",
       "               5           6           7           8           9   ...  \\\n",
       "count  398.000000  398.000000  398.000000  398.000000  398.000000  ...   \n",
       "mean     0.104080    0.088794    0.049479    0.180698    0.062646  ...   \n",
       "std      0.051031    0.078154    0.039216    0.028057    0.006861  ...   \n",
       "min      0.019380    0.000000    0.000000    0.106000    0.049960  ...   \n",
       "25%      0.066805    0.030385    0.020710    0.161525    0.057685  ...   \n",
       "50%      0.094035    0.062650    0.033870    0.179150    0.061715  ...   \n",
       "75%      0.128750    0.128775    0.075022    0.195400    0.065735  ...   \n",
       "max      0.311400    0.426800    0.201200    0.304000    0.097440  ...   \n",
       "\n",
       "               20          21          22           23          24  \\\n",
       "count  398.000000  398.000000  398.000000   398.000000  398.000000   \n",
       "mean    16.359621   25.534523  107.736030   894.246985    0.132529   \n",
       "std      4.965170    6.147466   34.460647   597.853882    0.022989   \n",
       "min      7.930000   12.020000   50.410000   185.200000    0.071170   \n",
       "25%     13.052500   20.865000   84.122500   516.425000    0.116300   \n",
       "50%     14.915000   25.155000   97.455000   682.000000    0.132250   \n",
       "75%     19.005000   29.452500  125.775000  1093.250000    0.145275   \n",
       "max     36.040000   49.540000  251.200000  4254.000000    0.222600   \n",
       "\n",
       "               25          26          27          28          29  \n",
       "count  398.000000  398.000000  398.000000  398.000000  398.000000  \n",
       "mean     0.253369    0.268531    0.115221    0.289187    0.083718  \n",
       "std      0.153653    0.193250    0.065688    0.063439    0.017957  \n",
       "min      0.027290    0.000000    0.000000    0.156500    0.055040  \n",
       "25%      0.148600    0.119100    0.065320    0.247850    0.071462  \n",
       "50%      0.216000    0.229850    0.098855    0.280950    0.080075  \n",
       "75%      0.328975    0.378750    0.161300    0.318275    0.091853  \n",
       "max      1.058000    1.105000    0.290300    0.663800    0.207500  \n",
       "\n",
       "[8 rows x 30 columns]"
      ]
     },
     "execution_count": 20,
     "metadata": {},
     "output_type": "execute_result"
    }
   ],
   "source": [
    "# 스케일링 전 X_train\n",
    "# 스케일링을 하기 전에 데이터 minmaxscale을 확인해보기 \n",
    "pd.DataFrame(X_train).describe() #스케일 차이 많이 나는구나! 라는 것을 보고 스케일 할 것을 결정"
   ]
  },
  {
   "cell_type": "code",
   "execution_count": null,
   "metadata": {},
   "outputs": [],
   "source": []
  },
  {
   "cell_type": "code",
   "execution_count": 21,
   "metadata": {},
   "outputs": [],
   "source": [
    "# 스케일링 후 X_train_scaled(평균, 표준편차))\n",
    "from sklearn.preprocessing import StandardScaler\n",
    "\n",
    "scaler = StandardScaler()\n",
    "scaler.fit(X_train)\n",
    "X_train_scaeld = scaler.transform(X_train)\n",
    "X_test_scaled = scaler.transform(X_test)"
   ]
  },
  {
   "cell_type": "code",
   "execution_count": 23,
   "metadata": {},
   "outputs": [
    {
     "data": {
      "text/html": [
       "<div>\n",
       "<style scoped>\n",
       "    .dataframe tbody tr th:only-of-type {\n",
       "        vertical-align: middle;\n",
       "    }\n",
       "\n",
       "    .dataframe tbody tr th {\n",
       "        vertical-align: top;\n",
       "    }\n",
       "\n",
       "    .dataframe thead th {\n",
       "        text-align: right;\n",
       "    }\n",
       "</style>\n",
       "<table border=\"1\" class=\"dataframe\">\n",
       "  <thead>\n",
       "    <tr style=\"text-align: right;\">\n",
       "      <th></th>\n",
       "      <th>0</th>\n",
       "      <th>1</th>\n",
       "      <th>2</th>\n",
       "      <th>3</th>\n",
       "      <th>4</th>\n",
       "      <th>5</th>\n",
       "      <th>6</th>\n",
       "      <th>7</th>\n",
       "      <th>8</th>\n",
       "      <th>9</th>\n",
       "      <th>...</th>\n",
       "      <th>20</th>\n",
       "      <th>21</th>\n",
       "      <th>22</th>\n",
       "      <th>23</th>\n",
       "      <th>24</th>\n",
       "      <th>25</th>\n",
       "      <th>26</th>\n",
       "      <th>27</th>\n",
       "      <th>28</th>\n",
       "      <th>29</th>\n",
       "    </tr>\n",
       "  </thead>\n",
       "  <tbody>\n",
       "    <tr>\n",
       "      <th>count</th>\n",
       "      <td>398.000</td>\n",
       "      <td>398.000</td>\n",
       "      <td>398.000</td>\n",
       "      <td>398.000</td>\n",
       "      <td>398.000</td>\n",
       "      <td>398.000</td>\n",
       "      <td>398.000</td>\n",
       "      <td>398.000</td>\n",
       "      <td>398.000</td>\n",
       "      <td>398.000</td>\n",
       "      <td>...</td>\n",
       "      <td>398.000</td>\n",
       "      <td>398.000</td>\n",
       "      <td>398.000</td>\n",
       "      <td>398.000</td>\n",
       "      <td>398.000</td>\n",
       "      <td>398.000</td>\n",
       "      <td>398.000</td>\n",
       "      <td>398.000</td>\n",
       "      <td>398.000</td>\n",
       "      <td>398.000</td>\n",
       "    </tr>\n",
       "    <tr>\n",
       "      <th>mean</th>\n",
       "      <td>-0.000</td>\n",
       "      <td>-0.000</td>\n",
       "      <td>0.000</td>\n",
       "      <td>-0.000</td>\n",
       "      <td>-0.000</td>\n",
       "      <td>0.000</td>\n",
       "      <td>0.000</td>\n",
       "      <td>0.000</td>\n",
       "      <td>-0.000</td>\n",
       "      <td>-0.000</td>\n",
       "      <td>...</td>\n",
       "      <td>0.000</td>\n",
       "      <td>-0.000</td>\n",
       "      <td>-0.000</td>\n",
       "      <td>-0.000</td>\n",
       "      <td>0.000</td>\n",
       "      <td>-0.000</td>\n",
       "      <td>-0.000</td>\n",
       "      <td>-0.000</td>\n",
       "      <td>-0.000</td>\n",
       "      <td>0.000</td>\n",
       "    </tr>\n",
       "    <tr>\n",
       "      <th>std</th>\n",
       "      <td>1.001</td>\n",
       "      <td>1.001</td>\n",
       "      <td>1.001</td>\n",
       "      <td>1.001</td>\n",
       "      <td>1.001</td>\n",
       "      <td>1.001</td>\n",
       "      <td>1.001</td>\n",
       "      <td>1.001</td>\n",
       "      <td>1.001</td>\n",
       "      <td>1.001</td>\n",
       "      <td>...</td>\n",
       "      <td>1.001</td>\n",
       "      <td>1.001</td>\n",
       "      <td>1.001</td>\n",
       "      <td>1.001</td>\n",
       "      <td>1.001</td>\n",
       "      <td>1.001</td>\n",
       "      <td>1.001</td>\n",
       "      <td>1.001</td>\n",
       "      <td>1.001</td>\n",
       "      <td>1.001</td>\n",
       "    </tr>\n",
       "    <tr>\n",
       "      <th>min</th>\n",
       "      <td>-2.005</td>\n",
       "      <td>-2.266</td>\n",
       "      <td>-1.962</td>\n",
       "      <td>-1.416</td>\n",
       "      <td>-3.155</td>\n",
       "      <td>-1.662</td>\n",
       "      <td>-1.138</td>\n",
       "      <td>-1.263</td>\n",
       "      <td>-2.666</td>\n",
       "      <td>-1.851</td>\n",
       "      <td>...</td>\n",
       "      <td>-1.700</td>\n",
       "      <td>-2.201</td>\n",
       "      <td>-1.666</td>\n",
       "      <td>-1.187</td>\n",
       "      <td>-2.672</td>\n",
       "      <td>-1.473</td>\n",
       "      <td>-1.391</td>\n",
       "      <td>-1.756</td>\n",
       "      <td>-2.094</td>\n",
       "      <td>-1.599</td>\n",
       "    </tr>\n",
       "    <tr>\n",
       "      <th>25%</th>\n",
       "      <td>-0.689</td>\n",
       "      <td>-0.755</td>\n",
       "      <td>-0.688</td>\n",
       "      <td>-0.660</td>\n",
       "      <td>-0.700</td>\n",
       "      <td>-0.731</td>\n",
       "      <td>-0.748</td>\n",
       "      <td>-0.735</td>\n",
       "      <td>-0.684</td>\n",
       "      <td>-0.724</td>\n",
       "      <td>...</td>\n",
       "      <td>-0.667</td>\n",
       "      <td>-0.761</td>\n",
       "      <td>-0.686</td>\n",
       "      <td>-0.633</td>\n",
       "      <td>-0.707</td>\n",
       "      <td>-0.683</td>\n",
       "      <td>-0.774</td>\n",
       "      <td>-0.761</td>\n",
       "      <td>-0.652</td>\n",
       "      <td>-0.683</td>\n",
       "    </tr>\n",
       "    <tr>\n",
       "      <th>50%</th>\n",
       "      <td>-0.244</td>\n",
       "      <td>-0.112</td>\n",
       "      <td>-0.250</td>\n",
       "      <td>-0.310</td>\n",
       "      <td>-0.032</td>\n",
       "      <td>-0.197</td>\n",
       "      <td>-0.335</td>\n",
       "      <td>-0.399</td>\n",
       "      <td>-0.055</td>\n",
       "      <td>-0.136</td>\n",
       "      <td>...</td>\n",
       "      <td>-0.291</td>\n",
       "      <td>-0.062</td>\n",
       "      <td>-0.299</td>\n",
       "      <td>-0.355</td>\n",
       "      <td>-0.012</td>\n",
       "      <td>-0.244</td>\n",
       "      <td>-0.200</td>\n",
       "      <td>-0.249</td>\n",
       "      <td>-0.130</td>\n",
       "      <td>-0.203</td>\n",
       "    </tr>\n",
       "    <tr>\n",
       "      <th>75%</th>\n",
       "      <td>0.442</td>\n",
       "      <td>0.575</td>\n",
       "      <td>0.491</td>\n",
       "      <td>0.320</td>\n",
       "      <td>0.642</td>\n",
       "      <td>0.484</td>\n",
       "      <td>0.512</td>\n",
       "      <td>0.652</td>\n",
       "      <td>0.525</td>\n",
       "      <td>0.451</td>\n",
       "      <td>...</td>\n",
       "      <td>0.533</td>\n",
       "      <td>0.638</td>\n",
       "      <td>0.524</td>\n",
       "      <td>0.333</td>\n",
       "      <td>0.555</td>\n",
       "      <td>0.493</td>\n",
       "      <td>0.571</td>\n",
       "      <td>0.702</td>\n",
       "      <td>0.459</td>\n",
       "      <td>0.454</td>\n",
       "    </tr>\n",
       "    <tr>\n",
       "      <th>max</th>\n",
       "      <td>3.874</td>\n",
       "      <td>3.493</td>\n",
       "      <td>3.887</td>\n",
       "      <td>5.024</td>\n",
       "      <td>3.470</td>\n",
       "      <td>4.068</td>\n",
       "      <td>4.330</td>\n",
       "      <td>3.874</td>\n",
       "      <td>4.400</td>\n",
       "      <td>5.077</td>\n",
       "      <td>...</td>\n",
       "      <td>3.969</td>\n",
       "      <td>3.910</td>\n",
       "      <td>4.168</td>\n",
       "      <td>5.627</td>\n",
       "      <td>3.923</td>\n",
       "      <td>5.243</td>\n",
       "      <td>4.334</td>\n",
       "      <td>2.669</td>\n",
       "      <td>5.912</td>\n",
       "      <td>6.902</td>\n",
       "    </tr>\n",
       "  </tbody>\n",
       "</table>\n",
       "<p>8 rows × 30 columns</p>\n",
       "</div>"
      ],
      "text/plain": [
       "           0       1       2       3       4       5       6       7       8   \\\n",
       "count 398.000 398.000 398.000 398.000 398.000 398.000 398.000 398.000 398.000   \n",
       "mean   -0.000  -0.000   0.000  -0.000  -0.000   0.000   0.000   0.000  -0.000   \n",
       "std     1.001   1.001   1.001   1.001   1.001   1.001   1.001   1.001   1.001   \n",
       "min    -2.005  -2.266  -1.962  -1.416  -3.155  -1.662  -1.138  -1.263  -2.666   \n",
       "25%    -0.689  -0.755  -0.688  -0.660  -0.700  -0.731  -0.748  -0.735  -0.684   \n",
       "50%    -0.244  -0.112  -0.250  -0.310  -0.032  -0.197  -0.335  -0.399  -0.055   \n",
       "75%     0.442   0.575   0.491   0.320   0.642   0.484   0.512   0.652   0.525   \n",
       "max     3.874   3.493   3.887   5.024   3.470   4.068   4.330   3.874   4.400   \n",
       "\n",
       "           9   ...      20      21      22      23      24      25      26  \\\n",
       "count 398.000  ... 398.000 398.000 398.000 398.000 398.000 398.000 398.000   \n",
       "mean   -0.000  ...   0.000  -0.000  -0.000  -0.000   0.000  -0.000  -0.000   \n",
       "std     1.001  ...   1.001   1.001   1.001   1.001   1.001   1.001   1.001   \n",
       "min    -1.851  ...  -1.700  -2.201  -1.666  -1.187  -2.672  -1.473  -1.391   \n",
       "25%    -0.724  ...  -0.667  -0.761  -0.686  -0.633  -0.707  -0.683  -0.774   \n",
       "50%    -0.136  ...  -0.291  -0.062  -0.299  -0.355  -0.012  -0.244  -0.200   \n",
       "75%     0.451  ...   0.533   0.638   0.524   0.333   0.555   0.493   0.571   \n",
       "max     5.077  ...   3.969   3.910   4.168   5.627   3.923   5.243   4.334   \n",
       "\n",
       "           27      28      29  \n",
       "count 398.000 398.000 398.000  \n",
       "mean   -0.000  -0.000   0.000  \n",
       "std     1.001   1.001   1.001  \n",
       "min    -1.756  -2.094  -1.599  \n",
       "25%    -0.761  -0.652  -0.683  \n",
       "50%    -0.249  -0.130  -0.203  \n",
       "75%     0.702   0.459   0.454  \n",
       "max     2.669   5.912   6.902  \n",
       "\n",
       "[8 rows x 30 columns]"
      ]
     },
     "execution_count": 23,
     "metadata": {},
     "output_type": "execute_result"
    }
   ],
   "source": [
    "pd.options.display.float_format = '{:.3f}'.format\n",
    "pd.DataFrame(X_train_scaeld).describe()"
   ]
  },
  {
   "cell_type": "markdown",
   "metadata": {},
   "source": [
    "#### 로지스틱 모델 구축"
   ]
  },
  {
   "cell_type": "code",
   "execution_count": 24,
   "metadata": {},
   "outputs": [],
   "source": [
    "from sklearn.linear_model import LogisticRegression"
   ]
  },
  {
   "cell_type": "code",
   "execution_count": null,
   "metadata": {},
   "outputs": [],
   "source": []
  },
  {
   "cell_type": "code",
   "execution_count": 27,
   "metadata": {},
   "outputs": [
    {
     "data": {
      "text/plain": [
       "array([0, 1, 1, 1, 1, 1, 1, 1, 1, 1, 1, 1, 1, 1, 1, 0, 1, 0, 0, 0, 0, 0,\n",
       "       1, 1, 0, 1, 1, 0, 1, 0, 1, 0, 1, 0, 1, 0, 1, 0, 1, 0, 0, 1, 0, 1,\n",
       "       1, 0, 1, 1, 1, 0, 0, 0, 0, 1, 1, 1, 1, 1, 1, 0, 0, 0, 1, 1, 0, 1,\n",
       "       0, 0, 0, 1, 1, 0, 1, 0, 0, 1, 1, 1, 1, 1, 0, 0, 0, 1, 0, 1, 1, 1,\n",
       "       0, 0, 1, 0, 0, 0, 1, 1, 0, 1, 1, 1, 1, 1, 1, 1, 0, 1, 0, 1, 1, 1,\n",
       "       1, 0, 0, 1, 1, 1, 1, 1, 1, 1, 1, 1, 1, 1, 0, 1, 1, 1, 1, 1, 0, 1,\n",
       "       1, 1, 1, 1, 1, 0, 0, 1, 1, 1, 0, 1, 1, 0, 1, 0, 1, 1, 1, 1, 1, 1,\n",
       "       1, 0, 1, 0, 1, 0, 0, 1, 1, 0, 1, 0, 0, 0, 1, 1, 1])"
      ]
     },
     "execution_count": 27,
     "metadata": {},
     "output_type": "execute_result"
    }
   ],
   "source": [
    "#1)모델 생성\n",
    "reg = LogisticRegression()\n",
    "\n",
    "#2) 모델 훈련, 데이터 학습\n",
    "reg.fit(X_train_scaeld, y_train)\n",
    "\n",
    "#3) 평가 데이터에 대한 예측 수행\n",
    "y_pred = reg.predict(X_test_scaled)\n",
    "y_pred # 두 번째 결과값만 보여주는 것처럼 보임   #확률값도 볼 수 있다!"
   ]
  },
  {
   "cell_type": "code",
   "execution_count": 29,
   "metadata": {},
   "outputs": [
    {
     "data": {
      "text/plain": [
       "array([[0.99860254, 0.00139746],\n",
       "       [0.04003841, 0.95996159],\n",
       "       [0.00136872, 0.99863128],\n",
       "       [0.01038683, 0.98961317],\n",
       "       [0.000293  , 0.999707  ],\n",
       "       [0.00595696, 0.99404304],\n",
       "       [0.00017142, 0.99982858],\n",
       "       [0.00172762, 0.99827238],\n",
       "       [0.00008372, 0.99991628],\n",
       "       [0.00000233, 0.99999767],\n",
       "       [0.19447641, 0.80552359],\n",
       "       [0.07446842, 0.92553158],\n",
       "       [0.00001664, 0.99998336],\n",
       "       [0.46612935, 0.53387065],\n",
       "       [0.41334862, 0.58665138],\n",
       "       [0.99582419, 0.00417581],\n",
       "       [0.00607554, 0.99392446],\n",
       "       [0.99999531, 0.00000469],\n",
       "       [0.99990375, 0.00009625],\n",
       "       [1.        , 0.        ],\n",
       "       [0.9984793 , 0.0015207 ],\n",
       "       [0.97978704, 0.02021296],\n",
       "       [0.01999415, 0.98000585],\n",
       "       [0.00126674, 0.99873326],\n",
       "       [0.99909784, 0.00090216],\n",
       "       [0.00078892, 0.99921108],\n",
       "       [0.00005928, 0.99994072],\n",
       "       [0.97233473, 0.02766527],\n",
       "       [0.00174188, 0.99825812],\n",
       "       [0.99999628, 0.00000372],\n",
       "       [0.00007014, 0.99992986],\n",
       "       [0.99992097, 0.00007903],\n",
       "       [0.14430532, 0.85569468],\n",
       "       [0.99559664, 0.00440336],\n",
       "       [0.00000502, 0.99999498],\n",
       "       [0.99744905, 0.00255095],\n",
       "       [0.02326091, 0.97673909],\n",
       "       [0.99930018, 0.00069982],\n",
       "       [0.0089256 , 0.9910744 ],\n",
       "       [0.99953665, 0.00046335],\n",
       "       [0.923059  , 0.076941  ],\n",
       "       [0.00010807, 0.99989193],\n",
       "       [0.90711272, 0.09288728],\n",
       "       [0.00009269, 0.99990731],\n",
       "       [0.08784556, 0.91215444],\n",
       "       [1.        , 0.        ],\n",
       "       [0.00000127, 0.99999873],\n",
       "       [0.01454415, 0.98545585],\n",
       "       [0.0006863 , 0.9993137 ],\n",
       "       [0.99990238, 0.00009762],\n",
       "       [0.9999866 , 0.0000134 ],\n",
       "       [0.83038216, 0.16961784],\n",
       "       [0.9999475 , 0.0000525 ],\n",
       "       [0.00168837, 0.99831163],\n",
       "       [0.00254211, 0.99745789],\n",
       "       [0.0007046 , 0.9992954 ],\n",
       "       [0.00093345, 0.99906655],\n",
       "       [0.00543445, 0.99456555],\n",
       "       [0.00923606, 0.99076394],\n",
       "       [1.        , 0.        ],\n",
       "       [0.99782318, 0.00217682],\n",
       "       [0.99911252, 0.00088748],\n",
       "       [0.00004631, 0.99995369],\n",
       "       [0.00431605, 0.99568395],\n",
       "       [0.99988085, 0.00011915],\n",
       "       [0.11946105, 0.88053895],\n",
       "       [1.        , 0.        ],\n",
       "       [0.99999809, 0.00000191],\n",
       "       [0.99999861, 0.00000139],\n",
       "       [0.00102401, 0.99897599],\n",
       "       [0.42106878, 0.57893122],\n",
       "       [0.99999107, 0.00000893],\n",
       "       [0.00374244, 0.99625756],\n",
       "       [0.80721072, 0.19278928],\n",
       "       [0.9999966 , 0.0000034 ],\n",
       "       [0.01631473, 0.98368527],\n",
       "       [0.0000864 , 0.9999136 ],\n",
       "       [0.04261015, 0.95738985],\n",
       "       [0.00040461, 0.99959539],\n",
       "       [0.00001839, 0.99998161],\n",
       "       [0.98190791, 0.01809209],\n",
       "       [1.        , 0.        ],\n",
       "       [0.99998862, 0.00001138],\n",
       "       [0.00006299, 0.99993701],\n",
       "       [0.96233403, 0.03766597],\n",
       "       [0.00196262, 0.99803738],\n",
       "       [0.00006182, 0.99993818],\n",
       "       [0.00000862, 0.99999138],\n",
       "       [0.99987113, 0.00012887],\n",
       "       [1.        , 0.        ],\n",
       "       [0.00005434, 0.99994566],\n",
       "       [0.54299781, 0.45700219],\n",
       "       [0.63788943, 0.36211057],\n",
       "       [0.99999626, 0.00000374],\n",
       "       [0.00188569, 0.99811431],\n",
       "       [0.00334783, 0.99665217],\n",
       "       [0.99999999, 0.00000001],\n",
       "       [0.01802429, 0.98197571],\n",
       "       [0.01049747, 0.98950253],\n",
       "       [0.00123558, 0.99876442],\n",
       "       [0.00000001, 0.99999999],\n",
       "       [0.00338699, 0.99661301],\n",
       "       [0.00570282, 0.99429718],\n",
       "       [0.15419953, 0.84580047],\n",
       "       [0.99998962, 0.00001038],\n",
       "       [0.00116772, 0.99883228],\n",
       "       [0.99999515, 0.00000485],\n",
       "       [0.11724595, 0.88275405],\n",
       "       [0.27920807, 0.72079193],\n",
       "       [0.02511839, 0.97488161],\n",
       "       [0.03853146, 0.96146854],\n",
       "       [0.99997322, 0.00002678],\n",
       "       [0.99986855, 0.00013145],\n",
       "       [0.09107521, 0.90892479],\n",
       "       [0.00095225, 0.99904775],\n",
       "       [0.02641365, 0.97358635],\n",
       "       [0.14100332, 0.85899668],\n",
       "       [0.00186344, 0.99813656],\n",
       "       [0.01699215, 0.98300785],\n",
       "       [0.00141789, 0.99858211],\n",
       "       [0.0142768 , 0.9857232 ],\n",
       "       [0.00174918, 0.99825082],\n",
       "       [0.45060063, 0.54939937],\n",
       "       [0.03278959, 0.96721041],\n",
       "       [0.99999987, 0.00000013],\n",
       "       [0.17636844, 0.82363156],\n",
       "       [0.43701901, 0.56298099],\n",
       "       [0.00033941, 0.99966059],\n",
       "       [0.00004752, 0.99995248],\n",
       "       [0.00003815, 0.99996185],\n",
       "       [0.99984651, 0.00015349],\n",
       "       [0.00012246, 0.99987754],\n",
       "       [0.00025894, 0.99974106],\n",
       "       [0.19808133, 0.80191867],\n",
       "       [0.04764014, 0.95235986],\n",
       "       [0.00002599, 0.99997401],\n",
       "       [0.46248338, 0.53751662],\n",
       "       [0.63503235, 0.36496765],\n",
       "       [1.        , 0.        ],\n",
       "       [0.00012839, 0.99987161],\n",
       "       [0.00174602, 0.99825398],\n",
       "       [0.00102833, 0.99897167],\n",
       "       [0.99999999, 0.00000001],\n",
       "       [0.00420395, 0.99579605],\n",
       "       [0.00041925, 0.99958075],\n",
       "       [0.99999909, 0.00000091],\n",
       "       [0.00579   , 0.99421   ],\n",
       "       [0.67924915, 0.32075085],\n",
       "       [0.00133558, 0.99866442],\n",
       "       [0.00235846, 0.99764154],\n",
       "       [0.00250652, 0.99749348],\n",
       "       [0.04634511, 0.95365489],\n",
       "       [0.48597997, 0.51402003],\n",
       "       [0.31619054, 0.68380946],\n",
       "       [0.00022944, 0.99977056],\n",
       "       [0.9947643 , 0.0052357 ],\n",
       "       [0.01895236, 0.98104764],\n",
       "       [0.94443501, 0.05556499],\n",
       "       [0.00031484, 0.99968516],\n",
       "       [0.99999028, 0.00000972],\n",
       "       [0.99999893, 0.00000107],\n",
       "       [0.00054254, 0.99945746],\n",
       "       [0.01708218, 0.98291782],\n",
       "       [0.99864823, 0.00135177],\n",
       "       [0.00059867, 0.99940133],\n",
       "       [0.99987822, 0.00012178],\n",
       "       [0.98743261, 0.01256739],\n",
       "       [0.9992548 , 0.0007452 ],\n",
       "       [0.12146342, 0.87853658],\n",
       "       [0.00829831, 0.99170169],\n",
       "       [0.00004588, 0.99995412]])"
      ]
     },
     "execution_count": 29,
     "metadata": {},
     "output_type": "execute_result"
    }
   ],
   "source": [
    "# 확률 ㅇㄷ?\n",
    "np.set_printoptions(suppress=True)\n",
    "reg.predict_proba(X_test_scaled)\n",
    "# 해석해보자 \n"
   ]
  },
  {
   "attachments": {},
   "cell_type": "markdown",
   "metadata": {},
   "source": [
    "171개인데, 0~1 사이 어떤 숫자 나오는데, 얘네들은 true가 될 확률! \n",
    "\n",
    "1-r, r이 출력된 것임 \n",
    "\n",
    "임계치 = 0.5\n",
    "\n",
    "분류의 성능지표는 오차행렬로 함\n"
   ]
  },
  {
   "cell_type": "markdown",
   "metadata": {},
   "source": [
    "#### 생성한 모델 성능 지표 확인하기"
   ]
  },
  {
   "cell_type": "code",
   "execution_count": 30,
   "metadata": {},
   "outputs": [
    {
     "data": {
      "text/plain": [
       "array([[ 60,   3],\n",
       "       [  1, 107]])"
      ]
     },
     "execution_count": 30,
     "metadata": {},
     "output_type": "execute_result"
    }
   ],
   "source": [
    "#오차행렬\n",
    "from sklearn.metrics import confusion_matrix\n",
    "confusion_matrix(y_test, y_pred) #이것을 반드시 해결할 수 있어야 함 "
   ]
  },
  {
   "cell_type": "code",
   "execution_count": 34,
   "metadata": {},
   "outputs": [
    {
     "name": "stdout",
     "output_type": "stream",
     "text": [
      "0.9766081871345029 0.9727272727272728 0.9907407407407407\n"
     ]
    }
   ],
   "source": [
    "#정확도, 정밀도, 재현율 지표확인 -> 이거 다시 공부하기 \n",
    "from sklearn.metrics import accuracy_score, recall_score, precision_score\n",
    "\n",
    "acc = accuracy_score(y_test, y_pred)\n",
    "\n",
    "prec = precision_score(y_test, y_pred)\n",
    "recall = recall_score(y_test, y_pred)\n",
    "print(acc,prec, recall)"
   ]
  },
  {
   "cell_type": "code",
   "execution_count": 33,
   "metadata": {},
   "outputs": [
    {
     "data": {
      "text/plain": [
       "0.9907407407407407"
      ]
     },
     "execution_count": 33,
     "metadata": {},
     "output_type": "execute_result"
    }
   ],
   "source": [
    "recall_score(y_test, y_pred)"
   ]
  },
  {
   "cell_type": "code",
   "execution_count": 31,
   "metadata": {},
   "outputs": [
    {
     "data": {
      "text/plain": [
       "0.9907407407407407"
      ]
     },
     "execution_count": 31,
     "metadata": {},
     "output_type": "execute_result"
    }
   ],
   "source": [
    "107/108"
   ]
  },
  {
   "cell_type": "code",
   "execution_count": 36,
   "metadata": {},
   "outputs": [
    {
     "data": {
      "text/plain": [
       "array([0.00139746, 0.95996159, 0.99863128, 0.98961317, 0.999707  ,\n",
       "       0.99404304, 0.99982858, 0.99827238, 0.99991628, 0.99999767,\n",
       "       0.80552359, 0.92553158, 0.99998336, 0.53387065, 0.58665138,\n",
       "       0.00417581, 0.99392446, 0.00000469, 0.00009625, 0.        ,\n",
       "       0.0015207 , 0.02021296, 0.98000585, 0.99873326, 0.00090216,\n",
       "       0.99921108, 0.99994072, 0.02766527, 0.99825812, 0.00000372,\n",
       "       0.99992986, 0.00007903, 0.85569468, 0.00440336, 0.99999498,\n",
       "       0.00255095, 0.97673909, 0.00069982, 0.9910744 , 0.00046335,\n",
       "       0.076941  , 0.99989193, 0.09288728, 0.99990731, 0.91215444,\n",
       "       0.        , 0.99999873, 0.98545585, 0.9993137 , 0.00009762,\n",
       "       0.0000134 , 0.16961784, 0.0000525 , 0.99831163, 0.99745789,\n",
       "       0.9992954 , 0.99906655, 0.99456555, 0.99076394, 0.        ,\n",
       "       0.00217682, 0.00088748, 0.99995369, 0.99568395, 0.00011915,\n",
       "       0.88053895, 0.        , 0.00000191, 0.00000139, 0.99897599,\n",
       "       0.57893122, 0.00000893, 0.99625756, 0.19278928, 0.0000034 ,\n",
       "       0.98368527, 0.9999136 , 0.95738985, 0.99959539, 0.99998161,\n",
       "       0.01809209, 0.        , 0.00001138, 0.99993701, 0.03766597,\n",
       "       0.99803738, 0.99993818, 0.99999138, 0.00012887, 0.        ,\n",
       "       0.99994566, 0.45700219, 0.36211057, 0.00000374, 0.99811431,\n",
       "       0.99665217, 0.00000001, 0.98197571, 0.98950253, 0.99876442,\n",
       "       0.99999999, 0.99661301, 0.99429718, 0.84580047, 0.00001038,\n",
       "       0.99883228, 0.00000485, 0.88275405, 0.72079193, 0.97488161,\n",
       "       0.96146854, 0.00002678, 0.00013145, 0.90892479, 0.99904775,\n",
       "       0.97358635, 0.85899668, 0.99813656, 0.98300785, 0.99858211,\n",
       "       0.9857232 , 0.99825082, 0.54939937, 0.96721041, 0.00000013,\n",
       "       0.82363156, 0.56298099, 0.99966059, 0.99995248, 0.99996185,\n",
       "       0.00015349, 0.99987754, 0.99974106, 0.80191867, 0.95235986,\n",
       "       0.99997401, 0.53751662, 0.36496765, 0.        , 0.99987161,\n",
       "       0.99825398, 0.99897167, 0.00000001, 0.99579605, 0.99958075,\n",
       "       0.00000091, 0.99421   , 0.32075085, 0.99866442, 0.99764154,\n",
       "       0.99749348, 0.95365489, 0.51402003, 0.68380946, 0.99977056,\n",
       "       0.0052357 , 0.98104764, 0.05556499, 0.99968516, 0.00000972,\n",
       "       0.00000107, 0.99945746, 0.98291782, 0.00135177, 0.99940133,\n",
       "       0.00012178, 0.01256739, 0.0007452 , 0.87853658, 0.99170169,\n",
       "       0.99995412])"
      ]
     },
     "execution_count": 36,
     "metadata": {},
     "output_type": "execute_result"
    }
   ],
   "source": [
    "reg.predict_proba(X_test_scaled)"
   ]
  },
  {
   "cell_type": "code",
   "execution_count": 39,
   "metadata": {},
   "outputs": [
    {
     "name": "stdout",
     "output_type": "stream",
     "text": [
      "0.981651376146789 0.9939741328630218\n"
     ]
    }
   ],
   "source": [
    "# f1 score, roc_auc\n",
    "from sklearn.metrics import f1_score, roc_auc_score\n",
    "\n",
    "f1 = f1_score(y_test,y_pred)\n",
    "roc_auc = roc_auc_score(y_test, reg.predict_proba(X_test_scaled)[:, 1]) #여기에서는 확률을 넣어야 함 \n",
    "print(f1, roc_auc) # 여기서 나온 건 roc_auc는 굉장히 높아서 신뢰도가 높은 모델임을 알 수 있음 \n",
    "# 딥러닝 나오기 전에는 각광 받았고, 딥러닝에서도 시그모이드가 사용됨   결국 분류는 확률의 얘기임 "
   ]
  },
  {
   "cell_type": "markdown",
   "metadata": {},
   "source": [
    "# 2. Logistic Regression: 붓꽃 데이터 , 다중 분류"
   ]
  },
  {
   "cell_type": "markdown",
   "metadata": {},
   "source": [
    "#### 데이터 수집하기"
   ]
  },
  {
   "cell_type": "code",
   "execution_count": null,
   "metadata": {},
   "outputs": [],
   "source": []
  },
  {
   "cell_type": "markdown",
   "metadata": {},
   "source": [
    "#### 데이터 탐색하기"
   ]
  },
  {
   "cell_type": "code",
   "execution_count": null,
   "metadata": {},
   "outputs": [],
   "source": []
  },
  {
   "cell_type": "code",
   "execution_count": null,
   "metadata": {},
   "outputs": [],
   "source": []
  },
  {
   "cell_type": "code",
   "execution_count": null,
   "metadata": {},
   "outputs": [],
   "source": [
    "#데이터프레임으로 전환하고, 타겟(class) 추가하되 범주형으로 추가 \n"
   ]
  },
  {
   "cell_type": "code",
   "execution_count": null,
   "metadata": {},
   "outputs": [],
   "source": [
    "#데이터셋의 크기, 독립변수 X의 피처 정보 확인"
   ]
  },
  {
   "cell_type": "code",
   "execution_count": null,
   "metadata": {},
   "outputs": [],
   "source": []
  },
  {
   "cell_type": "code",
   "execution_count": null,
   "metadata": {},
   "outputs": [],
   "source": []
  },
  {
   "cell_type": "code",
   "execution_count": null,
   "metadata": {},
   "outputs": [],
   "source": [
    "import matplotlib.pyplot as plt\n",
    "import seaborn as sns\n",
    "\n",
    "sns.pairplot(iris_df, hue='species');\n",
    "# hue 옵션을 주면, 첫번째 그림이 \n",
    "#히스토그램에서 커널 밀도 추정(KDE) 그래프로 변경됨"
   ]
  },
  {
   "cell_type": "code",
   "execution_count": null,
   "metadata": {},
   "outputs": [],
   "source": [
    "# 3종류인것을 추측 가능"
   ]
  },
  {
   "cell_type": "markdown",
   "metadata": {},
   "source": [
    "#### 데이터 준비, 분할, 전처리"
   ]
  },
  {
   "cell_type": "code",
   "execution_count": null,
   "metadata": {},
   "outputs": [],
   "source": []
  },
  {
   "cell_type": "code",
   "execution_count": null,
   "metadata": {},
   "outputs": [],
   "source": [
    "# X, y 설정하기\n",
    "\n",
    "\n",
    "# 데이터 분할: 붓꽃의 타겟 데이터가 \n",
    "# 테스트 세트도 훈련 세트와 동일한 비율로 들어갈 수 있도록 \n",
    "# 분할시 stratify옵션을 준다. \n",
    "\n",
    "# 훈련데이터, 테스트 데이터 스케일링\n",
    "\n"
   ]
  },
  {
   "cell_type": "code",
   "execution_count": null,
   "metadata": {},
   "outputs": [],
   "source": []
  },
  {
   "cell_type": "markdown",
   "metadata": {},
   "source": [
    "#### 로지스틱 모델 구축"
   ]
  },
  {
   "cell_type": "code",
   "execution_count": null,
   "metadata": {},
   "outputs": [],
   "source": [
    "# 로지스틱 회귀 객체 생성\n",
    "# 꽃의 종류가 3가지(이진 분류가 아님, solver, multiclass option을 주는 이유)\n",
    "\n",
    "\n",
    "\n",
    "# 테스트 데이터를 모델에 적용하여 y_pred 구하기\n"
   ]
  },
  {
   "cell_type": "code",
   "execution_count": null,
   "metadata": {},
   "outputs": [],
   "source": []
  },
  {
   "cell_type": "markdown",
   "metadata": {},
   "source": [
    "#### 모델의 성능 지표 확인"
   ]
  },
  {
   "cell_type": "code",
   "execution_count": null,
   "metadata": {},
   "outputs": [],
   "source": [
    "\n",
    "#오차행렬\n",
    "\n",
    "#정확도, 정밀도, 재현율 지표확인\n"
   ]
  },
  {
   "cell_type": "code",
   "execution_count": null,
   "metadata": {},
   "outputs": [],
   "source": []
  },
  {
   "cell_type": "code",
   "execution_count": null,
   "metadata": {},
   "outputs": [],
   "source": []
  }
 ],
 "metadata": {
  "kernelspec": {
   "display_name": "Python 3",
   "language": "python",
   "name": "python3"
  },
  "language_info": {
   "codemirror_mode": {
    "name": "ipython",
    "version": 3
   },
   "file_extension": ".py",
   "mimetype": "text/x-python",
   "name": "python",
   "nbconvert_exporter": "python",
   "pygments_lexer": "ipython3",
   "version": "3.9.4"
  },
  "orig_nbformat": 4,
  "vscode": {
   "interpreter": {
    "hash": "2d7f4db1d613ee4b2d2ebeae5876b92e66a31c9cb18f7b3ca1ac02b1bc62896c"
   }
  }
 },
 "nbformat": 4,
 "nbformat_minor": 2
}
