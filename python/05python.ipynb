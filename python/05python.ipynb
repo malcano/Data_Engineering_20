{
 "cells": [
  {
   "cell_type": "code",
   "execution_count": 12,
   "id": "7504f8ed-d1cd-4a5b-9893-caea1914dd39",
   "metadata": {},
   "outputs": [
    {
     "name": "stdout",
     "output_type": "stream",
     "text": [
      "['Hello', 'world']\n"
     ]
    }
   ],
   "source": [
    "language =[\"Hello\", \"world\"]\n",
    "print(language, sep=\"\")\n"
   ]
  },
  {
   "cell_type": "code",
   "execution_count": 10,
   "id": "7657a989-b64c-4f21-98c0-492e5deea936",
   "metadata": {},
   "outputs": [
    {
     "name": "stdout",
     "output_type": "stream",
     "text": [
      "현재 시간을 입력하세요 02:00\n"
     ]
    },
    {
     "name": "stdout",
     "output_type": "stream",
     "text": [
      "정각입니다\n"
     ]
    }
   ],
   "source": [
    "time = input(\"현재 시간을 입력하세요\")\n",
    "h = time.split(\":\")\n",
    "if h[1] == '00':\n",
    "    print(\"정각입니다\")\n",
    "else:\n",
    "    print(\"정각이 아닙니다\")"
   ]
  },
  {
   "cell_type": "code",
   "execution_count": 66,
   "id": "0ab07aff-90c6-47c1-895b-eb7f0f5bffb3",
   "metadata": {},
   "outputs": [
    {
     "name": "stdout",
     "output_type": "stream",
     "text": [
      "[1, 2, 3, 4, 5, 6, 7, 8, 9, 10]\n"
     ]
    }
   ],
   "source": [
    "list_a = [1, 2, 3, 4, 5, 6, 7, 8, 9, 10]\n",
    "list_a[2::3] = list_a[2::3]\n",
    "#이건 시퀀스로 접근하는 게 맞는 것 같다\n",
    "print(list_a)"
   ]
  },
  {
   "cell_type": "code",
   "execution_count": 14,
   "id": "6471df12-7b04-453b-ae8b-d4b62c864ca4",
   "metadata": {},
   "outputs": [
    {
     "name": "stdout",
     "output_type": "stream",
     "text": [
      "<class 'list'>\n",
      "<class 'list'>\n",
      "<class 'list'>\n",
      "<class 'list'>\n"
     ]
    }
   ],
   "source": [
    "print(type('10 9 8 7'.split()))\n",
    "print(type([0] * 10))\n",
    "print(type(list(range(10))))\n",
    "print(type([-1, '가', 100.2]))"
   ]
  },
  {
   "cell_type": "code",
   "execution_count": 22,
   "id": "e8dbcc3c-dbb1-4a96-b776-b0b3df3a43b3",
   "metadata": {},
   "outputs": [
    {
     "name": "stdout",
     "output_type": "stream",
     "text": [
      "1~10 :  25\n"
     ]
    }
   ],
   "source": [
    "sm = 0\n",
    "for _ in range(1,10,2):\n",
    "    sm+=_\n",
    "print('1~10 : ', sm)"
   ]
  },
  {
   "cell_type": "code",
   "execution_count": 25,
   "id": "21245187-401a-4e0a-97bc-a2d02496426f",
   "metadata": {},
   "outputs": [
    {
     "name": "stdout",
     "output_type": "stream",
     "text": [
      "(-10, -7, -4, -1, 2, 5, 8)\n"
     ]
    }
   ],
   "source": [
    "print(tuple(range(-10, 10, 3)))"
   ]
  },
  {
   "cell_type": "code",
   "execution_count": 75,
   "id": "3c101c9c-9f94-4055-9f65-312b230beb22",
   "metadata": {},
   "outputs": [
    {
     "name": "stdout",
     "output_type": "stream",
     "text": [
      "*"
     ]
    },
    {
     "ename": "TypeError",
     "evalue": "unsupported operand type(s) for *: 'NoneType' and 'int'",
     "output_type": "error",
     "traceback": [
      "\u001b[0;31m---------------------------------------------------------------------------\u001b[0m",
      "\u001b[0;31mTypeError\u001b[0m                                 Traceback (most recent call last)",
      "Input \u001b[0;32mIn [75]\u001b[0m, in \u001b[0;36m<cell line: 1>\u001b[0;34m()\u001b[0m\n\u001b[1;32m      1\u001b[0m \u001b[38;5;28;01mfor\u001b[39;00m i \u001b[38;5;129;01min\u001b[39;00m \u001b[38;5;28mrange\u001b[39m(\u001b[38;5;241m1\u001b[39m,\u001b[38;5;241m26\u001b[39m):\n\u001b[0;32m----> 2\u001b[0m     \u001b[38;5;28;43mprint\u001b[39;49m\u001b[43m(\u001b[49m\u001b[38;5;124;43m'\u001b[39;49m\u001b[38;5;124;43m*\u001b[39;49m\u001b[38;5;124;43m'\u001b[39;49m\u001b[43m,\u001b[49m\u001b[43m \u001b[49m\u001b[43mend\u001b[49m\u001b[38;5;241;43m=\u001b[39;49m\u001b[38;5;124;43m'\u001b[39;49m\u001b[38;5;124;43m'\u001b[39;49m\u001b[43m)\u001b[49m\u001b[38;5;241;43m*\u001b[39;49m\u001b[38;5;241;43m5\u001b[39;49m\n\u001b[1;32m      3\u001b[0m     \u001b[38;5;28;01mif\u001b[39;00m(i\u001b[38;5;241m%\u001b[39m\u001b[38;5;241m5\u001b[39m\u001b[38;5;241m==\u001b[39m\u001b[38;5;241m0\u001b[39m):\n\u001b[1;32m      4\u001b[0m         \u001b[38;5;28mprint\u001b[39m()\n",
      "\u001b[0;31mTypeError\u001b[0m: unsupported operand type(s) for *: 'NoneType' and 'int'"
     ]
    }
   ],
   "source": [
    "for i in range(1,26):\n",
    "    print('*', end='')\n",
    "    if(i%5==0):\n",
    "        print()"
   ]
  },
  {
   "cell_type": "code",
   "execution_count": 80,
   "id": "b736ba46-037a-4f15-96b4-961b64cc499e",
   "metadata": {},
   "outputs": [
    {
     "name": "stdout",
     "output_type": "stream",
     "text": [
      "입력:  10\n"
     ]
    },
    {
     "name": "stdout",
     "output_type": "stream",
     "text": [
      "hello world, counTaksqhrghlttn\n",
      "hello world, counTaksqhrghlttn\n",
      "hello world, counTaksqhrghlttn\n",
      "hello world, counTaksqhrghlttn\n",
      "hello world, counTaksqhrghlttn\n"
     ]
    }
   ],
   "source": [
    "count = int(input(\"입력: \"))\n",
    "while count< 20:\n",
    "    print(\"hello world, counTaksqhrghlttn\")\n",
    "    count+=1"
   ]
  },
  {
   "cell_type": "code",
   "execution_count": 3,
   "id": "fdd7e3f2-af94-4aed-a4de-aa8df585ee67",
   "metadata": {},
   "outputs": [
    {
     "name": "stdout",
     "output_type": "stream",
     "text": [
      "2\t4\t6\t8\t10\t12\t14\t16\t18\t20\t22\t24\t26\t28\t30\t32\t34\t36\t38\t40\t42\t44\t46\t48\t50\t52\t54\t56\t58\t60\t62\t64\t66\t68\t70\t72\t74\t76\t78\t80\t82\t84\t86\t88\t90\t92\t94\t96\t98\t100\t"
     ]
    }
   ],
   "source": [
    "num = 100\n",
    "k=2\n",
    "while k<=100:\n",
    "    if k%2==0:\n",
    "        print(k,end=\"\\t\")\n",
    "    k+=2"
   ]
  },
  {
   "cell_type": "code",
   "execution_count": 4,
   "id": "8bab3a31-33ae-4b46-8c5f-bdf8a8f39796",
   "metadata": {},
   "outputs": [
    {
     "name": "stdout",
     "output_type": "stream",
     "text": [
      "숫자 입력:  9\n"
     ]
    },
    {
     "name": "stdout",
     "output_type": "stream",
     "text": [
      "9 * 1 = 9\n",
      "9 * 2 = 18\n",
      "9 * 3 = 27\n",
      "9 * 4 = 36\n",
      "9 * 5 = 45\n",
      "9 * 6 = 54\n",
      "9 * 7 = 63\n",
      "9 * 8 = 72\n",
      "9 * 9 = 81\n"
     ]
    }
   ],
   "source": [
    "num = int(input(\"숫자 입력: \"))\n",
    "i = 1\n",
    "while i<10:\n",
    "    print(num,'*', i,'=',num*i)\n",
    "    i+=1"
   ]
  },
  {
   "cell_type": "code",
   "execution_count": 14,
   "id": "58a42840-047c-42d4-a00a-6bb317b7e0ad",
   "metadata": {},
   "outputs": [
    {
     "name": "stdout",
     "output_type": "stream",
     "text": [
      "학생의 수:  3\n",
      "1번 학생의 점수:  123\n",
      "2번 학생의 점수:  32\n",
      "3번 학생의 점수:  23\n"
     ]
    },
    {
     "name": "stdout",
     "output_type": "stream",
     "text": [
      "평균:  59.333333333333336\n"
     ]
    }
   ],
   "source": [
    "student = int(input(\"학생의 수: \"))\n",
    "i = 1\n",
    "sm = 0\n",
    "while i<=student:\n",
    "    sm += int(input(str(i)+\"번 학생의 점수: \"))\n",
    "    i+=1\n",
    "print(\"평균: \", sm/student)"
   ]
  },
  {
   "cell_type": "code",
   "execution_count": 15,
   "id": "61b2d989-4e00-4357-85e9-17d263933471",
   "metadata": {},
   "outputs": [
    {
     "name": "stdout",
     "output_type": "stream",
     "text": [
      "97\n",
      "100\n",
      "88\n"
     ]
    }
   ],
   "source": [
    "scores = (97, 100, 88)\n",
    "for _ in range(len(scores)):\n",
    "    print(scores[_])"
   ]
  },
  {
   "cell_type": "code",
   "execution_count": 19,
   "id": "49b24dee-9c05-4664-9246-9fcc21d085aa",
   "metadata": {},
   "outputs": [
    {
     "name": "stdout",
     "output_type": "stream",
     "text": [
      "79.0\n"
     ]
    }
   ],
   "source": [
    "class_a = (70, 60, 55, 75, 95, 90, 80, 80, 85, 100)\n",
    "i = 0\n",
    "s = 0\n",
    "while i<len(class_a):\n",
    "    s+=class_a[i]\n",
    "    i+=1\n",
    "print(s/len(class_a))"
   ]
  },
  {
   "cell_type": "code",
   "execution_count": 20,
   "id": "47ac47b6-6e08-4795-86d9-53b4cf660347",
   "metadata": {},
   "outputs": [
    {
     "name": "stdout",
     "output_type": "stream",
     "text": [
      "5050\n"
     ]
    }
   ],
   "source": [
    "i = 0\n",
    "total = 0\n",
    "while True:\n",
    "    i+=1\n",
    "    total+=i\n",
    "    if i==100:\n",
    "        break\n",
    "print(total)"
   ]
  },
  {
   "cell_type": "code",
   "execution_count": 29,
   "id": "50a1427a-8dfe-4866-a015-09aad0cf02bb",
   "metadata": {},
   "outputs": [
    {
     "name": "stdout",
     "output_type": "stream",
     "text": [
      "3 13 23 33 43 53 63 73 83 93\n"
     ]
    }
   ],
   "source": [
    "i = 0\n",
    "lst = []\n",
    "while True:\n",
    "    i+=1\n",
    "    if i%10 == 3:\n",
    "        lst.append(i)\n",
    "    if i==100:\n",
    "        break;\n",
    "print(str(lst).replace('[','').replace(']','').replace(',',''))"
   ]
  },
  {
   "cell_type": "code",
   "execution_count": 36,
   "id": "f02ee706-85d7-44e2-8c26-b930d9b7c60a",
   "metadata": {},
   "outputs": [
    {
     "name": "stdout",
     "output_type": "stream",
     "text": [
      "3 13 23 33 43 53 63 73 83 93 "
     ]
    }
   ],
   "source": [
    "i = 0\n",
    "while True:\n",
    "    i+=1\n",
    "    if i%10 == 3:\n",
    "        print(i,'',end = '')\n",
    "        continue\n",
    "    if i==100:\n",
    "        break;"
   ]
  },
  {
   "cell_type": "code",
   "execution_count": 30,
   "id": "3b8dd50b-4012-42c2-a337-a0bb3f6f3c62",
   "metadata": {},
   "outputs": [
    {
     "name": "stdout",
     "output_type": "stream",
     "text": [
      "번호:  4\n"
     ]
    },
    {
     "name": "stdout",
     "output_type": "stream",
     "text": [
      "업\n"
     ]
    },
    {
     "name": "stdout",
     "output_type": "stream",
     "text": [
      "번호:  50\n"
     ]
    },
    {
     "name": "stdout",
     "output_type": "stream",
     "text": [
      "업\n"
     ]
    },
    {
     "name": "stdout",
     "output_type": "stream",
     "text": [
      "번호:  75\n"
     ]
    },
    {
     "name": "stdout",
     "output_type": "stream",
     "text": [
      "업\n"
     ]
    },
    {
     "name": "stdout",
     "output_type": "stream",
     "text": [
      "번호:  80\n"
     ]
    },
    {
     "name": "stdout",
     "output_type": "stream",
     "text": [
      "업\n"
     ]
    },
    {
     "name": "stdout",
     "output_type": "stream",
     "text": [
      "번호:  90\n"
     ]
    },
    {
     "name": "stdout",
     "output_type": "stream",
     "text": [
      "업\n"
     ]
    },
    {
     "name": "stdout",
     "output_type": "stream",
     "text": [
      "번호:  95\n"
     ]
    },
    {
     "name": "stdout",
     "output_type": "stream",
     "text": [
      "다운:\n"
     ]
    },
    {
     "name": "stdout",
     "output_type": "stream",
     "text": [
      "번호:  93\n"
     ]
    },
    {
     "name": "stdout",
     "output_type": "stream",
     "text": [
      "정답입니다!\n"
     ]
    }
   ],
   "source": [
    "import random\n",
    "\n",
    "num = random.randint(1,100)\n",
    "\n",
    "while True:\n",
    "    inputNum = int(input(\"번호: \"))\n",
    "    if inputNum == num:\n",
    "        print(\"정답입니다!\")\n",
    "        break;\n",
    "    elif inputNum > num:\n",
    "        print(\"다운:\")\n",
    "        continue\n",
    "    else:\n",
    "        print(\"업\")"
   ]
  },
  {
   "cell_type": "code",
   "execution_count": 42,
   "id": "4b5201d8-78d3-43e4-8261-95b62c8d4cee",
   "metadata": {},
   "outputs": [
    {
     "name": "stdout",
     "output_type": "stream",
     "text": [
      "1 2 3 4 5 6 7 8 9 10 \n",
      "1 2 3 4 5 6 7 8 9 10 "
     ]
    }
   ],
   "source": [
    "i =  1 \n",
    "while i<11:\n",
    "    print(i,end = \" \")\n",
    "    i+=1\n",
    "print()\n",
    "for _ in range(1, 11):\n",
    "    print(_,end = \" \")"
   ]
  },
  {
   "cell_type": "code",
   "execution_count": 46,
   "id": "a74447a0-f6da-444d-a81a-f827155e3112",
   "metadata": {},
   "outputs": [
    {
     "name": "stdout",
     "output_type": "stream",
     "text": [
      "시작하는 정수 입력:  1\n",
      "끝나는 정수 입력:  10\n"
     ]
    },
    {
     "name": "stdout",
     "output_type": "stream",
     "text": [
      "1 부터 10 까지의 합은 55 입니다\n"
     ]
    },
    {
     "name": "stdout",
     "output_type": "stream",
     "text": [
      "시작하는 정수 입력:  1\n",
      "끝나는 정수 입력:  10\n"
     ]
    },
    {
     "name": "stdout",
     "output_type": "stream",
     "text": [
      "1 부터 10 까지의 합은 55 입니다\n",
      "1부터 10까지의 합은 55 입니다\n"
     ]
    }
   ],
   "source": [
    "#FOR\n",
    "n = int(input(\"시작하는 정수 입력: \"))\n",
    "m = int(input(\"끝나는 정수 입력: \"))\n",
    "numSum = 0\n",
    "for _ in range(n,m+1):\n",
    "    numSum += _\n",
    "print(n,\"부터\",m,\"까지의 합은\", numSum,\"입니다\")\n",
    "\n",
    "#While\n",
    "n = int(input(\"시작하는 정수 입력: \"))\n",
    "m = int(input(\"끝나는 정수 입력: \"))\n",
    "i = 0\n",
    "numSum = 0\n",
    "while True:\n",
    "    numSum += i\n",
    "    i+=1\n",
    "    if(i>m): \n",
    "        break\n",
    "print(n,\"부터\",m,\"까지의 합은\", numSum,\"입니다\")\n",
    "print(f'{n}부터 {m}까지의 합은 {numSum} 입니다') #문자열 포맷팅"
   ]
  },
  {
   "cell_type": "code",
   "execution_count": 59,
   "id": "ae0eaf45-82e8-4910-87f6-1d3b85ae4865",
   "metadata": {},
   "outputs": [
    {
     "name": "stdout",
     "output_type": "stream",
     "text": [
      "시작하는 정수 입력:  4\n",
      "끝나는 정수 입력:  7\n"
     ]
    },
    {
     "name": "stdout",
     "output_type": "stream",
     "text": [
      "total = 52\n"
     ]
    },
    {
     "name": "stdout",
     "output_type": "stream",
     "text": [
      "시작하는 정수 입력:  4\n",
      "끝나는 정수 입력:  7\n"
     ]
    },
    {
     "name": "stdout",
     "output_type": "stream",
     "text": [
      "total = 52\n"
     ]
    }
   ],
   "source": [
    "n = int(input(\"시작하는 정수 입력: \"))\n",
    "m = int(input(\"끝나는 정수 입력: \"))\n",
    "total = 0 \n",
    "\n",
    "#For loop\n",
    "for _ in range(n, m+1):\n",
    "    if _%2 != 0:\n",
    "        continue\n",
    "    total = total + _**2\n",
    "print(f'total = {total}')\n",
    "\n",
    "#While loop\n",
    "\n",
    "total=0\n",
    "n = int(input(\"시작하는 정수 입력: \"))\n",
    "m = int(input(\"끝나는 정수 입력: \"))\n",
    "i = n\n",
    "while True:\n",
    "    if i%2 != 0:\n",
    "        i+=1\n",
    "        continue\n",
    "    total = total + i**2\n",
    "    i+=1\n",
    "\n",
    "    if i==m:\n",
    "        break\n",
    "\n",
    "print(f'total = {total}')\n"
   ]
  },
  {
   "cell_type": "code",
   "execution_count": 68,
   "id": "ab35d0b7-a66c-4ff2-b3ca-ee78ed997e89",
   "metadata": {},
   "outputs": [
    {
     "name": "stdout",
     "output_type": "stream",
     "text": [
      "average = 79.0\n",
      "average = 79.0\n",
      "average = 79.0\n"
     ]
    }
   ],
   "source": [
    "Kor = [70, 60, 55, 75, 95, 90, 80, 80, 85, 100]\n",
    "total = sum(Kor)\n",
    "avg= total/len(Kor)\n",
    "#Use Function \n",
    "print(f'average = {avg}')\n",
    "\n",
    "#Use For Loop\n",
    "total = 0\n",
    "for _ in Kor:\n",
    "    total+=_\n",
    "print(f'average = {total/len(Kor)}')\n",
    "\n",
    "#Use While Loop\n",
    "total = 0\n",
    "num = len(Kor)\n",
    "while len(Kor) != 0:\n",
    "    total += Kor.pop()\n",
    "print(f'average = {total/num}')"
   ]
  },
  {
   "cell_type": "code",
   "execution_count": 75,
   "id": "5485fc1b-3775-44cf-9611-3cf5b2ae1712",
   "metadata": {},
   "outputs": [
    {
     "name": "stdout",
     "output_type": "stream",
     "text": [
      "234168\n",
      "234168\n"
     ]
    }
   ],
   "source": [
    "total = 0\n",
    "\n",
    "#For loop\n",
    "for _ in range(1,1001):\n",
    "    if _ % 3 == 0 or _%5==0:\n",
    "        total +=_\n",
    "print(total)\n",
    "\n",
    "#While Loop\n",
    "i = 1\n",
    "total = 0\n",
    "while i<1001:\n",
    "    if i % 3 == 0 or i%5==0:\n",
    "        total +=i\n",
    "    i+=1\n",
    "print(total)"
   ]
  },
  {
   "cell_type": "code",
   "execution_count": null,
   "id": "275cc92c-7c98-4bdc-9557-eac1f8ce86ba",
   "metadata": {},
   "outputs": [],
   "source": []
  }
 ],
 "metadata": {
  "kernelspec": {
   "display_name": "Python 3",
   "language": "python",
   "name": "python3"
  },
  "language_info": {
   "codemirror_mode": {
    "name": "ipython",
    "version": 3
   },
   "file_extension": ".py",
   "mimetype": "text/x-python",
   "name": "python",
   "nbconvert_exporter": "python",
   "pygments_lexer": "ipython3",
   "version": "3.9.4 (default, Sep 19 2022, 20:45:35) \n[Clang 12.0.5 (clang-1205.0.22.9)]"
  },
  "vscode": {
   "interpreter": {
    "hash": "2d7f4db1d613ee4b2d2ebeae5876b92e66a31c9cb18f7b3ca1ac02b1bc62896c"
   }
  }
 },
 "nbformat": 4,
 "nbformat_minor": 5
}
