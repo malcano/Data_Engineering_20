{
 "cells": [
  {
   "cell_type": "code",
   "execution_count": 15,
   "id": "35ff6a62-fb81-4429-8ef6-566ad6073527",
   "metadata": {},
   "outputs": [
    {
     "name": "stdout",
     "output_type": "stream",
     "text": [
      "실기 점수를 입력하세요 70 50 85 98 82\n"
     ]
    },
    {
     "name": "stdout",
     "output_type": "stream",
     "text": [
      "79.0\n"
     ]
    }
   ],
   "source": [
    "import math\n",
    "\n",
    "score = list(input(\"실기 점수를 입력하세요\").split(' '))\n",
    "score = list(map(int, score))\n",
    "score.sort()\n",
    "score = score[1:len(score)-1]\n",
    "\n",
    "print(sum(score)/len(score))"
   ]
  },
  {
   "cell_type": "code",
   "execution_count": 19,
   "id": "0131fcdb-c271-4dac-87ce-93c4bfcbbe04",
   "metadata": {},
   "outputs": [
    {
     "name": "stdout",
     "output_type": "stream",
     "text": [
      "[2, 1, 1, 1, 0]\n"
     ]
    }
   ],
   "source": [
    "lst = [86,72,98,60,45]\n",
    "grade_counter = [0,0,0,0,0]\n",
    "\n",
    "for _ in lst:\n",
    "    if(_>=85):\n",
    "        grade_counter[0]+=1\n",
    "    elif(_>=70):\n",
    "        grade_counter[1]+=1\n",
    "    elif(_>=55):\n",
    "        grade_counter[2]+=1\n",
    "    elif(_>=40):\n",
    "        grade_counter[3]+=1\n",
    "    else :\n",
    "        grade_counter[4]+=1\n",
    "print(grade_counter)"
   ]
  },
  {
   "cell_type": "code",
   "execution_count": 28,
   "id": "96759b31-fe38-4f40-90e7-10f35d648c1e",
   "metadata": {},
   "outputs": [
    {
     "name": "stdout",
     "output_type": "stream",
     "text": [
      "1\t2\tFizz\t4\tBuzz\tFizz\t7\t8\tFizz\tBuzz\t11\tFizz\t13\t14\tFizzBuzz\t16\t17\tFizz\t19\tBuzz\tFizz\t22\t23\tFizz\tBuzz\t26\tFizz\t28\t29\tFizzBuzz\t31\t32\tFizz\t34\tBuzz\tFizz\t37\t38\tFizz\tBuzz\t41\tFizz\t43\t44\tFizzBuzz\t46\t47\tFizz\t49\tBuzz\tFizz\t52\t53\tFizz\tBuzz\t56\tFizz\t58\t59\tFizzBuzz\t61\t62\tFizz\t64\tBuzz\tFizz\t67\t68\tFizz\tBuzz\t71\tFizz\t73\t74\tFizzBuzz\t76\t77\tFizz\t79\tBuzz\tFizz\t82\t83\tFizz\tBuzz\t86\tFizz\t88\t89\tFizzBuzz\t91\t92\tFizz\t94\tBuzz\tFizz\t97\t98\tFizz\tBuzz\t"
     ]
    }
   ],
   "source": [
    "for _ in range(1,101):\n",
    "    print(\"Fizz\" * (_%3==0)+\"Buzz\"*(_%5==0) or _, end = '\\t')"
   ]
  },
  {
   "cell_type": "code",
   "execution_count": 52,
   "id": "74fea30e-219c-4350-b110-90d734f74f69",
   "metadata": {},
   "outputs": [
    {
     "name": "stdout",
     "output_type": "stream",
     "text": [
      "m,h 이름 포함된 사람 수: 3\n"
     ]
    }
   ],
   "source": [
    "name_list = ['matthew', 'mark','luke','john','paul','peter']\n",
    "result = 0\n",
    "for _ in name_list:\n",
    "    if 'm' in _ or 'h' in _:\n",
    "        result+=1\n",
    "            \n",
    "print(\"m,h 이름 포함된 사람 수:\",result)"
   ]
  },
  {
   "cell_type": "code",
   "execution_count": 55,
   "id": "757f3f3b-0958-451f-bf45-d3930a1b9746",
   "metadata": {},
   "outputs": [
    {
     "name": "stdout",
     "output_type": "stream",
     "text": [
      "1번 학생 축하합니다. 합격입니다\n",
      "3번 학생 축하합니다. 합격입니다\n",
      "5번 학생 축하합니다. 합격입니다\n"
     ]
    }
   ],
   "source": [
    "marks= [90,25,67, 45, 80]\n",
    "for _ in range(0,len(marks)):\n",
    "    if marks[_]>=60:\n",
    "        print(f\"{_+1}번 학생 축하합니다. 합격입니다\")"
   ]
  },
  {
   "cell_type": "code",
   "execution_count": 63,
   "id": "8119154b-bec9-4aac-a3ae-496a6aa68316",
   "metadata": {},
   "outputs": [
    {
     "name": "stdout",
     "output_type": "stream",
     "text": [
      "arr:  [3, 2, 4, 1]\n"
     ]
    }
   ],
   "source": [
    "arr = [1,4,2,3]\n",
    "left, right = 0, len(arr)-1\n",
    "while left<right:\n",
    "    arr[left], arr[right] = arr[right], arr[left]\n",
    "    left+=1\n",
    "    right-=1\n",
    "print(\"arr: \",arr)"
   ]
  },
  {
   "cell_type": "code",
   "execution_count": 68,
   "id": "e812e805-7fbc-405c-83c3-1c53a0a46d76",
   "metadata": {},
   "outputs": [
    {
     "name": "stdout",
     "output_type": "stream",
     "text": [
      "2x1=2\t3x1=3\t4x1=4\t5x1=5\t6x1=6\t7x1=7\t8x1=8\t9x1=9\t\n",
      "2x2=4\t3x2=6\t4x2=8\t5x2=10\t6x2=12\t7x2=14\t8x2=16\t9x2=18\t\n",
      "2x3=6\t3x3=9\t4x3=12\t5x3=15\t6x3=18\t7x3=21\t8x3=24\t9x3=27\t\n",
      "2x4=8\t3x4=12\t4x4=16\t5x4=20\t6x4=24\t7x4=28\t8x4=32\t9x4=36\t\n",
      "2x5=10\t3x5=15\t4x5=20\t5x5=25\t6x5=30\t7x5=35\t8x5=40\t9x5=45\t\n",
      "2x6=12\t3x6=18\t4x6=24\t5x6=30\t6x6=36\t7x6=42\t8x6=48\t9x6=54\t\n",
      "2x7=14\t3x7=21\t4x7=28\t5x7=35\t6x7=42\t7x7=49\t8x7=56\t9x7=63\t\n",
      "2x8=16\t3x8=24\t4x8=32\t5x8=40\t6x8=48\t7x8=56\t8x8=64\t9x8=72\t\n",
      "2x9=18\t3x9=27\t4x9=36\t5x9=45\t6x9=54\t7x9=63\t8x9=72\t9x9=81\t\n"
     ]
    }
   ],
   "source": [
    "n, m = 1,1\n",
    "\n",
    "for i in range(1,10):\n",
    "    for j in range(2,10):\n",
    "        print(f'{j}x{i}={i*j}', end='\\t')\n",
    "    print()"
   ]
  },
  {
   "cell_type": "code",
   "execution_count": 70,
   "id": "ef32d8ea-2bc3-42b8-a1d3-414b867b9f81",
   "metadata": {},
   "outputs": [
    {
     "name": "stdout",
     "output_type": "stream",
     "text": [
      "<class 'dict'>\n",
      "{'key': 'value'}\n"
     ]
    }
   ],
   "source": [
    "dic_var = {\"key\": \"value\"}\n",
    "print(type(dic_var))\n",
    "print(dic_var)"
   ]
  },
  {
   "cell_type": "code",
   "execution_count": 73,
   "id": "9b44c4e7-a4f2-4e66-a055-ee84b053701e",
   "metadata": {},
   "outputs": [
    {
     "name": "stdout",
     "output_type": "stream",
     "text": [
      "[<class 'str'>, <class 'int'>, <class 'float'>, <class 'tuple'>]\n"
     ]
    }
   ],
   "source": [
    "dic_var = {\"key\" : \"value\",\n",
    "           1: \"value2\",\n",
    "           1.1:\"value3\",\n",
    "           True:\"value4\",\n",
    "           (\"key\",1,1.1, True):\"value2\"}\n",
    "print(list(map(type, dic_var.keys())))"
   ]
  },
  {
   "cell_type": "code",
   "execution_count": 77,
   "id": "5a6fb701-1ab6-410c-aa06-c103ea909d1a",
   "metadata": {},
   "outputs": [
    {
     "name": "stdout",
     "output_type": "stream",
     "text": [
      "{'key': 'value', 'key2': 'value2', 'key3': 'value3'}\n",
      "{'key': 'super value', 'key2': 'value2', 'key3': 'value3'}\n",
      "{'key': 'super value', 'key2': 'value2', 'key3': 'value3'}\n",
      "3\n"
     ]
    }
   ],
   "source": [
    "dict_b = dict(zip([\"key\",\"key2\",\"key3\"],[\"value\", \"value2\", \"value3\"]))\n",
    "print(dict_b)\n",
    "dict_b['key'] = \"super value\"\n",
    "print(dict_b)\n",
    "\n",
    "print(dict_b)\n",
    "print(len(dict_b))\n"
   ]
  },
  {
   "cell_type": "code",
   "execution_count": 82,
   "id": "1827371f-277b-4ee0-b0ad-4583e0856dc8",
   "metadata": {},
   "outputs": [
    {
     "name": "stdout",
     "output_type": "stream",
     "text": [
      "과일 이름을 입력하세요:  바나나\n"
     ]
    },
    {
     "name": "stdout",
     "output_type": "stream",
     "text": [
      "바나나의 가격은 700압니다\n",
      "{'key': 'super value', 'key2': 'value2', 'key3': 'value3'}\n"
     ]
    }
   ],
   "source": [
    "fruit = {\"사과\":1000,\n",
    "         \"바나나\": 700,\n",
    "         \"오렌지\": 1500,\n",
    "         \"파인애플\":2000}\n",
    "val = input(\"과일 이름을 입력하세요: \")\n",
    "print(f\"{val}의 가격은 {fruit[val]}압니다\")\n",
    "\n",
    "print(dict_b)"
   ]
  },
  {
   "cell_type": "code",
   "execution_count": 87,
   "id": "07ffa691-d146-4c9f-90a9-4052aad43012",
   "metadata": {},
   "outputs": [
    {
     "name": "stdout",
     "output_type": "stream",
     "text": [
      "이름을 기입해주세요:  뽀로로 루피 크롱 스누피\n",
      "몸무게를 기입해주세요:  20.4 15.2 22.3 5.2\n"
     ]
    },
    {
     "name": "stdout",
     "output_type": "stream",
     "text": [
      "{'뽀로로': 20.4, '루피': 15.2, '크롱': 22.3, '스누피': 5.2}\n"
     ]
    }
   ],
   "source": [
    "name = input(\"이름을 기입해주세요: \").split(' ')\n",
    "weight = map(float, input(\"몸무게를 기입해주세요: \").split(' '))\n",
    "dict_b = dict(zip(name, weight))\n",
    "print(dict_b)"
   ]
  },
  {
   "cell_type": "code",
   "execution_count": 91,
   "id": "729c5d9c-8627-40f6-a884-61b0510a1239",
   "metadata": {},
   "outputs": [
    {
     "name": "stdout",
     "output_type": "stream",
     "text": [
      "이름을 기입해주세요:  20.4 15.2 22.3 5.2\n",
      "몸무게를 기입해주세요:  20.4 15.2 22.3 5.2\n"
     ]
    }
   ],
   "source": [
    "name = input(\"이름을 기입해주세요: \").split(' ')\n",
    "weight = list(map(float, input(\"몸무게를 기입해주세요: \").split(' ')))\n",
    "\n",
    "dict_mm = {}\n",
    "#dict_mm = dict()\n",
    "#len(names) # 4\n",
    "#range(4) #0,1,2,3\n",
    "for i in range(len(name)):\n",
    "    dict_mm[name[i]] = weight[i]\n"
   ]
  },
  {
   "cell_type": "code",
   "execution_count": 95,
   "id": "bd357c87-d741-4958-a3e2-f499986af532",
   "metadata": {},
   "outputs": [
    {
     "name": "stdout",
     "output_type": "stream",
     "text": [
      "[0, 1, 4, 9, 16, 25, 36, 49, 64, 81]\n"
     ]
    }
   ],
   "source": [
    "#list_variable = [expression for 변수 in iterable]\n",
    "\n",
    "list_a = [ _**2 for _ in range(10)]\n",
    "print(list_a)"
   ]
  },
  {
   "cell_type": "code",
   "execution_count": 96,
   "id": "403d60ec-011c-4467-bb73-4d139630b0c4",
   "metadata": {},
   "outputs": [
    {
     "name": "stdout",
     "output_type": "stream",
     "text": [
      "<class 'list'>\n",
      "[1, 4, 9, 16, 25, 36, 49, 64, 81]\n"
     ]
    }
   ],
   "source": [
    "prac_result = [_**2 for _ in range(1,10)]\n",
    "print(type(prac_result))\n",
    "print(prac_result)"
   ]
  },
  {
   "cell_type": "code",
   "execution_count": null,
   "id": "655246d4-7930-444d-b7c2-f2d4f47d082d",
   "metadata": {},
   "outputs": [],
   "source": []
  }
 ],
 "metadata": {
  "kernelspec": {
   "display_name": "Python 3 (ipykernel)",
   "language": "python",
   "name": "python3"
  },
  "language_info": {
   "codemirror_mode": {
    "name": "ipython",
    "version": 3
   },
   "file_extension": ".py",
   "mimetype": "text/x-python",
   "name": "python",
   "nbconvert_exporter": "python",
   "pygments_lexer": "ipython3",
   "version": "3.9.13"
  }
 },
 "nbformat": 4,
 "nbformat_minor": 5
}
