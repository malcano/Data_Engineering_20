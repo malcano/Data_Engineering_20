{
 "cells": [
  {
   "cell_type": "code",
   "execution_count": 4,
   "id": "6be10cc6-00af-4473-ba8a-62bd827d587e",
   "metadata": {},
   "outputs": [
    {
     "name": "stdout",
     "output_type": "stream",
     "text": [
      "hello world\n"
     ]
    }
   ],
   "source": [
    "text='hello world'\n",
    "print(text)"
   ]
  },
  {
   "cell_type": "code",
   "execution_count": 3,
   "id": "fb2a84d6-60e1-4fba-8845-9211ecc398c4",
   "metadata": {},
   "outputs": [
    {
     "name": "stdout",
     "output_type": "stream",
     "text": [
      "Hello world!\n",
      "Hello world!\n",
      "Python Programming\n"
     ]
    }
   ],
   "source": [
    "text = 'Hello world!'\n",
    "\n",
    "for i in range(2):\n",
    "    print(text)\n",
    "print('Python Programming')\n",
    "\n"
   ]
  },
  {
   "cell_type": "code",
   "execution_count": 11,
   "id": "cc9195db-e4da-46cf-a6eb-437b93d44521",
   "metadata": {},
   "outputs": [
    {
     "name": "stdout",
     "output_type": "stream",
     "text": [
      "89\n",
      "28.2\n"
     ]
    }
   ],
   "source": [
    "print(13+(22-3)*4)\n",
    "print(13+((22-3)*4)/5)"
   ]
  },
  {
   "cell_type": "code",
   "execution_count": 18,
   "id": "2f86c48e-1095-4e5c-a0ac-70c661fc2d9a",
   "metadata": {},
   "outputs": [
    {
     "name": "stdout",
     "output_type": "stream",
     "text": [
      "가장 시끄러운 층은  7 층입니다.\n"
     ]
    }
   ],
   "source": [
    "x = 0.2467 * 12 + 4.159\n",
    "#print(int(x))\n",
    "print('가장 시끄러운 층은 ',int(x),'층입니다.')"
   ]
  },
  {
   "cell_type": "code",
   "execution_count": 3,
   "id": "d3ad8e7d-1dd9-432f-a92c-b2e579580958",
   "metadata": {},
   "outputs": [
    {
     "name": "stdin",
     "output_type": "stream",
     "text": [
      " 53000\n"
     ]
    },
    {
     "name": "stdout",
     "output_type": "stream",
     "text": [
      "냉장고 가격:  1272000\n"
     ]
    }
   ],
   "source": [
    "price = input()\n",
    "price = 24*int(price)\n",
    "print('냉장고 가격: ', price)\n"
   ]
  },
  {
   "cell_type": "code",
   "execution_count": 8,
   "id": "e0a5d0ce-2636-4ff8-adb4-a4b2f051cde2",
   "metadata": {},
   "outputs": [
    {
     "name": "stdout",
     "output_type": "stream",
     "text": [
      "16500000\n"
     ]
    }
   ],
   "source": [
    "bPrice = 20000\n",
    "people = 250\n",
    "tax = 0.1\n",
    "result = bPrice*people*(1+tax)*3\n",
    "print(int(result))"
   ]
  },
  {
   "cell_type": "code",
   "execution_count": 9,
   "id": "f9dea571-7cce-4fe5-a8b3-da75060c565b",
   "metadata": {},
   "outputs": [
    {
     "data": {
      "text/plain": [
       "0.001234"
      ]
     },
     "execution_count": 9,
     "metadata": {},
     "output_type": "execute_result"
    }
   ],
   "source": [
    "1.234e-3"
   ]
  },
  {
   "cell_type": "code",
   "execution_count": 11,
   "id": "691518f0-22a8-4c26-aef9-251ae5ca3157",
   "metadata": {},
   "outputs": [
    {
     "data": {
      "text/plain": [
       "42"
      ]
     },
     "execution_count": 11,
     "metadata": {},
     "output_type": "execute_result"
    }
   ],
   "source": [
    "0b101010"
   ]
  },
  {
   "cell_type": "code",
   "execution_count": 13,
   "id": "001e2fa1-ac0b-41d1-800a-d1da8423a33a",
   "metadata": {},
   "outputs": [
    {
     "name": "stdin",
     "output_type": "stream",
     "text": [
      " 380\n"
     ]
    },
    {
     "name": "stdout",
     "output_type": "stream",
     "text": [
      "453.0\n"
     ]
    }
   ],
   "source": [
    "#given ap = 380\n",
    "AP = input()\n",
    "AP = int(AP)*0.6+225\n",
    "print(AP)"
   ]
  },
  {
   "cell_type": "code",
   "execution_count": 15,
   "id": "432bb1cd-cd20-4de8-89c8-b97e659d3753",
   "metadata": {},
   "outputs": [
    {
     "name": "stdout",
     "output_type": "stream",
     "text": [
      "20\n"
     ]
    }
   ],
   "source": [
    "a = 10\n",
    "a = a+10\n",
    "print(a)\n",
    "#del a\n",
    "#print(a)#Name Error"
   ]
  },
  {
   "cell_type": "code",
   "execution_count": 16,
   "id": "64152d0a-ed34-454a-9fce-d494bd4be908",
   "metadata": {},
   "outputs": [
    {
     "name": "stdout",
     "output_type": "stream",
     "text": [
      "\"안녕?\"이라는 인사를 듣고 나는 '누구지?'라고 생각했다.\n"
     ]
    }
   ],
   "source": [
    "print(\"\\\"안녕?\\\"이라는 인사를 듣고 나는 '누구지?'라고 생각했다.\")"
   ]
  },
  {
   "cell_type": "code",
   "execution_count": 26,
   "id": "08cfd279-d3db-4d8a-b3a0-31caecd807f2",
   "metadata": {},
   "outputs": [
    {
     "name": "stdout",
     "output_type": "stream",
     "text": [
      "\"안녕하세요.\"\n",
      "저는 파이썬을 공부하고 있습니다. \n",
      "반갑습니다.\n"
     ]
    }
   ],
   "source": [
    "s4 = \"\"\"\\\n",
    "\\\"안녕하세요.\\\"\n",
    "저는 파이썬을 공부하고 있습니다. \n",
    "반갑습니다.\\\n",
    "\"\"\"\n",
    "print(s4)"
   ]
  },
  {
   "cell_type": "code",
   "execution_count": 28,
   "id": "d0c117ac-1727-4211-9489-66d595b5c58b",
   "metadata": {},
   "outputs": [
    {
     "name": "stdout",
     "output_type": "stream",
     "text": [
      "너무 너무 너무 너무 너무 너무 너무 파이썬 공부가 즐겁습니다.\n"
     ]
    }
   ],
   "source": [
    "too = \"너무 \"\n",
    "print(too*7 + \"파이썬 공부가 즐겁습니다.\")"
   ]
  },
  {
   "cell_type": "code",
   "execution_count": 31,
   "id": "0f0d3249-a292-450b-aac5-6d99bf453073",
   "metadata": {},
   "outputs": [
    {
     "name": "stdout",
     "output_type": "stream",
     "text": [
      "P\n"
     ]
    }
   ],
   "source": [
    "word = \"Python\"\n",
    "print(word[0])"
   ]
  },
  {
   "cell_type": "code",
   "execution_count": 34,
   "id": "4200727e-46a5-4233-9550-252f85374de8",
   "metadata": {},
   "outputs": [
    {
     "name": "stdout",
     "output_type": "stream",
     "text": [
      "꺾\n"
     ]
    }
   ],
   "source": [
    "sentence = \"중요한 것은 꺾이지 않는 마음\"\n",
    "output = sentence.find(\"꺾\")\n",
    "print(sentence[output])"
   ]
  },
  {
   "cell_type": "code",
   "execution_count": 37,
   "id": "bd17e042-4aff-40bb-9052-e6c86259589b",
   "metadata": {},
   "outputs": [],
   "source": [
    "word = \"python\"\n",
    "#대충 substring 출력한다는 내용"
   ]
  },
  {
   "cell_type": "code",
   "execution_count": 43,
   "id": "f6d65c55-a874-4c55-8203-dd893a10b399",
   "metadata": {},
   "outputs": [
    {
     "name": "stdout",
     "output_type": "stream",
     "text": [
      "꺾이지 않는 마음\n",
      "한요중\n"
     ]
    }
   ],
   "source": [
    "sentence = \"중요한 것은 꺾이지 않는 마음\"\n",
    "print(sentence[sentence.find('꺾'):])\n",
    "print(sentence[sentence.find('한')::-1])"
   ]
  },
  {
   "cell_type": "code",
   "execution_count": 45,
   "id": "161273fe-99d0-45ba-a4fc-8a82fafcbd0a",
   "metadata": {},
   "outputs": [
    {
     "name": "stdout",
     "output_type": "stream",
     "text": [
      "안아줘요안아줘요안아줘요안아줘요안아줘요안아줘요안아줘요안아줘요안아줘요안아줘요\n",
      "40\n"
     ]
    }
   ],
   "source": [
    "s7 = '안아줘요'*10\n",
    "print(s7)\n",
    "print(len(s7))"
   ]
  },
  {
   "cell_type": "code",
   "execution_count": 46,
   "id": "17c2e155-006a-4553-bb07-3d8336f152a1",
   "metadata": {},
   "outputs": [
    {
     "name": "stdout",
     "output_type": "stream",
     "text": [
      "[1, 4, 9, 16, 25]\n"
     ]
    }
   ],
   "source": [
    "squares = [1,2,3,4,5]\n",
    "for i in range(len(squares)):\n",
    "    squares[i] = squares[i]**2\n",
    "print(squares)"
   ]
  },
  {
   "cell_type": "code",
   "execution_count": 9,
   "id": "14a93f8a-e46e-4dad-b285-4feb8b0f6d4c",
   "metadata": {},
   "outputs": [
    {
     "name": "stdout",
     "output_type": "stream",
     "text": [
      "t t l\n"
     ]
    }
   ],
   "source": [
    "x = \"Don't want no riddle\"\n",
    "print(x[4]+\" \"+x[9]+\" \"+x[18])"
   ]
  },
  {
   "cell_type": "markdown",
   "id": "183bcfe7-1815-4c5f-a743-b8a28602e2e7",
   "metadata": {},
   "source": [
    "# MARKDOWN TEST(23.01.05)\n",
    "\n"
   ]
  },
  {
   "cell_type": "code",
   "execution_count": null,
   "id": "eaa55bd1-08b4-42e3-a952-0eadd5fb77ba",
   "metadata": {},
   "outputs": [],
   "source": [
    "a=\"2023년\"\n",
    "b=100\n",
    "c=None\n",
    "d=False\n",
    "print(a)\n",
    "print(b)\n",
    "print(c)\n",
    "print(d)"
   ]
  },
  {
   "cell_type": "code",
   "execution_count": 20,
   "id": "3f2099a4-63f2-4f95-85d4-50d8ba2ad18e",
   "metadata": {},
   "outputs": [
    {
     "name": "stdout",
     "output_type": "stream",
     "text": [
      "zxvtrpnlj\n"
     ]
    }
   ],
   "source": [
    "letters = 'abcdefghijklmnopqrstuvwxyz'\n",
    "print(letters[:letters.find('i'):-2])"
   ]
  },
  {
   "cell_type": "markdown",
   "id": "5590dceb-0e3c-439c-9693-c5c236e346b0",
   "metadata": {},
   "source": [
    "```python\n",
    "for _ in range(10):\n",
    "    print('hello world')\n",
    "```"
   ]
  },
  {
   "cell_type": "code",
   "execution_count": 27,
   "id": "979ce796-dc98-4ada-9d35-bf15bb733a02",
   "metadata": {},
   "outputs": [
    {
     "name": "stdout",
     "output_type": "stream",
     "text": [
      "False\n"
     ]
    }
   ],
   "source": [
    "scores = [88, 73, 89, 59, 77]\n",
    "for _ in range(len(scores)):\n",
    "    if(scores[_]<60):\n",
    "        print(False)\n",
    "        break"
   ]
  },
  {
   "cell_type": "code",
   "execution_count": 32,
   "id": "2004d8d5-6866-4d81-be4f-9ea3403ebda3",
   "metadata": {},
   "outputs": [
    {
     "name": "stdout",
     "output_type": "stream",
     "text": [
      "[8]\n",
      "[8, 9, 10, 11]\n",
      "[8, 10, 11]\n"
     ]
    }
   ],
   "source": [
    "numbers = []\n",
    "numbers.append(8)\n",
    "print(numbers)\n",
    "numbers.extend([9,10,11])\n",
    "print(numbers)\n",
    "\n",
    "numbers.remove(9)\n",
    "print(numbers)\n"
   ]
  },
  {
   "cell_type": "code",
   "execution_count": 37,
   "id": "7855a0e7-1599-48b6-a931-ee10b4f67381",
   "metadata": {},
   "outputs": [
    {
     "name": "stdout",
     "output_type": "stream",
     "text": [
      "1\n"
     ]
    }
   ],
   "source": [
    "tuple_var = (1,2,3,4,5,\"temst\")\n",
    "print(tuple_var.index(2))"
   ]
  },
  {
   "cell_type": "markdown",
   "id": "750c9bf0-70fb-4ec0-878c-a490f5c68f66",
   "metadata": {},
   "source": [
    "## Tuple vs List"
   ]
  },
  {
   "cell_type": "code",
   "execution_count": 38,
   "id": "e44aaaa6-839a-47c8-a6db-14994c46ad5d",
   "metadata": {},
   "outputs": [
    {
     "name": "stdout",
     "output_type": "stream",
     "text": [
      "1672886934.414196\n",
      "0.15350794792175293\n"
     ]
    }
   ],
   "source": [
    "import time\n",
    "\n",
    "curr = time.time()\n",
    "print(curr)\n",
    "total = []\n",
    "\n",
    "for i in range(1000):\n",
    "    for j in range(1000):\n",
    "        total.append((i,j))\n",
    "\n",
    "last = time.time()\n",
    "print(last-curr)"
   ]
  },
  {
   "cell_type": "code",
   "execution_count": 40,
   "id": "e94cfc7f-4a90-4863-bce1-cd72a8a8af62",
   "metadata": {},
   "outputs": [
    {
     "name": "stdout",
     "output_type": "stream",
     "text": [
      "1672886993.449624\n",
      "0.4062778949737549\n"
     ]
    }
   ],
   "source": [
    "import time\n",
    "\n",
    "curr = time.time()\n",
    "print(curr)\n",
    "total = []\n",
    "\n",
    "for i in range(1000):\n",
    "    for j in range(1000):\n",
    "        total.append([i,j])\n",
    "\n",
    "last = time.time()\n",
    "print(last-curr)"
   ]
  },
  {
   "cell_type": "markdown",
   "id": "fb863b24-a364-4057-8abb-9abb2a8ce64f",
   "metadata": {},
   "source": [
    "## Unpacking"
   ]
  },
  {
   "cell_type": "code",
   "execution_count": 42,
   "id": "f5bb40b6-738a-49b2-837d-67784176d43a",
   "metadata": {},
   "outputs": [
    {
     "name": "stdout",
     "output_type": "stream",
     "text": [
      "text1\n",
      "text2\n"
     ]
    }
   ],
   "source": [
    "s1, s2 = \"text1\", \"text2\"\n",
    "print(s1)\n",
    "print(s2)\n",
    "#튜플을 어쩌고 해서 저쩌고 하는게 맞다. \n",
    "#리스트도 되고, 문자열도 unpacking이 된다\n"
   ]
  },
  {
   "cell_type": "code",
   "execution_count": null,
   "id": "bce0fb85-e1f1-48ac-af8c-997efb2cd789",
   "metadata": {},
   "outputs": [],
   "source": []
  }
 ],
 "metadata": {
  "kernelspec": {
   "display_name": "Python 3 (ipykernel)",
   "language": "python",
   "name": "python3"
  },
  "language_info": {
   "codemirror_mode": {
    "name": "ipython",
    "version": 3
   },
   "file_extension": ".py",
   "mimetype": "text/x-python",
   "name": "python",
   "nbconvert_exporter": "python",
   "pygments_lexer": "ipython3",
   "version": "3.9.13"
  }
 },
 "nbformat": 4,
 "nbformat_minor": 5
}
