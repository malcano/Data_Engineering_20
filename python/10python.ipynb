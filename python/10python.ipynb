{
 "cells": [
  {
   "cell_type": "markdown",
   "id": "0217ef26",
   "metadata": {},
   "source": [
    "# 230113 파이썬 수업 내용"
   ]
  },
  {
   "cell_type": "code",
   "execution_count": 1,
   "id": "c6aba05c-8151-4be1-bc30-912466e90435",
   "metadata": {},
   "outputs": [
    {
     "name": "stdout",
     "output_type": "stream",
     "text": [
      "list_strs = ['f', 'a', 's', 'd', 'j', 'f', 'i', 'o', 'j', 'i', 'o', 'w', 'e', 'j', 'f', 'i', 'o', 'w', 'e']\n",
      "\n",
      "whole_str = f*a*s*d*j*f*i*o*j*i*o*w*e*j*f*i*o*w*e\n"
     ]
    }
   ],
   "source": [
    "list_strs = [ _ for _ in \"fasdjfiojiowejfiowe\"]\n",
    "print(f\"list_strs = {list_strs}\")\n",
    "\n",
    "whole_str = \"*\".join(list_strs)\n",
    "print(f\"\\nwhole_str = {whole_str}\")\n",
    "\n",
    "# 참고\n",
    "# print(*tmp,sep =\", \") #괄호 없애기 "
   ]
  },
  {
   "cell_type": "code",
   "execution_count": 1,
   "id": "7a964d38-e3f9-46bf-b440-43f43c8d4ee7",
   "metadata": {},
   "outputs": [
    {
     "name": "stdout",
     "output_type": "stream",
     "text": [
      "정답! 1번만에 맞춤\n",
      "입력한 숫자는 다음과 같습니다.50\n",
      "give:  50\n"
     ]
    }
   ],
   "source": [
    "import random\n",
    "\n",
    "num = random.randint(1,100)\n",
    "num=50\n",
    "buf = []\n",
    "get = 0\n",
    "count = 0\n",
    "while num != get:\n",
    "    get = int(input(\"숫자를 입력해라: \"))\n",
    "    count+=1\n",
    "    buf.append(get)\n",
    "    if get < 0 or get > 100:\n",
    "        print(\"1~100 사이 재입력\")\n",
    "        continue\n",
    "        \n",
    "    if get > num:\n",
    "        print(\"다운!\")\n",
    "    elif get<num:\n",
    "        print(\"업!\")\n",
    "        \n",
    "give = list(map(str,buf))\n",
    "give = \",\".join(give)\n",
    "print(f\"정답! {count}번만에 맞춤\")\n",
    "print(f\"입력한 숫자는 다음과 같습니다.\",end = \"\")\n",
    "print(*buf,sep=\", \")\n",
    "print(\"give: \", give)"
   ]
  },
  {
   "attachments": {},
   "cell_type": "markdown",
   "id": "7a8e0b94",
   "metadata": {},
   "source": [
    "# **아 집에 가고 싶다**"
   ]
  },
  {
   "cell_type": "code",
   "execution_count": 6,
   "id": "14fb5e72",
   "metadata": {},
   "outputs": [
    {
     "name": "stdout",
     "output_type": "stream",
     "text": [
      "work\n",
      "CPU times: user 32 µs, sys: 39 µs, total: 71 µs\n",
      "Wall time: 73 µs\n"
     ]
    },
    {
     "data": {
      "text/plain": [
       "''"
      ]
     },
     "execution_count": 6,
     "metadata": {},
     "output_type": "execute_result"
    }
   ],
   "source": [
    "%%time\n",
    "\n",
    "# 어제 했던 것의 복습 \n",
    "\n",
    "#함수\n",
    "\n",
    "def function(param1, param2, /, poskey1, poskey2, *, keyonly, keyonly2) :\n",
    "    \"\"\"function docs test\"\"\"\n",
    "    print(\"work\")\n",
    "    return \n",
    "# position only, / , pos and key (키워드로도 가능하고 포지션으로도 가능하다), * , keyword only \n",
    "\n",
    "function(\"posonly\", \"po\",\"value\",poskey2 = \"vasdfa\",keyonly=\"sadf\",keyonly2 = \"adsfasdf\")\n"
   ]
  },
  {
   "cell_type": "code",
   "execution_count": 10,
   "id": "dc6c539b",
   "metadata": {},
   "outputs": [
    {
     "name": "stdout",
     "output_type": "stream",
     "text": [
      "<class 'tuple'>\n",
      "args\n",
      "는\n",
      "가변 위치\n",
      "인수입니다\n"
     ]
    }
   ],
   "source": [
    "def 함수(*인자):\n",
    "    print(type(인자))\n",
    "    for 인자하나 in 인자:\n",
    "        print(인자하나)\n",
    "\n",
    "함수(\"args\",\"는\",\"가변 위치\",\"인수입니다\")"
   ]
  },
  {
   "cell_type": "code",
   "execution_count": null,
   "id": "c2fe8d17",
   "metadata": {},
   "outputs": [],
   "source": [
    "def 함수(param1, param2,*인자):\n",
    "    print(param1)\n",
    "    print(param2)\n",
    "    for 인자하나 in 인자:\n",
    "        print(인자하나)\n",
    "\n",
    "함수(\"args\",\"는\",\"가변 위치\",\"인수입니다\")"
   ]
  },
  {
   "cell_type": "code",
   "execution_count": 11,
   "id": "1fc239dc",
   "metadata": {},
   "outputs": [
    {
     "name": "stdout",
     "output_type": "stream",
     "text": [
      "<class 'dict'>\n",
      "{'key': 'value', 'key2': 'value', 'key3': 'value3'}\n"
     ]
    }
   ],
   "source": [
    "# 가변 키워드 인자 Keyword Arguments \n",
    "\n",
    "def func3(**kargs):\n",
    "    print(type(kargs))\n",
    "    print(kargs)\n",
    "\n",
    "#dictonary형태로 packing 됨 \n",
    "func3(key = \"value\" , key2 = \"value\", key3 = \"value3\")\n"
   ]
  },
  {
   "cell_type": "code",
   "execution_count": 7,
   "id": "2e39c267",
   "metadata": {},
   "outputs": [
    {
     "name": "stdout",
     "output_type": "stream",
     "text": [
      "0 1 2 3\n"
     ]
    }
   ],
   "source": [
    "#Unpacking \n",
    "# 시퀀스 자료형의 개수만큼 좌측 변수 맞춰져서 할당\n",
    "\n",
    "a,b,c,d = [_ for _ in range(4)]\n",
    "print(a,b,c,d)"
   ]
  },
  {
   "cell_type": "code",
   "execution_count": 12,
   "id": "77c9a7f6",
   "metadata": {},
   "outputs": [
    {
     "data": {
      "text/plain": [
       "21.11111111111111"
      ]
     },
     "execution_count": 12,
     "metadata": {},
     "output_type": "execute_result"
    }
   ],
   "source": [
    "def to_cel(fahrenheit):\n",
    "    return (fahrenheit-32)*5/9\n",
    "\n",
    "to_cel(70)"
   ]
  },
  {
   "cell_type": "code",
   "execution_count": 21,
   "id": "dbc11e1b",
   "metadata": {},
   "outputs": [
    {
     "name": "stdout",
     "output_type": "stream",
     "text": [
      "number가 짝수면 \"짝수\",홀수면 \"홀수\"를 반환합니다.\n",
      "    \n",
      "짝수\n",
      "홀수\n",
      "None\n",
      "CPU times: user 33 µs, sys: 5 µs, total: 38 µs\n",
      "Wall time: 35 µs\n"
     ]
    }
   ],
   "source": [
    "%%time\n",
    "\n",
    "def odd_even(num):\n",
    "    \"\"\"number가 짝수면 \"짝수\",홀수면 \"홀수\"를 반환합니다.\n",
    "    \"\"\"\n",
    "    if type(num) is not int:\n",
    "        return None\n",
    "     #비트 연산을 통한 홀짝 구분\n",
    "    if num & 1:\n",
    "        return \"홀수\"\n",
    "    return \"짝수\"\n",
    "\n",
    "    \n",
    "\n",
    "print(odd_even.__doc__)\n",
    "print(odd_even(10))\n",
    "print(odd_even(9))\n",
    "print(odd_even('가'))\n"
   ]
  },
  {
   "attachments": {},
   "cell_type": "markdown",
   "id": "e4c6dcdc",
   "metadata": {},
   "source": [
    "# 윤년 출력하기\n",
    "## 와! 이것도 멋져"
   ]
  },
  {
   "cell_type": "code",
   "execution_count": 50,
   "id": "29403813",
   "metadata": {},
   "outputs": [
    {
     "data": {
      "text/plain": [
       "28"
      ]
     },
     "execution_count": 50,
     "metadata": {},
     "output_type": "execute_result"
    }
   ],
   "source": [
    "def is_leap_year(var):\n",
    "    if not (var & 0b11)  and not (var % 100 == 0 and var % 400 != 0):\n",
    "        return False\n",
    "    return True\n",
    "\n",
    "def days(year, month):\n",
    "    thirtyone = (1,3,5,7,8,10,12)\n",
    "    thirty = (4,6,9,11,30)\n",
    "    isleap = not(is_leap_year(year))\n",
    "\n",
    "    if type(month) is not int or (month <1 or month >12):\n",
    "        return None\n",
    "\n",
    "    if month in thirtyone:\n",
    "        return 31\n",
    "    elif month in thirty:\n",
    "        return 30\n",
    "    else:\n",
    "        return 28+isleap\n",
    "\n",
    "days(1900, 2)\n",
    "\n",
    "\n"
   ]
  },
  {
   "cell_type": "code",
   "execution_count": 74,
   "id": "2ec1e435",
   "metadata": {},
   "outputs": [
    {
     "name": "stdout",
     "output_type": "stream",
     "text": [
      "몫: 3, 나머지: 1\n",
      "몫: 3, 나머지: 1\n"
     ]
    }
   ],
   "source": [
    "def get_quotiont_remainder(x, y):\n",
    "    return [x//y, x%y]\n",
    "\n",
    "x = 10\n",
    "y = 3\n",
    "\n",
    "quitient, remainder = get_quotiont_remainder(x,y)\n",
    "print(f\"몫: {quitient}, 나머지: {remainder}\")\n",
    "\n",
    "#람다 표현식\n",
    "quitient, remainder = (lambda x, y : [x//y, x%y])(x,y)\n",
    "print(f\"몫: {quitient}, 나머지: {remainder}\")\n"
   ]
  },
  {
   "attachments": {},
   "cell_type": "markdown",
   "id": "a4089c8b",
   "metadata": {},
   "source": [
    "# Markdown powermode test \n",
    "# 와 ! 멋져! 대다내!"
   ]
  },
  {
   "attachments": {},
   "cell_type": "markdown",
   "id": "5da25505",
   "metadata": {},
   "source": [
    "global, nonlocal 키워드를 통해 전역변수, 지역변수 뭐시기 설정\n",
    "\n",
    "nonlocal 은 가장 가까운 바깥 변수를 매칭함\n",
    "\n",
    "근데 안그러는게 좋음    \n",
    "\n",
    "범위에 따라서 같은 이름을 가진 애가 따로 존재할 수 있다 \n",
    "\n",
    "그러나 **그냥 그렇게 안쓰는게** 좋다\n"
   ]
  },
  {
   "attachments": {},
   "cell_type": "markdown",
   "id": "b36be19f",
   "metadata": {},
   "source": [
    "#### 지역 범위(local scope) 전역변수(global scope) 에 접근 출력"
   ]
  },
  {
   "cell_type": "code",
   "execution_count": 75,
   "id": "316e9b70",
   "metadata": {},
   "outputs": [
    {
     "name": "stdout",
     "output_type": "stream",
     "text": [
      "global var\n"
     ]
    }
   ],
   "source": [
    "global_v = \"global var\"\n",
    "\n",
    "def local_scope():\n",
    "    print(global_v)\n",
    "\n",
    "local_scope()"
   ]
  },
  {
   "attachments": {},
   "cell_type": "markdown",
   "id": "b6f20673",
   "metadata": {},
   "source": [
    "#### local scope에서 전역 변수에 접근 후 재할당 "
   ]
  },
  {
   "cell_type": "code",
   "execution_count": 76,
   "id": "86660ee5",
   "metadata": {},
   "outputs": [
    {
     "name": "stdout",
     "output_type": "stream",
     "text": [
      "global var\n"
     ]
    }
   ],
   "source": [
    "global_v = \"global var\"\n",
    "\n",
    "\n",
    "def local_scope():\n",
    "    global_v = \"지역변수입니다\"\n",
    "\n",
    "\n",
    "local_scope()\n",
    "print(global_v)\n"
   ]
  },
  {
   "cell_type": "code",
   "execution_count": 77,
   "id": "487f689b",
   "metadata": {},
   "outputs": [
    {
     "name": "stdout",
     "output_type": "stream",
     "text": [
      "[2, 8, 18, 32, 50]\n"
     ]
    }
   ],
   "source": [
    "#[12345]\n",
    "a = [_ for _ in range(1,6)]\n",
    "b = [_ for _ in range(2,11,2)]\n",
    "print(list(map(lambda x,y : x*y, a,b)))"
   ]
  },
  {
   "cell_type": "code",
   "execution_count": 78,
   "id": "032a98fa",
   "metadata": {},
   "outputs": [
    {
     "data": {
      "text/plain": [
       "[3, 9, 9]"
      ]
     },
     "execution_count": 78,
     "metadata": {},
     "output_type": "execute_result"
    }
   ],
   "source": [
    "a = [3,2,8,22,10,7,0,11,9,9]\n",
    "list(filter(lambda x : x%3 == 0 and 0<x<10, a))\n"
   ]
  },
  {
   "cell_type": "code",
   "execution_count": 79,
   "id": "dcbd01fc",
   "metadata": {},
   "outputs": [],
   "source": [
    "class ClassName:\n",
    "    def method_name(self):\n",
    "        print(\"method body\")\n",
    "    #Class body"
   ]
  },
  {
   "attachments": {},
   "cell_type": "markdown",
   "id": "311fb0a4",
   "metadata": {},
   "source": [
    "아니 대체 self는 무엇인가?"
   ]
  },
  {
   "cell_type": "code",
   "execution_count": 83,
   "id": "a348c377",
   "metadata": {},
   "outputs": [
    {
     "name": "stdout",
     "output_type": "stream",
     "text": [
      "안녕하세요\n"
     ]
    }
   ],
   "source": [
    "# __init__ 은 인스턴스를 초기화하는 \n",
    "class Person:\n",
    "    def __init__(self):\n",
    "        self.hello = \"안녕하세요\"\n",
    "\n",
    "    def greetings(self):\n",
    "        print(self.hello)\n",
    "\n",
    "james = Person()\n",
    "james.greetings()"
   ]
  },
  {
   "cell_type": "code",
   "execution_count": null,
   "id": "cde76dbc",
   "metadata": {},
   "outputs": [],
   "source": []
  },
  {
   "cell_type": "code",
   "execution_count": null,
   "id": "57776108",
   "metadata": {},
   "outputs": [],
   "source": []
  },
  {
   "cell_type": "code",
   "execution_count": null,
   "id": "0a48d798",
   "metadata": {},
   "outputs": [],
   "source": []
  },
  {
   "cell_type": "code",
   "execution_count": null,
   "id": "fb06682f",
   "metadata": {},
   "outputs": [],
   "source": []
  },
  {
   "cell_type": "code",
   "execution_count": null,
   "id": "4fe96d4e",
   "metadata": {},
   "outputs": [],
   "source": []
  }
 ],
 "metadata": {
  "kernelspec": {
   "display_name": "Python 3",
   "language": "python",
   "name": "python3"
  },
  "language_info": {
   "codemirror_mode": {
    "name": "ipython",
    "version": 3
   },
   "file_extension": ".py",
   "mimetype": "text/x-python",
   "name": "python",
   "nbconvert_exporter": "python",
   "pygments_lexer": "ipython3",
   "version": "3.9.4"
  },
  "vscode": {
   "interpreter": {
    "hash": "2d7f4db1d613ee4b2d2ebeae5876b92e66a31c9cb18f7b3ca1ac02b1bc62896c"
   }
  },
  "widgets": {
   "application/vnd.jupyter.widget-state+json": {
    "state": {},
    "version_major": 2,
    "version_minor": 0
   }
  }
 },
 "nbformat": 4,
 "nbformat_minor": 5
}
