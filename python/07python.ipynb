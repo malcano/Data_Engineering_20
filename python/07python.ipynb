{
 "cells": [
  {
   "cell_type": "code",
   "execution_count": 81,
   "id": "9a4829d3-d000-45c1-9f06-ff928db350fc",
   "metadata": {},
   "outputs": [
    {
     "name": "stdout",
     "output_type": "stream",
     "text": [
      "김태형후보가 총 5표를 얻어 당선됨\n"
     ]
    }
   ],
   "source": [
    "import math\n",
    "\n",
    "votes = [2,5,3,4,1,5,1,5,5,3]\n",
    "candidates= [\"\",\"전정국\",\"김남준\", \"박지민\",\"정호석\", \"김태형\"]\n",
    "cand_num = dict(zip([_ for _ in range(1,len(candidates)+1)], candidates[1:len(candidates)]))\n",
    "cand_get = dict(zip([_ for _ in range(1, len(candidates)+1)],[1 for _ in range(0,len(candidates))]))\n",
    "for _ in votes:\n",
    "    cand_get[_]+=1\n",
    "who = max(cand_num, key = cand_num.get)+1\n",
    "\n",
    "print(f\"{cand_num[who]}후보가 총 {cand_get[who]}표를 얻어 당선됨\")\n",
    "\n",
    "    "
   ]
  },
  {
   "cell_type": "code",
   "execution_count": 31,
   "id": "79523ed2-d104-4c89-9102-55073a24a4e4",
   "metadata": {},
   "outputs": [
    {
     "name": "stdout",
     "output_type": "stream",
     "text": [
      "[1, 3, 5, 7, 9]\n"
     ]
    }
   ],
   "source": [
    "prac_result2 = [_ for _ in range(1,10,2)]\n",
    "print(prac_result2)"
   ]
  },
  {
   "cell_type": "code",
   "execution_count": 44,
   "id": "72af5238-a9d5-4199-b4f2-da67029c5637",
   "metadata": {},
   "outputs": [
    {
     "name": "stdout",
     "output_type": "stream",
     "text": [
      "['a', 'b', 'c', 'd', 'e', 'f', 'g', 'h', 'i', 'j', 'k', 'l', 'm', 'n', 'o', 'p', 'q', 'r', 's', 't', 'u', 'v', 'w', 'x', 'y', 'z']\n"
     ]
    }
   ],
   "source": [
    "prac_result3 = [ chr(_) for _ in range(ord('a'),ord('z')+1)]\n",
    "print(prac_result3)"
   ]
  },
  {
   "cell_type": "code",
   "execution_count": 80,
   "id": "111ea579-96bb-469c-90cd-9a2743a345f9",
   "metadata": {},
   "outputs": [
    {
     "name": "stdout",
     "output_type": "stream",
     "text": [
      "[2, 3, 4, 5, 6, 7, 8, 9, 10, 'J', 'Q', 'K', 'A']\n",
      "[[2, 3, 4, 5, 6, 7, 8, 9, 10, 'J', 'Q', 'K', 'A'], [2, 3, 4, 5, 6, 7, 8, 9, 10, 'J', 'Q', 'K', 'A'], [2, 3, 4, 5, 6, 7, 8, 9, 10, 'J', 'Q', 'K', 'A'], [2, 3, 4, 5, 6, 7, 8, 9, 10, 'J', 'Q', 'K', 'A']]\n",
      "prac_result4 id:  4595944512\n",
      "prac_result5[0]: 4595944512\n",
      "prac_result5[1]: 4595944512\n",
      "prac_result5[2]: 4595944512\n",
      "prac_result5[3]: 4595944512\n"
     ]
    }
   ],
   "source": [
    "prac_result4 = [_ for _ in range(2,11)]+['J','Q','K','A']\n",
    "print(prac_result4)\n",
    "prac_result5 = [prac_result4 for i in range(4)]\n",
    "print(prac_result5)\n",
    "\n",
    "print(\"prac_result4 id: \", id(prac_result4))\n",
    "for i, v in enumerate(prac_result5):\n",
    "    print(\"prac_result5[\",i,\"]: \", id(v),sep=\"\")"
   ]
  },
  {
   "cell_type": "code",
   "execution_count": 82,
   "id": "b7cdea79-d6e0-4ccc-ac65-dcb878f4bbdf",
   "metadata": {},
   "outputs": [
    {
     "ename": "TypeError",
     "evalue": "'range' object is not callable",
     "output_type": "error",
     "traceback": [
      "\u001b[0;31m---------------------------------------------------------------------------\u001b[0m",
      "\u001b[0;31mTypeError\u001b[0m                                 Traceback (most recent call last)",
      "Input \u001b[0;32mIn [82]\u001b[0m, in \u001b[0;36m<cell line: 1>\u001b[0;34m()\u001b[0m\n\u001b[0;32m----> 1\u001b[0m old_list \u001b[38;5;241m=\u001b[39m \u001b[38;5;28;43mlist\u001b[39;49m\u001b[43m(\u001b[49m\u001b[38;5;28;43mrange\u001b[39;49m\u001b[43m(\u001b[49m\u001b[38;5;241;43m10\u001b[39;49m\u001b[43m)\u001b[49m\u001b[43m)\u001b[49m\n\u001b[1;32m      2\u001b[0m new_list \u001b[38;5;241m=\u001b[39m old_list[:]\n\u001b[1;32m      4\u001b[0m \u001b[38;5;28mprint\u001b[39m(\u001b[38;5;28mid\u001b[39m(old_list))\n",
      "\u001b[0;31mTypeError\u001b[0m: 'range' object is not callable"
     ]
    }
   ],
   "source": [
    "old_list = list(range(10))\n",
    "new_list = old_list[:]\n",
    "\n",
    "print(id(old_list))\n",
    "print(id(new_list))\n",
    "print(old_list is new_list)\n",
    "print(old_list == new_list)"
   ]
  },
  {
   "cell_type": "code",
   "execution_count": 5,
   "id": "033ff454-af93-4ff0-aad1-6c0984745800",
   "metadata": {},
   "outputs": [
    {
     "data": {
      "text/plain": [
       "1"
      ]
     },
     "execution_count": 5,
     "metadata": {},
     "output_type": "execute_result"
    }
   ],
   "source": [
    "def check_leap_year(year):\n",
    "    var = year\n",
    "    if var % 4 == 0 and not (var % 100 == 0 and var % 400 != 0):\n",
    "        return 1\n",
    "    return 0\n",
    "\n",
    "print(check_leap_year(int(input())))\n"
   ]
  },
  {
   "cell_type": "code",
   "execution_count": null,
   "id": "0e6d9c99-d398-48e9-abce-e78919c2f8c2",
   "metadata": {},
   "outputs": [],
   "source": []
  },
  {
   "cell_type": "code",
   "execution_count": null,
   "id": "000bfee1-9448-411b-b0e6-925da6413be0",
   "metadata": {},
   "outputs": [],
   "source": []
  },
  {
   "cell_type": "code",
   "execution_count": null,
   "id": "7400c3d7-efd2-4701-b4ab-3bc10a9b9572",
   "metadata": {},
   "outputs": [],
   "source": []
  }
 ],
 "metadata": {
  "kernelspec": {
   "display_name": "Python 3",
   "language": "python",
   "name": "python3"
  },
  "language_info": {
   "codemirror_mode": {
    "name": "ipython",
    "version": 3
   },
   "file_extension": ".py",
   "mimetype": "text/x-python",
   "name": "python",
   "nbconvert_exporter": "python",
   "pygments_lexer": "ipython3",
   "version": "3.9.4"
  },
  "vscode": {
   "interpreter": {
    "hash": "2d7f4db1d613ee4b2d2ebeae5876b92e66a31c9cb18f7b3ca1ac02b1bc62896c"
   }
  },
  "widgets": {
   "application/vnd.jupyter.widget-state+json": {
    "state": {},
    "version_major": 2,
    "version_minor": 0
   }
  }
 },
 "nbformat": 4,
 "nbformat_minor": 5
}
