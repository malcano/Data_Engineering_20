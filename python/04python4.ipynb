{
 "cells": [
  {
   "cell_type": "markdown",
   "id": "3ebeb429-83c1-4849-b047-b03e64a50d5d",
   "metadata": {},
   "source": [
    "# 230106 금요일"
   ]
  },
  {
   "cell_type": "markdown",
   "id": "827dad54-6d79-4718-9703-b2029bbb1f04",
   "metadata": {},
   "source": [
    "### How To Use 'if' keyworod"
   ]
  },
  {
   "cell_type": "code",
   "execution_count": 4,
   "id": "fc5e4ca7-08af-4af4-9941-75e377dca974",
   "metadata": {},
   "outputs": [
    {
     "name": "stdout",
     "output_type": "stream",
     "text": [
      "자연수 하나를 입력해주세요:  20\n"
     ]
    },
    {
     "name": "stdout",
     "output_type": "stream",
     "text": [
      "0\n"
     ]
    }
   ],
   "source": [
    "var = input(\"자연수 하나를 입력해주세요: \")\n",
    "var = int(var)-50\n",
    "if var<0:\n",
    "    var = 0\n",
    "print(var)"
   ]
  },
  {
   "cell_type": "code",
   "execution_count": 10,
   "id": "52268565-ba2b-47c6-98ca-4fa5fb7c164d",
   "metadata": {},
   "outputs": [
    {
     "name": "stdout",
     "output_type": "stream",
     "text": [
      "10세 이상\n",
      "20세 이상\n",
      ">=20구간\n",
      ">=10구간\n"
     ]
    }
   ],
   "source": [
    "testmode = True\n",
    "\n",
    "if testmode == True:\n",
    "    age = 20\n",
    "else:\n",
    "    age = int(input(\"나이를 입력해주세요: \"))\n",
    "\n",
    "if age>=10:\n",
    "    print(\"10세 이상\")\n",
    "    if age >= 20:\n",
    "        print(\"20세 이상\")\n",
    "        if age >= 30:\n",
    "            print(\"30세 이상\")\n",
    "            if age>= 40:\n",
    "                print(\"40세 이상\")\n",
    "            print(\">=30구간\")\n",
    "        print(\">=20구간\")\n",
    "    print(\">=10구간\")"
   ]
  },
  {
   "cell_type": "code",
   "execution_count": 15,
   "id": "aea283ab-612a-4093-b5ee-4291d87761a2",
   "metadata": {},
   "outputs": [
    {
     "name": "stdout",
     "output_type": "stream",
     "text": [
      "자연수를 입력해주세요:  21\n"
     ]
    },
    {
     "name": "stdout",
     "output_type": "stream",
     "text": [
      "var is odd\n"
     ]
    }
   ],
   "source": [
    "testmode = False\n",
    "\n",
    "if testmode == True:\n",
    "    var = 20\n",
    "else:\n",
    "    var = int(input(\"자연수를 입력해주세요: \"))\n",
    "    \n",
    "if var % 2 == 0:\n",
    "    print(\"var is even\")\n",
    "else:\n",
    "    print(\"var is odd\")"
   ]
  },
  {
   "cell_type": "code",
   "execution_count": 30,
   "id": "4b82186a-75d8-4040-878a-719103ed3a50",
   "metadata": {},
   "outputs": [
    {
     "name": "stdout",
     "output_type": "stream",
     "text": [
      "소프트웨어 설계점수를 입력하세요:  60\n",
      "소프트웨어 개발점수를 입력하세요:  60\n",
      "데이터베이스 구축점수를 입력하세요:  60\n",
      "프로그래밍 언어 활용점수를 입력하세요:  60\n",
      "정보시스템 구축관리점수를 입력하세요:  70\n"
     ]
    },
    {
     "name": "stdout",
     "output_type": "stream",
     "text": [
      "합격\n",
      "CPU times: user 42.2 ms, sys: 28.8 ms, total: 71 ms\n",
      "Wall time: 5.37 s\n"
     ]
    }
   ],
   "source": [
    "%%time\n",
    "sub = (\"소프트웨어 설계\", \"소프트웨어 개발\", \"데이터베이스 구축\", \"프로그래밍 언어 활용\", \"정보시스템 구축관리\")\n",
    "sub_score = [0,0,0,0,0]\n",
    "valid = True\n",
    "\n",
    "for i in range(len(sub)):\n",
    "    sentence = sub[i]+\"점수를 입력하세요: \"\n",
    "    sub_score[i] = int(input(sentence))\n",
    "\n",
    "for i in sub_score:\n",
    "    if not(0<=i<=100):\n",
    "        valid = False\n",
    "        print(\"잘못된 점수입니다\")\n",
    "        break\n",
    "if valid == True:\n",
    "    if sum(sub_score)/len(sub_score) >=60:\n",
    "        print(\"합격\")\n",
    "    else: \n",
    "        print(\"불합격\")"
   ]
  },
  {
   "cell_type": "code",
   "execution_count": 31,
   "id": "cea693c5-efef-45b5-a6d2-651eebf91e4f",
   "metadata": {},
   "outputs": [
    {
     "name": "stdout",
     "output_type": "stream",
     "text": [
      "자연수를 입력해주세요:  20\n"
     ]
    },
    {
     "name": "stdout",
     "output_type": "stream",
     "text": [
      "F\n",
      "end program\n",
      "CPU times: user 11.6 ms, sys: 8.97 ms, total: 20.6 ms\n",
      "Wall time: 1.57 s\n"
     ]
    }
   ],
   "source": [
    "%%time\n",
    "\n",
    "testmode = False\n",
    "\n",
    "if testmode == True:\n",
    "    var = 20\n",
    "else:\n",
    "    var = int(input(\"자연수를 입력해주세요: \"))\n",
    "\n",
    "if var>=90:\n",
    "    print(\"A\")\n",
    "elif var >= 80:\n",
    "    print(\"B\")\n",
    "elif var >= 70:\n",
    "    print(\"C\")\n",
    "elif var >= 60:\n",
    "    print(\"D\")\n",
    "else: \n",
    "    print(\"F\")\n",
    "    \n",
    "print(\"end program\")"
   ]
  },
  {
   "cell_type": "code",
   "execution_count": 32,
   "id": "ea7e9215-6984-4eb5-99e0-9aaaac5ccca2",
   "metadata": {},
   "outputs": [
    {
     "name": "stdout",
     "output_type": "stream",
     "text": [
      "물 온도:  101\n"
     ]
    },
    {
     "name": "stdout",
     "output_type": "stream",
     "text": [
      "기체\n"
     ]
    }
   ],
   "source": [
    "var = int(input(\"물 온도: \"))\n",
    "\n",
    "if var<0:\n",
    "    print(\"고체\")\n",
    "elif var>=100:\n",
    "    print(\"기체\")\n",
    "else:\n",
    "    print(\"액체\")"
   ]
  },
  {
   "cell_type": "code",
   "execution_count": 38,
   "id": "3488fcd4-4bc5-4d36-9b3f-9859b8963f20",
   "metadata": {},
   "outputs": [
    {
     "name": "stdout",
     "output_type": "stream",
     "text": [
      "액체\n",
      "고체\n",
      "기체\n",
      "CPU times: user 402 µs, sys: 113 µs, total: 515 µs\n",
      "Wall time: 469 µs\n"
     ]
    }
   ],
   "source": [
    "%%time\n",
    "\n",
    "def solution(var):    \n",
    "    if var<0:\n",
    "        print(\"고체\")\n",
    "    elif var>=100:\n",
    "        print(\"기체\")\n",
    "    else:\n",
    "        print(\"액체\")\n",
    "    \n",
    "testmode = True\n",
    "if testmode == True:\n",
    "    testcase = (20,-39,123)\n",
    "    for i in testcase:\n",
    "        solution(i)\n",
    "        \n",
    "else:\n",
    "    testcase = int(input(\"자연수를 입력해주세요: \"))\n",
    "    solution(testcase)\n"
   ]
  },
  {
   "cell_type": "code",
   "execution_count": 43,
   "id": "eed5b8cd-528b-4d4f-88e5-0658e992e489",
   "metadata": {},
   "outputs": [
    {
     "name": "stdout",
     "output_type": "stream",
     "text": [
      "나이를 입력해주세요:  3\n"
     ]
    },
    {
     "name": "stdout",
     "output_type": "stream",
     "text": [
      "무임승차입니다\n",
      "CPU times: user 2.3 s, sys: 1.46 s, total: 3.76 s\n",
      "Wall time: 5min 50s\n"
     ]
    }
   ],
   "source": [
    "%%time\n",
    "\n",
    "def solution(var):    \n",
    "    if var>=19:\n",
    "        print(\"1500원\")\n",
    "    elif var >= 12:\n",
    "        print(\"1100원\")\n",
    "    elif var >= 6:\n",
    "        print(\"800원\")\n",
    "    else:\n",
    "        print(\"무임승차입니다\")\n",
    "        \n",
    "testmode = False\n",
    "\n",
    "if testmode == True:\n",
    "    testcase = (19, 6, 5)\n",
    "    for i in testcase:\n",
    "        solution(i)\n",
    "        \n",
    "else:\n",
    "    testcase = int(input(\"나이를 입력해주세요: \"))\n",
    "    solution(testcase)\n"
   ]
  },
  {
   "cell_type": "code",
   "execution_count": 66,
   "id": "38e27d9f-bd01-470b-a947-7d4dcc340672",
   "metadata": {},
   "outputs": [
    {
     "name": "stdout",
     "output_type": "stream",
     "text": [
      "2001개를 주문하셨습니다.\n",
      "적용 할인률은 20%입니다\n",
      "총 발주 금액은 $16008입니다.\n",
      "1800개를 주문하셨습니다.\n",
      "적용 할인률은 10%입니다\n",
      "총 발주 금액은 $16200입니다.\n",
      "999개를 주문하셨습니다.\n",
      "적용 할인률은 0%입니다\n",
      "총 발주 금액은 $9990입니다.\n",
      "CPU times: user 166 µs, sys: 62 µs, total: 228 µs\n",
      "Wall time: 226 µs\n"
     ]
    }
   ],
   "source": [
    "%%time\n",
    "\n",
    "testmode =  True\n",
    "\n",
    "def solution(var):\n",
    "    rate = 0 #else 대신 0으로 초기화\n",
    "    if var>2000:\n",
    "        rate = 0.2\n",
    "    elif var > 1500:\n",
    "        rate = 0.1\n",
    "    elif var >= 1000:\n",
    "        rate = 0.05\n",
    "    \n",
    "    print(var,\"개를 주문하셨습니다.\", sep='')\n",
    "    print(\"적용 할인률은 \",int(rate*100),\"%입니다\",sep='')\n",
    "    print(\"총 발주 금액은 $\", int(var*10*(1-rate)),\"입니다.\", sep = '')\n",
    "\n",
    "\n",
    "if testmode == True:\n",
    "    testcase = (2001, 1800, 999)\n",
    "    for i in testcase:\n",
    "        solution(i)\n",
    "        \n",
    "else:\n",
    "    testcase = int(input(\"input: \"))\n",
    "    solution(testcase)\n"
   ]
  },
  {
   "cell_type": "code",
   "execution_count": 84,
   "id": "38093edd-17e8-4ab4-ae55-67324273ec81",
   "metadata": {},
   "outputs": [
    {
     "name": "stdout",
     "output_type": "stream",
     "text": [
      "자리수를 잘못 입력했습니다.\n",
      "여자\n",
      "남자\n",
      "성별 코드가 올바르지 않습니다\n",
      "CPU times: user 568 µs, sys: 435 µs, total: 1 ms\n",
      "Wall time: 688 µs\n"
     ]
    }
   ],
   "source": [
    "%%time\n",
    "\n",
    "testmode =  True\n",
    "\n",
    "def solution(var):\n",
    "    if len(var) != 7:\n",
    "        print(\"자리수를 잘못 입력했습니다.\")\n",
    "        return\n",
    "    elif not (0 < int(var[0]) < 5 ):# 90년대생이라 3,4가 있다는 것을 생각 못함, 수정 완료\n",
    "        print(\"성별 코드가 올바르지 않습니다\")\n",
    "        return\n",
    "    if var[0] == '1' or var[0] == '3':\n",
    "        print(\"남자\")\n",
    "    else:\n",
    "        print(\"여자\")\n",
    "\n",
    "if testmode == True:\n",
    "    testcase = ('123456','2345678','1234567','5678912')\n",
    "    for i in testcase:\n",
    "        solution(i)\n",
    "        \n",
    "else:\n",
    "    testcase = input(\"input: \")\n",
    "    solution(testcase)\n"
   ]
  },
  {
   "cell_type": "code",
   "execution_count": 102,
   "id": "c10278ce-33a6-41cd-8a32-4759f0875125",
   "metadata": {},
   "outputs": [
    {
     "name": "stdout",
     "output_type": "stream",
     "text": [
      "윤년입니다.\n",
      "평년입니다.\n",
      "윤년입니다.\n",
      "평년입니다.\n",
      "CPU times: user 501 µs, sys: 157 µs, total: 658 µs\n",
      "Wall time: 614 µs\n"
     ]
    }
   ],
   "source": [
    "%%time\n",
    "\n",
    "testmode =  True\n",
    "\n",
    "def solution(var):\n",
    "    var = int(var)\n",
    "    isYoon = False\n",
    "    if var % 4 == 0:\n",
    "        if var%100==0 and var%400!=0:\n",
    "            isYoon = False\n",
    "        else: isYoon = True\n",
    "    \n",
    "    if isYoon == True:\n",
    "        print(\"윤년입니다.\")\n",
    "    else:\n",
    "        print(\"평년입니다.\")\n",
    "\n",
    "if testmode == True:\n",
    "    testcase = ('1896','1900','2000','2023')\n",
    "    for i in testcase:\n",
    "        solution(i)\n",
    "        \n",
    "else:\n",
    "    testcase = input(\"input: \")\n",
    "    solution(testcase)"
   ]
  },
  {
   "cell_type": "code",
   "execution_count": 101,
   "id": "b93b538b-8896-4a5c-b2a6-3160e12d7089",
   "metadata": {},
   "outputs": [
    {
     "name": "stdout",
     "output_type": "stream",
     "text": [
      "윤년입니다.\n",
      "평년입니다.\n",
      "윤년입니다.\n",
      "평년입니다.\n",
      "CPU times: user 215 µs, sys: 72 µs, total: 287 µs\n",
      "Wall time: 283 µs\n"
     ]
    }
   ],
   "source": [
    "%%time\n",
    "\n",
    "testmode =  True\n",
    "\n",
    "def solution(var):\n",
    "    var = int(var)\n",
    "    if var % 4 == 0 and not (var%100==0 and var%400!=0):\n",
    "        print(\"윤년입니다.\")\n",
    "        return    \n",
    "    print(\"평년입니다.\")\n",
    "\n",
    "if testmode == True:\n",
    "    testcase = ('1896','1900','2000','2023')\n",
    "    for i in testcase:\n",
    "        solution(i)\n",
    "        \n",
    "else:\n",
    "    testcase = input(\"input: \")\n",
    "    solution(testcase)"
   ]
  },
  {
   "cell_type": "code",
   "execution_count": 1,
   "id": "7e302b33-06c3-441c-809c-197a1f0d84e9",
   "metadata": {},
   "outputs": [
    {
     "name": "stdout",
     "output_type": "stream",
     "text": [
      "윤년입니다.\n",
      "평년입니다.\n",
      "윤년입니다.\n",
      "평년입니다.\n",
      "CPU times: user 288 µs, sys: 71 µs, total: 359 µs\n",
      "Wall time: 331 µs\n"
     ]
    }
   ],
   "source": [
    "%%time\n",
    "\n",
    "testmode =  True\n",
    "\n",
    "def solution(var):\n",
    "    var = int(var)\n",
    "    if var % 4 == 0 and not (var%100==0 and var%400!=0):\n",
    "        print(\"윤년입니다.\")\n",
    "        return    \n",
    "    print(\"평년입니다.\")\n",
    "\n",
    "if testmode == True:\n",
    "    testcase = ('1896','1900','2000','2023')\n",
    "    for i in testcase:\n",
    "        solution(i)\n",
    "        \n",
    "else:\n",
    "    testcase = input(\"input: \")\n",
    "    solution(testcase)"
   ]
  },
  {
   "cell_type": "code",
   "execution_count": null,
   "id": "9ef769a7-e794-45e5-9c5a-e44075620133",
   "metadata": {},
   "outputs": [],
   "source": [
    "%%time\n",
    "\n",
    "testmode =  True\n",
    "\n",
    "def solution(var):\n",
    "    for i in range(10):\n",
    "        print(\"hello world\")\n",
    "\n",
    "if testmode == True:\n",
    "    testcase = ('10')\n",
    "    for i in testcase:\n",
    "        solution(i)\n",
    "        \n",
    "else:\n",
    "    testcase = input(\"input: \")\n",
    "    solution(testcase)"
   ]
  },
  {
   "cell_type": "code",
   "execution_count": 6,
   "id": "0618197d-b967-4330-b919-ea68f243de4d",
   "metadata": {},
   "outputs": [
    {
     "name": "stdout",
     "output_type": "stream",
     "text": [
      "[2, 4, 6, 8, 10, 12, 14, 16, 18, 20, 22, 24, 26, 28, 30, 32, 34, 36, 38, 40, 42, 44, 46, 48, 50, 52, 54, 56, 58, 60, 62, 64, 66, 68, 70, 72, 74, 76, 78, 80, 82, 84, 86, 88, 90, 92, 94, 96, 98]\n"
     ]
    }
   ],
   "source": [
    "even_numbers = list(range(2,100, 2))\n",
    "print(even_numbers)"
   ]
  },
  {
   "cell_type": "code",
   "execution_count": 11,
   "id": "04ed62ad-f22b-4d04-afb1-2def43fb4568",
   "metadata": {},
   "outputs": [
    {
     "name": "stdout",
     "output_type": "stream",
     "text": [
      "인사 몇 번 3\n"
     ]
    },
    {
     "name": "stdout",
     "output_type": "stream",
     "text": [
      "Hello world 1\n",
      "Hello world 2\n",
      "Hello world 3\n"
     ]
    }
   ],
   "source": [
    "for i in range(0, int(input(\"인사 몇 번\"))):\n",
    "    print(\"Hello world\",i+1)"
   ]
  },
  {
   "cell_type": "code",
   "execution_count": 1,
   "id": "10ca4372-2b01-481e-b815-3ece7ee512a2",
   "metadata": {},
   "outputs": [
    {
     "name": "stdout",
     "output_type": "stream",
     "text": [
      "[5, 6, 7, 8, 9]\n",
      "[0, 3, 6, 9]\n",
      "[-10, -40, -70]\n"
     ]
    }
   ],
   "source": [
    "l = list(range(5,10))\n",
    "print(l)\n",
    "l = list(range(0,10,3))\n",
    "print(l)\n",
    "l = list(range(-10,-80,-30))\n",
    "print(l)"
   ]
  },
  {
   "cell_type": "code",
   "execution_count": 35,
   "id": "9f5b9431-8c2c-460a-8e9a-9ee544e93119",
   "metadata": {},
   "outputs": [
    {
     "name": "stdout",
     "output_type": "stream",
     "text": [
      "자연수:  6\n"
     ]
    },
    {
     "name": "stdout",
     "output_type": "stream",
     "text": [
      "6\t6\t6\t6\t6\t6\t\n",
      "5\t5\t5\t5\t5\t\n",
      "4\t4\t4\t4\t\n",
      "3\t3\t3\t\n",
      "2\t2\t\n",
      "1\t\n"
     ]
    }
   ],
   "source": [
    "num = int(input(\"자연수: \"))\n",
    "for i in range(num,0,-1):\n",
    "    for j in range(i):\n",
    "        print(i,end='\\t')\n",
    "    print()"
   ]
  },
  {
   "cell_type": "code",
   "execution_count": 83,
   "id": "cd332462-8dd2-4b71-a1f3-9f29f3c0e4b3",
   "metadata": {},
   "outputs": [
    {
     "name": "stdout",
     "output_type": "stream",
     "text": [
      "1부터 뭐시기뭐시기 100까지:  100\n"
     ]
    },
    {
     "name": "stdout",
     "output_type": "stream",
     "text": [
      "1+3+5+7+9+11+13+15+17+19+21+23+25+27+29+31+33+35+37+39+41+43+45+47+49+51+53+55+57+59+61+63+65+67+69+71+73+75+77+79+81+83+85+87+89+91+93+95+97+99=2500\n",
      "CPU times: user 14.1 ms, sys: 11.2 ms, total: 25.3 ms\n",
      "Wall time: 1.96 s\n"
     ]
    }
   ],
   "source": [
    "%%time\n",
    "num=int(input(\"1부터 뭐시기뭐시기 100까지: \"))\n",
    "even = list(range(2,num+1,2))\n",
    "sm=0\n",
    "odd = []\n",
    "\n",
    "for i in even:\n",
    "    odd.append(i-1)\n",
    "    sm = sm+i-1\n",
    "\n",
    "for i in range(len(odd)):\n",
    "    print(odd[i],end='')\n",
    "    if i!=len(odd)-1:\n",
    "        print('+',end='')\n",
    "\n",
    "print('=',sm,sep='')"
   ]
  },
  {
   "cell_type": "code",
   "execution_count": 85,
   "id": "618a046d-2540-4943-be05-3f02f08a91ff",
   "metadata": {},
   "outputs": [
    {
     "name": "stdout",
     "output_type": "stream",
     "text": [
      "계승 뭐시기:  7\n"
     ]
    },
    {
     "name": "stdout",
     "output_type": "stream",
     "text": [
      "5040\n"
     ]
    }
   ],
   "source": [
    "def factorial(i):\n",
    "    if i == 0 or i==1:\n",
    "        return 1\n",
    "    else:\n",
    "        return i*factorial(i-1)\n",
    "\n",
    "num = int(input(\"계승 뭐시기: \"))\n",
    "\n",
    "print(factorial(num))"
   ]
  },
  {
   "cell_type": "code",
   "execution_count": 87,
   "id": "8c1c69e3-88e6-4ad9-a94a-a8e6c797152e",
   "metadata": {},
   "outputs": [
    {
     "name": "stdout",
     "output_type": "stream",
     "text": [
      "퉤 eulav 는얘"
     ]
    }
   ],
   "source": [
    "for _ in reversed(\"얘는 value 퉤\"):\n",
    "    print(_,end=\"\")"
   ]
  },
  {
   "cell_type": "code",
   "execution_count": 93,
   "id": "91ee411e-a00c-42ce-b3e8-2ebf254a6c20",
   "metadata": {},
   "outputs": [
    {
     "name": "stdout",
     "output_type": "stream",
     "text": [
      "100 -420 250 1030 210 770 240 "
     ]
    }
   ],
   "source": [
    "x = [10,-42, 25, 103, 21, 77,24]\n",
    "for _ in x:\n",
    "    print(_*10,'' ,end='')"
   ]
  },
  {
   "cell_type": "code",
   "execution_count": 98,
   "id": "2c3e0ffc-2d03-4d54-b70d-1b07fb8d8a47",
   "metadata": {},
   "outputs": [
    {
     "name": "stdout",
     "output_type": "stream",
     "text": [
      "구구단:  9\n"
     ]
    },
    {
     "name": "stdout",
     "output_type": "stream",
     "text": [
      "9 * 1 = 9\n",
      "9 * 2 = 18\n",
      "9 * 3 = 27\n",
      "9 * 4 = 36\n",
      "9 * 5 = 45\n",
      "9 * 6 = 54\n",
      "9 * 7 = 63\n",
      "9 * 8 = 72\n",
      "9 * 9 = 81\n"
     ]
    }
   ],
   "source": [
    "num = int(input(\"구구단: \"))\n",
    "for _ in range(0,9):\n",
    "    print(num,'*',_+1,'=',num*(_+1))"
   ]
  },
  {
   "cell_type": "code",
   "execution_count": 100,
   "id": "172f022a-d2c8-43e8-9e4e-b86e299596bf",
   "metadata": {},
   "outputs": [
    {
     "name": "stdout",
     "output_type": "stream",
     "text": [
      "자연수:  100\n"
     ]
    },
    {
     "name": "stdout",
     "output_type": "stream",
     "text": [
      "5050\n"
     ]
    }
   ],
   "source": [
    "num = int(input(\"자연수: \"))\n",
    "s=0\n",
    "for _ in range(num):\n",
    "    s+=_\n",
    "print(s)"
   ]
  },
  {
   "cell_type": "code",
   "execution_count": 119,
   "id": "9eab95ab-6a81-4aa1-a5b9-60e571e2f224",
   "metadata": {},
   "outputs": [
    {
     "name": "stdout",
     "output_type": "stream",
     "text": [
      "자연수:  1000000\n"
     ]
    },
    {
     "name": "stdout",
     "output_type": "stream",
     "text": [
      "500000500000\n"
     ]
    },
    {
     "name": "stdout",
     "output_type": "stream",
     "text": [
      "자연수:  1000000\n"
     ]
    },
    {
     "name": "stdout",
     "output_type": "stream",
     "text": [
      "500000500000\n",
      "first case(for loop) is faster than second(div)\n"
     ]
    }
   ],
   "source": [
    "import time\n",
    "#생각해보니 이게 맞는 것 같네요\n",
    "\n",
    "\n",
    "num = int(input('자연수: '))\n",
    "\n",
    "start1 = time.time()\n",
    "s=0\n",
    "print(int(num*(num+1)/2))\n",
    "end1 = time.time()\n",
    "\n",
    "num = int(input(\"자연수: \"))\n",
    "start2 = time.time()\n",
    "s=0\n",
    "for _ in range(num+1):\n",
    "    s+=_\n",
    "print(s)\n",
    "\n",
    "end2 = time.time()\n",
    "if (end1-start1)-(end2-start2)>0:\n",
    "    print(\"second case(div) is faster than first(for loop)\")\n",
    "else:\n",
    "    print(\"first case(for loop) is faster than second(div)\")\n"
   ]
  },
  {
   "cell_type": "code",
   "execution_count": 2,
   "id": "057ec3ac-d37b-4a3f-ab89-2f43298c7d86",
   "metadata": {},
   "outputs": [],
   "source": []
  }
 ],
 "metadata": {
  "kernelspec": {
   "display_name": "Python 3",
   "language": "python",
   "name": "python3"
  },
  "language_info": {
   "codemirror_mode": {
    "name": "ipython",
    "version": 3
   },
   "file_extension": ".py",
   "mimetype": "text/x-python",
   "name": "python",
   "nbconvert_exporter": "python",
   "pygments_lexer": "ipython3",
   "version": "3.9.4 (default, Sep 19 2022, 20:45:35) \n[Clang 12.0.5 (clang-1205.0.22.9)]"
  },
  "vscode": {
   "interpreter": {
    "hash": "2d7f4db1d613ee4b2d2ebeae5876b92e66a31c9cb18f7b3ca1ac02b1bc62896c"
   }
  }
 },
 "nbformat": 4,
 "nbformat_minor": 5
}
