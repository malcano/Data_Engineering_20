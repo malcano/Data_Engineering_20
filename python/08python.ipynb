{
 "cells": [
  {
   "cell_type": "code",
   "execution_count": 30,
   "id": "74a226f4-ea92-4597-a9d1-220b7d257ffc",
   "metadata": {},
   "outputs": [
    {
     "name": "stdout",
     "output_type": "stream",
     "text": [
      "숫자 입력 15\n"
     ]
    },
    {
     "name": "stdout",
     "output_type": "stream",
     "text": [
      "[1, 2, 3, 4, 5, 6, 7, 8, 9, 10, 11, 12, 13, 14, 15]\n",
      "[2, 3, 4, 5, 6, 7, 8, 9, 10, 11, 12, 13, 14, 15, 1]\n",
      "[3, 4, 5, 6, 7, 8, 9, 10, 11, 12, 13, 14, 15, 1, 2]\n",
      "[4, 5, 6, 7, 8, 9, 10, 11, 12, 13, 14, 15, 1, 2, 3]\n",
      "[5, 6, 7, 8, 9, 10, 11, 12, 13, 14, 15, 1, 2, 3, 4]\n",
      "[6, 7, 8, 9, 10, 11, 12, 13, 14, 15, 1, 2, 3, 4, 5]\n",
      "[7, 8, 9, 10, 11, 12, 13, 14, 15, 1, 2, 3, 4, 5, 6]\n",
      "[8, 9, 10, 11, 12, 13, 14, 15, 1, 2, 3, 4, 5, 6, 7]\n",
      "[9, 10, 11, 12, 13, 14, 15, 1, 2, 3, 4, 5, 6, 7, 8]\n",
      "[10, 11, 12, 13, 14, 15, 1, 2, 3, 4, 5, 6, 7, 8, 9]\n",
      "[11, 12, 13, 14, 15, 1, 2, 3, 4, 5, 6, 7, 8, 9, 10]\n",
      "[12, 13, 14, 15, 1, 2, 3, 4, 5, 6, 7, 8, 9, 10, 11]\n",
      "[13, 14, 15, 1, 2, 3, 4, 5, 6, 7, 8, 9, 10, 11, 12]\n",
      "[14, 15, 1, 2, 3, 4, 5, 6, 7, 8, 9, 10, 11, 12, 13]\n",
      "[15, 1, 2, 3, 4, 5, 6, 7, 8, 9, 10, 11, 12, 13, 14]\n"
     ]
    }
   ],
   "source": [
    "inp = int(input(\"숫자 입력\"))\n",
    "nList = list(range(1,inp+1))\n",
    "for _ in range(0,inp):\n",
    "    print(str(nList[_:]+nList[:_]))\n"
   ]
  },
  {
   "cell_type": "code",
   "execution_count": 32,
   "id": "38340968-214c-4a41-a2fb-25fab78541d2",
   "metadata": {},
   "outputs": [
    {
     "name": "stdout",
     "output_type": "stream",
     "text": [
      "[[0], [0], [0]]\n",
      "[[999], [999], [999]]\n"
     ]
    }
   ],
   "source": [
    "list_i = [[0]]*3 #주소 복사임!얕은 복사 \n",
    "print(list_i)\n",
    "list_i[0][0]=999\n",
    "print(list_i)"
   ]
  },
  {
   "cell_type": "code",
   "execution_count": 33,
   "id": "4d8aa474-f308-477f-9144-f46e4b6dcad9",
   "metadata": {},
   "outputs": [
    {
     "name": "stdout",
     "output_type": "stream",
     "text": [
      "False\n"
     ]
    }
   ],
   "source": [
    "list_j = [[1,2],[3,4]]\n",
    "list_k = list_j[:]# list_m = list_l.copy()\n",
    "print(list_k is list_j)"
   ]
  },
  {
   "cell_type": "code",
   "execution_count": 34,
   "id": "2c92481d-b095-4612-a80e-31ac690f9753",
   "metadata": {},
   "outputs": [
    {
     "name": "stdout",
     "output_type": "stream",
     "text": [
      "False\n"
     ]
    }
   ],
   "source": [
    "list_l = [[5,6],[7,8]]\n",
    "list_m = list_l.copy()\n",
    "print(list_l is list_m)"
   ]
  },
  {
   "cell_type": "code",
   "execution_count": 36,
   "id": "df9efd7b-0bd4-43ad-8242-c211a4763f2f",
   "metadata": {},
   "outputs": [
    {
     "name": "stdout",
     "output_type": "stream",
     "text": [
      "[[5, 6], [7, 88]]\n",
      "[[5, 6], [7, 88]]\n"
     ]
    }
   ],
   "source": [
    "list_l[1][1] = 88\n",
    "print(list_l)\n",
    "print(list_m)"
   ]
  },
  {
   "cell_type": "code",
   "execution_count": 1,
   "id": "42dcec31-916d-41f7-87a6-083708a7e76e",
   "metadata": {},
   "outputs": [
    {
     "name": "stdout",
     "output_type": "stream",
     "text": [
      "False\n",
      "[[9, 999], [11, 12]] 4415567168\n",
      "[[9, 10], [11, 12]] 4415595776\n"
     ]
    }
   ],
   "source": [
    "#deep copy\n",
    "\n",
    "import copy\n",
    "\n",
    "list_n = [[9,10],[11,12]]\n",
    "list_o = copy.deepcopy(list_n)\n",
    "print(list_n[0] is list_o)\n",
    "\n",
    "list_n[0][1] = 999\n",
    "print(list_n,id(list_n))\n",
    "print(list_o,id(list_o))"
   ]
  },
  {
   "cell_type": "code",
   "execution_count": 5,
   "id": "36793c28-a2ac-4639-905a-a4f6dc0e4e7a",
   "metadata": {},
   "outputs": [
    {
     "name": "stdout",
     "output_type": "stream",
     "text": [
      "['alpha', 'bravo', 'delta', 'hotel', 'india']\n"
     ]
    }
   ],
   "source": [
    "a = ['alpha', 'bravo', 'charlie', 'delta', 'echo', 'foxtrot', 'golf','hotel','india']\n",
    "b = [i for i in a if len(i) == 5]\n",
    "print(b)"
   ]
  },
  {
   "cell_type": "code",
   "execution_count": 25,
   "id": "5f79eb97-1ce2-486a-a2f7-e9b2241361b7",
   "metadata": {},
   "outputs": [
    {
     "name": "stdout",
     "output_type": "stream",
     "text": [
      "정수 두 개 입력하세요:  99 1\n"
     ]
    },
    {
     "name": "stdout",
     "output_type": "stream",
     "text": [
      "첫째 값 1-20 어쩌구\n"
     ]
    },
    {
     "name": "stdout",
     "output_type": "stream",
     "text": [
      "정수 두 개 입력하세요:  10 1\n"
     ]
    },
    {
     "name": "stdout",
     "output_type": "stream",
     "text": [
      "둘째 값 10-30 어쩌고\n"
     ]
    },
    {
     "name": "stdout",
     "output_type": "stream",
     "text": [
      "정수 두 개 입력하세요:  20 10\n"
     ]
    },
    {
     "name": "stdout",
     "output_type": "stream",
     "text": [
      "첫번째를 더 작게\n"
     ]
    },
    {
     "name": "stdout",
     "output_type": "stream",
     "text": [
      "정수 두 개 입력하세요:  10 20\n"
     ]
    },
    {
     "name": "stdout",
     "output_type": "stream",
     "text": [
      "[1024, 4096, 8192, 16384, 32768, 65536, 131072, 262144, 1048576]\n"
     ]
    }
   ],
   "source": [
    "while True:\n",
    "    A, B = map(int,(input(\"정수 두 개 입력하세요: \").split(\" \")))\n",
    "    if not(1<=A<=20):\n",
    "        print(\"첫째 값 1-20 어쩌구\")\n",
    "        continue\n",
    "    elif not(10<=B<=30):\n",
    "        print(\"둘째 값 10-30 어쩌고\")\n",
    "        continue\n",
    "    if(A>B):\n",
    "        print(\"첫번째를 더 작게\")\n",
    "    else: break\n",
    "lst = [2**_ for _ in range(A,B+1) if not (_==A+1 or _==B-1)]\n",
    "print(lst)"
   ]
  },
  {
   "cell_type": "code",
   "execution_count": 20,
   "id": "8ac9720e-4963-4b63-90cb-8ecc5b5f8de4",
   "metadata": {},
   "outputs": [
    {
     "name": "stdout",
     "output_type": "stream",
     "text": [
      "\n",
      "-1+4-9+16-25+36-49+64-81+100\n",
      "-121+144-169+196-225+256-289+324-361+400\n",
      "-441+484-529+576-625+676-729+784-841+900\n",
      "-961+1024-1089+1156-1225+1296-1369+1444-1521+1600\n",
      "-1681+1764-1849+1936-2025+2116-2209+2304-2401+2500\n",
      "-2601+2704-2809+2916-3025+3136-3249+3364-3481+3600\n",
      "-3721+3844-3969+4096-4225+4356-4489+4624-4761+4900\n",
      "-5041+5184-5329+5476-5625+5776-5929+6084-6241+6400\n",
      "-6561+6724-6889+7056-7225+7396-7569+7744-7921+8100\n",
      "-8281+8464-8649+8836-9025+9216-9409+9604-9801+10000\n",
      "=5050입니다\n"
     ]
    }
   ],
   "source": [
    "result = 0;\n",
    "ls = [ _*_ for _ in range(1,101)]\n",
    "i = 0;\n",
    "\n",
    "while i<100:\n",
    "    if(i%10==0):\n",
    "        print()\n",
    "    if(ls[i]%2 == 1):\n",
    "        ls[i]=-(ls[i])\n",
    "        print(ls[i],end=\"\")\n",
    "    else:\n",
    "        print(f\"+{ls[i]}\", end = \"\")\n",
    "    \n",
    "    i+= 1\n",
    "\n",
    "print(f\"\\n={sum(ls)}입니다\")"
   ]
  },
  {
   "cell_type": "code",
   "execution_count": null,
   "id": "438499f1-7483-48e6-a7ae-0ff23289ab37",
   "metadata": {},
   "outputs": [],
   "source": []
  }
 ],
 "metadata": {
  "kernelspec": {
   "display_name": "Python 3",
   "language": "python",
   "name": "python3"
  },
  "language_info": {
   "codemirror_mode": {
    "name": "ipython",
    "version": 3
   },
   "file_extension": ".py",
   "mimetype": "text/x-python",
   "name": "python",
   "nbconvert_exporter": "python",
   "pygments_lexer": "ipython3",
   "version": "3.9.4 (default, Sep 19 2022, 20:45:35) \n[Clang 12.0.5 (clang-1205.0.22.9)]"
  },
  "toc-autonumbering": true,
  "toc-showmarkdowntxt": false,
  "vscode": {
   "interpreter": {
    "hash": "2d7f4db1d613ee4b2d2ebeae5876b92e66a31c9cb18f7b3ca1ac02b1bc62896c"
   }
  },
  "widgets": {
   "application/vnd.jupyter.widget-state+json": {
    "state": {},
    "version_major": 2,
    "version_minor": 0
   }
  }
 },
 "nbformat": 4,
 "nbformat_minor": 5
}
