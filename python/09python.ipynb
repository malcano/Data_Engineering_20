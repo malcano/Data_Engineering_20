{
 "cells": [
  {
   "cell_type": "markdown",
   "id": "aeeee2aa-472f-40ca-b4b5-40de90fa9bc4",
   "metadata": {},
   "source": [
    "## 230112 파이썬 : 함수와 클래스 \n",
    "\n",
    "#### 전날 학습 내용 복습\n",
    "\n",
    "> 인용구\n",
    "\n",
    "- 딕셔너리 \n",
    "- 객체 간 비교연산자 \n",
    "- == vs is \n",
    "\n",
    "- jafklsdjklfajlsd\n",
    "- fasdfjiasdf\n",
    "- dsafds\n"
   ]
  },
  {
   "cell_type": "markdown",
   "id": "bceeb8d6-e136-4a67-a269-3c5381948e87",
   "metadata": {},
   "source": [
    "#### 연습문제"
   ]
  },
  {
   "cell_type": "code",
   "execution_count": 31,
   "id": "73c8c6fc-6e84-41a4-91b9-8cc986e2e345",
   "metadata": {},
   "outputs": [
    {
     "name": "stdout",
     "output_type": "stream",
     "text": [
      "로또 번호 몇 개?  1\n",
      "[4, 14, 18, 19, 31, 34]\n"
     ]
    }
   ],
   "source": [
    "import random\n",
    "\n",
    "how_many = int(input(\"로또 번호 몇 개? \"))\n",
    "i = 0\n",
    "while i<how_many:\n",
    "    lst = list(set([random.randint(1,45) for _ in range(6)]))\n",
    "    lst.sort()\n",
    "    if len(lst) != 6:\n",
    "        continue;\n",
    "    else:\n",
    "        i+=1\n",
    "        print(lst)"
   ]
  },
  {
   "cell_type": "markdown",
   "id": "f50cfe40-4610-4aa2-80c5-3b593103b002",
   "metadata": {
    "tags": []
   },
   "source": [
    "#### SET 자료형 -> 중복 제거할 때 좋다!\n",
    "#### dictionary랑 비슷한데 set은 set()함수로만 사용할 수 있다 \n"
   ]
  },
  {
   "cell_type": "code",
   "execution_count": 34,
   "id": "2ce637da-b31b-4bda-91a6-c17fde6fa4f4",
   "metadata": {},
   "outputs": [
    {
     "name": "stdout",
     "output_type": "stream",
     "text": [
      "로또 번호 몇 개?  5\n",
      "[3, 20, 22, 33, 43, 45]\n",
      "[15, 22, 24, 28, 38, 44]\n",
      "[3, 6, 11, 24, 30, 36]\n",
      "[5, 20, 24, 30, 32, 34]\n",
      "[2, 10, 18, 23, 24, 32]\n",
      "CPU times: user 10.4 ms, sys: 9.08 ms, total: 19.4 ms\n",
      "Wall time: 1.22 s\n"
     ]
    }
   ],
   "source": [
    "%%time\n",
    "\n",
    "import random\n",
    "\n",
    "how_many = int(input(\"로또 번호 몇 개? \"))\n",
    "i = 0\n",
    "while i<how_many:\n",
    "    lst = list({random.randint(1,45) for _ in range(6)})\n",
    "    if len(lst) != 6:\n",
    "        continue;\n",
    "    else:\n",
    "        i+=1\n",
    "        lst.sort()\n",
    "        print(lst)"
   ]
  },
  {
   "cell_type": "code",
   "execution_count": 121,
   "id": "7c34e7e7-31b4-4ce9-9303-5d64948a41ad",
   "metadata": {},
   "outputs": [
    {
     "name": "stdout",
     "output_type": "stream",
     "text": [
      "로또 번호 몇 개?  5\n",
      "[2, 14, 16, 19, 20, 36]\n",
      "[2, 30, 31, 32, 33, 36]\n",
      "[7, 10, 25, 29, 30, 37]\n",
      "[2, 7, 20, 22, 23, 37]\n",
      "[1, 4, 5, 38, 43, 45]\n"
     ]
    }
   ],
   "source": [
    "import random\n",
    "\n",
    "how_many = int(input(\"로또 번호 몇 개? \"))\n",
    "for _ in range(how_many):\n",
    "    lst = sorted(random.sample(range(1, 46), 6))\n",
    "    print(lst)\n"
   ]
  },
  {
   "cell_type": "code",
   "execution_count": 37,
   "id": "d9414598-9d53-4774-9f8a-68da8665a962",
   "metadata": {},
   "outputs": [
    {
     "name": "stdout",
     "output_type": "stream",
     "text": [
      "{0, 1, 2, 3, 4}\n"
     ]
    }
   ],
   "source": [
    "set_var = set()\n",
    "[set_var.add(_) for _ in range(5)]\n",
    "\n",
    "#remove 할 때 없는 값 지우려고 하면 ERROR!\n",
    "#discard 할 때 없는 값 지우려고 할 때엔 ERROR 발생하지 않음 \n",
    "\n",
    "print(set_var)\n",
    "\n",
    "#SET 순서를 보장하지 않음. pop하면 뭐가 지워질지 모른다\n",
    "\n",
    "#add, remove, discard, pop\n",
    "#clear 전체 삭제"
   ]
  },
  {
   "cell_type": "markdown",
   "id": "fd058462-42fa-4f4b-b375-72d5b4d7ba63",
   "metadata": {},
   "source": [
    "#### SET 순서를 보장하지 않음. pop하면 뭐가 지워질지 모른다\n",
    "\n",
    "#add, remove, discard, pop\n",
    "#clear 전체 삭제#SET 순서를 보장하지 않음. pop하면 뭐가 지워질지 모른다\n",
    "\n",
    "#add, remove, discard, pop\n",
    "#clear 전체 삭제"
   ]
  },
  {
   "cell_type": "code",
   "execution_count": 38,
   "id": "496cb911-1977-4f66-8676-9c1751e62e02",
   "metadata": {},
   "outputs": [
    {
     "name": "stdout",
     "output_type": "stream",
     "text": [
      "{0, 3, 6, 9, 12, 15, 18} 개수는 7\n"
     ]
    }
   ],
   "source": [
    "set_variable = {_ for _ in range(20) if _ %3 == 0}\n",
    "print(set_variable, \"개수는\", len(set_variable))"
   ]
  },
  {
   "cell_type": "markdown",
   "id": "2d172647-11f8-48c1-b8e7-d6179279af45",
   "metadata": {},
   "source": [
    "#### Set(집합)에서 union 또는 | 사용 가능!"
   ]
  },
  {
   "cell_type": "code",
   "execution_count": 40,
   "id": "29c1a173-6480-45ec-9bb4-5a228cc6f0e3",
   "metadata": {},
   "outputs": [
    {
     "name": "stdout",
     "output_type": "stream",
     "text": [
      "{1, 2, 3, 4}\n",
      "{2, 4, 5}\n",
      "{1, 2, 3, 4, 5}\n"
     ]
    }
   ],
   "source": [
    "A = {_ for _ in range(1,5)}\n",
    "B = {_ for _ in range(2,6) if _ !=3}\n",
    "print(A)\n",
    "print(B)\n",
    "print(A.union(B))"
   ]
  },
  {
   "cell_type": "markdown",
   "id": "75a3d93f-e23d-4cb4-9876-5e1165c7e66f",
   "metadata": {},
   "source": [
    "#### intersection(교집합) 또는 & 사용가능 \n",
    "\n",
    "#### difference(차집합) 또는 - 사용가능\n",
    "\n",
    "#### symmetric_difference() 또는 ^ 사용 가능\n",
    "-> (A U B) - (A n B)\n",
    "\n",
    "#### update() 또는 |\n",
    "\n",
    "#### intersection_update() 또는 -=\n",
    "\n",
    "#### symmetric_difference() 또는 ^=\n",
    "\n",
    "#### issubset() \n",
    "\n",
    "#### issuperset()\n",
    "\n"
   ]
  },
  {
   "cell_type": "code",
   "execution_count": 102,
   "id": "806e415d-cf98-493f-85a2-f0c39a5ed9fc",
   "metadata": {},
   "outputs": [
    {
     "name": "stdout",
     "output_type": "stream",
     "text": [
      "True\n",
      "True\n",
      "A:\t\t{0}\n",
      "B: \t\t{0.0}\n",
      "\n",
      "A:\t\t<class 'set'>\n",
      "B:\t\t<class 'set'>\n",
      "\n",
      "A==B:\t\t True\n",
      "B.issubset(A)?:\t True\n",
      "\n",
      "True\n",
      "popA:  0 \t\t\tpopB: 0.0\n",
      "popA == popB:\t\t\t True\n",
      "type(popA) == type(popB): \tFalse\n"
     ]
    }
   ],
   "source": [
    "A = {_ for _ in range(1,10)}\n",
    "B = {_ for _ in range(1,5)}\n",
    "print(B.issubset(A))\n",
    "print(A.issuperset(B))\n",
    "A = {int(_) for _ in range(1)} # {0}\n",
    "B = {float(_) for _ in range(1)} #{0,0}\n",
    "print(f\"A:\\t\\t{A}\")\n",
    "print(f\"B: \\t\\t{B}\\n\")\n",
    "\n",
    "print(f\"A:\\t\\t{type(A)}\")\n",
    "print(f\"B:\\t\\t{type(B)}\\n\")\n",
    "\n",
    "print(\"A==B:\\t\\t\",A==B) #auto cast 후 value 로 비교하는듯\n",
    "print(f\"B.issubset(A)?:\\t {B.issubset(A)}\\n\")\n",
    "print(A.issuperset(B))\n",
    "popA = A.pop()\n",
    "popB = B.pop()\n",
    "print(\"popA: \",popA,\"\\t\\t\\tpopB:\",popB)\n",
    "print(\"popA == popB:\\t\\t\\t\",popA == popB) #\n",
    "print(f\"type(popA) == type(popB): \\t{type(popA) == type(popB)}\") #"
   ]
  },
  {
   "cell_type": "markdown",
   "id": "af171b92-112c-40f6-a6ca-6593fa505d56",
   "metadata": {},
   "source": [
    "#### 진 부분집합과 진상위집합 <, >\n",
    "등호도 사용 가능함\n",
    "\n",
    "#### isdisjoint()\n",
    "겹치는 부분이 있는가? 없으면 true를 반환"
   ]
  },
  {
   "cell_type": "code",
   "execution_count": 87,
   "id": "62ef93c5-c0d8-4944-a54f-41bcd604b3aa",
   "metadata": {},
   "outputs": [
    {
     "name": "stdout",
     "output_type": "stream",
     "text": [
      "{1, 2, 3, 4}\n"
     ]
    }
   ],
   "source": [
    "list_sample = [1,2,2,3,3,3,4,4,4,4]\n",
    "print(set(list_sample))"
   ]
  },
  {
   "cell_type": "code",
   "execution_count": 103,
   "id": "85bde328-6880-49fb-97ca-d29ede68537c",
   "metadata": {},
   "outputs": [
    {
     "name": "stdout",
     "output_type": "stream",
     "text": [
      "{75, 45, 15, 90, 60, 30}\n"
     ]
    }
   ],
   "source": [
    "set_3 = {_ for _ in range(1,100) if _ %3 == 0}\n",
    "set_5 = {_ for _ in range(1,100) if _ %5 == 0}\n",
    "result_set = set_3 & set_5\n",
    "print(result_set)"
   ]
  },
  {
   "cell_type": "code",
   "execution_count": 135,
   "id": "a1e2b1df-d981-436a-a59b-d186f6d2c6e1",
   "metadata": {},
   "outputs": [
    {
     "name": "stdout",
     "output_type": "stream",
     "text": [
      "개인정보조회, 구매관리, 근태관리, 시스템관리, 인사관리, 회계관리\n"
     ]
    }
   ],
   "source": [
    "role_admin = (\"회계관리\",\"인사관리\",\"구매관리\",\"시스템관리\")\n",
    "role_hr = (\"인사관리\",\"개인정보조회\",\"회계관리\",\"근태관리\")\n",
    "role_user = (\"개인정보조회\", \"근태관리\")\n",
    "\n",
    "tmp = list(set(role_admin)|set(role_hr)|set(role_user))\n",
    "tmp.sort()\n",
    "print(*tmp,sep =\", \") #괄호 없애기 "
   ]
  },
  {
   "cell_type": "code",
   "execution_count": 155,
   "id": "ee278da3-c24d-4c36-a0da-802d75cc6af4",
   "metadata": {},
   "outputs": [
    {
     "data": {
      "text/plain": [
       "[2, 3, 5]"
      ]
     },
     "execution_count": 155,
     "metadata": {},
     "output_type": "execute_result"
    }
   ],
   "source": [
    "def primes(n):\n",
    "    numbersType = [False, False] + [True] * (n - 1)\n",
    "    primes = []\n",
    "    for i in range(2, n + 1):\n",
    "        if numbersType[i]:\n",
    "            primes.append(i)\n",
    "            for j in range(i * 2, n + 1, i):\n",
    "                numbersType[j] = False\n",
    "    return primes\n",
    "primes(5)"
   ]
  },
  {
   "cell_type": "code",
   "execution_count": 158,
   "id": "8a29dfb1-7b95-486e-9433-6432c1ea5617",
   "metadata": {},
   "outputs": [
    {
     "name": "stdout",
     "output_type": "stream",
     "text": [
      "찾는 범위:  100\n",
      "2 3 5 7 11 13 17 \n",
      "19 23 29 31 37 41 43 \n",
      "47 53 59 61 67 71 73 \n",
      "79 83 89 97 "
     ]
    }
   ],
   "source": [
    "def isPrime(num):\n",
    "    primes = [False, False] + [True]*(num-1)\n",
    "    for i in range(2, num+1):\n",
    "        if primes[i]:\n",
    "            for _ in range(i * 2, num+1, i):\n",
    "                primes[_] = False\n",
    "    return primes[num]\n",
    "\n",
    "get = int(input(\"찾는 범위: \"))\n",
    "lst = [_ for _ in range(2, get) if isPrime(_)]\n",
    "count = 0\n",
    "for _ in lst:\n",
    "    count+=1\n",
    "    print(_,end=\" \")\n",
    "    if count%7 == 0:\n",
    "        print()"
   ]
  },
  {
   "cell_type": "code",
   "execution_count": 159,
   "id": "08fe7ffc-7bb8-4949-9b91-f2a26d092030",
   "metadata": {},
   "outputs": [],
   "source": [
    "def is_prime(n):\n",
    "    sieve = [False, False] + [True] * (n - 1)\n",
    "    for i in range(2, n + 1):\n",
    "        if sieve[i]:\n",
    "            for j in range(i * 2, n + 1, i):\n",
    "                sieve[j] = False\n",
    "    return sieve[n]"
   ]
  },
  {
   "cell_type": "markdown",
   "id": "773672d6-b5f6-4d4e-97d1-f4eb17fae67e",
   "metadata": {},
   "source": [
    "#### Function"
   ]
  },
  {
   "cell_type": "code",
   "execution_count": 160,
   "id": "09b9e6ad-c60c-4b21-9ffe-b96d1a6de11f",
   "metadata": {},
   "outputs": [
    {
     "name": "stdout",
     "output_type": "stream",
     "text": [
      "코드 1 2 3\n"
     ]
    },
    {
     "data": {
      "text/plain": [
       "6"
      ]
     },
     "execution_count": 160,
     "metadata": {},
     "output_type": "execute_result"
    }
   ],
   "source": [
    "def 함수명(인자1, 인자2, 인자3):\n",
    "    print(\"코드\",인자1, 인자2, 인자3)\n",
    "    return 인자1+인자2+인자3\n",
    "\n",
    "함수명(1,2,3)"
   ]
  },
  {
   "cell_type": "markdown",
   "id": "fe8fed5e-6db5-4424-a425-b7089aa271b2",
   "metadata": {},
   "source": [
    "처음 안 사실 \n",
    "> 파이썬은 오버로딩이 되지 않는다 <br>\n",
    "분기처리해서 구분하도록 함\n",
    "\n"
   ]
  },
  {
   "cell_type": "code",
   "execution_count": 164,
   "id": "1f07c22a-7e01-493d-b69c-de17e8703078",
   "metadata": {},
   "outputs": [],
   "source": [
    "def func_name(param1, param2):\n",
    "    result = param1+ param2\n",
    "    return result"
   ]
  },
  {
   "cell_type": "code",
   "execution_count": 181,
   "id": "a8256103-d65e-4106-b5d1-2a7c7a314f9e",
   "metadata": {},
   "outputs": [
    {
     "name": "stdout",
     "output_type": "stream",
     "text": [
      "입력해라 애송이:  1\n",
      "['1']\n",
      "\n",
      "    Doc Stream sample \n",
      "    \n",
      "    작성자: 이민호\n",
      "    작성일자 : 20230112 \n",
      "    \n",
      "입력해라 애송이:  q\n"
     ]
    }
   ],
   "source": [
    "def joongbokNoNo(lst:str=\"annotation test\", *가변키워드, **가변키워드2)-> list: \n",
    "    \"\"\"\n",
    "    Doc Stream sample \n",
    "    \n",
    "    작성자: 이민호\n",
    "    작성일자 : 20230112 \n",
    "    \"\"\"\n",
    "    lst = list(set(lst))\n",
    "    \n",
    "    lst.sort()\n",
    "    return lst\n",
    "\n",
    "while True:\n",
    "    get = input(\"입력해라 애송이: \")\n",
    "    if get == 'q':\n",
    "        break\n",
    "    get = get.split(\" \")\n",
    "\n",
    "    print(joongbokNoNo(get))\n",
    "    print(joongbokNoNo.__doc__)\n"
   ]
  },
  {
   "cell_type": "markdown",
   "id": "b247194d-8c02-40ae-afe2-4b4e6ccd4b6f",
   "metadata": {
    "tags": []
   },
   "source": [
    "#### 파라미터에는 5종류가 있음\n",
    "- 위치-키워드: 기본\n",
    "- 위치 전용: /문자 기준으로 좌측 -> 함수를 호출할 때 키워드로 쓸 수 없음\n",
    "- 키워드 전용: *문자를 기준으로 우측에 위치\n",
    "- 가변위치: 변수명 앞에 *를 하나 붙여서 표기\n",
    "- 가변키워드: 변수명 앞에 ** 붙여서 표기"
   ]
  },
  {
   "cell_type": "code",
   "execution_count": 183,
   "id": "88d2b19b-81b3-4dc1-8fc9-edfb2f118399",
   "metadata": {},
   "outputs": [],
   "source": [
    "def func_name(pos1, pos2, *args, keyword1 = 1, **kargs):\n",
    "    return "
   ]
  },
  {
   "cell_type": "code",
   "execution_count": null,
   "id": "11040200-8919-459a-bfe4-eee0eca1da58",
   "metadata": {},
   "outputs": [],
   "source": [
    "def isPrime(num):\n",
    "    primes = [False, False] + [True]*(num-1)\n",
    "    for i in range(2, num+1):\n",
    "        if primes[i]:\n",
    "            for _ in range(i * 2, num+1, i):\n",
    "                primes[_] = False\n",
    "    return primes[num]\n",
    "\n",
    "get = int(input(\"찾는 범위: \"))\n",
    "lst = [_ for _ in range(2, get) if isPrime(_)]\n",
    "count = 0\n",
    "\n",
    "for _ in lst:\n",
    "    count+=1\n",
    "    print(_,end=\"\")\n",
    "    if count%7 == 0:\n",
    "        print()"
   ]
  },
  {
   "cell_type": "code",
   "execution_count": 199,
   "id": "33ac4439-54ca-4fae-a76a-1091ada55417",
   "metadata": {},
   "outputs": [
    {
     "name": "stdout",
     "output_type": "stream",
     "text": [
      "뭔갈 써라:  78\n",
      "342323423, 이민호의 성적을 확인합니다.\n",
      "B\n"
     ]
    }
   ],
   "source": [
    "def get_grade(score, student_number, name = \"홍길동\"):\n",
    "    \"\"\"\n",
    "    get grade function for practice python\n",
    "    \"\"\"\n",
    "    print(f\"{student_number}, {name}의 성적을 확인합니다.\")\n",
    "    if 85 <= score <= 100:\n",
    "        return 'A'\n",
    "    elif 70 <= score <= 84:\n",
    "        return 'B'\n",
    "    elif 55 <= score <= 69:\n",
    "        return 'C'\n",
    "    elif 40 <= score <= 54:\n",
    "        return 'D'\n",
    "    elif 0 <= score <= 39:\n",
    "        return 'F'\n",
    "    else:\n",
    "        return None\n",
    "#positional 하면 앞에오고 keyword하면 뒤로 간다\n",
    "get = int(input(\"뭔갈 써라: \"))\n",
    "result = get_grade(score = get , name=\"이민호\", student_number = \"342323423\")\n",
    "\n",
    "print(result)"
   ]
  },
  {
   "cell_type": "markdown",
   "id": "55ff3cab-9232-4625-97a0-0303f122bbb1",
   "metadata": {},
   "source": [
    "아니 가변 인자는 진짜 이해가 안가네  오버로딩이 왜안돼...\n",
    "\n",
    "#### 함수 정의절\n",
    "positional only는 /문자 기준으로 왼편에 온다 \n"
   ]
  },
  {
   "cell_type": "code",
   "execution_count": 225,
   "id": "431b306b-97d6-421c-a843-b04b87032ccf",
   "metadata": {},
   "outputs": [
    {
     "name": "stdout",
     "output_type": "stream",
     "text": [
      "135\n"
     ]
    }
   ],
   "source": [
    "def add_number(number1:int, /,number2:int=0)->int:\n",
    "    \"\"\"\n",
    "    번호를 더합니다.\n",
    "    \"\"\"\n",
    "    return number1+number2\n",
    "\n",
    "#ERROR\n",
    "#result = add_number(number1 = 123,134)\n",
    "\n",
    "#Right code\n",
    "result = add_number(1,number2=134)\n",
    "print(result)"
   ]
  },
  {
   "cell_type": "code",
   "execution_count": 228,
   "id": "7b971e64-25ea-43e9-97a7-57a097477aca",
   "metadata": {},
   "outputs": [
    {
     "data": {
      "text/plain": [
       "5"
      ]
     },
     "execution_count": 228,
     "metadata": {},
     "output_type": "execute_result"
    }
   ],
   "source": [
    "def multi_num (number1 , /, *, number2):\n",
    "    return number1+number2\n",
    "#Error\n",
    "#multi_num(3, 10)\n",
    "multi_num(3, number2=2)"
   ]
  },
  {
   "cell_type": "code",
   "execution_count": 2,
   "id": "75a59daa-7bc8-4787-96d2-ba3ea4b7a127",
   "metadata": {},
   "outputs": [],
   "source": [
    "def string_line(str_value, /, str_len, *, sep=\"#\"):\n",
    "    \"\"\"\n",
    "    str_value는 가운데 오는 텍스트입니다.\n",
    "    str_len은 텍스트를 설정할 길이입니다.\n",
    "    sep은 구분선을 그을때 쓰는 문자입니다.\n",
    "    \"\"\"\n",
    "    \n"
   ]
  },
  {
   "cell_type": "code",
   "execution_count": 1,
   "id": "99f1cf87-ccae-4494-a056-0a483b9cbc42",
   "metadata": {},
   "outputs": [
    {
     "name": "stdout",
     "output_type": "stream",
     "text": [
      "a: a, b: b, c: c\n",
      "<class 'tuple'>\n",
      "('뭔데', '뭔데', 'packing', 'unpacking')\n"
     ]
    }
   ],
   "source": [
    "def test_func(a,b,c, *args):\n",
    "    print(f\"a: {a}, b: {b}, c: {c}\")\n",
    "    print(type(args))\n",
    "    print(args)#args부분은 다른 걸로 쓸 수 있는데 보통 이렇게 씀\n",
    "    \n",
    "test_func(\"a\",\"b\",\"c\",\"뭔데\",\"뭔데\",\"packing\",\"unpacking\")"
   ]
  },
  {
   "cell_type": "markdown",
   "id": "31a2cab1-cf75-4d76-bab6-9449d233886b",
   "metadata": {},
   "source": [
    "넘길때 packing 으로 넘김"
   ]
  },
  {
   "cell_type": "code",
   "execution_count": 5,
   "id": "edc17a35-25dc-483c-a509-e4dcb482bee6",
   "metadata": {},
   "outputs": [
    {
     "data": {
      "text/plain": [
       "80"
      ]
     },
     "execution_count": 5,
     "metadata": {},
     "output_type": "execute_result"
    }
   ],
   "source": [
    "def plus_ten(get:int)->int:\n",
    "    return get+10\n",
    "plus_ten(70)"
   ]
  },
  {
   "cell_type": "code",
   "execution_count": 2,
   "id": "43c648b8-5803-4b18-bfdf-ec395aafcf65",
   "metadata": {},
   "outputs": [
    {
     "name": "stdout",
     "output_type": "stream",
     "text": [
      "list_strs = ['f', 'a', 's', 'd', 'j', 'f', 'i', 'o', 'j', 'i', 'o', 'w', 'e', 'j', 'f', 'i', 'o', 'w', 'e']\n",
      "\n",
      "whole_str = f*a*s*d*j*f*i*o*j*i*o*w*e*j*f*i*o*w*e\n"
     ]
    }
   ],
   "source": [
    "list_strs = [ _ for _ in \"fasdjfiojiowejfiowe\"]\n",
    "print(f\"list_strs = {list_strs}\")\n",
    "\n",
    "whole_str = \"*\".join(list_strs)\n",
    "print(f\"\\nwhole_str = {whole_str}\")"
   ]
  },
  {
   "cell_type": "code",
   "execution_count": null,
   "id": "d57ba959-a599-4d01-b497-08c49e4e3bfb",
   "metadata": {},
   "outputs": [],
   "source": []
  }
 ],
 "metadata": {
  "kernelspec": {
   "display_name": "Python 3 (ipykernel)",
   "language": "python",
   "name": "python3"
  },
  "language_info": {
   "codemirror_mode": {
    "name": "ipython",
    "version": 3
   },
   "file_extension": ".py",
   "mimetype": "text/x-python",
   "name": "python",
   "nbconvert_exporter": "python",
   "pygments_lexer": "ipython3",
   "version": "3.9.4 (default, Sep 19 2022, 20:45:35) \n[Clang 12.0.5 (clang-1205.0.22.9)]"
  },
  "vscode": {
   "interpreter": {
    "hash": "2d7f4db1d613ee4b2d2ebeae5876b92e66a31c9cb18f7b3ca1ac02b1bc62896c"
   }
  },
  "widgets": {
   "application/vnd.jupyter.widget-state+json": {
    "state": {},
    "version_major": 2,
    "version_minor": 0
   }
  }
 },
 "nbformat": 4,
 "nbformat_minor": 5
}
