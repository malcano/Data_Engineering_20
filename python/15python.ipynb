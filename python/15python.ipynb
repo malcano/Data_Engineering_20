{
 "cells": [
  {
   "cell_type": "code",
   "execution_count": 31,
   "metadata": {},
   "outputs": [],
   "source": [
    "class Team:\n",
    "    count = 0\n",
    "    order = []\n",
    "\n",
    "    def __init__(self):\n",
    "        self.number = 0\n",
    "        self.name = None\n",
    "        self.member = []\n",
    "\n",
    "    def __len__(self):\n",
    "        return len(self.__member)\n",
    "\n",
    "    def add_member(self, member: str):\n",
    "        if member in self.order:\n",
    "            #print(f\"{member}님은 이미 팀에 있습니다.\")\n",
    "            return\n",
    "        else:\n",
    "            #print(f\"{member}님을 {member}팀에 추가하였습니다.\")\n",
    "            self.order.append(member)\n",
    "            return\n",
    "\n",
    "    def rm_member(self, member: str):\n",
    "        if member in self.order:\n",
    "            #print(f\"{member}님을 {self.number}팀에서 삭제했습니다.\")\n",
    "            self.order.remove(member)\n",
    "            return\n",
    "        else:\n",
    "            #print(f\"{member}님은 해당 팀에 없습니다.\")\n",
    "            self.order.append(member)\n",
    "            return\n",
    "\n"
   ]
  },
  {
   "cell_type": "code",
   "execution_count": 68,
   "metadata": {},
   "outputs": [
    {
     "name": "stdout",
     "output_type": "stream",
     "text": [
      "1팀: ['김경목', '이민호', '김호영', '황도희', '이호진']\n",
      "2팀: ['윤규헌', '서영호', '김강직', '허경모']\n",
      "3팀: ['민병창', '김기훈', '도강현', '우상욱']\n",
      "4팀: ['맹지호', '신제우', '김예린', '강지인']\n",
      "5팀: ['이병호', '이선주', '김민수', '김유림']\n"
     ]
    }
   ],
   "source": [
    "import random as rd\n",
    "\n",
    "class TeamBuilder:\n",
    "    has_team = False\n",
    "    teams = []\n",
    "\n",
    "    def __init__(self, members: list, team_count: int) -> None:\n",
    "        self.members = members  # 팀 멤버\n",
    "        self.team_count = team_count  # 팀 개수\n",
    "        self.teams.clear()\n",
    "\n",
    "    def create_team(self):\n",
    "        self.teams.clear()\n",
    "        for _ in range(self.team_count):\n",
    "            self.teams.append(Team())\n",
    "\n",
    "        tempMemberList = [_ for _ in self.members]\n",
    "        index = 0\n",
    "\n",
    "        while len(tempMemberList) != 0:\n",
    "            targetMember = tempMemberList.pop(rd.randint(0, len(tempMemberList)-1))\n",
    "            teamIndex = index % self.team_count\n",
    "            self.teams[teamIndex].member.append(targetMember)\n",
    "            index+=1\n",
    "\n",
    "    def show_team_info(self):\n",
    "        for _ in range(self.team_count):\n",
    "            print(f\"{_+1}팀: \", end=\"\")\n",
    "            print(self.teams[_].member, sep =\" \")\n",
    "\n",
    "number = 15\n",
    "# members = [\"이민호\"+str(rd.randint(10,number)) for _ in range(number)]\n",
    "members = \"강지인 김강직 김경목 김기훈 김민수 김예린 김유림 김호영 도강현 맹지호 민병창 서영호 신제우 우상욱 윤규헌 이민호 이병호 이선주 이호진 허경모 황도희\".split()\n",
    "\n",
    "tb = TeamBuilder(members, 5)\n",
    "tb.create_team()\n",
    "tb.show_team_info()\n"
   ]
  },
  {
   "cell_type": "code",
   "execution_count": 8,
   "metadata": {},
   "outputs": [
    {
     "name": "stdout",
     "output_type": "stream",
     "text": [
      "1 0\n",
      "0 1\n",
      "1 2\n",
      "5 8\n",
      "10946 17711\n"
     ]
    }
   ],
   "source": [
    "# solution 1003\n",
    "def solution():\n",
    "    \"\"\"\n",
    "    이 문제는 얼핏 보면 재귀를 돌려 푸는 문제인 것 같지만, 재귀로 일일이 풀면 시간제한에 걸리는 문제이다.\n",
    "    DP로 풀어야 하는 문제이며, 함정에 속지 말자.\n",
    "    \"\"\"\n",
    "    zero_save = [1, 0]  # 값이 0, 1일 때 0이 호출되는 경우를 미리 리스트에 저장한다.\n",
    "    one_save = [0, 1]  # 값이 0,1일 때 1이 호출되는 경우를 미리 리스트에 저장한다.\n",
    "    var_count = int(input())  # 받을 케이스 수를 저장\n",
    "    target = []  # 케이스를 저장할 리스트\n",
    "\n",
    "    for arg in range(var_count):\n",
    "        target.append(int(input()))  # 케이스 값을 리스트에 저장\n",
    "\n",
    "    for arg in target:  # 케이스를 하나씩 꺼내온다\n",
    "        if arg > len(zero_save):  # 해당 케이스에 대한 값이 리스트에 저장되어 있지 않다면\n",
    "            for index in range(len(zero_save), arg + 1):  # 없는 케이스를 만들어주자\n",
    "                # 0, 1의 호출 횟수는 피보나치 수열과 같은 패턴을 지닌다.\n",
    "                # zero save와 one save에 케이스를 미리 저장해주자\n",
    "                zero_save.append(zero_save[index - 1] + zero_save[index - 2])\n",
    "                one_save.append(one_save[index-1]+one_save[index-2])\n",
    "        print(f\"{zero_save[arg]} {one_save[arg]}\")  # 저장되어 있는 케이스를 꺼내온다.\n",
    "\n",
    "solution()\n",
    "solution()"
   ]
  },
  {
   "cell_type": "code",
   "execution_count": null,
   "metadata": {},
   "outputs": [],
   "source": []
  }
 ],
 "metadata": {
  "kernelspec": {
   "display_name": "Python 3",
   "language": "python",
   "name": "python3"
  },
  "language_info": {
   "codemirror_mode": {
    "name": "ipython",
    "version": 3
   },
   "file_extension": ".py",
   "mimetype": "text/x-python",
   "name": "python",
   "nbconvert_exporter": "python",
   "pygments_lexer": "ipython3",
   "version": "3.9.4"
  },
  "orig_nbformat": 4,
  "vscode": {
   "interpreter": {
    "hash": "2d7f4db1d613ee4b2d2ebeae5876b92e66a31c9cb18f7b3ca1ac02b1bc62896c"
   }
  }
 },
 "nbformat": 4,
 "nbformat_minor": 2
}
