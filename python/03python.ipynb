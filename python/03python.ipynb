{
 "cells": [
  {
   "cell_type": "code",
   "execution_count": 13,
   "id": "8bf99e7a-520d-44e5-a9d5-347b383a450a",
   "metadata": {},
   "outputs": [
    {
     "name": "stdout",
     "output_type": "stream",
     "text": [
      "이름을 입력하십시오:  d\n"
     ]
    },
    {
     "name": "stdout",
     "output_type": "stream",
     "text": [
      "d씨, 안녕하세요?\n",
      "파이썬에 오신 것을 환영합니다.\n"
     ]
    },
    {
     "name": "stdout",
     "output_type": "stream",
     "text": [
      "첫 번째 정수를 입력하세요:  300\n",
      "두 번째 정수를 입력하세요:  200\n"
     ]
    },
    {
     "name": "stdout",
     "output_type": "stream",
     "text": [
      "300 과  200 의 합은  500  입니다.\n"
     ]
    }
   ],
   "source": [
    "name = input(\"이름을 입력하십시오: \")\n",
    "print(name+\"씨, 안녕하세요?\"+\"\\n파이썬에 오신 것을 환영합니다.\")\n",
    "var1= int(input(\"첫 번째 정수를 입력하세요: \"))\n",
    "var2= int(input(\"두 번째 정수를 입력하세요: \"))\n",
    "print(var1, \"과 \", var2,\"의 합은 \", var1+var2,\" 입니다.\")\n"
   ]
  },
  {
   "cell_type": "code",
   "execution_count": 17,
   "id": "55e47190-3899-4fe6-9ba3-dd662480fe12",
   "metadata": {},
   "outputs": [
    {
     "name": "stdout",
     "output_type": "stream",
     "text": [
      "이름 d\n",
      "first var:  1\n",
      "second var:  2\n"
     ]
    },
    {
     "name": "stdout",
     "output_type": "stream",
     "text": [
      "1 and 2 . sum:  3\n"
     ]
    }
   ],
   "source": [
    "#sample code\n",
    "name = input(\"이름\")\n",
    "fir = input(\"first var: \")\n",
    "sec = input(\"second var: \")\n",
    "print(fir, \"and\", sec, \". sum: \",int(fir)+int(sec))\n"
   ]
  },
  {
   "cell_type": "code",
   "execution_count": 18,
   "id": "1d2043ca-916f-4130-a855-563ded77da1d",
   "metadata": {},
   "outputs": [
    {
     "name": "stdout",
     "output_type": "stream",
     "text": [
      "경기장은 어디입니까? 고척\n",
      "이긴 팀은 어디입니까? kt\n",
      "진 팀은 어디입니까? lg\n",
      "우수 선수는 누구입니까 강백호\n",
      "스코어는 몇대몇입니까? 10:9\n"
     ]
    },
    {
     "name": "stdout",
     "output_type": "stream",
     "text": [
      "[속보] kt 가 10:9 로 승리...\n",
      "오늘  고척  경기장에서 야구 경기가 있었습니다.\n",
      "  kt  과  lg 는 치열한 공방전을 펼쳤습니다. \n",
      " 이 경기에서  강백호 가 맹활약을 했습니다. \n",
      "그 끝내  kt 가  lg 를  10:9 로 승리하였습니다\n",
      " 기사 끝.\n"
     ]
    }
   ],
   "source": [
    "stadium = input(\"경기장은 어디입니까?\")\n",
    "win = input(\"이긴 팀은 어디입니까?\")\n",
    "loo = input(\"진 팀은 어디입니까?\")\n",
    "mvp = input(\"우수 선수는 누구입니까\")\n",
    "score = input(\"스코어는 몇대몇입니까?\")\n",
    "\n",
    "print(\"[속보]\",win,\"가\",score,\"로 승리...\\n오늘 \",stadium,\" 경기장에서 야구 경기가 있었습니다.\\n\",win,\"과 \",loo,\"는 치열한 공방전을 펼쳤습니다. \\n이 경기에서 \",mvp,\"가 맹활약을 했습니다. \\n그 끝내\",win,\"가 \", loo,\"를 \",score,\"로 승리하였습니다.\\n기사 끝.\")"
   ]
  },
  {
   "cell_type": "code",
   "execution_count": 19,
   "id": "6c981c83-1f99-4a6e-bd56-0d7d541fa90e",
   "metadata": {},
   "outputs": [
    {
     "name": "stdout",
     "output_type": "stream",
     "text": [
      "<class 'list'>\n",
      "['1', '2', '3']\n"
     ]
    }
   ],
   "source": [
    "result = '1,2,3'.split(',')\n",
    "print(type(result))\n",
    "print(result)"
   ]
  },
  {
   "cell_type": "code",
   "execution_count": 25,
   "id": "194bdf2d-83d6-46f6-8296-c72ea123abf4",
   "metadata": {},
   "outputs": [
    {
     "name": "stdout",
     "output_type": "stream",
     "text": [
      "hh:mm:ss 시간 입력 12:22:23\n"
     ]
    },
    {
     "name": "stdout",
     "output_type": "stream",
     "text": [
      "시 :  12\n",
      "분 :  22\n",
      "초 :  23\n"
     ]
    }
   ],
   "source": [
    "t = input(\"hh:mm:ss 시간 입력\")\n",
    "t=t.split(':')\n",
    "text = ['시','분','초']\n",
    "for i in range(len(t)):\n",
    "    print(text[i], \": \",t[i])"
   ]
  },
  {
   "cell_type": "code",
   "execution_count": 26,
   "id": "9aafbbbc-f355-43c0-a3d1-15b311ca48f3",
   "metadata": {},
   "outputs": [
    {
     "name": "stdout",
     "output_type": "stream",
     "text": [
      "[1, 2, 3, 4]\n"
     ]
    }
   ],
   "source": [
    "a=[1.2,2.4,3.7,4.6]\n",
    "a = list(map(int,a))\n",
    "print(a)"
   ]
  },
  {
   "cell_type": "code",
   "execution_count": 41,
   "id": "6e69325f-0daa-4621-b8a6-0e2634c6673f",
   "metadata": {},
   "outputs": [
    {
     "name": "stdout",
     "output_type": "stream",
     "text": [
      "국영수과 점수를 입력해주세요 1,2,3,4\n"
     ]
    },
    {
     "name": "stdout",
     "output_type": "stream",
     "text": [
      "평균 점수는  2.5  점입니다.\n"
     ]
    }
   ],
   "source": [
    "sub = input(\"국영수과 점수를 입력해주세요\").split(',')\n",
    "lst = list(map(int, sub))\n",
    "\n",
    "kor = lst[0]\n",
    "eng = lst[1]\n",
    "mat =lst[2]\n",
    "sci = lst[3]\n",
    "avg = (kor+eng+mat+sci)/4\n",
    "\n",
    "print(\"평균 점수는 \", avg,\" 점입니다.\")"
   ]
  },
  {
   "cell_type": "code",
   "execution_count": 49,
   "id": "989843b9-e754-41d8-879a-fd784331b3a6",
   "metadata": {},
   "outputs": [
    {
     "name": "stdout",
     "output_type": "stream",
     "text": [
      "국영수과 점수 입력 요망 1,2,3,4\n"
     ]
    },
    {
     "name": "stdout",
     "output_type": "stream",
     "text": [
      "평균 점수는  2.5  점입니다.\n"
     ]
    }
   ],
   "source": [
    "#Best solution\n",
    "def average(submap):\n",
    "    sum=0\n",
    "    for i in submap:\n",
    "        sum+=i;\n",
    "    return sum/len(submap)\n",
    "        \n",
    "smap = list(map(int, input(\"국영수과 점수 입력 요망\").split(\",\")))\n",
    "#iterating unpacking 가능)\n",
    "avg = (kor+eng+mat+sci)/4\n",
    "\n",
    "print(\"평균 점수는 \", average(smap),\" 점입니다.\")"
   ]
  },
  {
   "cell_type": "code",
   "execution_count": 52,
   "id": "1078c597-f22a-4cd6-afad-6bd5896c2ccb",
   "metadata": {},
   "outputs": [
    {
     "name": "stdout",
     "output_type": "stream",
     "text": [
      "줄이 바뀌지 않습니다. 그치?\n"
     ]
    }
   ],
   "source": [
    "print(\"줄이 바뀌지 않습니다.\", end = \"\")\n",
    "print(\" 그치?\")"
   ]
  },
  {
   "cell_type": "code",
   "execution_count": 58,
   "id": "163fe695-0eae-40b0-b5d1-18fe9bd26a27",
   "metadata": {},
   "outputs": [
    {
     "name": "stdout",
     "output_type": "stream",
     "text": [
      "2022/12/03 18:33:23\n"
     ]
    }
   ],
   "source": [
    "year=\"2022\"\n",
    "month ='12'\n",
    "day = '03'\n",
    "hour = '18'\n",
    "minute = '33'\n",
    "second = '23'\n",
    "\n",
    "print(year,month,day,sep='/', end=\" \")\n",
    "print(hour, minute, second, sep=\":\")"
   ]
  },
  {
   "cell_type": "code",
   "execution_count": 69,
   "id": "582ea022-dc69-4b2b-929b-d7e1ec7365d1",
   "metadata": {},
   "outputs": [
    {
     "name": "stdout",
     "output_type": "stream",
     "text": [
      "사과 귤 몇개? 10, 20\n"
     ]
    },
    {
     "name": "stdout",
     "output_type": "stream",
     "text": [
      "총 가격은 14000원입니다."
     ]
    }
   ],
   "source": [
    "apple, tan = map(int, input(\"사과 귤 몇개?\").split(\",\"))\n",
    "sum=apple*1000+tan*200\n",
    "print(\"총 가격은 \",sum,\"원입니다.\",end=\"\",sep=\"\")"
   ]
  },
  {
   "cell_type": "code",
   "execution_count": 68,
   "id": "58bd875b-19db-4f7f-b942-339eb38e71d7",
   "metadata": {},
   "outputs": [
    {
     "name": "stdout",
     "output_type": "stream",
     "text": [
      "t\n"
     ]
    }
   ],
   "source": [
    "input_value4 = 0 \n",
    "if type(input_value4) is int:\n",
    "    print(\"t\")"
   ]
  },
  {
   "cell_type": "code",
   "execution_count": 70,
   "id": "9573f685-4485-4221-8d71-0025aebd1e27",
   "metadata": {},
   "outputs": [
    {
     "name": "stdout",
     "output_type": "stream",
     "text": [
      "30대\n",
      "땡큐\n"
     ]
    }
   ],
   "source": [
    "age= 39\n",
    "\n",
    "if 20<= age < 30:\n",
    "    print(\"20대\")\n",
    "elif 30<=age<40:\n",
    "    print(\"30대\")\n",
    "print(\"땡큐\")"
   ]
  },
  {
   "cell_type": "code",
   "execution_count": 77,
   "id": "1e1f139d-0c70-4254-869c-2632d648e974",
   "metadata": {},
   "outputs": [
    {
     "name": "stdout",
     "output_type": "stream",
     "text": [
      "아이디를 입력해주세요:  fjdsiaf\n",
      "회원 등급을 입력해주세요:  1\n"
     ]
    },
    {
     "name": "stdout",
     "output_type": "stream",
     "text": [
      "제한적인 권한을 갖습니다. \n"
     ]
    }
   ],
   "source": [
    "id = input(\"아이디를 입력해주세요: \")\n",
    "if id == 'admin':\n",
    "    print('최고 관리자, 모든 권한을 갖습니다.')\n",
    "else:\n",
    "    lv = input(\"회원 등급을 입력해주세요: \")\n",
    "    if 1<= int(lv) <= 3:\n",
    "        print(\"제한적인 권한을 갖습니다. \")\n",
    "    else:\n",
    "        print(\"권한이 없습니다.\")"
   ]
  },
  {
   "cell_type": "code",
   "execution_count": null,
   "id": "163a2ec7-fe76-436a-83fc-8f4134254541",
   "metadata": {},
   "outputs": [],
   "source": []
  }
 ],
 "metadata": {
  "kernelspec": {
   "display_name": "Python 3",
   "language": "python",
   "name": "python3"
  },
  "language_info": {
   "codemirror_mode": {
    "name": "ipython",
    "version": 3
   },
   "file_extension": ".py",
   "mimetype": "text/x-python",
   "name": "python",
   "nbconvert_exporter": "python",
   "pygments_lexer": "ipython3",
   "version": "3.9.4 (default, Sep 19 2022, 20:45:35) \n[Clang 12.0.5 (clang-1205.0.22.9)]"
  },
  "vscode": {
   "interpreter": {
    "hash": "2d7f4db1d613ee4b2d2ebeae5876b92e66a31c9cb18f7b3ca1ac02b1bc62896c"
   }
  }
 },
 "nbformat": 4,
 "nbformat_minor": 5
}
