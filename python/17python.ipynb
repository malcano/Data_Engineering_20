{
 "cells": [
  {
   "attachments": {},
   "cell_type": "markdown",
   "metadata": {},
   "source": [
    "# 230125 "
   ]
  },
  {
   "cell_type": "code",
   "execution_count": 4,
   "metadata": {},
   "outputs": [
    {
     "data": {
      "text/plain": [
       "array([ 2,  5,  8, 11, 14, 17, 20])"
      ]
     },
     "execution_count": 4,
     "metadata": {},
     "output_type": "execute_result"
    }
   ],
   "source": [
    "# 1 arange() 를 활용하여 array([2,5,8,11,14,17,20])의 값을 찾는 ndarray를 만드세요\n",
    "\n",
    "import numpy as np\n",
    "import pandas as pd\n",
    "\n",
    "ndarray = np.array([2, 5, 8, 11, 14, 17, 20], int)\n",
    "ndarray"
   ]
  },
  {
   "cell_type": "code",
   "execution_count": 5,
   "metadata": {},
   "outputs": [],
   "source": [
    "# 2 클래스 정의부 중 __init__(self)에 대해서 설명해보세요\n",
    "\n",
    "# A. __init__은 클래스의 생성자로, class에 정의된 멤버 및 메서드를 불러오기 위해 자기자신을 인자로 받는 것이다."
   ]
  },
  {
   "cell_type": "code",
   "execution_count": 6,
   "metadata": {},
   "outputs": [],
   "source": [
    "# 3 정의할 수 없는 숫자 NaN의 데이터 타입은 무엇인지 적어보세요\n",
    "\n",
    "# A. 빈 값..?"
   ]
  },
  {
   "cell_type": "code",
   "execution_count": 7,
   "metadata": {},
   "outputs": [],
   "source": [
    "# 4 넘파이 배열에 대한 설명으로 옳은 것은?  -- (3)\n",
    "#     1) 넘파이 배열 내에 다양한 자료형이 올 수 있다.\n",
    "#     2) 넘파이 배열의 크기는 필요에 따라 가변적으로 변경할 수 있다.\n",
    "#     3) 넘파이 배열은 벡터화 연산이 가능하다.\n",
    "#     4) 속도가 빠르기 때문에 메모리의 사용이 리스트에 비해 많다. \n",
    "#     5) np.array([1, 11.2, 7, 9.2, 10.7])의 dtype은 int이다.\n"
   ]
  },
  {
   "cell_type": "code",
   "execution_count": 13,
   "metadata": {},
   "outputs": [
    {
     "data": {
      "text/plain": [
       "일    1\n",
       "이    2\n",
       "삼    3\n",
       "dtype: int64"
      ]
     },
     "execution_count": 13,
     "metadata": {},
     "output_type": "execute_result"
    }
   ],
   "source": [
    "# 5 다음 실행 결과와 같이 index가 '일', '이', '삼'이고 values가 1, 2, 3인 Series를 만들어보세요.\n",
    "index = ['일', '이', '삼']\n",
    "values = [1,2,3]\n",
    "pd_series = pd.Series(values, index=index)\n",
    "pd_series"
   ]
  },
  {
   "cell_type": "code",
   "execution_count": 18,
   "metadata": {},
   "outputs": [],
   "source": [
    "# 6 브로드캐스팅할 수 없는 것을 모두 고르세요. -- (2, 5)\n",
    "#     1) np.array([[2, 3, 4], [5, 6, 7]]) * np.arange(3)\n",
    "#     2) np.arange(10).reshape(2, 5) + np.arange(15).reshape(3, 5) 3) np.zeros((3, 3, 2, 1)) - np.ones((3, 2, 1))\n",
    "#     4) np.empty((2, 1, 7, 5, 1)) / np.ones((5, 5))\n",
    "#     5) np.array([[1, 2, 3], [4, 8, 12]]) * np.array([1, 2, 3, 4, 5, 6])\n"
   ]
  },
  {
   "cell_type": "code",
   "execution_count": 22,
   "metadata": {},
   "outputs": [],
   "source": [
    "# 7 다음 중 차원 축소 시키는 연산이 아닌 것을 고르세요. --(5)\n",
    "#     1) np.sum()\n",
    "#     2) np.max()\n",
    "#     3) np.min()\n",
    "#     4) np.all() \n",
    "#     5) np.sqrt()"
   ]
  },
  {
   "cell_type": "code",
   "execution_count": 23,
   "metadata": {},
   "outputs": [],
   "source": [
    "# 8 다음 설명 중 옳은 것을 모두 고르세요. -- (1, 2, 3)\n",
    "#     1) DataFrame의 각 column은 각기 다른 dtype을 가질 수 있다.\n",
    "#     2) Series의 각 값들이 서로 다른 type을 가질 수 있다.\n",
    "#     3) DataFrame을 생성할 때 index 키워드 인수는 row index, columns는 column index이다. \n",
    "#     4) DataFrame을 row 단위로 인덱싱할 때 loc(), iloc()을 활용하는 것이 좋다.\n",
    "#     5) DataFrame에 fillna() 메서드를 활용해서 NaN 값을 원하는 값으로 변경할 수 있습니다.\n"
   ]
  },
  {
   "cell_type": "code",
   "execution_count": 24,
   "metadata": {},
   "outputs": [],
   "source": [
    "# 9 DataFrame에 대해 카테고리별 개수를 반환해주는 메서드를 고르세요.  -- (3)\n",
    "#     1) DataFrame.sort_values()\n",
    "#     2) DataFrame.count()\n",
    "#     3) DataFrame.value_counts()\n",
    "#     4) DataFrame.loc()\n",
    "#     5) DataFrame.to_csv()\n"
   ]
  },
  {
   "cell_type": "code",
   "execution_count": null,
   "metadata": {},
   "outputs": [],
   "source": [
    "# 10 코드의 결과가 DataFrame이 아닌 것을 고르세요. -- (4)\n",
    "#     1) DataFrame.loc[0:1] - -> row가 충분히 많을 때\n",
    "#     2) pandas.read_csv(\"file.csv\")\n",
    "#     3) DataFrame[[\"column label1\", \"column label2\"]] - -> 둘 다 모두 존재할 때 \n",
    "#     4) DataFrame.astype() - -> 오류 없이 잘 동작할 때\n",
    "#     5) DataFrame.value_counts()\n"
   ]
  }
 ],
 "metadata": {
  "kernelspec": {
   "display_name": "Python 3",
   "language": "python",
   "name": "python3"
  },
  "language_info": {
   "codemirror_mode": {
    "name": "ipython",
    "version": 3
   },
   "file_extension": ".py",
   "mimetype": "text/x-python",
   "name": "python",
   "nbconvert_exporter": "python",
   "pygments_lexer": "ipython3",
   "version": "3.9.4 (default, Sep 19 2022, 20:45:35) \n[Clang 12.0.5 (clang-1205.0.22.9)]"
  },
  "orig_nbformat": 4,
  "vscode": {
   "interpreter": {
    "hash": "2d7f4db1d613ee4b2d2ebeae5876b92e66a31c9cb18f7b3ca1ac02b1bc62896c"
   }
  }
 },
 "nbformat": 4,
 "nbformat_minor": 2
}
