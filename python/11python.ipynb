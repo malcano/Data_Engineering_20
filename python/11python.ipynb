{
 "cells": [
  {
   "attachments": {},
   "cell_type": "markdown",
   "id": "0217ef26",
   "metadata": {},
   "source": [
    "# 230116 파이썬 수업 내용"
   ]
  },
  {
   "attachments": {},
   "cell_type": "markdown",
   "id": "f1d0ad42",
   "metadata": {},
   "source": [
    "부스트캠프 코테 1번 문제 "
   ]
  },
  {
   "cell_type": "code",
   "execution_count": 10,
   "id": "c6aba05c-8151-4be1-bc30-912466e90435",
   "metadata": {},
   "outputs": [
    {
     "data": {
      "text/plain": [
       "'173.185.75.45'"
      ]
     },
     "execution_count": 10,
     "metadata": {},
     "output_type": "execute_result"
    }
   ],
   "source": [
    "def Solution(st):\n",
    "    #ls = map(int, list(st))\n",
    "    st = list(map(int, st))\n",
    "    ip = []\n",
    "\n",
    "    while len(st) != 0:\n",
    "        buffer = []\n",
    "        byteToInt = 0\n",
    "        for i in range(7,-1,-1):\n",
    "            byteToInt += (st[0]*2)**i\n",
    "            del st[0]\n",
    "        ip.append(byteToInt)\n",
    "\n",
    "    return \".\".join(list(map(str, ip)))\n",
    "\n",
    "\n",
    "st = \"10101101101110000100101100101101\"\n",
    "Solution(st)"
   ]
  },
  {
   "cell_type": "code",
   "execution_count": 11,
   "id": "7a964d38-e3f9-46bf-b440-43f43c8d4ee7",
   "metadata": {},
   "outputs": [
    {
     "name": "stdout",
     "output_type": "stream",
     "text": [
      "안녕하세요\n"
     ]
    }
   ],
   "source": [
    "class Student:\n",
    "    def __init__(self):\n",
    "        self.hello = \"안녕하세요\"\n",
    "\n",
    "stu_a= Student()\n",
    "\n",
    "stu_a.hello = \"안녕하세요\"\n",
    "print(stu_a.hello)"
   ]
  },
  {
   "cell_type": "code",
   "execution_count": 14,
   "id": "14fb5e72",
   "metadata": {},
   "outputs": [],
   "source": [
    "class Person : \n",
    "    def __init__(self, name, age) -> None:\n",
    "        self.name = name\n",
    "        self.age = age\n",
    "\n",
    "p1 = Person(\"name1\", 40)\n",
    "p2 = Person(\"name2\", 32)\n",
    "\n",
    "p1.name = \"name1\"\n",
    "p1.age = 40\n",
    "\n",
    "p2.name = \"name\"\n",
    "p2.age = 32"
   ]
  },
  {
   "cell_type": "code",
   "execution_count": 15,
   "id": "dc6c539b",
   "metadata": {},
   "outputs": [
    {
     "data": {
      "text/plain": [
       "{'name': 'name1', 'age': 40}"
      ]
     },
     "execution_count": 15,
     "metadata": {},
     "output_type": "execute_result"
    }
   ],
   "source": [
    "p1.__dict__"
   ]
  },
  {
   "cell_type": "code",
   "execution_count": 22,
   "id": "77c9a7f6",
   "metadata": {},
   "outputs": [
    {
     "name": "stdout",
     "output_type": "stream",
     "text": [
      "첫번쨰 이름:  3\n",
      "첫번쨰 나이:  4\n",
      "첫번쨰 주소:  5\n",
      "두번쨰 이름:  6\n",
      "두번쨰 나이:  7\n",
      "두번쨰 주소:  8\n"
     ]
    }
   ],
   "source": [
    "class Person2:\n",
    "    def __init__(self, name, age, address) -> None:\n",
    "        self.hello = \"안녕하세요\"\n",
    "        self.name = name\n",
    "        self.age = age \n",
    "        self.address = address\n",
    "\n",
    "    def greeting(self):\n",
    "        print(f\"{self.hello} 제 이름은 {self.name}입니다.\")\n",
    "\n",
    "humanlist = []\n",
    "\n",
    "for _ in range(2):\n",
    "    name = input(\"이름은 무엇인가요?:\")\n",
    "    age = int(input(\"나이는 무엇인가요?: \"))\n",
    "    address = input(\"주소는 무엇인가요?\")\n",
    "    info = Person2(name,age,address)\n",
    "    humanlist.append(info)\n",
    "\n",
    "print(\"첫번쨰 이름: \",humanlist[0].name)    \n",
    "print(\"첫번쨰 나이: \", humanlist[0].age)\n",
    "print(\"첫번쨰 주소: \", humanlist[0].address)\n",
    "\n",
    "print(\"두번쨰 이름: \", humanlist[1].name)\n",
    "print(\"두번쨰 나이: \", humanlist[1].age)\n",
    "print(\"두번쨰 주소: \", humanlist[1].address)"
   ]
  },
  {
   "cell_type": "code",
   "execution_count": 23,
   "id": "24466da6",
   "metadata": {},
   "outputs": [],
   "source": [
    "class ClassName:\n",
    "    def __init__(self, param1, param2) -> None:\n",
    "        self.attr = param1\n",
    "        self.__attr2 = param2\n",
    "\n",
    "    "
   ]
  },
  {
   "cell_type": "code",
   "execution_count": null,
   "id": "9edaee90",
   "metadata": {},
   "outputs": [],
   "source": [
    "class Person3:\n",
    "    def __init__(self, name, age, address, wallet):\n",
    "        self.hello = \"안녕하세요.\"\n",
    "        self.name = name\n",
    "        self.age = age\n",
    "        self.address = address\n",
    "        self.__wallet = wallet\n",
    "\n",
    "    def greeting(self):\n",
    "        print(f\"{self.hello} 제 이름은 {self.name}입니다.\")\n",
    "\n",
    "\n"
   ]
  },
  {
   "cell_type": "code",
   "execution_count": 37,
   "id": "cb352f9f",
   "metadata": {},
   "outputs": [
    {
     "name": "stdout",
     "output_type": "stream",
     "text": [
      "401.95\n"
     ]
    }
   ],
   "source": [
    "class Annie:\n",
    "    def __init__(self,hp,mp,ap):\n",
    "        self.__hp = hp\n",
    "        self.__mp = mp\n",
    "        self.__ap = ap\n",
    "\n",
    "    def tibbers(self):\n",
    "        return self.__ap*0.65+400\n",
    "\n",
    "\n",
    "a,b,c = map(float, input(\"체력과 마나, AP를 입력하세요\").split(\" \"))\n",
    "ch = Annie(a,b,c)\n",
    "print(ch.tibbers())\n"
   ]
  },
  {
   "cell_type": "code",
   "execution_count": 39,
   "id": "f191c0ff",
   "metadata": {},
   "outputs": [],
   "source": []
  },
  {
   "attachments": {},
   "cell_type": "markdown",
   "id": "85a02ca4",
   "metadata": {},
   "source": [
    "## NUMPY"
   ]
  },
  {
   "cell_type": "code",
   "execution_count": 3,
   "id": "018ffb4f",
   "metadata": {},
   "outputs": [
    {
     "data": {
      "text/plain": [
       "(10,)"
      ]
     },
     "execution_count": 3,
     "metadata": {},
     "output_type": "execute_result"
    }
   ],
   "source": [
    "import numpy as np\n",
    "\n",
    "#ndarray == N-dimensional Array\n",
    "\n",
    "ar = np.array([_ for _ in range(10)])\n",
    "ar.shape"
   ]
  },
  {
   "cell_type": "code",
   "execution_count": 44,
   "id": "4a3491c7",
   "metadata": {},
   "outputs": [
    {
     "name": "stdout",
     "output_type": "stream",
     "text": [
      "# packages in environment at /Users/minholee/opt/anaconda3:\n",
      "#\n",
      "# Name                    Version                   Build  Channel\n",
      "_ipyw_jlab_nb_ext_conf    0.1.0            py39hca03da5_1  \n",
      "alabaster                 0.7.12             pyhd3eb1b0_0  \n",
      "anaconda                  2022.10                  py39_0  \n",
      "anaconda-client           1.11.0           py39hca03da5_0  \n",
      "anaconda-navigator        2.3.1            py39hca03da5_0  \n",
      "anaconda-project          0.11.1           py39hca03da5_0  \n",
      "anyio                     3.5.0            py39hca03da5_0  \n",
      "appdirs                   1.4.4              pyhd3eb1b0_0  \n",
      "appnope                   0.1.2           py39hca03da5_1001  \n",
      "appscript                 1.1.2            py39h1a28f6b_0  \n",
      "argon2-cffi               21.3.0             pyhd3eb1b0_0  \n",
      "argon2-cffi-bindings      21.2.0           py39h1a28f6b_0  \n",
      "astroid                   2.11.7           py39hca03da5_0  \n",
      "astropy                   5.1              py39heec5a64_0  \n",
      "asttokens                 2.0.5              pyhd3eb1b0_0  \n",
      "attrs                     21.4.0             pyhd3eb1b0_0  \n",
      "automat                   20.2.0                     py_0  \n",
      "autopep8                  1.6.0                    pypi_0    pypi\n",
      "babel                     2.9.1              pyhd3eb1b0_0  \n",
      "backcall                  0.2.0              pyhd3eb1b0_0  \n",
      "backports                 1.1                pyhd3eb1b0_0  \n",
      "backports.functools_lru_cache 1.6.4              pyhd3eb1b0_0  \n",
      "backports.tempfile        1.0                pyhd3eb1b0_1  \n",
      "backports.weakref         1.0.post1                  py_1  \n",
      "bcrypt                    3.2.0            py39h1a28f6b_1  \n",
      "beautifulsoup4            4.11.1           py39hca03da5_0  \n",
      "bitarray                  2.5.1            py39h1a28f6b_0  \n",
      "bkcharts                  0.2              py39hca03da5_1  \n",
      "blas                      1.0                    openblas  \n",
      "bleach                    4.1.0              pyhd3eb1b0_0  \n",
      "blosc                     1.21.0               h98b2900_1  \n",
      "bokeh                     2.4.3            py39hca03da5_0  \n",
      "boto3                     1.24.28          py39hca03da5_0  \n",
      "botocore                  1.27.28          py39hca03da5_0  \n",
      "bottleneck                1.3.5            py39heec5a64_0  \n",
      "brotli                    1.0.9                h1a28f6b_7  \n",
      "brotli-bin                1.0.9                h1a28f6b_7  \n",
      "brotlipy                  0.7.0           py39h1a28f6b_1002  \n",
      "brunsli                   0.1                  hc377ac9_1  \n",
      "bzip2                     1.0.8                h620ffc9_4  \n",
      "c-ares                    1.18.1               h1a28f6b_0  \n",
      "ca-certificates           2022.07.19           hca03da5_0  \n",
      "cctools                   949.0.1             hc179dcd_25  \n",
      "cctools_osx-arm64         949.0.1             h332cad3_25  \n",
      "certifi                   2022.9.24        py39hca03da5_0  \n",
      "cffi                      1.15.1           py39h22df2f2_0  \n",
      "cfitsio                   3.470                h7f6438f_7  \n",
      "chardet                   4.0.0           py39hca03da5_1003  \n",
      "charls                    2.2.0                hc377ac9_0  \n",
      "charset-normalizer        2.0.4              pyhd3eb1b0_0  \n",
      "click                     8.0.4            py39hca03da5_0  \n",
      "cloudpickle               2.0.0              pyhd3eb1b0_0  \n",
      "clyent                    1.2.2            py39hca03da5_1  \n",
      "colorama                  0.4.5            py39hca03da5_0  \n",
      "colorcet                  3.0.0            py39hca03da5_0  \n",
      "conda                     22.11.1          py39hca03da5_4  \n",
      "conda-build               3.22.0           py39hca03da5_0  \n",
      "conda-content-trust       0.1.3            py39hca03da5_0  \n",
      "conda-env                 2.6.0                hca03da5_1  \n",
      "conda-pack                0.6.0              pyhd3eb1b0_0  \n",
      "conda-package-handling    1.9.0            py39h1a28f6b_0  \n",
      "conda-repo-cli            1.0.20           py39hca03da5_0  \n",
      "conda-token               0.4.0              pyhd3eb1b0_0  \n",
      "conda-verify              3.4.2                      py_1  \n",
      "constantly                15.1.0             pyh2b92418_0  \n",
      "cryptography              37.0.1           py39h834c97f_0  \n",
      "cssselect                 1.1.0              pyhd3eb1b0_0  \n",
      "curl                      7.84.0               h1a28f6b_0  \n",
      "cycler                    0.11.0             pyhd3eb1b0_0  \n",
      "cython                    0.29.32          py39hc377ac9_0  \n",
      "cytoolz                   0.11.0           py39h1a28f6b_0  \n",
      "dask                      2022.7.0         py39hca03da5_0  \n",
      "dask-core                 2022.7.0         py39hca03da5_0  \n",
      "dataclasses               0.8                pyh6d0b6a4_7  \n",
      "datashader                0.14.1           py39hca03da5_0  \n",
      "datashape                 0.5.4            py39hca03da5_1  \n",
      "debugpy                   1.5.1            py39hc377ac9_0  \n",
      "decorator                 5.1.1              pyhd3eb1b0_0  \n",
      "defusedxml                0.7.1              pyhd3eb1b0_0  \n",
      "dill                      0.3.4              pyhd3eb1b0_0  \n",
      "distributed               2022.7.0         py39hca03da5_0  \n",
      "docstring-to-markdown     0.11                     pypi_0    pypi\n",
      "docutils                  0.18.1           py39hca03da5_3  \n",
      "entrypoints               0.4              py39hca03da5_0  \n",
      "et_xmlfile                1.1.0            py39hca03da5_0  \n",
      "executing                 0.8.3              pyhd3eb1b0_0  \n",
      "fftw                      3.3.9                h1a28f6b_1  \n",
      "filelock                  3.6.0              pyhd3eb1b0_0  \n",
      "flake8                    6.0.0                    pypi_0    pypi\n",
      "flask                     1.1.2              pyhd3eb1b0_0  \n",
      "fonttools                 4.25.0             pyhd3eb1b0_0  \n",
      "freetype                  2.11.0               h1192e45_0  \n",
      "fsspec                    2022.7.1         py39hca03da5_0  \n",
      "future                    0.18.2           py39hca03da5_1  \n",
      "gensim                    4.1.2            py39hc377ac9_0  \n",
      "gettext                   0.21.0               h826f4ad_0  \n",
      "giflib                    5.2.1                h1a28f6b_0  \n",
      "glib                      2.69.1               h98b2900_1  \n",
      "glob2                     0.7                pyhd3eb1b0_0  \n",
      "gmp                       6.2.1                hc377ac9_3  \n",
      "gmpy2                     2.1.2            py39h8c48613_0  \n",
      "greenlet                  1.1.0            py39hc377ac9_0  \n",
      "gst-plugins-base          1.14.1               hf0a386a_0  \n",
      "gstreamer                 1.14.1               he09cfb7_0  \n",
      "h5py                      3.7.0            py39h7fe8675_0  \n",
      "hdf5                      1.12.1               h160e8cb_2  \n",
      "heapdict                  1.0.1              pyhd3eb1b0_0  \n",
      "holoviews                 1.15.0           py39hca03da5_0  \n",
      "hvplot                    0.8.0            py39hca03da5_0  \n",
      "hyperlink                 21.0.0             pyhd3eb1b0_0  \n",
      "icu                       68.1                 hc377ac9_0  \n",
      "idna                      3.3                pyhd3eb1b0_0  \n",
      "imagecodecs               2021.8.26        py39h0dccdf0_1  \n",
      "imageio                   2.19.3           py39hca03da5_0  \n",
      "imagesize                 1.4.1            py39hca03da5_0  \n",
      "importlib-metadata        4.11.3           py39hca03da5_0  \n",
      "incremental               21.3.0             pyhd3eb1b0_0  \n",
      "iniconfig                 1.1.1              pyhd3eb1b0_0  \n",
      "intake                    0.6.5              pyhd3eb1b0_0  \n",
      "ipykernel                 6.15.2           py39hca03da5_0  \n",
      "ipython                   8.4.0            py39hca03da5_0  \n",
      "ipython_genutils          0.2.0              pyhd3eb1b0_1  \n",
      "ipywidgets                7.6.5              pyhd3eb1b0_1  \n",
      "isort                     5.9.3              pyhd3eb1b0_0  \n",
      "itemadapter               0.3.0              pyhd3eb1b0_0  \n",
      "itemloaders               1.0.4              pyhd3eb1b0_1  \n",
      "itsdangerous              2.0.1              pyhd3eb1b0_0  \n",
      "jdcal                     1.4.1              pyhd3eb1b0_0  \n",
      "jedi                      0.18.1           py39hca03da5_1  \n",
      "jinja2                    2.11.3             pyhd3eb1b0_0  \n",
      "jmespath                  0.10.0             pyhd3eb1b0_0  \n",
      "joblib                    1.1.0              pyhd3eb1b0_0  \n",
      "jpeg                      9e                   h1a28f6b_0  \n",
      "jq                        1.6                  h1a28f6b_1  \n",
      "json5                     0.9.6              pyhd3eb1b0_0  \n",
      "jsonschema                4.16.0           py39hca03da5_0  \n",
      "jupyter_client            7.3.4            py39hca03da5_0  \n",
      "jupyter_console           6.4.3              pyhd3eb1b0_0  \n",
      "jupyter_core              4.11.1           py39hca03da5_0  \n",
      "jupyter_server            1.18.1           py39hca03da5_0  \n",
      "jupyterlab                3.4.4            py39hca03da5_0  \n",
      "jupyterlab_pygments       0.1.2                      py_0  \n",
      "jupyterlab_server         2.10.3             pyhd3eb1b0_1  \n",
      "jupyterlab_widgets        1.0.0              pyhd3eb1b0_1  \n",
      "jxrlib                    1.1                  h1a28f6b_2  \n",
      "kiwisolver                1.4.2            py39hc377ac9_0  \n",
      "krb5                      1.19.2               h3b8d789_0  \n",
      "lazy-object-proxy         1.6.0            py39h1a28f6b_0  \n",
      "lcms2                     2.12                 hba8e193_0  \n",
      "ld64                      530                 hb29bf3f_25  \n",
      "ld64_osx-arm64            530                 h001ce53_25  \n",
      "ldid                      2.1.2                h64d1936_2  \n",
      "lerc                      3.0                  hc377ac9_0  \n",
      "libaec                    1.0.4                hc377ac9_1  \n",
      "libarchive                3.6.1                he3a3bf9_0  \n",
      "libbrotlicommon           1.0.9                h1a28f6b_7  \n",
      "libbrotlidec              1.0.9                h1a28f6b_7  \n",
      "libbrotlienc              1.0.9                h1a28f6b_7  \n",
      "libclang                  12.0.0          default_hc321e17_4  \n",
      "libcurl                   7.84.0               hc6d1d07_0  \n",
      "libcxx                    14.0.6               h848a8c0_0  \n",
      "libdeflate                1.8                  h1a28f6b_5  \n",
      "libedit                   3.1.20210910         h1a28f6b_0  \n",
      "libev                     4.33                 h1a28f6b_1  \n",
      "libffi                    3.4.2                hc377ac9_4  \n",
      "libgfortran               5.0.0           11_2_0_he6877d6_26  \n",
      "libgfortran5              11.2.0              he6877d6_26  \n",
      "libiconv                  1.16                 h1a28f6b_2  \n",
      "libidn2                   2.3.1                h1a28f6b_0  \n",
      "liblief                   0.11.5               hc377ac9_1  \n",
      "libllvm11                 11.1.0               h12f7ac0_5  \n",
      "libllvm12                 12.0.0               h12f7ac0_4  \n",
      "libllvm14                 14.0.6               h4b41812_0  \n",
      "libnghttp2                1.46.0               h95c9599_0  \n",
      "libopenblas               0.3.21               h269037a_0  \n",
      "libpng                    1.6.37               hb8d0fd4_0  \n",
      "libpq                     12.9                 h65cfe13_3  \n",
      "libsodium                 1.0.18               h1a28f6b_0  \n",
      "libssh2                   1.10.0               hf27765b_0  \n",
      "libtiff                   4.4.0                had003b8_0  \n",
      "libunistring              0.9.10               h1a28f6b_0  \n",
      "libuv                     1.39.0               h1a28f6b_0  \n",
      "libwebp                   1.2.2                h68602c7_0  \n",
      "libwebp-base              1.2.2                h1a28f6b_0  \n",
      "libxml2                   2.9.14               h8c5e841_0  \n",
      "libxslt                   1.1.35               h9833966_0  \n",
      "libzopfli                 1.0.3                hc377ac9_0  \n",
      "llvm-openmp               14.0.6               hc6e5704_0  \n",
      "llvmlite                  0.38.0           py39h98b2900_0  \n",
      "locket                    1.0.0            py39hca03da5_0  \n",
      "lxml                      4.9.1            py39h2fae87d_0  \n",
      "lz4                       3.1.3            py39h1a28f6b_0  \n",
      "lz4-c                     1.9.3                hc377ac9_0  \n",
      "lzo                       2.10                 h1a28f6b_2  \n",
      "markdown                  3.3.4            py39hca03da5_0  \n",
      "markupsafe                2.0.1            py39h1a28f6b_0  \n",
      "matplotlib                3.5.2            py39hca03da5_0  \n",
      "matplotlib-base           3.5.2            py39hc377ac9_0  \n",
      "matplotlib-inline         0.1.6            py39hca03da5_0  \n",
      "mccabe                    0.7.0              pyhd3eb1b0_0  \n",
      "mistune                   0.8.4           py39h1a28f6b_1000  \n",
      "mock                      4.0.3              pyhd3eb1b0_0  \n",
      "mpc                       1.1.0                h8c48613_1  \n",
      "mpfr                      4.0.2                h695f6f0_1  \n",
      "mpmath                    1.2.1            py39hca03da5_0  \n",
      "msgpack-python            1.0.3            py39h525c30c_0  \n",
      "multipledispatch          0.6.0            py39hca03da5_0  \n",
      "munkres                   1.1.4                      py_0  \n",
      "navigator-updater         0.3.0            py39hca03da5_0  \n",
      "nbclassic                 0.3.5              pyhd3eb1b0_0  \n",
      "nbclient                  0.5.13           py39hca03da5_0  \n",
      "nbconvert                 6.4.4            py39hca03da5_0  \n",
      "nbformat                  5.5.0            py39hca03da5_0  \n",
      "ncurses                   6.3                  h1a28f6b_3  \n",
      "nest-asyncio              1.5.5            py39hca03da5_0  \n",
      "networkx                  2.8.4            py39hca03da5_0  \n",
      "nltk                      3.7                pyhd3eb1b0_0  \n",
      "nodejs                    16.13.1              h2b10c05_0  \n",
      "nomkl                     3.0                           0  \n",
      "nose                      1.3.7           pyhd3eb1b0_1008  \n",
      "notebook                  6.4.12           py39hca03da5_0  \n",
      "nspr                      4.33                 hc377ac9_0  \n",
      "nss                       3.74                 h142855e_0  \n",
      "numba                     0.55.1           py39h9197a36_0  \n",
      "numexpr                   2.8.3            py39h144ceef_0  \n",
      "numpy                     1.21.5           py39h42add53_3  \n",
      "numpy-base                1.21.5           py39hadd41eb_3  \n",
      "numpydoc                  1.4.0            py39hca03da5_0  \n",
      "olefile                   0.46               pyhd3eb1b0_0  \n",
      "oniguruma                 6.9.7.1              h1a28f6b_0  \n",
      "openblas                  0.3.21               hca03da5_0  \n",
      "openblas-devel            0.3.21               hca03da5_0  \n",
      "openjpeg                  2.3.0                h7a6adac_2  \n",
      "openpyxl                  3.0.10           py39h1a28f6b_0  \n",
      "openssl                   1.1.1q               h1a28f6b_0  \n",
      "packaging                 23.0                     pypi_0    pypi\n",
      "pandas                    1.4.4            py39hc377ac9_0  \n",
      "pandocfilters             1.5.0              pyhd3eb1b0_0  \n",
      "panel                     0.13.1           py39hca03da5_0  \n",
      "param                     1.12.0             pyhd3eb1b0_0  \n",
      "parsel                    1.6.0            py39hca03da5_0  \n",
      "parso                     0.8.3              pyhd3eb1b0_0  \n",
      "partd                     1.2.0              pyhd3eb1b0_1  \n",
      "patch                     2.7.6             h1a28f6b_1001  \n",
      "pathlib                   1.0.1              pyhd3eb1b0_1  \n",
      "patsy                     0.5.2            py39hca03da5_1  \n",
      "pcre                      8.45                 hc377ac9_0  \n",
      "pep8                      1.7.1            py39hca03da5_1  \n",
      "pexpect                   4.8.0              pyhd3eb1b0_3  \n",
      "pickleshare               0.7.5           pyhd3eb1b0_1003  \n",
      "pillow                    9.2.0            py39h4d1bdd5_1  \n",
      "pip                       22.2.2           py39hca03da5_0  \n",
      "pkginfo                   1.8.2              pyhd3eb1b0_0  \n",
      "platformdirs              2.5.2            py39hca03da5_0  \n",
      "plotly                    5.9.0            py39hca03da5_0  \n",
      "pluggy                    1.0.0            py39hca03da5_1  \n",
      "ply                       3.11             py39hca03da5_0  \n",
      "prometheus_client         0.14.1           py39hca03da5_0  \n",
      "prompt-toolkit            3.0.20             pyhd3eb1b0_0  \n",
      "prompt_toolkit            3.0.20               hd3eb1b0_0  \n",
      "protego                   0.1.16                     py_0  \n",
      "psutil                    5.9.0            py39h1a28f6b_0  \n",
      "ptyprocess                0.7.0              pyhd3eb1b0_2  \n",
      "pure_eval                 0.2.2              pyhd3eb1b0_0  \n",
      "py                        1.11.0             pyhd3eb1b0_0  \n",
      "py-lief                   0.11.5           py39hc377ac9_1  \n",
      "pyasn1                    0.4.8              pyhd3eb1b0_0  \n",
      "pyasn1-modules            0.2.8                      py_0  \n",
      "pycodestyle               2.10.0                   pypi_0    pypi\n",
      "pycosat                   0.6.3            py39h1a28f6b_0  \n",
      "pycparser                 2.21               pyhd3eb1b0_0  \n",
      "pyct                      0.4.8            py39hca03da5_1  \n",
      "pycurl                    7.45.1           py39hf27765b_0  \n",
      "pydispatcher              2.0.5            py39hca03da5_2  \n",
      "pydocstyle                6.2.3                    pypi_0    pypi\n",
      "pyerfa                    2.0.0            py39h1a28f6b_0  \n",
      "pyflakes                  3.0.1                    pypi_0    pypi\n",
      "pygments                  2.11.2             pyhd3eb1b0_0  \n",
      "pyhamcrest                2.0.2              pyhd3eb1b0_2  \n",
      "pyjwt                     2.4.0            py39hca03da5_0  \n",
      "pylint                    2.14.5           py39hca03da5_0  \n",
      "pyodbc                    4.0.34           py39hc377ac9_0  \n",
      "pyopenssl                 22.0.0             pyhd3eb1b0_0  \n",
      "pyparsing                 3.0.9            py39hca03da5_0  \n",
      "pyqt                      5.15.7           py39hc377ac9_0  \n",
      "pyqt5-sip                 12.11.0          py39hc377ac9_0  \n",
      "pyrsistent                0.18.0           py39h1a28f6b_0  \n",
      "pysocks                   1.7.1            py39hca03da5_0  \n",
      "pytables                  3.7.0            py39h701507b_0  \n",
      "pytest                    7.1.2            py39hca03da5_0  \n",
      "python                    3.9.13               hbdb9e5c_1  \n",
      "python-dateutil           2.8.2              pyhd3eb1b0_0  \n",
      "python-fastjsonschema     2.16.2           py39hca03da5_0  \n",
      "python-libarchive-c       2.9                pyhd3eb1b0_1  \n",
      "python-lsp-jsonrpc        1.0.0                    pypi_0    pypi\n",
      "python-lsp-server         1.7.0                    pypi_0    pypi\n",
      "python-snappy             0.6.0            py39hc377ac9_0  \n",
      "python.app                3                py39h1a28f6b_0  \n",
      "pytoolconfig              1.2.4                    pypi_0    pypi\n",
      "pytz                      2022.1           py39hca03da5_0  \n",
      "pyviz_comms               2.0.2              pyhd3eb1b0_0  \n",
      "pywavelets                1.3.0            py39h1a28f6b_0  \n",
      "pyyaml                    6.0              py39h1a28f6b_0  \n",
      "pyzmq                     23.2.0           py39hc377ac9_0  \n",
      "qt-main                   5.15.2               ha2d02b5_7  \n",
      "qt-webengine              5.15.9               h2903aaf_4  \n",
      "qtpy                      2.2.0            py39hca03da5_0  \n",
      "qtwebkit                  5.212                h0f11f3c_4  \n",
      "queuelib                  1.5.0            py39hca03da5_0  \n",
      "readline                  8.1.2                h1a28f6b_1  \n",
      "regex                     2022.7.9         py39h1a28f6b_0  \n",
      "requests                  2.28.1           py39hca03da5_0  \n",
      "requests-file             1.5.1              pyhd3eb1b0_0  \n",
      "rope                      1.6.0                    pypi_0    pypi\n",
      "ruamel.yaml               0.17.21          py39h1a28f6b_0  \n",
      "ruamel.yaml.clib          0.2.6            py39h1a28f6b_1  \n",
      "ruamel_yaml               0.15.100         py39h1a28f6b_0  \n",
      "s3transfer                0.6.0            py39hca03da5_0  \n",
      "scikit-image              0.19.2           py39h9197a36_0  \n",
      "scikit-learn              1.1.1            py39hc377ac9_0  \n",
      "scipy                     1.9.1            py39h9d039d2_0  \n",
      "scrapy                    2.6.2            py39hca03da5_0  \n",
      "seaborn                   0.11.2             pyhd3eb1b0_0  \n",
      "send2trash                1.8.0              pyhd3eb1b0_1  \n",
      "service_identity          18.1.0             pyhd3eb1b0_1  \n",
      "setuptools                63.4.1           py39hca03da5_0  \n",
      "sip                       6.6.2            py39hc377ac9_0  \n",
      "six                       1.16.0             pyhd3eb1b0_1  \n",
      "smart_open                5.2.1            py39hca03da5_0  \n",
      "snappy                    1.1.9                hc377ac9_0  \n",
      "sniffio                   1.2.0            py39hca03da5_1  \n",
      "snowballstemmer           2.2.0              pyhd3eb1b0_0  \n",
      "sortedcollections         2.1.0              pyhd3eb1b0_0  \n",
      "sortedcontainers          2.4.0              pyhd3eb1b0_0  \n",
      "soupsieve                 2.3.1              pyhd3eb1b0_0  \n",
      "sphinx                    5.0.2            py39hca03da5_0  \n",
      "sphinxcontrib-applehelp   1.0.2              pyhd3eb1b0_0  \n",
      "sphinxcontrib-devhelp     1.0.2              pyhd3eb1b0_0  \n",
      "sphinxcontrib-htmlhelp    2.0.0              pyhd3eb1b0_0  \n",
      "sphinxcontrib-jsmath      1.0.1              pyhd3eb1b0_0  \n",
      "sphinxcontrib-qthelp      1.0.3              pyhd3eb1b0_0  \n",
      "sphinxcontrib-serializinghtml 1.1.5              pyhd3eb1b0_0  \n",
      "sqlalchemy                1.4.39           py39h1a28f6b_0  \n",
      "sqlite                    3.39.3               h1058600_0  \n",
      "stack_data                0.2.0              pyhd3eb1b0_0  \n",
      "statsmodels               0.13.2           py39h1a28f6b_0  \n",
      "sympy                     1.10.1           py39hca03da5_0  \n",
      "tabulate                  0.8.10           py39hca03da5_0  \n",
      "tapi                      1100.0.11            h8754e6a_1  \n",
      "tbb                       2021.5.0             h525c30c_0  \n",
      "tbb4py                    2021.5.0         py39h525c30c_0  \n",
      "tblib                     1.7.0              pyhd3eb1b0_0  \n",
      "tenacity                  8.0.1            py39hca03da5_1  \n",
      "terminado                 0.13.1           py39hca03da5_0  \n",
      "testpath                  0.6.0            py39hca03da5_0  \n",
      "threadpoolctl             2.2.0              pyh0d69192_0  \n",
      "tifffile                  2021.7.2           pyhd3eb1b0_2  \n",
      "tk                        8.6.12               hb8d0fd4_0  \n",
      "tldextract                3.2.0              pyhd3eb1b0_0  \n",
      "toml                      0.10.2             pyhd3eb1b0_0  \n",
      "tomli                     2.0.1            py39hca03da5_0  \n",
      "tomlkit                   0.11.1           py39hca03da5_0  \n",
      "toolz                     0.11.2             pyhd3eb1b0_0  \n",
      "tornado                   6.1              py39h1a28f6b_0  \n",
      "tqdm                      4.64.1           py39hca03da5_0  \n",
      "traitlets                 5.1.1              pyhd3eb1b0_0  \n",
      "twisted                   22.2.0           py39h1a28f6b_1  \n",
      "typing-extensions         4.3.0            py39hca03da5_0  \n",
      "typing_extensions         4.3.0            py39hca03da5_0  \n",
      "tzdata                    2022c                h04d1e81_0  \n",
      "ujson                     5.4.0            py39hc377ac9_0  \n",
      "unixodbc                  2.3.11               h1a28f6b_0  \n",
      "urllib3                   1.26.11          py39hca03da5_0  \n",
      "w3lib                     1.21.0             pyhd3eb1b0_0  \n",
      "wcwidth                   0.2.5              pyhd3eb1b0_0  \n",
      "webencodings              0.5.1            py39hca03da5_1  \n",
      "websocket-client          0.58.0           py39hca03da5_4  \n",
      "werkzeug                  2.0.3              pyhd3eb1b0_0  \n",
      "wget                      1.21.3               hc6d1d07_0  \n",
      "whatthepatch              1.0.3                    pypi_0    pypi\n",
      "wheel                     0.37.1             pyhd3eb1b0_0  \n",
      "widgetsnbextension        3.5.2            py39hca03da5_0  \n",
      "wrapt                     1.14.1           py39h1a28f6b_0  \n",
      "xarray                    0.20.1             pyhd3eb1b0_1  \n",
      "xlrd                      2.0.1              pyhd3eb1b0_0  \n",
      "xlsxwriter                3.0.3              pyhd3eb1b0_0  \n",
      "xlwings                   0.27.15          py39hca03da5_0  \n",
      "xz                        5.2.6                h1a28f6b_0  \n",
      "yaml                      0.2.5                h1a28f6b_0  \n",
      "yapf                      0.32.0                   pypi_0    pypi\n",
      "zeromq                    4.3.4                hc377ac9_0  \n",
      "zfp                       0.5.5                hc377ac9_6  \n",
      "zict                      2.1.0            py39hca03da5_0  \n",
      "zipp                      3.8.0            py39hca03da5_0  \n",
      "zlib                      1.2.12               h5a0b063_3  \n",
      "zope                      1.0              py39hca03da5_1  \n",
      "zope.interface            5.4.0            py39h1a28f6b_0  \n",
      "zstd                      1.5.2                h8574219_0  \n"
     ]
    }
   ],
   "source": [
    "!conda list"
   ]
  },
  {
   "cell_type": "code",
   "execution_count": 47,
   "id": "8086b29a",
   "metadata": {},
   "outputs": [
    {
     "name": "stdout",
     "output_type": "stream",
     "text": [
      "['가나다라마' '가나다라마' '가나다라마' '가나다라마' '가나다라마']\n"
     ]
    }
   ],
   "source": [
    "ar5 = np.array([\"가나다라마\" for _ in range(5)], 'U5')\n",
    "print(ar5)\n"
   ]
  },
  {
   "cell_type": "code",
   "execution_count": 46,
   "id": "da00bc87",
   "metadata": {},
   "outputs": [
    {
     "data": {
      "text/plain": [
       "dtype('int64')"
      ]
     },
     "execution_count": 46,
     "metadata": {},
     "output_type": "execute_result"
    }
   ],
   "source": [
    "x = np.array([1,2,3])\n",
    "x.dtype\n",
    "\n",
    "np.inf()\n",
    "\n"
   ]
  },
  {
   "attachments": {},
   "cell_type": "markdown",
   "id": "2911ed78",
   "metadata": {},
   "source": [
    "벡터화 연산을 지원한다<br>\n",
    "하나의 명령어로 처리하는 벡터화 연산을 지원합니다."
   ]
  },
  {
   "cell_type": "code",
   "execution_count": 57,
   "id": "a870478f",
   "metadata": {},
   "outputs": [
    {
     "name": "stdout",
     "output_type": "stream",
     "text": [
      "[0 1 2 3 4 5 6 7 8 9]\n",
      "[0 1 2 3 4 5 6 7 8 9]\n"
     ]
    }
   ],
   "source": [
    "data = [int(_) for _ in range(0,10)]\n",
    "\n",
    "x = np.array(data)\n",
    "print(x)\n",
    "2*x\n",
    "print(x)\n",
    "\n"
   ]
  },
  {
   "cell_type": "code",
   "execution_count": 58,
   "id": "21a825ac",
   "metadata": {},
   "outputs": [
    {
     "data": {
      "text/plain": [
       "array([12, 24, 36])"
      ]
     },
     "execution_count": 58,
     "metadata": {},
     "output_type": "execute_result"
    }
   ],
   "source": [
    "a = np.array([1,2,3])\n",
    "b = np.array([10,20,30])\n",
    "\n",
    "2*a+b"
   ]
  },
  {
   "cell_type": "code",
   "execution_count": 64,
   "id": "bc46dd0a",
   "metadata": {},
   "outputs": [
    {
     "data": {
      "text/plain": [
       "array([2, 4, 6])"
      ]
     },
     "execution_count": 64,
     "metadata": {},
     "output_type": "execute_result"
    }
   ],
   "source": [
    "a<<1"
   ]
  },
  {
   "cell_type": "code",
   "execution_count": 60,
   "id": "60771086",
   "metadata": {},
   "outputs": [
    {
     "data": {
      "text/plain": [
       "array([False,  True,  True])"
      ]
     },
     "execution_count": 60,
     "metadata": {},
     "output_type": "execute_result"
    }
   ],
   "source": [
    "b>10"
   ]
  },
  {
   "cell_type": "code",
   "execution_count": 62,
   "id": "5bc19c07",
   "metadata": {},
   "outputs": [
    {
     "data": {
      "text/plain": [
       "array([False,  True, False])"
      ]
     },
     "execution_count": 62,
     "metadata": {},
     "output_type": "execute_result"
    }
   ],
   "source": [
    "(a==2)&(b>10)"
   ]
  },
  {
   "cell_type": "code",
   "execution_count": 70,
   "id": "7b97e4d0",
   "metadata": {},
   "outputs": [
    {
     "data": {
      "text/plain": [
       "3"
      ]
     },
     "execution_count": 70,
     "metadata": {},
     "output_type": "execute_result"
    }
   ],
   "source": [
    "c = np.array([[1,2,3],\n",
    "            [4,5,6]])\n",
    "\n",
    "c.shape\n",
    "len(c[0])"
   ]
  },
  {
   "cell_type": "code",
   "execution_count": 73,
   "id": "a1988c38",
   "metadata": {},
   "outputs": [
    {
     "name": "stdout",
     "output_type": "stream",
     "text": [
      "[[10 20 30 40]\n",
      " [50 60 70 80]]\n"
     ]
    }
   ],
   "source": [
    "answer = np.array([[10,20,30,40],[int(_) for _ in range(50, 81, 10)]])\n",
    "print(answer)\n"
   ]
  },
  {
   "attachments": {},
   "cell_type": "markdown",
   "id": "53e0c68b",
   "metadata": {},
   "source": [
    "1차원으로 만들고 dimesion 으로 만들 수도 있음\n",
    "\n",
    "\n",
    "3차원 배열"
   ]
  },
  {
   "cell_type": "code",
   "execution_count": 74,
   "id": "8d2a22d3",
   "metadata": {},
   "outputs": [
    {
     "data": {
      "text/plain": [
       "array([[0, 1, 2, 3],\n",
       "       [4, 5, 6, 7]])"
      ]
     },
     "execution_count": 74,
     "metadata": {},
     "output_type": "execute_result"
    }
   ],
   "source": [
    "a = np.array([[0,1,2,3],[4,5,6,7]])\n",
    "a"
   ]
  },
  {
   "cell_type": "code",
   "execution_count": 75,
   "id": "e489025b",
   "metadata": {},
   "outputs": [
    {
     "data": {
      "text/plain": [
       "array([0, 1, 2, 3])"
      ]
     },
     "execution_count": 75,
     "metadata": {},
     "output_type": "execute_result"
    }
   ],
   "source": [
    "a[0,:]"
   ]
  },
  {
   "cell_type": "code",
   "execution_count": 77,
   "id": "45130612",
   "metadata": {},
   "outputs": [
    {
     "data": {
      "text/plain": [
       "array([[0, 1],\n",
       "       [2, 3],\n",
       "       [4, 5],\n",
       "       [6, 7]])"
      ]
     },
     "execution_count": 77,
     "metadata": {},
     "output_type": "execute_result"
    }
   ],
   "source": [
    "#reshape 을 통해 생겨먹은거 바꿀 수도 있다\n",
    "np.array([_ for _ in range(8)]).reshape(4,2)"
   ]
  },
  {
   "attachments": {},
   "cell_type": "markdown",
   "id": "5714872d",
   "metadata": {},
   "source": [
    "reshape 을 통한 1차원 배열을 2차원 배열로"
   ]
  },
  {
   "cell_type": "code",
   "execution_count": 132,
   "id": "4a311714",
   "metadata": {},
   "outputs": [
    {
     "name": "stdout",
     "output_type": "stream",
     "text": [
      "7\n",
      "14\n",
      "[6 7]\n",
      "[ 7 12]\n",
      "[[3 4]\n",
      " [8 9]]\n"
     ]
    }
   ],
   "source": [
    "m =  np.array([_ for _ in range(15)]).reshape(3,5)\n",
    "\n",
    "#1\n",
    "print(m[1,2])\n",
    "#2\n",
    "print(m[-1,-1])\n",
    "# 3\n",
    "print(m[1,1:3])\n",
    "#4\n",
    "print(m[1:3,2])\n",
    "# 5\n",
    "print(m[0:2,3:5])"
   ]
  },
  {
   "cell_type": "code",
   "execution_count": 134,
   "id": "7f40b504",
   "metadata": {},
   "outputs": [
    {
     "data": {
      "text/plain": [
       "array([[3, 4],\n",
       "       [8, 9]])"
      ]
     },
     "execution_count": 134,
     "metadata": {},
     "output_type": "execute_result"
    }
   ],
   "source": [
    "#Answer\n",
    "\n",
    "m[1,2]\n",
    "m[2,4]\n",
    "m[2,-1]\n",
    "m[1,1:3]\n",
    "m[1:3, 2]\n",
    "m[:2, 3:5]"
   ]
  },
  {
   "attachments": {},
   "cell_type": "markdown",
   "id": "2f37b177",
   "metadata": {},
   "source": [
    "### 이런 메소드가 있다 \n",
    "- zeros, ones\n",
    "- zeros_like, ones_like\n",
    "- empty\n",
    "- arange\n",
    "- linespace, logspace\n",
    "- zeros"
   ]
  },
  {
   "cell_type": "code",
   "execution_count": 135,
   "id": "0f483c9b",
   "metadata": {},
   "outputs": [
    {
     "data": {
      "text/plain": [
       "array([0., 0., 0., 0., 0.])"
      ]
     },
     "execution_count": 135,
     "metadata": {},
     "output_type": "execute_result"
    }
   ],
   "source": [
    "a = np.zeros(5)\n",
    "a"
   ]
  },
  {
   "cell_type": "code",
   "execution_count": 137,
   "id": "a6799faf",
   "metadata": {},
   "outputs": [
    {
     "data": {
      "text/plain": [
       "array([[0, 0],\n",
       "       [0, 0],\n",
       "       [0, 0],\n",
       "       [0, 0],\n",
       "       [0, 0]], dtype=int32)"
      ]
     },
     "execution_count": 137,
     "metadata": {},
     "output_type": "execute_result"
    }
   ],
   "source": [
    "#5행 2열짜리 int type 배열 생성\n",
    "c = np.zeros((5,2), dtype=\"i\")\n",
    "c"
   ]
  },
  {
   "cell_type": "code",
   "execution_count": 139,
   "id": "e67c8a05",
   "metadata": {},
   "outputs": [
    {
     "name": "stdout",
     "output_type": "stream",
     "text": [
      "[[1. 1. 1.]\n",
      " [1. 1. 1.]]\n",
      "[[0. 0. 0.]\n",
      " [0. 0. 0.]\n",
      " [0. 0. 0.]]\n"
     ]
    },
    {
     "data": {
      "text/plain": [
       "array([[1., 1., 1.],\n",
       "       [1., 1., 1.],\n",
       "       [0., 0., 0.],\n",
       "       [0., 0., 0.],\n",
       "       [0., 0., 0.]])"
      ]
     },
     "execution_count": 139,
     "metadata": {},
     "output_type": "execute_result"
    }
   ],
   "source": [
    "b1 = np.ones((2,3))\n",
    "b2 = np.zeros((3,3))\n",
    "print(b1)\n",
    "print(b2)\n",
    "\n",
    "np.vstack([b1,b2])"
   ]
  },
  {
   "cell_type": "code",
   "execution_count": 141,
   "id": "528453b0",
   "metadata": {},
   "outputs": [
    {
     "data": {
      "text/plain": [
       "array([1, 2, 3, 4, 5, 6])"
      ]
     },
     "execution_count": 141,
     "metadata": {},
     "output_type": "execute_result"
    }
   ],
   "source": [
    "#indexer \n",
    "\n",
    "np.r_[np.array([1,2,3]), np.array([4,5,6])]"
   ]
  },
  {
   "cell_type": "code",
   "execution_count": 143,
   "id": "7d327c8e",
   "metadata": {},
   "outputs": [
    {
     "data": {
      "text/plain": [
       "array([[1, 4],\n",
       "       [2, 5],\n",
       "       [3, 6]])"
      ]
     },
     "execution_count": 143,
     "metadata": {},
     "output_type": "execute_result"
    }
   ],
   "source": [
    "np.c_[np.array([1,2,3]), np.array([4,5,6])]"
   ]
  },
  {
   "cell_type": "code",
   "execution_count": 144,
   "id": "776d479c",
   "metadata": {},
   "outputs": [
    {
     "data": {
      "text/plain": [
       "array([[0, 1, 2, 0, 1, 2],\n",
       "       [3, 4, 5, 3, 4, 5]])"
      ]
     },
     "execution_count": 144,
     "metadata": {},
     "output_type": "execute_result"
    }
   ],
   "source": [
    "a = np.array([[0,1,2],[3,4,5]])\n",
    "np.tile(a,2)"
   ]
  },
  {
   "cell_type": "code",
   "execution_count": 146,
   "id": "c5363cef",
   "metadata": {},
   "outputs": [
    {
     "data": {
      "text/plain": [
       "array([[0, 1, 2, 0, 1, 2],\n",
       "       [3, 4, 5, 3, 4, 5],\n",
       "       [0, 1, 2, 0, 1, 2],\n",
       "       [3, 4, 5, 3, 4, 5],\n",
       "       [0, 1, 2, 0, 1, 2],\n",
       "       [3, 4, 5, 3, 4, 5]])"
      ]
     },
     "execution_count": 146,
     "metadata": {},
     "output_type": "execute_result"
    }
   ],
   "source": [
    "np.tile(a,(3,2))"
   ]
  },
  {
   "cell_type": "code",
   "execution_count": 4,
   "id": "eaca1688",
   "metadata": {},
   "outputs": [
    {
     "data": {
      "text/plain": [
       "array([[  0.,   0.,   0.,   1.,   1.],\n",
       "       [  0.,   0.,   0.,   1.,   1.],\n",
       "       [  0.,   0.,   0.,   1.,   1.],\n",
       "       [ 10.,  20.,  30.,  40.,  50.],\n",
       "       [ 60.,  70.,  80.,  90., 100.],\n",
       "       [110., 120., 130., 140., 150.],\n",
       "       [  0.,   0.,   0.,   1.,   1.],\n",
       "       [  0.,   0.,   0.,   1.,   1.],\n",
       "       [  0.,   0.,   0.,   1.,   1.],\n",
       "       [ 10.,  20.,  30.,  40.,  50.],\n",
       "       [ 60.,  70.,  80.,  90., 100.],\n",
       "       [110., 120., 130., 140., 150.]])"
      ]
     },
     "execution_count": 4,
     "metadata": {},
     "output_type": "execute_result"
    }
   ],
   "source": [
    "b1 = np.zeros((3,3))\n",
    "b2 = np.ones((3,2))\n",
    "bHstack = np.hstack([b1, b2])\n",
    "ar = np.array([_ for _ in range(10, 151,10)]).reshape(3,5)\n",
    "abVstack = np.vstack([bHstack, ar])\n",
    "np.vstack([abVstack,abVstack])"
   ]
  },
  {
   "cell_type": "code",
   "execution_count": null,
   "id": "7be32300",
   "metadata": {},
   "outputs": [],
   "source": []
  },
  {
   "cell_type": "code",
   "execution_count": null,
   "id": "2494a911",
   "metadata": {},
   "outputs": [],
   "source": []
  },
  {
   "cell_type": "code",
   "execution_count": null,
   "id": "b72b43da",
   "metadata": {},
   "outputs": [],
   "source": []
  },
  {
   "cell_type": "code",
   "execution_count": null,
   "id": "c39385b1",
   "metadata": {},
   "outputs": [],
   "source": []
  },
  {
   "cell_type": "code",
   "execution_count": null,
   "id": "ee1bc364",
   "metadata": {},
   "outputs": [],
   "source": []
  }
 ],
 "metadata": {
  "kernelspec": {
   "display_name": "Python 3 (ipykernel)",
   "language": "python",
   "name": "python3"
  },
  "language_info": {
   "codemirror_mode": {
    "name": "ipython",
    "version": 3
   },
   "file_extension": ".py",
   "mimetype": "text/x-python",
   "name": "python",
   "nbconvert_exporter": "python",
   "pygments_lexer": "ipython3",
   "version": "3.9.4"
  },
  "vscode": {
   "interpreter": {
    "hash": "2d7f4db1d613ee4b2d2ebeae5876b92e66a31c9cb18f7b3ca1ac02b1bc62896c"
   }
  },
  "widgets": {
   "application/vnd.jupyter.widget-state+json": {
    "state": {},
    "version_major": 2,
    "version_minor": 0
   }
  }
 },
 "nbformat": 4,
 "nbformat_minor": 5
}
